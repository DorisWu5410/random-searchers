{
 "cells": [
  {
   "cell_type": "markdown",
   "metadata": {
    "collapsed": false,
    "id": "K_X2fB9ta-rv"
   },
   "source": [
    "# Linear regression using SKLearn on your own Data!\n",
    "\n",
    "This should look familiar... we now are going to use linear regression on some of our own features. I recommend walking through the code below first, then importing your dataset and working through the same problem with your data!\n",
    "\n"
   ]
  },
  {
   "cell_type": "code",
   "execution_count": 1,
   "metadata": {
    "collapsed": false,
    "id": "IecuRdF1a-sG"
   },
   "outputs": [
   ],
   "source": [
    "# import libraries \n",
    "import numpy as np\n",
    "import matplotlib.pyplot as plt\n",
    "import pandas as pd\n",
    "import seaborn as sns\n",
    "import statistics\n",
    "from sklearn.linear_model import LinearRegression"
   ]
  },
  {
   "cell_type": "markdown",
   "metadata": {
    "collapsed": false,
    "id": "JlrQHpg8a-sI"
   },
   "source": [
    "# Data Loading, Cleaning, and Setup\n",
    "\n"
   ]
  },
  {
   "cell_type": "markdown",
   "metadata": {
    "collapsed": false,
    "id": "m4-2ySg9W0Fw"
   },
   "source": [
    "Read in your data into a pandas dataframe by replacing the `filename` variable with your file's path. You can also use the current code below to work on a mpg dataset, where the target variable we are predicting is **miles per gallon** based on other car features. \n",
    "\n",
    "> We should choose two columns that we want to run regresssion on. Use the `.head()` function to decide which columns would be best!\n",
    "\n"
   ]
  },
  {
   "cell_type": "markdown",
   "metadata": {
    "collapsed": false
   },
   "source": [
    "pandas docs - https://pandas.pydata.org/docs/reference/index.html#api <br>\n",
    "seaborn docs - https://seaborn.pydata.org/api.html"
   ]
  },
  {
   "cell_type": "code",
   "execution_count": 2,
   "metadata": {
    "collapsed": false,
    "id": "mBcweiAXW3bC"
   },
   "outputs": [
   ],
   "source": [
    "filename = 'https://raw.githubusercontent.com/mwaskom/seaborn-data/master/mpg.csv'\n",
    "my_data = pd.read_csv(filename) #TODO: read in your file by replacing the filename variable with your file's path. You can also use this current code to work on an automobile dataset! "
   ]
  },
  {
   "cell_type": "code",
   "execution_count": 3,
   "metadata": {
    "colab": {
     "base_uri": "https://localhost:8080/",
     "height": 206
    },
    "collapsed": false,
    "id": "2n8n7O_8cUxX",
    "outputId": "b1d56a4f-9c74-4cf0-b1eb-055ea2aab14e"
   },
   "outputs": [
    {
     "data": {
      "text/html": [
       "<div>\n",
       "<style scoped>\n",
       "    .dataframe tbody tr th:only-of-type {\n",
       "        vertical-align: middle;\n",
       "    }\n",
       "\n",
       "    .dataframe tbody tr th {\n",
       "        vertical-align: top;\n",
       "    }\n",
       "\n",
       "    .dataframe thead th {\n",
       "        text-align: right;\n",
       "    }\n",
       "</style>\n",
       "<table border=\"1\" class=\"dataframe\">\n",
       "  <thead>\n",
       "    <tr style=\"text-align: right;\">\n",
       "      <th></th>\n",
       "      <th>mpg</th>\n",
       "      <th>cylinders</th>\n",
       "      <th>displacement</th>\n",
       "      <th>horsepower</th>\n",
       "      <th>weight</th>\n",
       "      <th>acceleration</th>\n",
       "      <th>model_year</th>\n",
       "      <th>origin</th>\n",
       "      <th>name</th>\n",
       "    </tr>\n",
       "  </thead>\n",
       "  <tbody>\n",
       "    <tr>\n",
       "      <th>0</th>\n",
       "      <td>18.0</td>\n",
       "      <td>8</td>\n",
       "      <td>307.0</td>\n",
       "      <td>130.0</td>\n",
       "      <td>3504</td>\n",
       "      <td>12.0</td>\n",
       "      <td>70</td>\n",
       "      <td>usa</td>\n",
       "      <td>chevrolet chevelle malibu</td>\n",
       "    </tr>\n",
       "    <tr>\n",
       "      <th>1</th>\n",
       "      <td>15.0</td>\n",
       "      <td>8</td>\n",
       "      <td>350.0</td>\n",
       "      <td>165.0</td>\n",
       "      <td>3693</td>\n",
       "      <td>11.5</td>\n",
       "      <td>70</td>\n",
       "      <td>usa</td>\n",
       "      <td>buick skylark 320</td>\n",
       "    </tr>\n",
       "    <tr>\n",
       "      <th>2</th>\n",
       "      <td>18.0</td>\n",
       "      <td>8</td>\n",
       "      <td>318.0</td>\n",
       "      <td>150.0</td>\n",
       "      <td>3436</td>\n",
       "      <td>11.0</td>\n",
       "      <td>70</td>\n",
       "      <td>usa</td>\n",
       "      <td>plymouth satellite</td>\n",
       "    </tr>\n",
       "    <tr>\n",
       "      <th>3</th>\n",
       "      <td>16.0</td>\n",
       "      <td>8</td>\n",
       "      <td>304.0</td>\n",
       "      <td>150.0</td>\n",
       "      <td>3433</td>\n",
       "      <td>12.0</td>\n",
       "      <td>70</td>\n",
       "      <td>usa</td>\n",
       "      <td>amc rebel sst</td>\n",
       "    </tr>\n",
       "    <tr>\n",
       "      <th>4</th>\n",
       "      <td>17.0</td>\n",
       "      <td>8</td>\n",
       "      <td>302.0</td>\n",
       "      <td>140.0</td>\n",
       "      <td>3449</td>\n",
       "      <td>10.5</td>\n",
       "      <td>70</td>\n",
       "      <td>usa</td>\n",
       "      <td>ford torino</td>\n",
       "    </tr>\n",
       "  </tbody>\n",
       "</table>\n",
       "</div>"
      ],
      "text/plain": [
       "    mpg  cylinders  displacement  horsepower  weight  acceleration  \\\n",
       "0  18.0          8         307.0       130.0    3504          12.0   \n",
       "1  15.0          8         350.0       165.0    3693          11.5   \n",
       "2  18.0          8         318.0       150.0    3436          11.0   \n",
       "3  16.0          8         304.0       150.0    3433          12.0   \n",
       "4  17.0          8         302.0       140.0    3449          10.5   \n",
       "\n",
       "   model_year origin                       name  \n",
       "0          70    usa  chevrolet chevelle malibu  \n",
       "1          70    usa          buick skylark 320  \n",
       "2          70    usa         plymouth satellite  \n",
       "3          70    usa              amc rebel sst  \n",
       "4          70    usa                ford torino  "
      ]
     },
     "execution_count": 3,
     "metadata": {
     },
     "output_type": "execute_result"
    }
   ],
   "source": [
    "my_data.head()"
   ]
  },
  {
   "cell_type": "code",
   "execution_count": 4,
   "metadata": {
    "collapsed": false,
    "id": "BYHvay0xa-sK"
   },
   "outputs": [
   ],
   "source": [
    "#cleaning the data -- dropping missing and duplicate values for sanity\n",
    "my_data.dropna(inplace = True)\n",
    "my_data.drop_duplicates(inplace = True)\n",
    "my_data = my_data.reset_index(drop=True)\n",
    "\n",
    "length = len(my_data.index) #save length of array of later"
   ]
  },
  {
   "cell_type": "markdown",
   "metadata": {
    "collapsed": false,
    "id": "J3L_hb0Ou4sn"
   },
   "source": [
    "Linear regression naturally works best on highly correlated data, so I'm going to create a heatmap to see which variables are correlated! \n",
    "\n"
   ]
  },
  {
   "cell_type": "code",
   "execution_count": 129,
   "metadata": {
    "colab": {
     "base_uri": "https://localhost:8080/",
     "height": 344
    },
    "collapsed": false,
    "id": "H7FyJo_QutAX",
    "outputId": "d1ad6159-df64-4882-e2ae-d78cfa814cc5",
    "scrolled": true
   },
   "outputs": [
    {
     "data": {
      "text/plain": [
       "<matplotlib.axes._subplots.AxesSubplot at 0x7f902a806f10>"
      ]
     },
     "execution_count": 129,
     "metadata": {
     },
     "output_type": "execute_result"
    },
    {
     "data": {
      "image/png": "[encoded data removed]",
      "text/plain": [
       "<Figure size 864x504 with 2 Axes>"
      ]
     },
     "execution_count": 129,
     "metadata": {
      "image/png": {
       "height": 415,
       "width": 714
      },
      "needs_background": "light"
     },
     "output_type": "execute_result"
    }
   ],
   "source": [
    "sns.heatmap(my_data.corr())"
   ]
  },
  {
   "cell_type": "markdown",
   "metadata": {
    "collapsed": false,
    "id": "w78dUshNZarz"
   },
   "source": [
    "### Getting to know the problem\n",
    "\n",
    "For my data, my columns inlude `'mpg', 'cylinders', 'displacement', 'horsepower', 'weight', 'acceleration', 'model_year', 'origin', and 'name'`. \n",
    "\n",
    "To start, I would like to create a linear regression model that uses horsepower (X) to predict miles per gallon (y) and see how strong our linear regression model is. For your data, you should choose two columns as well to represent X and y.\n",
    "\n"
   ]
  },
  {
   "cell_type": "code",
   "execution_count": 6,
   "metadata": {
    "collapsed": false
   },
   "outputs": [
   ],
   "source": [
    "X = my_data[\"horsepower\"]"
   ]
  },
  {
   "cell_type": "code",
   "execution_count": 7,
   "metadata": {
    "collapsed": false
   },
   "outputs": [
    {
     "data": {
      "text/plain": [
       "0      130.0\n",
       "1      165.0\n",
       "2      150.0\n",
       "3      150.0\n",
       "4      140.0\n",
       "       ...  \n",
       "387     86.0\n",
       "388     52.0\n",
       "389     84.0\n",
       "390     79.0\n",
       "391     82.0\n",
       "Name: horsepower, Length: 392, dtype: float64"
      ]
     },
     "execution_count": 7,
     "metadata": {
     },
     "output_type": "execute_result"
    }
   ],
   "source": [
    "X"
   ]
  },
  {
   "cell_type": "code",
   "execution_count": 8,
   "metadata": {
    "collapsed": false
   },
   "outputs": [
    {
     "data": {
      "text/plain": [
       "pandas.core.series.Series"
      ]
     },
     "execution_count": 8,
     "metadata": {
     },
     "output_type": "execute_result"
    }
   ],
   "source": [
    "type(X)"
   ]
  },
  {
   "cell_type": "code",
   "execution_count": 9,
   "metadata": {
    "collapsed": false
   },
   "outputs": [
    {
     "data": {
      "text/plain": [
       "array([130., 165., 150., 150., 140., 198., 220., 215., 225., 190., 170.,\n",
       "       160., 150., 225.,  95.,  95.,  97.,  85.,  88.,  46.,  87.,  90.,\n",
       "        95., 113.,  90., 215., 200., 210., 193.,  88.,  90.,  95., 100.,\n",
       "       105., 100.,  88., 100., 165., 175., 153., 150., 180., 170., 175.,\n",
       "       110.,  72., 100.,  88.,  86.,  90.,  70.,  76.,  65.,  69.,  60.,\n",
       "        70.,  95.,  80.,  54.,  90.,  86., 165., 175., 150., 153., 150.,\n",
       "       208., 155., 160., 190.,  97., 150., 130., 140., 150., 112.,  76.,\n",
       "        87.,  69.,  86.,  92.,  97.,  80.,  88., 175., 150., 145., 137.,\n",
       "       150., 198., 150., 158., 150., 215., 225., 175., 105., 100., 100.,\n",
       "        88.,  95.,  46., 150., 167., 170., 180., 100.,  88.,  72.,  94.,\n",
       "        90.,  85., 107.,  90., 145., 230.,  49.,  75.,  91., 112., 150.,\n",
       "       110., 122., 180.,  95., 100., 100.,  67.,  80.,  65.,  75., 100.,\n",
       "       110., 105., 140., 150., 150., 140., 150.,  83.,  67.,  78.,  52.,\n",
       "        61.,  75.,  75.,  75.,  97.,  93.,  67.,  95., 105.,  72.,  72.,\n",
       "       170., 145., 150., 148., 110., 105., 110.,  95., 110., 110., 129.,\n",
       "        75.,  83., 100.,  78.,  96.,  71.,  97.,  97.,  70.,  90.,  95.,\n",
       "        88.,  98., 115.,  53.,  86.,  81.,  92.,  79.,  83., 140., 150.,\n",
       "       120., 152., 100., 105.,  81.,  90.,  52.,  60.,  70.,  53., 100.,\n",
       "        78., 110.,  95.,  71.,  70.,  75.,  72., 102., 150.,  88., 108.,\n",
       "       120., 180., 145., 130., 150.,  68.,  80.,  58.,  96.,  70., 145.,\n",
       "       110., 145., 130., 110., 105., 100.,  98., 180., 170., 190., 149.,\n",
       "        78.,  88.,  75.,  89.,  63.,  83.,  67.,  78.,  97., 110., 110.,\n",
       "        48.,  66.,  52.,  70.,  60., 110., 140., 139., 105.,  95.,  85.,\n",
       "        88., 100.,  90., 105.,  85., 110., 120., 145., 165., 139., 140.,\n",
       "        68.,  95.,  97.,  75.,  95., 105.,  85.,  97., 103., 125., 115.,\n",
       "       133.,  71.,  68., 115.,  85.,  88.,  90., 110., 130., 129., 138.,\n",
       "       135., 155., 142., 125., 150.,  71.,  65.,  80.,  80.,  77., 125.,\n",
       "        71.,  90.,  70.,  70.,  65.,  69.,  90., 115., 115.,  90.,  76.,\n",
       "        60.,  70.,  65.,  90.,  88.,  90.,  90.,  78.,  90.,  75.,  92.,\n",
       "        75.,  65., 105.,  65.,  48.,  48.,  67.,  67.,  67.,  67.,  62.,\n",
       "       132., 100.,  88.,  72.,  84.,  84.,  92., 110.,  84.,  58.,  64.,\n",
       "        60.,  67.,  65.,  62.,  68.,  63.,  65.,  65.,  74.,  75.,  75.,\n",
       "       100.,  74.,  80.,  76., 116., 120., 110., 105.,  88.,  85.,  88.,\n",
       "        88.,  88.,  85.,  84.,  90.,  92.,  74.,  68.,  68.,  63.,  70.,\n",
       "        88.,  75.,  70.,  67.,  67.,  67., 110.,  85.,  92., 112.,  96.,\n",
       "        84.,  90.,  86.,  52.,  84.,  79.,  82.])"
      ]
     },
     "execution_count": 9,
     "metadata": {
     },
     "output_type": "execute_result"
    }
   ],
   "source": [
    "X.to_numpy()"
   ]
  },
  {
   "cell_type": "code",
   "execution_count": 10,
   "metadata": {
    "collapsed": false,
    "scrolled": true
   },
   "outputs": [
    {
     "data": {
      "text/plain": [
       "numpy.ndarray"
      ]
     },
     "execution_count": 10,
     "metadata": {
     },
     "output_type": "execute_result"
    }
   ],
   "source": [
    "type(X.to_numpy())"
   ]
  },
  {
   "cell_type": "code",
   "execution_count": 0,
   "metadata": {
    "collapsed": false
   },
   "outputs": [
   ],
   "source": [
   ]
  },
  {
   "cell_type": "code",
   "execution_count": 11,
   "metadata": {
    "collapsed": false,
    "id": "WW77IzOwZaKp"
   },
   "outputs": [
   ],
   "source": [
    "X = my_data[\"horsepower\"].to_numpy()\n",
    "y = my_data[\"mpg\"].to_numpy()"
   ]
  },
  {
   "cell_type": "code",
   "execution_count": 136,
   "metadata": {
    "collapsed": false
   },
   "outputs": [
    {
     "data": {
      "text/plain": [
       "array([130., 165., 150., 150., 140., 198., 220., 215., 225., 190., 170.,\n",
       "       160., 150., 225.,  95.,  95.,  97.,  85.,  88.,  46.,  87.,  90.,\n",
       "        95., 113.,  90., 215., 200., 210., 193.,  88.,  90.,  95., 100.,\n",
       "       105., 100.,  88., 100., 165., 175., 153., 150., 180., 170., 175.,\n",
       "       110.,  72., 100.,  88.,  86.,  90.,  70.,  76.,  65.,  69.,  60.,\n",
       "        70.,  95.,  80.,  54.,  90.,  86., 165., 175., 150., 153., 150.,\n",
       "       208., 155., 160., 190.,  97., 150., 130., 140., 150., 112.,  76.,\n",
       "        87.,  69.,  86.,  92.,  97.,  80.,  88., 175., 150., 145., 137.,\n",
       "       150., 198., 150., 158., 150., 215., 225., 175., 105., 100., 100.,\n",
       "        88.,  95.,  46., 150., 167., 170., 180., 100.,  88.,  72.,  94.,\n",
       "        90.,  85., 107.,  90., 145., 230.,  49.,  75.,  91., 112., 150.,\n",
       "       110., 122., 180.,  95., 100., 100.,  67.,  80.,  65.,  75., 100.,\n",
       "       110., 105., 140., 150., 150., 140., 150.,  83.,  67.,  78.,  52.,\n",
       "        61.,  75.,  75.,  75.,  97.,  93.,  67.,  95., 105.,  72.,  72.,\n",
       "       170., 145., 150., 148., 110., 105., 110.,  95., 110., 110., 129.,\n",
       "        75.,  83., 100.,  78.,  96.,  71.,  97.,  97.,  70.,  90.,  95.,\n",
       "        88.,  98., 115.,  53.,  86.,  81.,  92.,  79.,  83., 140., 150.,\n",
       "       120., 152., 100., 105.,  81.,  90.,  52.,  60.,  70.,  53., 100.,\n",
       "        78., 110.,  95.,  71.,  70.,  75.,  72., 102., 150.,  88., 108.,\n",
       "       120., 180., 145., 130., 150.,  68.,  80.,  58.,  96.,  70., 145.,\n",
       "       110., 145., 130., 110., 105., 100.,  98., 180., 170., 190., 149.,\n",
       "        78.,  88.,  75.,  89.,  63.,  83.,  67.,  78.,  97., 110., 110.,\n",
       "        48.,  66.,  52.,  70.,  60., 110., 140., 139., 105.,  95.,  85.,\n",
       "        88., 100.,  90., 105.,  85., 110., 120., 145., 165., 139., 140.,\n",
       "        68.,  95.,  97.,  75.,  95., 105.,  85.,  97., 103., 125., 115.,\n",
       "       133.,  71.,  68., 115.,  85.,  88.,  90., 110., 130., 129., 138.,\n",
       "       135., 155., 142., 125., 150.,  71.,  65.,  80.,  80.,  77., 125.,\n",
       "        71.,  90.,  70.,  70.,  65.,  69.,  90., 115., 115.,  90.,  76.,\n",
       "        60.,  70.,  65.,  90.,  88.,  90.,  90.,  78.,  90.,  75.,  92.,\n",
       "        75.,  65., 105.,  65.,  48.,  48.,  67.,  67.,  67.,  67.,  62.,\n",
       "       132., 100.,  88.,  72.,  84.,  84.,  92., 110.,  84.,  58.,  64.,\n",
       "        60.,  67.,  65.,  62.,  68.,  63.,  65.,  65.,  74.,  75.,  75.,\n",
       "       100.,  74.,  80.,  76., 116., 120., 110., 105.,  88.,  85.,  88.,\n",
       "        88.,  88.,  85.,  84.,  90.,  92.,  74.,  68.,  68.,  63.,  70.,\n",
       "        88.,  75.,  70.,  67.,  67.,  67., 110.,  85.,  92., 112.,  96.,\n",
       "        84.,  90.,  86.,  52.,  84.,  79.,  82.])"
      ]
     },
     "execution_count": 136,
     "metadata": {
     },
     "output_type": "execute_result"
    }
   ],
   "source": [
    "X"
   ]
  },
  {
   "cell_type": "markdown",
   "metadata": {
    "collapsed": false,
    "id": "cbeaQMpna-sR"
   },
   "source": [
    "# Linear Regression with Scikit-learn's linear regression\n",
    "\n",
    "We can use Scikit-Learn’s Linear Regression to fit the model. Most other models we will use in the course \n",
    "\n",
    "https://scikit-learn.org/stable/modules/generated/sklearn.linear_model.LinearRegression.html"
   ]
  },
  {
   "cell_type": "markdown",
   "metadata": {
    "collapsed": false,
    "id": "g5Zk8_6ksLur"
   },
   "source": [
    "### Split the data\n",
    "Our model should ignore 20% of data points to use for testing so it doesn't just memorize the data. We need to make sure there are no missing data points before continuing."
   ]
  },
  {
   "cell_type": "code",
   "execution_count": 13,
   "metadata": {
    "collapsed": false
   },
   "outputs": [
    {
     "data": {
      "text/plain": [
       "(392,)"
      ]
     },
     "execution_count": 13,
     "metadata": {
     },
     "output_type": "execute_result"
    }
   ],
   "source": [
    "X.shape"
   ]
  },
  {
   "cell_type": "code",
   "execution_count": 14,
   "metadata": {
    "collapsed": false
   },
   "outputs": [
    {
     "data": {
      "text/plain": [
       "(392,)"
      ]
     },
     "execution_count": 14,
     "metadata": {
     },
     "output_type": "execute_result"
    }
   ],
   "source": [
    "y.shape"
   ]
  },
  {
   "cell_type": "code",
   "execution_count": 0,
   "metadata": {
    "collapsed": false
   },
   "outputs": [
   ],
   "source": [
   ]
  },
  {
   "cell_type": "markdown",
   "metadata": {
    "collapsed": false
   },
   "source": [
    "np docs - https://numpy.org/doc/stable/reference/index.html#reference\n",
    "\n"
   ]
  },
  {
   "cell_type": "code",
   "execution_count": 15,
   "metadata": {
    "collapsed": false
   },
   "outputs": [
   ],
   "source": [
    "idx = np.arange(len(X))"
   ]
  },
  {
   "cell_type": "code",
   "execution_count": 140,
   "metadata": {
    "collapsed": false,
    "scrolled": true
   },
   "outputs": [
    {
     "data": {
      "text/plain": [
       "array([  0,   1,   2,   3,   4,   5,   6,   7,   8,   9,  10,  11,  12,\n",
       "        13,  14,  15,  16,  17,  18,  19,  20,  21,  22,  23,  24,  25,\n",
       "        26,  27,  28,  29,  30,  31,  32,  33,  34,  35,  36,  37,  38,\n",
       "        39,  40,  41,  42,  43,  44,  45,  46,  47,  48,  49,  50,  51,\n",
       "        52,  53,  54,  55,  56,  57,  58,  59,  60,  61,  62,  63,  64,\n",
       "        65,  66,  67,  68,  69,  70,  71,  72,  73,  74,  75,  76,  77,\n",
       "        78,  79,  80,  81,  82,  83,  84,  85,  86,  87,  88,  89,  90,\n",
       "        91,  92,  93,  94,  95,  96,  97,  98,  99, 100, 101, 102, 103,\n",
       "       104, 105, 106, 107, 108, 109, 110, 111, 112, 113, 114, 115, 116,\n",
       "       117, 118, 119, 120, 121, 122, 123, 124, 125, 126, 127, 128, 129,\n",
       "       130, 131, 132, 133, 134, 135, 136, 137, 138, 139, 140, 141, 142,\n",
       "       143, 144, 145, 146, 147, 148, 149, 150, 151, 152, 153, 154, 155,\n",
       "       156, 157, 158, 159, 160, 161, 162, 163, 164, 165, 166, 167, 168,\n",
       "       169, 170, 171, 172, 173, 174, 175, 176, 177, 178, 179, 180, 181,\n",
       "       182, 183, 184, 185, 186, 187, 188, 189, 190, 191, 192, 193, 194,\n",
       "       195, 196, 197, 198, 199, 200, 201, 202, 203, 204, 205, 206, 207,\n",
       "       208, 209, 210, 211, 212, 213, 214, 215, 216, 217, 218, 219, 220,\n",
       "       221, 222, 223, 224, 225, 226, 227, 228, 229, 230, 231, 232, 233,\n",
       "       234, 235, 236, 237, 238, 239, 240, 241, 242, 243, 244, 245, 246,\n",
       "       247, 248, 249, 250, 251, 252, 253, 254, 255, 256, 257, 258, 259,\n",
       "       260, 261, 262, 263, 264, 265, 266, 267, 268, 269, 270, 271, 272,\n",
       "       273, 274, 275, 276, 277, 278, 279, 280, 281, 282, 283, 284, 285,\n",
       "       286, 287, 288, 289, 290, 291, 292, 293, 294, 295, 296, 297, 298,\n",
       "       299, 300, 301, 302, 303, 304, 305, 306, 307, 308, 309, 310, 311,\n",
       "       312, 313, 314, 315, 316, 317, 318, 319, 320, 321, 322, 323, 324,\n",
       "       325, 326, 327, 328, 329, 330, 331, 332, 333, 334, 335, 336, 337,\n",
       "       338, 339, 340, 341, 342, 343, 344, 345, 346, 347, 348, 349, 350,\n",
       "       351, 352, 353, 354, 355, 356, 357, 358, 359, 360, 361, 362, 363,\n",
       "       364, 365, 366, 367, 368, 369, 370, 371, 372, 373, 374, 375, 376,\n",
       "       377, 378, 379, 380, 381, 382, 383, 384, 385, 386, 387, 388, 389,\n",
       "       390, 391])"
      ]
     },
     "execution_count": 140,
     "metadata": {
     },
     "output_type": "execute_result"
    }
   ],
   "source": [
    "idx"
   ]
  },
  {
   "cell_type": "code",
   "execution_count": 16,
   "metadata": {
    "collapsed": false
   },
   "outputs": [
   ],
   "source": [
    "np.random.shuffle(idx)"
   ]
  },
  {
   "cell_type": "code",
   "execution_count": 142,
   "metadata": {
    "collapsed": false
   },
   "outputs": [
    {
     "data": {
      "text/plain": [
       "array([134,  79, 367,  15,  94, 239, 348, 157,  47, 231, 264, 324, 205,\n",
       "        45, 349, 313, 224,  52, 336,  14,  81, 213, 329,  67, 362, 332,\n",
       "       203, 135,  38,  75, 187, 177,  69, 364, 220,  68, 237, 191, 137,\n",
       "       340, 120,  33,  26,  50, 373, 233, 261, 254, 152,  58, 310,  48,\n",
       "       140,  35, 219, 230, 139, 301,  22, 291,   8, 240,  95, 114,  88,\n",
       "        70, 182, 371, 377,  31,  62,  49, 109, 199, 143, 304, 350, 337,\n",
       "       190,  10, 131, 328, 144, 223, 338, 113, 321, 215, 141, 327,  16,\n",
       "         4, 248,  20, 322, 102, 208, 307, 194,  72,  66, 345, 115,  11,\n",
       "       163, 189,  32, 193, 282, 330, 228, 303, 323, 178, 380, 369, 302,\n",
       "       164,  42, 130, 316, 234, 267, 173, 117,  73, 162,  18, 379,  40,\n",
       "       320, 346, 180,  30, 242, 358, 170, 262, 166, 108, 161,  44, 389,\n",
       "       142, 101, 210, 279, 192, 222, 381, 127, 243, 274, 172, 383, 247,\n",
       "       295,   6, 280, 273, 151, 318, 165, 365, 342, 258, 355,  57,  78,\n",
       "       251, 384,  51, 269, 288, 146,  60,  41,  97,  89, 103, 351,  55,\n",
       "       287, 339, 285, 363, 376, 128, 123,  29, 185, 175, 119, 359, 257,\n",
       "       246,  65, 382, 111, 293, 158, 314, 390, 357,   3, 309, 319, 326,\n",
       "        85, 188,  19, 366, 196, 206, 283, 122,  92,  93,  54, 294, 169,\n",
       "       259, 333,  13, 354, 156, 308, 125, 184, 297, 331, 202,   5, 284,\n",
       "        77, 296, 306, 200,  91,   9, 186,   7, 229, 335, 312, 266, 226,\n",
       "        17,  27, 116, 265, 147, 136, 241, 106, 256, 149, 368, 347, 121,\n",
       "       353, 252, 118, 277,  71, 236, 174,  46,  59, 244, 225,  61, 299,\n",
       "       341,  28, 133, 245, 378, 150, 315, 126,  76,  24, 343, 198, 271,\n",
       "       388, 281,  98,  86, 386, 311,  25,  83, 145, 212, 385, 154, 352,\n",
       "       204, 238, 250, 292,  56, 207, 391, 387, 181, 289, 356, 168, 270,\n",
       "        43,  12,  74,  82, 344, 253,  21, 275, 372, 195, 290,  84,  64,\n",
       "       176, 112, 171, 325, 159, 276, 334,  53, 129, 305, 268, 107, 104,\n",
       "       374,  99, 300, 155, 218,   0,  80, 183, 138, 209, 260,  87,  34,\n",
       "       286, 160,  90, 100, 110, 278,  37, 201, 298, 217, 317, 263, 153,\n",
       "       148, 249, 216, 214, 232, 221, 255, 124,   1, 227, 132, 167, 211,\n",
       "       197, 235,  63,   2, 179,  36,  96, 361,  23, 370, 105,  39, 360,\n",
       "       272, 375])"
      ]
     },
     "execution_count": 142,
     "metadata": {
     },
     "output_type": "execute_result"
    }
   ],
   "source": [
    "idx"
   ]
  },
  {
   "cell_type": "markdown",
   "metadata": {
    "collapsed": false
   },
   "source": [
    "decide size of train set\n"
   ]
  },
  {
   "cell_type": "code",
   "execution_count": 143,
   "metadata": {
    "collapsed": false
   },
   "outputs": [
    {
     "data": {
      "text/plain": [
       "313.6"
      ]
     },
     "execution_count": 143,
     "metadata": {
     },
     "output_type": "execute_result"
    }
   ],
   "source": [
    "len(X) * 0.8"
   ]
  },
  {
   "cell_type": "code",
   "execution_count": 17,
   "metadata": {
    "collapsed": false
   },
   "outputs": [
   ],
   "source": [
    "split_threshold = int(len(X) * 0.8)"
   ]
  },
  {
   "cell_type": "code",
   "execution_count": 18,
   "metadata": {
    "collapsed": false
   },
   "outputs": [
    {
     "data": {
      "text/plain": [
       "313"
      ]
     },
     "execution_count": 18,
     "metadata": {
     },
     "output_type": "execute_result"
    }
   ],
   "source": [
    "split_threshold"
   ]
  },
  {
   "cell_type": "code",
   "execution_count": 19,
   "metadata": {
    "collapsed": false
   },
   "outputs": [
   ],
   "source": [
    "train_idx = idx[:split_threshold]"
   ]
  },
  {
   "cell_type": "code",
   "execution_count": 20,
   "metadata": {
    "collapsed": false
   },
   "outputs": [
   ],
   "source": [
    "test_idx = idx[split_threshold:]"
   ]
  },
  {
   "cell_type": "code",
   "execution_count": 21,
   "metadata": {
    "collapsed": false
   },
   "outputs": [
    {
     "data": {
      "text/plain": [
       "79"
      ]
     },
     "execution_count": 21,
     "metadata": {
     },
     "output_type": "execute_result"
    }
   ],
   "source": [
    "len(test_idx)"
   ]
  },
  {
   "cell_type": "code",
   "execution_count": 22,
   "metadata": {
    "collapsed": false
   },
   "outputs": [
   ],
   "source": [
    "x_train = X[train_idx]"
   ]
  },
  {
   "cell_type": "code",
   "execution_count": 0,
   "metadata": {
    "collapsed": false
   },
   "outputs": [
   ],
   "source": [
   ]
  },
  {
   "cell_type": "code",
   "execution_count": 23,
   "metadata": {
    "collapsed": false
   },
   "outputs": [
    {
     "data": {
      "text/plain": [
       "array([140.,  75., 115., 120., 100.,  86., 150.,  88.,  70., 140.,  85.,\n",
       "       125., 110.,  97., 152., 110.,  95.,  88., 100.,  95.,  67.,  60.,\n",
       "        86.,  95., 110.,  70., 215.,  77.,  95.,  83., 150.,  88.,  85.,\n",
       "       130.,  92., 120.,  58., 125.,  63.,  67.,  90., 105., 125., 100.,\n",
       "        67., 112.,  80., 110., 150.,  82.,  90.,  95., 150.,  83.,  78.,\n",
       "        88.,  69.,  68.,  88., 105., 148.,  88., 113.,  61.,  97.,  67.,\n",
       "        90.,  65., 105.,  97., 165.,  84.,  95., 110.,  76., 133.,  95.,\n",
       "        88., 198., 129., 145.,  70., 105., 100.,  85.,  98., 130.,  70.,\n",
       "        75.,  88.,  90.,  80.,  85.,  88.,  52., 140., 140.,  83., 110.,\n",
       "       130., 170., 180.,  84.,  92., 150., 115., 150.,  85., 153.,  85.,\n",
       "        72.,  72.,  88.,  89.,  88., 170., 100., 100.,  92.,  90.,  71.,\n",
       "        96.,  67., 145.,  92., 160.,  94.,  88., 112., 103.,  76.,  95.,\n",
       "        85., 100., 167., 180.,  65., 110.,  95.,  65.,  90.,  66., 130.,\n",
       "       110.,  84.,  80.,  68.,  90.,  75., 175.,  90.,  88., 149.,  48.,\n",
       "       105., 150., 110., 225., 215.,  81.,  91., 110.,  88.,  86.,  95.,\n",
       "       150., 225., 158.,  75., 130., 150., 110.,  97.,  90.,  69.,  71.,\n",
       "       150., 225.,  69.,  80.,  65., 115., 215., 180.,  65.,  88., 100.,\n",
       "        62.,  63.,  90., 150.,  74.,  90.,  68., 110., 140.,  90., 115.,\n",
       "        52., 170.,  71., 110., 105.,  97., 120.,  97.,  85.,  72.,  54.,\n",
       "       105., 105.,  60., 150., 165., 193., 110.,  78., 160.,  88.,  67.,\n",
       "        90.,  88.,  67.,  95.,  72.,  90., 153., 100., 100.,  75.,  76.,\n",
       "       175.,  70., 150., 100.,  75.,  98.,  90.,  83., 139.,  79., 122.,\n",
       "        78.,  75.,  78., 170.,  67., 110., 150., 105., 100., 198.,  90.,\n",
       "       105., 190.,  67., 107., 110.,  58.,  80.,  72., 145.,  53., 139.,\n",
       "       170.,  48., 210.,  70.,  67.,  92., 145., 105.,  84.,  74.,  88.,\n",
       "        78.,  75.,  68.,  90.,  65., 102.,  60., 100., 175.,  75.,  62.,\n",
       "        95.,  96., 155.,  85., 120.,  67.,  86., 175.,  64.,  46.,  95.,\n",
       "        63.,  79.,  78., 150., 220.,  88., 150.,  75.,  90., 138.,  80.,\n",
       "        70., 230.,  60.,  70., 190.])"
      ]
     },
     "execution_count": 23,
     "metadata": {
     },
     "output_type": "execute_result"
    }
   ],
   "source": [
    "x_train"
   ]
  },
  {
   "cell_type": "code",
   "execution_count": 24,
   "metadata": {
    "collapsed": false
   },
   "outputs": [
   ],
   "source": [
    "y_train = y[train_idx]"
   ]
  },
  {
   "cell_type": "code",
   "execution_count": 27,
   "metadata": {
    "collapsed": false
   },
   "outputs": [
   ],
   "source": [
    "y_test= y[test_idx]"
   ]
  },
  {
   "cell_type": "code",
   "execution_count": 26,
   "metadata": {
    "collapsed": false
   },
   "outputs": [
   ],
   "source": [
    "x_test = X[test_idx]"
   ]
  },
  {
   "cell_type": "markdown",
   "metadata": {
    "collapsed": false
   },
   "source": [
    "Reshape data\n"
   ]
  },
  {
   "cell_type": "code",
   "execution_count": 0,
   "metadata": {
    "collapsed": false
   },
   "outputs": [
   ],
   "source": [
   ]
  },
  {
   "cell_type": "code",
   "execution_count": 28,
   "metadata": {
    "collapsed": false
   },
   "outputs": [
   ],
   "source": [
    "x_train= x_train.reshape(-1, 1)\n",
    "y_train= y_train.reshape(-1, 1)\n",
    "x_test = x_test.reshape(-1, 1)"
   ]
  },
  {
   "cell_type": "code",
   "execution_count": 155,
   "metadata": {
    "collapsed": false,
    "id": "wKS4pvcEsLOF"
   },
   "outputs": [
   ],
   "source": [
    "# Checking for Missing Data\n",
    "if X.shape[0] != y.shape[0]:\n",
    "  print(\"It looks like you have missing data. You may want to preprocess your data more with pandas to delete any rows with missing, NaN, N/A, and null values.\")\n",
    "  \n",
    "idx = np.arange(length) #shuffle our dataset indices so we don't always split the same way!\n",
    "np.random.shuffle(idx)\n",
    "\n",
    "#split our data with 80% for training (learning) and 20% for testing.\n",
    "split_threshold = int(length * 0.8)\n",
    "\n",
    "train_idx = idx[:split_threshold]\n",
    "# Uses the remaining indices for testing\n",
    "test_idx = idx[split_threshold:]\n",
    "\n",
    "# Generates train and test sets and formats them for training.\n",
    "x_train, y_train = X[train_idx], y[train_idx]\n",
    "x_test, y_test = X[test_idx], y[test_idx]\n",
    "x_train= x_train.reshape(-1, 1)\n",
    "y_train= y_train.reshape(-1, 1)\n",
    "x_test = x_test.reshape(-1, 1)"
   ]
  },
  {
   "cell_type": "code",
   "execution_count": 156,
   "metadata": {
    "collapsed": false,
    "id": "6IxwdW5osUDI"
   },
   "outputs": [
    {
     "data": {
      "image/png": "[encoded data removed]",
      "text/plain": [
       "<Figure size 720x360 with 2 Axes>"
      ]
     },
     "execution_count": 156,
     "metadata": {
      "image/png": {
       "height": 342,
       "width": 616
      },
      "needs_background": "light"
     },
     "output_type": "execute_result"
    }
   ],
   "source": [
    "#let's plot our split data to see how it looks!\n",
    "plt.figure(figsize=(10,5))\n",
    "\n",
    "# plot the train set \n",
    "plt.subplot(1,2,1)\n",
    "plt.scatter(x_train,y_train, c='orange')  \n",
    "plt.xlabel('x', fontsize = 20) \n",
    "plt.ylabel('y', fontsize = 20)\n",
    "plt.title('Generated Data - Train')\n",
    "plt.grid('on')\n",
    "\n",
    "# plot the test set \n",
    "plt.subplot(1,2,2)\n",
    "plt.scatter(x_test, y_test)  \n",
    "plt.xlabel('x', fontsize = 20) \n",
    "plt.ylabel('y', fontsize = 20)\n",
    "plt.title('Generated Data - Test')\n",
    "plt.grid('on')\n",
    "\n",
    "plt.show()"
   ]
  },
  {
   "cell_type": "markdown",
   "metadata": {
    "collapsed": false,
    "id": "e1m-wKeYsFEl"
   },
   "source": [
    "### Creating and Fitting"
   ]
  },
  {
   "cell_type": "code",
   "execution_count": 157,
   "metadata": {
    "colab": {
     "base_uri": "https://localhost:8080/"
    },
    "collapsed": false,
    "id": "jkPf0bt4a-sV",
    "outputId": "99433807-734f-4a07-fe0a-26b3ad2fb709"
   },
   "outputs": [
   ],
   "source": [
   ]
  },
  {
   "cell_type": "code",
   "execution_count": 29,
   "metadata": {
    "collapsed": false
   },
   "outputs": [
   ],
   "source": [
    "#Create the model object\n",
    "linr = LinearRegression()"
   ]
  },
  {
   "cell_type": "code",
   "execution_count": 30,
   "metadata": {
    "collapsed": false
   },
   "outputs": [
    {
     "data": {
      "text/plain": [
       "sklearn.linear_model._base.LinearRegression"
      ]
     },
     "execution_count": 30,
     "metadata": {
     },
     "output_type": "execute_result"
    }
   ],
   "source": [
    "type(linr)"
   ]
  },
  {
   "cell_type": "code",
   "execution_count": 31,
   "metadata": {
    "collapsed": false
   },
   "outputs": [
    {
     "data": {
      "text/plain": [
       "LinearRegression()"
      ]
     },
     "execution_count": 31,
     "metadata": {
     },
     "output_type": "execute_result"
    }
   ],
   "source": [
    "linr.fit(x_train, y_train)"
   ]
  },
  {
   "cell_type": "code",
   "execution_count": 32,
   "metadata": {
    "collapsed": false,
    "scrolled": true
   },
   "outputs": [
    {
     "name": "stdout",
     "output_type": "stream",
     "text": [
      "[39.66403619] [-0.15573376]\n"
     ]
    }
   ],
   "source": [
    "print(linr.intercept_, linr.coef_[0])"
   ]
  },
  {
   "cell_type": "code",
   "execution_count": 163,
   "metadata": {
    "collapsed": false
   },
   "outputs": [
    {
     "name": "stdout",
     "output_type": "stream",
     "text": [
      "[39.54477916] [[-0.15513343]]\n"
     ]
    }
   ],
   "source": [
    "print(linr.intercept_, linr.coef_)"
   ]
  },
  {
   "cell_type": "code",
   "execution_count": 0,
   "metadata": {
    "collapsed": false
   },
   "outputs": [
   ],
   "source": [
   ]
  },
  {
   "cell_type": "code",
   "execution_count": 0,
   "metadata": {
    "collapsed": false
   },
   "outputs": [
   ],
   "source": [
   ]
  },
  {
   "cell_type": "markdown",
   "metadata": {
    "collapsed": false,
    "id": "QFb-_EiFrvzQ"
   },
   "source": [
    "### Creating Predictions\n",
    "Predict outputs on our x_test data that we held out. Think of this as a way to see how the model does on new data!"
   ]
  },
  {
   "cell_type": "code",
   "execution_count": 34,
   "metadata": {
    "collapsed": false,
    "id": "o9ZDJB1qrJ7_"
   },
   "outputs": [
   ],
   "source": [
    "# Predicting using SKLearn\n",
    "y_hat = linr.predict(x_test)"
   ]
  },
  {
   "cell_type": "code",
   "execution_count": 35,
   "metadata": {
    "colab": {
     "base_uri": "https://localhost:8080/",
     "height": 359
    },
    "collapsed": false,
    "id": "RarVj0Kor54b",
    "outputId": "c3649dc9-e5f0-4930-f4b1-100ad0987777",
    "scrolled": true
   },
   "outputs": [
    {
     "data": {
      "text/plain": [
       "<matplotlib.collections.PathCollection at 0x7f69e7124760>"
      ]
     },
     "execution_count": 35,
     "metadata": {
     },
     "output_type": "execute_result"
    },
    {
     "data": {
      "image/png": "[encoded data removed]",
      "text/plain": [
       "<Figure size 720x360 with 1 Axes>"
      ]
     },
     "execution_count": 35,
     "metadata": {
      "image/png": {
       "height": 302,
       "width": 592
      },
      "needs_background": "light"
     },
     "output_type": "execute_result"
    }
   ],
   "source": [
    "#plotting results\n",
    "plt.figure(figsize=(10,5))\n",
    "plt.scatter(x_test, y_hat)\n"
   ]
  },
  {
   "cell_type": "code",
   "execution_count": 167,
   "metadata": {
    "collapsed": false
   },
   "outputs": [
    {
     "data": {
      "image/png": "[encoded data removed]",
      "text/plain": [
       "<Figure size 864x504 with 1 Axes>"
      ]
     },
     "execution_count": 167,
     "metadata": {
      "image/png": {
       "height": 450,
       "width": 727
      },
      "needs_background": "light"
     },
     "output_type": "execute_result"
    }
   ],
   "source": [
    "plt.scatter(x_test,y_test, c='orange')  \n",
    "plt.xlabel('x', fontsize = 20) \n",
    "plt.ylabel('y', fontsize = 20)\n",
    "plt.title('Generated Data - Test')\n",
    "plt.grid('on')\n",
    "plt.show()"
   ]
  },
  {
   "cell_type": "code",
   "execution_count": 36,
   "metadata": {
    "collapsed": false
   },
   "outputs": [
    {
     "data": {
      "image/png": "[encoded data removed]",
      "text/plain": [
       "<Figure size 720x360 with 1 Axes>"
      ]
     },
     "execution_count": 36,
     "metadata": {
      "image/png": {
       "height": 342,
       "width": 616
      },
      "needs_background": "light"
     },
     "output_type": "execute_result"
    }
   ],
   "source": [
    "\n",
    "#plotting results\n",
    "plt.figure(figsize=(10,5))\n",
    "plt.plot(x_test, y_hat,)\n",
    "\n",
    "plt.scatter(x_test,y_test, c='orange')  \n",
    "plt.xlabel('x', fontsize = 20) \n",
    "plt.ylabel('y', fontsize = 20)\n",
    "plt.title('Generated Data - Test')\n",
    "plt.grid('on')\n",
    "plt.show()"
   ]
  },
  {
   "cell_type": "markdown",
   "metadata": {
    "collapsed": false,
    "id": "14TdY4RGr-RG"
   },
   "source": [
    "### Results and Evaluation\n",
    "One way to see if the model is pretty good is the coefficient of determination (R^2) using the `score()` function. You can read about it here: https://scikit-learn.org/stable/modules/generated/sklearn.linear_model.LinearRegression.html#sklearn.linear_model.LinearRegression.score.\n",
    "\n",
    "Another way is to compare our mean absolute error (MAE). MAE measures the prediction error. Mathematically, it is the average absolute difference between observed and predicted outcomes, MAE = mean(abs(observeds - predicteds)). MAE is less sensitive to outliers compared to RMSE.\n",
    "\n",
    "Read some more about regression model metrics [here](http://www.sthda.com/english/articles/38-regression-model-validation/158-regression-model-accuracy-metrics-r-square-aic-bic-cp-and-more/)."
   ]
  },
  {
   "cell_type": "code",
   "execution_count": 170,
   "metadata": {
    "colab": {
     "base_uri": "https://localhost:8080/"
    },
    "collapsed": false,
    "id": "CS2KN6gms_io",
    "outputId": "4f865d48-e1ea-4e80-ebb1-869f5f2052b0"
   },
   "outputs": [
    {
     "name": "stdout",
     "output_type": "stream",
     "text": [
      "0.6139399987919832\n"
     ]
    }
   ],
   "source": [
    "print(linr.score(x_test, y_test))"
   ]
  },
  {
   "cell_type": "code",
   "execution_count": 37,
   "metadata": {
    "colab": {
     "base_uri": "https://localhost:8080/"
    },
    "collapsed": false,
    "id": "osxC5vVotKWS",
    "outputId": "aa7e2d67-12af-4389-e7e0-4c23b23e8bf4"
   },
   "outputs": [
    {
     "data": {
      "text/plain": [
       "8.377401324565882"
      ]
     },
     "execution_count": 37,
     "metadata": {
     },
     "output_type": "execute_result"
    }
   ],
   "source": [
    "MAE = np.mean(abs(y_test - y_hat))\n",
    "MAE"
   ]
  },
  {
   "cell_type": "markdown",
   "metadata": {
    "collapsed": false,
    "id": "2OixzlOot-U6"
   },
   "source": [
    "# Repeat the process!\n",
    "Try running linear regression on multiple combinations of features (columns) on your dataset. What combination yields the best score? How does this connect to your correlation chart? "
   ]
  },
  {
   "cell_type": "code",
   "execution_count": 0,
   "metadata": {
    "collapsed": false
   },
   "outputs": [
   ],
   "source": [
   ]
  },
  {
   "cell_type": "code",
   "execution_count": 0,
   "metadata": {
    "collapsed": false
   },
   "outputs": [
   ],
   "source": [
   ]
  },
  {
   "cell_type": "code",
   "execution_count": 0,
   "metadata": {
    "collapsed": false
   },
   "outputs": [
   ],
   "source": [
   ]
  }
 ],
 "metadata": {
  "colab": {
   "collapsed_sections": [
   ],
   "name": "linear_regression_sklearn_on_own_data.ipynb",
   "provenance": [
   ]
  },
  "kernelspec": {
   "display_name": "Python 3 (Ubuntu Linux)",
   "language": "python",
   "name": "python3-ubuntu",
   "resource_dir": "/usr/local/share/jupyter/kernels/python3-ubuntu"
  },
  "language_info": {
   "codemirror_mode": {
    "name": "ipython",
    "version": 3
   },
   "file_extension": ".py",
   "mimetype": "text/x-python",
   "name": "python",
   "nbconvert_exporter": "python",
   "pygments_lexer": "ipython3",
   "version": "3.8.10"
  }
 },
 "nbformat": 4,
 "nbformat_minor": 4
}
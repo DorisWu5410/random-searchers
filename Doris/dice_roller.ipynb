{
 "cells": [
  {
   "cell_type": "code",
   "execution_count": 1,
   "metadata": {
    "collapsed": false
   },
   "outputs": [
   ],
   "source": [
    "import random"
   ]
  },
  {
   "cell_type": "code",
   "execution_count": 9,
   "metadata": {
    "collapsed": false
   },
   "outputs": [
    {
     "data": {
      "text/plain": [
       "1"
      ]
     },
     "execution_count": 9,
     "metadata": {
     },
     "output_type": "execute_result"
    }
   ],
   "source": [
    "random.randint(0,10)"
   ]
  },
  {
   "cell_type": "code",
   "execution_count": 10,
   "metadata": {
    "cocalc": {
     "outputs": {
      "0": {
       "name": "input",
       "opts": {
        "password": false,
        "prompt": "please enter the number of faces of the dice: "
       },
       "output_type": "stream",
       "value": "10"
      }
     }
    },
    "collapsed": false
   },
   "outputs": [
    {
     "name": "stdout",
     "output_type": "stream",
     "text": "please enter the number of faces of the dice:  10"
    }
   ],
   "source": [
    "user_input = input(\"please enter the number of faces of the dice: \")"
   ]
  },
  {
   "cell_type": "code",
   "execution_count": 11,
   "metadata": {
    "collapsed": false
   },
   "outputs": [
    {
     "data": {
      "text/plain": [
       "'10'"
      ]
     },
     "execution_count": 11,
     "metadata": {
     },
     "output_type": "execute_result"
    }
   ],
   "source": [
    "user_input"
   ]
  },
  {
   "cell_type": "code",
   "execution_count": 15,
   "metadata": {
    "collapsed": false
   },
   "outputs": [
   ],
   "source": [
    "user_input = int(user_input)"
   ]
  },
  {
   "cell_type": "code",
   "execution_count": 16,
   "metadata": {
    "collapsed": false
   },
   "outputs": [
    {
     "data": {
      "text/plain": [
       "5"
      ]
     },
     "execution_count": 16,
     "metadata": {
     },
     "output_type": "execute_result"
    }
   ],
   "source": [
    "random.randint(1, user_input)"
   ]
  },
  {
   "cell_type": "code",
   "execution_count": 3,
   "metadata": {
    "cocalc": {
     "outputs": {
      "0": {
       "name": "input",
       "opts": {
        "password": false,
        "prompt": "please enter the number of faces of the dice: "
       },
       "output_type": "stream",
       "value": "sdfgassadg"
      }
     }
    },
    "collapsed": false
   },
   "outputs": [
    {
     "name": "stdout",
     "output_type": "stream",
     "text": "please enter the number of faces of the dice:  sdfgassadg"
    },
    {
     "ename": "ValueError",
     "evalue": "invalid literal for int() with base 10: 'sdfgassadg'",
     "output_type": "error",
     "traceback": [
      "\u001b[0;31m---------------------------------------------------------------------------\u001b[0m",
      "\u001b[0;31mValueError\u001b[0m                                Traceback (most recent call last)",
      "\u001b[0;32m<ipython-input-3-01a02d4b067f>\u001b[0m in \u001b[0;36m<module>\u001b[0;34m\u001b[0m\n\u001b[1;32m      1\u001b[0m \u001b[0;32mwhile\u001b[0m \u001b[0;32mTrue\u001b[0m\u001b[0;34m:\u001b[0m\u001b[0;34m\u001b[0m\u001b[0;34m\u001b[0m\u001b[0m\n\u001b[1;32m      2\u001b[0m     \u001b[0muser_input\u001b[0m \u001b[0;34m=\u001b[0m \u001b[0minput\u001b[0m\u001b[0;34m(\u001b[0m\u001b[0;34m\"please enter the number of faces of the dice: \"\u001b[0m\u001b[0;34m)\u001b[0m\u001b[0;34m\u001b[0m\u001b[0;34m\u001b[0m\u001b[0m\n\u001b[0;32m----> 3\u001b[0;31m     \u001b[0muser_input\u001b[0m \u001b[0;34m=\u001b[0m \u001b[0mint\u001b[0m\u001b[0;34m(\u001b[0m\u001b[0muser_input\u001b[0m\u001b[0;34m)\u001b[0m\u001b[0;34m\u001b[0m\u001b[0;34m\u001b[0m\u001b[0m\n\u001b[0m\u001b[1;32m      4\u001b[0m     \u001b[0mroll\u001b[0m \u001b[0;34m=\u001b[0m \u001b[0mrandom\u001b[0m\u001b[0;34m.\u001b[0m\u001b[0mrandint\u001b[0m\u001b[0;34m(\u001b[0m\u001b[0;36m1\u001b[0m\u001b[0;34m,\u001b[0m \u001b[0muser_input\u001b[0m\u001b[0;34m)\u001b[0m\u001b[0;34m\u001b[0m\u001b[0;34m\u001b[0m\u001b[0m\n\u001b[1;32m      5\u001b[0m     \u001b[0mprint\u001b[0m\u001b[0;34m(\u001b[0m\u001b[0;34m\"the number you get is \"\u001b[0m \u001b[0;34m+\u001b[0m \u001b[0mstr\u001b[0m\u001b[0;34m(\u001b[0m\u001b[0mroll\u001b[0m\u001b[0;34m)\u001b[0m\u001b[0;34m)\u001b[0m\u001b[0;34m\u001b[0m\u001b[0;34m\u001b[0m\u001b[0m\n",
      "\u001b[0;31mValueError\u001b[0m: invalid literal for int() with base 10: 'sdfgassadg'"
     ]
    }
   ],
   "source": [
    "while True:\n",
    "    user_input = input(\"please enter the number of faces of the dice: \")\n",
    "    user_input = int(user_input)\n",
    "    roll = random.randint(1, user_input)\n",
    "    print(\"the number you get is \" + str(roll))\n",
    "    \n",
    "    ctn = input(\"enter exit to quit and else to continue: \")\n",
    "    \n",
    "    if ctn == \"exit\":\n",
    "        break"
   ]
  },
  {
   "cell_type": "code",
   "execution_count": 4,
   "metadata": {
    "cocalc": {
     "outputs": {
      "0": {
       "name": "input",
       "opts": {
        "password": false,
        "prompt": "please enter the number of faces"
       },
       "output_type": "stream",
       "value": "asgfiuafgajh"
      },
      "1": {
       "name": "input",
       "opts": {
        "password": false,
        "prompt": "please enter the number of faces"
       },
       "output_type": "stream",
       "value": "0"
      },
      "2": {
       "name": "input",
       "opts": {
        "password": false,
        "prompt": "please enter the number of faces"
       },
       "output_type": "stream",
       "value": "a"
      },
      "3": {
       "name": "input",
       "opts": {
        "password": false,
        "prompt": "please enter the number of faces"
       },
       "output_type": "stream",
       "value": "d"
      },
      "4": {
       "name": "input",
       "opts": {
        "password": false,
        "prompt": "please enter the number of faces"
       },
       "output_type": "stream",
       "value": "5"
      },
      "6": {
       "name": "input",
       "opts": {
        "password": false,
        "prompt": "enter exit to quit and else to continue: "
       },
       "output_type": "stream",
       "value": " "
      },
      "7": {
       "name": "input",
       "opts": {
        "password": false,
        "prompt": "please enter the number of faces"
       },
       "output_type": "stream",
       "value": "sasg"
      },
      "8": {
       "name": "input",
       "opts": {
        "password": false,
        "prompt": "please enter the number of faces"
       },
       "output_type": "stream",
       "value": "5"
      },
      "9": {
       "name": "input",
       "opts": {
        "password": false,
        "prompt": "enter exit to quit and else to continue: "
       },
       "output_type": "stream"
      }
     }
    },
    "collapsed": false
   },
   "outputs": [
    {
     "name": "stdout",
     "output_type": "stream",
     "text": "please enter the number of faces asgfiuafgajh"
    },
    {
     "name": "stdout",
     "output_type": "stream",
     "text": "please enter the number of faces 0"
    },
    {
     "name": "stdout",
     "output_type": "stream",
     "text": "please enter the number of faces a"
    },
    {
     "name": "stdout",
     "output_type": "stream",
     "text": "please enter the number of faces d"
    },
    {
     "name": "stdout",
     "output_type": "stream",
     "text": "please enter the number of faces 5"
    },
    {
     "name": "stdout",
     "output_type": "stream",
     "text": [
      "the number you get is 5\n"
     ]
    },
    {
     "name": "stdout",
     "output_type": "stream",
     "text": "enter exit to quit and else to continue:   "
    },
    {
     "name": "stdout",
     "output_type": "stream",
     "text": "please enter the number of faces sasg"
    },
    {
     "name": "stdout",
     "output_type": "stream",
     "text": "please enter the number of faces 5"
    },
    {
     "name": "stdout",
     "output_type": "stream",
     "text": "enter exit to quit and else to continue:  "
    },
    {
     "name": "stdout",
     "output_type": "stream",
     "text": [
      "the number you get is 2\n"
     ],
     "value": "exit"
    }
   ],
   "source": [
    "while True:\n",
    "    while True:\n",
    "        try:\n",
    "            user_input = int(input(\"please enter the number of faces\"))\n",
    "        except:\n",
    "            continue\n",
    "        if user_input > 0:\n",
    "            break\n",
    "\n",
    "    roll = random.randint(1, user_input)\n",
    "    print(\"the number you get is \" + str(roll))\n",
    "    \n",
    "    ctn = input(\"enter exit to quit and else to continue: \")\n",
    "    \n",
    "    if ctn == \"exit\":\n",
    "        break"
   ]
  },
  {
   "cell_type": "code",
   "execution_count": 0,
   "metadata": {
    "collapsed": false
   },
   "outputs": [
   ],
   "source": [
   ]
  },
  {
   "cell_type": "code",
   "execution_count": 0,
   "metadata": {
    "collapsed": false
   },
   "outputs": [
   ],
   "source": [
   ]
  },
  {
   "cell_type": "code",
   "execution_count": 0,
   "metadata": {
    "collapsed": false
   },
   "outputs": [
   ],
   "source": [
   ]
  },
  {
   "cell_type": "code",
   "execution_count": 0,
   "metadata": {
    "collapsed": false
   },
   "outputs": [
   ],
   "source": [
   ]
  },
  {
   "cell_type": "code",
   "execution_count": 0,
   "metadata": {
    "collapsed": false
   },
   "outputs": [
   ],
   "source": [
   ]
  },
  {
   "cell_type": "code",
   "execution_count": 2,
   "metadata": {
    "cocalc": {
     "outputs": {
      "0": {
       "name": "input",
       "opts": {
        "password": false,
        "prompt": "please enter the number of faces of the dice: "
       },
       "output_type": "stream",
       "value": "u"
      },
      "1": {
       "name": "input",
       "opts": {
        "password": false,
        "prompt": "please enter the number of faces of the dice: "
       },
       "output_type": "stream",
       "value": "0"
      },
      "11": {
       "name": "input",
       "opts": {
        "password": false,
        "prompt": "enter exit to quit and else to continue: "
       },
       "output_type": "stream",
       "value": "exit"
      },
      "2": {
       "name": "input",
       "opts": {
        "password": false,
        "prompt": "please enter the number of faces of the dice: "
       },
       "output_type": "stream",
       "value": "5"
      },
      "4": {
       "name": "input",
       "opts": {
        "password": false,
        "prompt": "enter exit to quit and else to continue: "
       },
       "output_type": "stream",
       "value": " "
      },
      "5": {
       "name": "input",
       "opts": {
        "password": false,
        "prompt": "please enter the number of faces of the dice: "
       },
       "output_type": "stream",
       "value": "asdas"
      },
      "6": {
       "name": "input",
       "opts": {
        "password": false,
        "prompt": "please enter the number of faces of the dice: "
       },
       "output_type": "stream",
       "value": "7"
      },
      "8": {
       "name": "input",
       "opts": {
        "password": false,
        "prompt": "enter exit to quit and else to continue: "
       },
       "output_type": "stream",
       "value": "wxit"
      },
      "9": {
       "name": "input",
       "opts": {
        "password": false,
        "prompt": "please enter the number of faces of the dice: "
       },
       "output_type": "stream",
       "value": "4"
      }
     }
    },
    "collapsed": false
   },
   "outputs": [
    {
     "name": "stdout",
     "output_type": "stream",
     "text": "please enter the number of faces of the dice:  u"
    },
    {
     "name": "stdout",
     "output_type": "stream",
     "text": "please enter the number of faces of the dice:  0"
    },
    {
     "name": "stdout",
     "output_type": "stream",
     "text": "please enter the number of faces of the dice:  5"
    },
    {
     "name": "stdout",
     "output_type": "stream",
     "text": [
      "the number you get is 2\n"
     ]
    },
    {
     "name": "stdout",
     "output_type": "stream",
     "text": "enter exit to quit and else to continue:   "
    },
    {
     "name": "stdout",
     "output_type": "stream",
     "text": "please enter the number of faces of the dice:  asdas"
    },
    {
     "name": "stdout",
     "output_type": "stream",
     "text": "please enter the number of faces of the dice:  7"
    },
    {
     "name": "stdout",
     "output_type": "stream",
     "text": [
      "the number you get is 5\n"
     ]
    },
    {
     "name": "stdout",
     "output_type": "stream",
     "text": "enter exit to quit and else to continue:  wxit"
    },
    {
     "name": "stdout",
     "output_type": "stream",
     "text": "please enter the number of faces of the dice:  4"
    },
    {
     "name": "stdout",
     "output_type": "stream",
     "text": [
      "the number you get is 4\n"
     ]
    },
    {
     "name": "stdout",
     "output_type": "stream",
     "text": "enter exit to quit and else to continue:  exit"
    }
   ],
   "source": [
    "import random\n",
    "\n",
    "while True:\n",
    "    while True:\n",
    "        try: \n",
    "            user_input = int(input(\"please enter the number of faces of the dice: \"))\n",
    "        except:\n",
    "            continue;\n",
    "        if user_input > 0:\n",
    "            break;\n",
    "            \n",
    "    roll = random.randint(1, user_input)\n",
    "    print(\"the number you get is \" + str(roll))\n",
    "    \n",
    "    ctn = input(\"enter exit to quit and else to continue: \")\n",
    "    \n",
    "    if ctn == \"exit\":\n",
    "        break"
   ]
  },
  {
   "cell_type": "code",
   "execution_count": 0,
   "metadata": {
    "collapsed": false
   },
   "outputs": [
   ],
   "source": [
   ]
  },
  {
   "cell_type": "code",
   "execution_count": 0,
   "metadata": {
    "collapsed": false
   },
   "outputs": [
   ],
   "source": [
   ]
  },
  {
   "cell_type": "code",
   "execution_count": 0,
   "metadata": {
    "collapsed": false
   },
   "outputs": [
   ],
   "source": [
   ]
  }
 ],
 "metadata": {
  "kernelspec": {
   "display_name": "Python 3 (Ubuntu Linux)",
   "language": "python",
   "name": "python3-ubuntu",
   "resource_dir": "/usr/local/share/jupyter/kernels/python3-ubuntu"
  },
  "language_info": {
   "codemirror_mode": {
    "name": "ipython",
    "version": 3
   },
   "file_extension": ".py",
   "mimetype": "text/x-python",
   "name": "python",
   "nbconvert_exporter": "python",
   "pygments_lexer": "ipython3",
   "version": "3.8.10"
  }
 },
 "nbformat": 4,
 "nbformat_minor": 4
}
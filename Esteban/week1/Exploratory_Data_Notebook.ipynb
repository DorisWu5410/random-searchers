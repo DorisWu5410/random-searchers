{
 "cells": [
  {
   "cell_type": "markdown",
   "metadata": {
    "collapsed": false
   },
   "source": [
    "\n",
    "# Are There Associations With University Tuition & Professional Pay on a State-by-State Basis?\n",
    "\n",
    "### Also, How to Conduct Basic Exploratory Data Analysis\n",
    "Feel free to keep this notebook open, download your own dataset, and follow along with what may be applicable to YOU. <br> Keep in mind, you will almost certainly want to find other ways to manipulate your data. <br> Python has a TON of user created documentation on sites like Stack Overflow.<br> I would recommend searching \"[WhatINeedToDoWithMyDataframe], pandas\" on Google."
   ]
  },
  {
   "cell_type": "markdown",
   "metadata": {
    "collapsed": false
   },
   "source": [
    "## Table Of Contents:\n",
    "* [Import Packages and Define Functions](#Import)\n",
    "* [Loading Data](#Load)\n",
    "* [Exploring Data](#Explore)\n",
    "* [Cleaning Data](#Clean)\n",
    "* [Analyzing Data](#Analyze)\n",
    "* [Visualizing Data](#Visual)"
   ]
  },
  {
   "cell_type": "markdown",
   "metadata": {
    "collapsed": false
   },
   "source": [
    "### Import Packages and Define Functions <a class=\"anchor\" id=\"Import\"></a>\n",
    "##### You should have a section that imports necessary packages and defines any functions at the top of every notebook, anyone know why?"
   ]
  },
  {
   "cell_type": "markdown",
   "metadata": {
    "collapsed": false
   },
   "source": [
    "<details> If packages are not imported before they are used, you will receive errors. \n",
    "    <br> It is easiest to 'run all' cells which will go from top to bottom when coming back to your notebook after a break. </details>"
   ]
  },
  {
   "cell_type": "markdown",
   "metadata": {
    "collapsed": false
   },
   "source": [
    "##### This section will start almost empty, you will add to it as you import new packages and define function.\n",
    "- I always recommend starting with 'import pandas as pd' for dataframe management\n",
    "* Here is the pandas docs - https://pandas.pydata.org/docs/reference/index.html#api\n",
    "- Otherwise you can ignore these for now"
   ]
  },
  {
   "cell_type": "code",
   "execution_count": 1,
   "metadata": {
    "collapsed": false
   },
   "outputs": [
   ],
   "source": [
   ]
  },
  {
   "cell_type": "code",
   "execution_count": 2,
   "metadata": {
    "collapsed": false
   },
   "outputs": [
   ],
   "source": [
   ]
  },
  {
   "cell_type": "markdown",
   "metadata": {
    "collapsed": false
   },
   "source": [
    "## Loading Data <a class=\"anchor\" id=\"Load\"></a>\n",
    "- It is best practice keeping this section clean so you know every piece of data you are importing\n",
    "- You will run into errors if you try and reference data before you have loaded it\n",
    "- Keeping data in a 'Data' folder is best for organization too"
   ]
  },
  {
   "cell_type": "code",
   "execution_count": 3,
   "metadata": {
    "collapsed": false
   },
   "outputs": [
   ],
   "source": [
    "# make sure you have these files\n",
    "salary_potential = pd.read_csv(\"./Data/salary_potential.csv\")\n",
    "tuition = pd.read_csv(\"./Data/tuition_cost.csv\")"
   ]
  },
  {
   "cell_type": "markdown",
   "metadata": {
    "collapsed": false
   },
   "source": [
    "What does the './' ahead of our folder name do?\n",
    "<details> Pathing is more complex than you might think. The program does not know where to look for your file. \n",
    "    <br> Adding ./ tells the program to start looking from the location where this Notebook is located </details>"
   ]
  },
  {
   "cell_type": "markdown",
   "metadata": {
    "collapsed": false
   },
   "source": [
    "## Exploring Our Data <a class=\"anchor\" id=\"Explore\"></a>\n",
    "- Here is where we want to inform ourselves on the nitty gritty of what information our data actually holds\n",
    "- How much, what type, is there anything missing, what columns do I need & not need, etc. "
   ]
  },
  {
   "cell_type": "markdown",
   "metadata": {
    "collapsed": false
   },
   "source": [
    "##### Using .head() [first 5 rows] and .tail() [last 5 rows] is a great way to get a first look at our data"
   ]
  },
  {
   "cell_type": "code",
   "execution_count": 4,
   "metadata": {
    "collapsed": false
   },
   "outputs": [
    {
     "data": {
      "text/html": [
       "<div>\n",
       "<style scoped>\n",
       "    .dataframe tbody tr th:only-of-type {\n",
       "        vertical-align: middle;\n",
       "    }\n",
       "\n",
       "    .dataframe tbody tr th {\n",
       "        vertical-align: top;\n",
       "    }\n",
       "\n",
       "    .dataframe thead th {\n",
       "        text-align: right;\n",
       "    }\n",
       "</style>\n",
       "<table border=\"1\" class=\"dataframe\">\n",
       "  <thead>\n",
       "    <tr style=\"text-align: right;\">\n",
       "      <th></th>\n",
       "      <th>rank</th>\n",
       "      <th>name</th>\n",
       "      <th>state_name</th>\n",
       "      <th>early_career_pay</th>\n",
       "      <th>mid_career_pay</th>\n",
       "      <th>make_world_better_percent</th>\n",
       "      <th>stem_percent</th>\n",
       "    </tr>\n",
       "  </thead>\n",
       "  <tbody>\n",
       "    <tr>\n",
       "      <th>0</th>\n",
       "      <td>1</td>\n",
       "      <td>Auburn University</td>\n",
       "      <td>Alabama</td>\n",
       "      <td>54400</td>\n",
       "      <td>104500</td>\n",
       "      <td>51.0</td>\n",
       "      <td>31</td>\n",
       "    </tr>\n",
       "    <tr>\n",
       "      <th>1</th>\n",
       "      <td>2</td>\n",
       "      <td>University of Alabama in Huntsville</td>\n",
       "      <td>Alabama</td>\n",
       "      <td>57500</td>\n",
       "      <td>103900</td>\n",
       "      <td>59.0</td>\n",
       "      <td>45</td>\n",
       "    </tr>\n",
       "    <tr>\n",
       "      <th>2</th>\n",
       "      <td>3</td>\n",
       "      <td>The University of Alabama</td>\n",
       "      <td>Alabama</td>\n",
       "      <td>52300</td>\n",
       "      <td>97400</td>\n",
       "      <td>50.0</td>\n",
       "      <td>15</td>\n",
       "    </tr>\n",
       "    <tr>\n",
       "      <th>3</th>\n",
       "      <td>4</td>\n",
       "      <td>Tuskegee University</td>\n",
       "      <td>Alabama</td>\n",
       "      <td>54500</td>\n",
       "      <td>93500</td>\n",
       "      <td>61.0</td>\n",
       "      <td>30</td>\n",
       "    </tr>\n",
       "    <tr>\n",
       "      <th>4</th>\n",
       "      <td>5</td>\n",
       "      <td>Samford University</td>\n",
       "      <td>Alabama</td>\n",
       "      <td>48400</td>\n",
       "      <td>90500</td>\n",
       "      <td>52.0</td>\n",
       "      <td>3</td>\n",
       "    </tr>\n",
       "  </tbody>\n",
       "</table>\n",
       "</div>"
      ],
      "text/plain": [
       "   rank                                 name state_name  early_career_pay  \\\n",
       "0     1                    Auburn University    Alabama             54400   \n",
       "1     2  University of Alabama in Huntsville    Alabama             57500   \n",
       "2     3            The University of Alabama    Alabama             52300   \n",
       "3     4                  Tuskegee University    Alabama             54500   \n",
       "4     5                   Samford University    Alabama             48400   \n",
       "\n",
       "   mid_career_pay  make_world_better_percent  stem_percent  \n",
       "0          104500                       51.0            31  \n",
       "1          103900                       59.0            45  \n",
       "2           97400                       50.0            15  \n",
       "3           93500                       61.0            30  \n",
       "4           90500                       52.0             3  "
      ]
     },
     "execution_count": 4,
     "metadata": {
     },
     "output_type": "execute_result"
    }
   ],
   "source": [
    "salary_potential.head()"
   ]
  },
  {
   "cell_type": "code",
   "execution_count": 5,
   "metadata": {
    "collapsed": false
   },
   "outputs": [
    {
     "data": {
      "text/html": [
       "<div>\n",
       "<style scoped>\n",
       "    .dataframe tbody tr th:only-of-type {\n",
       "        vertical-align: middle;\n",
       "    }\n",
       "\n",
       "    .dataframe tbody tr th {\n",
       "        vertical-align: top;\n",
       "    }\n",
       "\n",
       "    .dataframe thead th {\n",
       "        text-align: right;\n",
       "    }\n",
       "</style>\n",
       "<table border=\"1\" class=\"dataframe\">\n",
       "  <thead>\n",
       "    <tr style=\"text-align: right;\">\n",
       "      <th></th>\n",
       "      <th>name</th>\n",
       "      <th>state</th>\n",
       "      <th>state_code</th>\n",
       "      <th>type</th>\n",
       "      <th>degree_length</th>\n",
       "      <th>room_and_board</th>\n",
       "      <th>in_state_tuition</th>\n",
       "      <th>in_state_total</th>\n",
       "      <th>out_of_state_tuition</th>\n",
       "      <th>out_of_state_total</th>\n",
       "    </tr>\n",
       "  </thead>\n",
       "  <tbody>\n",
       "    <tr>\n",
       "      <th>2968</th>\n",
       "      <td>York Technical College</td>\n",
       "      <td>South Carolina</td>\n",
       "      <td>SC</td>\n",
       "      <td>Public</td>\n",
       "      <td>2 Year</td>\n",
       "      <td>NaN</td>\n",
       "      <td>5740</td>\n",
       "      <td>5740</td>\n",
       "      <td>12190</td>\n",
       "      <td>12190</td>\n",
       "    </tr>\n",
       "    <tr>\n",
       "      <th>2969</th>\n",
       "      <td>Young Harris College</td>\n",
       "      <td>Georgia</td>\n",
       "      <td>GA</td>\n",
       "      <td>Private</td>\n",
       "      <td>4 Year</td>\n",
       "      <td>12372.0</td>\n",
       "      <td>29117</td>\n",
       "      <td>41489</td>\n",
       "      <td>29117</td>\n",
       "      <td>41489</td>\n",
       "    </tr>\n",
       "    <tr>\n",
       "      <th>2970</th>\n",
       "      <td>Youngstown State University</td>\n",
       "      <td>Ohio</td>\n",
       "      <td>OH</td>\n",
       "      <td>Public</td>\n",
       "      <td>4 Year</td>\n",
       "      <td>9400.0</td>\n",
       "      <td>8950</td>\n",
       "      <td>18350</td>\n",
       "      <td>14950</td>\n",
       "      <td>24350</td>\n",
       "    </tr>\n",
       "    <tr>\n",
       "      <th>2971</th>\n",
       "      <td>Yuba College</td>\n",
       "      <td>California</td>\n",
       "      <td>CA</td>\n",
       "      <td>Public</td>\n",
       "      <td>2 Year</td>\n",
       "      <td>NaN</td>\n",
       "      <td>1400</td>\n",
       "      <td>1400</td>\n",
       "      <td>8420</td>\n",
       "      <td>8420</td>\n",
       "    </tr>\n",
       "    <tr>\n",
       "      <th>2972</th>\n",
       "      <td>Zane State College</td>\n",
       "      <td>Ohio</td>\n",
       "      <td>OH</td>\n",
       "      <td>Public</td>\n",
       "      <td>2 Year</td>\n",
       "      <td>NaN</td>\n",
       "      <td>5070</td>\n",
       "      <td>5070</td>\n",
       "      <td>9930</td>\n",
       "      <td>9930</td>\n",
       "    </tr>\n",
       "  </tbody>\n",
       "</table>\n",
       "</div>"
      ],
      "text/plain": [
       "                             name           state state_code     type  \\\n",
       "2968       York Technical College  South Carolina         SC   Public   \n",
       "2969         Young Harris College         Georgia         GA  Private   \n",
       "2970  Youngstown State University            Ohio         OH   Public   \n",
       "2971                 Yuba College      California         CA   Public   \n",
       "2972           Zane State College            Ohio         OH   Public   \n",
       "\n",
       "     degree_length  room_and_board  in_state_tuition  in_state_total  \\\n",
       "2968        2 Year             NaN              5740            5740   \n",
       "2969        4 Year         12372.0             29117           41489   \n",
       "2970        4 Year          9400.0              8950           18350   \n",
       "2971        2 Year             NaN              1400            1400   \n",
       "2972        2 Year             NaN              5070            5070   \n",
       "\n",
       "      out_of_state_tuition  out_of_state_total  \n",
       "2968                 12190               12190  \n",
       "2969                 29117               41489  \n",
       "2970                 14950               24350  \n",
       "2971                  8420                8420  \n",
       "2972                  9930                9930  "
      ]
     },
     "execution_count": 5,
     "metadata": {
     },
     "output_type": "execute_result"
    }
   ],
   "source": [
    "tuition.tail()"
   ]
  },
  {
   "cell_type": "markdown",
   "metadata": {
    "collapsed": false
   },
   "source": [
    "Sometimes column names have extra spaces or we can't see all of them at first, lets print them and get the shape of each to see how much data we are dealing with. <br>(#Rows, #Columns)"
   ]
  },
  {
   "cell_type": "code",
   "execution_count": 6,
   "metadata": {
    "collapsed": false
   },
   "outputs": [
    {
     "name": "stdout",
     "output_type": "stream",
     "text": [
      "Index(['rank', 'name', 'state_name', 'early_career_pay', 'mid_career_pay',\n",
      "       'make_world_better_percent', 'stem_percent'],\n",
      "      dtype='object')\n",
      "\n",
      "(935, 7)\n"
     ]
    }
   ],
   "source": [
    "print(salary_potential.columns)\n",
    "print(\"\")\n",
    "print(salary_potential.shape)"
   ]
  },
  {
   "cell_type": "code",
   "execution_count": 7,
   "metadata": {
    "collapsed": false
   },
   "outputs": [
    {
     "name": "stdout",
     "output_type": "stream",
     "text": [
      "Index(['name', 'state', 'state_code', 'type', 'degree_length',\n",
      "       'room_and_board', 'in_state_tuition', 'in_state_total',\n",
      "       'out_of_state_tuition', 'out_of_state_total'],\n",
      "      dtype='object')\n",
      "\n",
      "(2973, 10)\n"
     ]
    }
   ],
   "source": [
    "print(tuition.columns)\n",
    "print(\"\")\n",
    "print(tuition.shape)"
   ]
  },
  {
   "cell_type": "markdown",
   "metadata": {
    "collapsed": false
   },
   "source": [
    "We also want information on what data TYPE each of the columns are"
   ]
  },
  {
   "cell_type": "code",
   "execution_count": 0,
   "metadata": {
    "collapsed": false,
    "vscode": {
     "languageId": "plaintext"
    }
   },
   "outputs": [
   ],
   "source": [
    "tuition.info()"
   ]
  },
  {
   "cell_type": "markdown",
   "metadata": {
    "collapsed": false
   },
   "source": [
    "We notice that 'state' and 'room_and_board' are missing some data. State_code is not though."
   ]
  },
  {
   "cell_type": "code",
   "execution_count": 8,
   "metadata": {
    "collapsed": false
   },
   "outputs": [
    {
     "name": "stdout",
     "output_type": "stream",
     "text": [
      "<class 'pandas.core.frame.DataFrame'>\n",
      "RangeIndex: 935 entries, 0 to 934\n",
      "Data columns (total 7 columns):\n",
      " #   Column                     Non-Null Count  Dtype  \n",
      "---  ------                     --------------  -----  \n",
      " 0   rank                       935 non-null    int64  \n",
      " 1   name                       935 non-null    object \n",
      " 2   state_name                 935 non-null    object \n",
      " 3   early_career_pay           935 non-null    int64  \n",
      " 4   mid_career_pay             935 non-null    int64  \n",
      " 5   make_world_better_percent  902 non-null    float64\n",
      " 6   stem_percent               935 non-null    int64  \n",
      "dtypes: float64(1), int64(4), object(2)\n",
      "memory usage: 51.3+ KB\n"
     ]
    }
   ],
   "source": [
    "salary_potential.info()"
   ]
  },
  {
   "cell_type": "markdown",
   "metadata": {
    "collapsed": false
   },
   "source": [
    "We notice that 'make_world_better_percent' is missing some data, missing data can mess with functions down the road."
   ]
  },
  {
   "cell_type": "markdown",
   "metadata": {
    "collapsed": false
   },
   "source": [
    "## Cleaning and Merging Our Data <a class=\"anchor\" id=\"Clean\"></a>\n",
    "- Lets get rid of redundant columns, either replace or drop missing values, and do any other cleaning we might want\n",
    "- Here we will also merge our different data sources into one cohesive one"
   ]
  },
  {
   "cell_type": "markdown",
   "metadata": {
    "collapsed": false
   },
   "source": [
    "First up, lets find the entries with no 'state' from tuition"
   ]
  },
  {
   "cell_type": "code",
   "execution_count": 9,
   "metadata": {
    "collapsed": false
   },
   "outputs": [
    {
     "data": {
      "text/html": [
       "<div>\n",
       "<style scoped>\n",
       "    .dataframe tbody tr th:only-of-type {\n",
       "        vertical-align: middle;\n",
       "    }\n",
       "\n",
       "    .dataframe tbody tr th {\n",
       "        vertical-align: top;\n",
       "    }\n",
       "\n",
       "    .dataframe thead th {\n",
       "        text-align: right;\n",
       "    }\n",
       "</style>\n",
       "<table border=\"1\" class=\"dataframe\">\n",
       "  <thead>\n",
       "    <tr style=\"text-align: right;\">\n",
       "      <th></th>\n",
       "      <th>name</th>\n",
       "      <th>state</th>\n",
       "      <th>state_code</th>\n",
       "      <th>type</th>\n",
       "      <th>degree_length</th>\n",
       "      <th>room_and_board</th>\n",
       "      <th>in_state_tuition</th>\n",
       "      <th>in_state_total</th>\n",
       "      <th>out_of_state_tuition</th>\n",
       "      <th>out_of_state_total</th>\n",
       "    </tr>\n",
       "  </thead>\n",
       "  <tbody>\n",
       "    <tr>\n",
       "      <th>61</th>\n",
       "      <td>American Samoa Community College</td>\n",
       "      <td>NaN</td>\n",
       "      <td>AS</td>\n",
       "      <td>Public</td>\n",
       "      <td>2 Year</td>\n",
       "      <td>NaN</td>\n",
       "      <td>3700</td>\n",
       "      <td>3700</td>\n",
       "      <td>3700</td>\n",
       "      <td>3700</td>\n",
       "    </tr>\n",
       "    <tr>\n",
       "      <th>62</th>\n",
       "      <td>American University</td>\n",
       "      <td>NaN</td>\n",
       "      <td>DC</td>\n",
       "      <td>Private</td>\n",
       "      <td>4 Year</td>\n",
       "      <td>14880.0</td>\n",
       "      <td>48459</td>\n",
       "      <td>63339</td>\n",
       "      <td>48459</td>\n",
       "      <td>63339</td>\n",
       "    </tr>\n",
       "    <tr>\n",
       "      <th>63</th>\n",
       "      <td>American University of Puerto Rico</td>\n",
       "      <td>NaN</td>\n",
       "      <td>PR</td>\n",
       "      <td>Private</td>\n",
       "      <td>4 Year</td>\n",
       "      <td>NaN</td>\n",
       "      <td>6946</td>\n",
       "      <td>6946</td>\n",
       "      <td>6946</td>\n",
       "      <td>6946</td>\n",
       "    </tr>\n",
       "    <tr>\n",
       "      <th>124</th>\n",
       "      <td>Atlantic University College</td>\n",
       "      <td>NaN</td>\n",
       "      <td>PR</td>\n",
       "      <td>Private</td>\n",
       "      <td>4 Year</td>\n",
       "      <td>NaN</td>\n",
       "      <td>4525</td>\n",
       "      <td>4525</td>\n",
       "      <td>4525</td>\n",
       "      <td>4525</td>\n",
       "    </tr>\n",
       "    <tr>\n",
       "      <th>169</th>\n",
       "      <td>Bayamon Central University</td>\n",
       "      <td>NaN</td>\n",
       "      <td>PR</td>\n",
       "      <td>Private</td>\n",
       "      <td>4 Year</td>\n",
       "      <td>NaN</td>\n",
       "      <td>5775</td>\n",
       "      <td>5775</td>\n",
       "      <td>5775</td>\n",
       "      <td>5775</td>\n",
       "    </tr>\n",
       "    <tr>\n",
       "      <th>349</th>\n",
       "      <td>Caribbean University</td>\n",
       "      <td>NaN</td>\n",
       "      <td>PR</td>\n",
       "      <td>Private</td>\n",
       "      <td>4 Year</td>\n",
       "      <td>NaN</td>\n",
       "      <td>6570</td>\n",
       "      <td>6570</td>\n",
       "      <td>6570</td>\n",
       "      <td>6570</td>\n",
       "    </tr>\n",
       "    <tr>\n",
       "      <th>354</th>\n",
       "      <td>Carlos Albizu University: San Juan</td>\n",
       "      <td>NaN</td>\n",
       "      <td>PR</td>\n",
       "      <td>Private</td>\n",
       "      <td>4 Year</td>\n",
       "      <td>NaN</td>\n",
       "      <td>5912</td>\n",
       "      <td>5912</td>\n",
       "      <td>5912</td>\n",
       "      <td>5912</td>\n",
       "    </tr>\n",
       "    <tr>\n",
       "      <th>372</th>\n",
       "      <td>Catholic University of America</td>\n",
       "      <td>NaN</td>\n",
       "      <td>DC</td>\n",
       "      <td>Private</td>\n",
       "      <td>4 Year</td>\n",
       "      <td>14650.0</td>\n",
       "      <td>45804</td>\n",
       "      <td>60454</td>\n",
       "      <td>45804</td>\n",
       "      <td>60454</td>\n",
       "    </tr>\n",
       "    <tr>\n",
       "      <th>576</th>\n",
       "      <td>Columbia Central University: Yauco</td>\n",
       "      <td>NaN</td>\n",
       "      <td>PR</td>\n",
       "      <td>For Profit</td>\n",
       "      <td>2 Year</td>\n",
       "      <td>NaN</td>\n",
       "      <td>6420</td>\n",
       "      <td>6420</td>\n",
       "      <td>6420</td>\n",
       "      <td>6420</td>\n",
       "    </tr>\n",
       "    <tr>\n",
       "      <th>618</th>\n",
       "      <td>Conservatory of Music of Puerto Rico</td>\n",
       "      <td>NaN</td>\n",
       "      <td>PR</td>\n",
       "      <td>Public</td>\n",
       "      <td>4 Year</td>\n",
       "      <td>NaN</td>\n",
       "      <td>4000</td>\n",
       "      <td>4000</td>\n",
       "      <td>4000</td>\n",
       "      <td>4000</td>\n",
       "    </tr>\n",
       "    <tr>\n",
       "      <th>764</th>\n",
       "      <td>EDIC College</td>\n",
       "      <td>NaN</td>\n",
       "      <td>PR</td>\n",
       "      <td>For Profit</td>\n",
       "      <td>2 Year</td>\n",
       "      <td>NaN</td>\n",
       "      <td>7065</td>\n",
       "      <td>7065</td>\n",
       "      <td>7065</td>\n",
       "      <td>7065</td>\n",
       "    </tr>\n",
       "    <tr>\n",
       "      <th>768</th>\n",
       "      <td>EDP University of Puerto Rico: San Sebastian</td>\n",
       "      <td>NaN</td>\n",
       "      <td>PR</td>\n",
       "      <td>For Profit</td>\n",
       "      <td>4 Year</td>\n",
       "      <td>NaN</td>\n",
       "      <td>5940</td>\n",
       "      <td>5940</td>\n",
       "      <td>5940</td>\n",
       "      <td>5940</td>\n",
       "    </tr>\n",
       "    <tr>\n",
       "      <th>799</th>\n",
       "      <td>Escuela de Artes Plasticas de Puerto Rico</td>\n",
       "      <td>NaN</td>\n",
       "      <td>PR</td>\n",
       "      <td>Public</td>\n",
       "      <td>4 Year</td>\n",
       "      <td>NaN</td>\n",
       "      <td>4002</td>\n",
       "      <td>4002</td>\n",
       "      <td>6702</td>\n",
       "      <td>6702</td>\n",
       "    </tr>\n",
       "    <tr>\n",
       "      <th>882</th>\n",
       "      <td>Gallaudet University</td>\n",
       "      <td>NaN</td>\n",
       "      <td>DC</td>\n",
       "      <td>Private</td>\n",
       "      <td>4 Year</td>\n",
       "      <td>14100.0</td>\n",
       "      <td>17038</td>\n",
       "      <td>31138</td>\n",
       "      <td>17038</td>\n",
       "      <td>31138</td>\n",
       "    </tr>\n",
       "    <tr>\n",
       "      <th>900</th>\n",
       "      <td>George Washington University</td>\n",
       "      <td>NaN</td>\n",
       "      <td>DC</td>\n",
       "      <td>Private</td>\n",
       "      <td>4 Year</td>\n",
       "      <td>13850.0</td>\n",
       "      <td>55230</td>\n",
       "      <td>69080</td>\n",
       "      <td>55230</td>\n",
       "      <td>69080</td>\n",
       "    </tr>\n",
       "    <tr>\n",
       "      <th>902</th>\n",
       "      <td>Georgetown University</td>\n",
       "      <td>NaN</td>\n",
       "      <td>DC</td>\n",
       "      <td>Private</td>\n",
       "      <td>4 Year</td>\n",
       "      <td>16509.0</td>\n",
       "      <td>54104</td>\n",
       "      <td>70613</td>\n",
       "      <td>54104</td>\n",
       "      <td>70613</td>\n",
       "    </tr>\n",
       "    <tr>\n",
       "      <th>964</th>\n",
       "      <td>Guam Community College</td>\n",
       "      <td>NaN</td>\n",
       "      <td>GU</td>\n",
       "      <td>Public</td>\n",
       "      <td>2 Year</td>\n",
       "      <td>NaN</td>\n",
       "      <td>4194</td>\n",
       "      <td>4194</td>\n",
       "      <td>4944</td>\n",
       "      <td>4944</td>\n",
       "    </tr>\n",
       "    <tr>\n",
       "      <th>1056</th>\n",
       "      <td>Howard University</td>\n",
       "      <td>NaN</td>\n",
       "      <td>DC</td>\n",
       "      <td>Private</td>\n",
       "      <td>4 Year</td>\n",
       "      <td>13895.0</td>\n",
       "      <td>27056</td>\n",
       "      <td>40951</td>\n",
       "      <td>27056</td>\n",
       "      <td>40951</td>\n",
       "    </tr>\n",
       "    <tr>\n",
       "      <th>1059</th>\n",
       "      <td>Huertas College</td>\n",
       "      <td>NaN</td>\n",
       "      <td>PR</td>\n",
       "      <td>For Profit</td>\n",
       "      <td>2 Year</td>\n",
       "      <td>NaN</td>\n",
       "      <td>6635</td>\n",
       "      <td>6635</td>\n",
       "      <td>6635</td>\n",
       "      <td>6635</td>\n",
       "    </tr>\n",
       "    <tr>\n",
       "      <th>1061</th>\n",
       "      <td>Humacao Community College</td>\n",
       "      <td>NaN</td>\n",
       "      <td>PR</td>\n",
       "      <td>Private</td>\n",
       "      <td>2 Year</td>\n",
       "      <td>3000.0</td>\n",
       "      <td>5382</td>\n",
       "      <td>8382</td>\n",
       "      <td>5382</td>\n",
       "      <td>8382</td>\n",
       "    </tr>\n",
       "    <tr>\n",
       "      <th>1073</th>\n",
       "      <td>ICPR Junior College</td>\n",
       "      <td>NaN</td>\n",
       "      <td>PR</td>\n",
       "      <td>For Profit</td>\n",
       "      <td>2 Year</td>\n",
       "      <td>4000.0</td>\n",
       "      <td>7010</td>\n",
       "      <td>11010</td>\n",
       "      <td>7010</td>\n",
       "      <td>11010</td>\n",
       "    </tr>\n",
       "    <tr>\n",
       "      <th>1103</th>\n",
       "      <td>Inter American University of Puerto Rico: Agua...</td>\n",
       "      <td>NaN</td>\n",
       "      <td>PR</td>\n",
       "      <td>Private</td>\n",
       "      <td>4 Year</td>\n",
       "      <td>NaN</td>\n",
       "      <td>6262</td>\n",
       "      <td>6262</td>\n",
       "      <td>6262</td>\n",
       "      <td>6262</td>\n",
       "    </tr>\n",
       "    <tr>\n",
       "      <th>1104</th>\n",
       "      <td>Inter American University of Puerto Rico: Arec...</td>\n",
       "      <td>NaN</td>\n",
       "      <td>PR</td>\n",
       "      <td>Private</td>\n",
       "      <td>4 Year</td>\n",
       "      <td>NaN</td>\n",
       "      <td>6452</td>\n",
       "      <td>6452</td>\n",
       "      <td>6452</td>\n",
       "      <td>6452</td>\n",
       "    </tr>\n",
       "    <tr>\n",
       "      <th>1105</th>\n",
       "      <td>Inter American University of Puerto Rico: Barr...</td>\n",
       "      <td>NaN</td>\n",
       "      <td>PR</td>\n",
       "      <td>Private</td>\n",
       "      <td>4 Year</td>\n",
       "      <td>NaN</td>\n",
       "      <td>6262</td>\n",
       "      <td>6262</td>\n",
       "      <td>6262</td>\n",
       "      <td>6262</td>\n",
       "    </tr>\n",
       "    <tr>\n",
       "      <th>1106</th>\n",
       "      <td>Inter American University of Puerto Rico: Baya...</td>\n",
       "      <td>NaN</td>\n",
       "      <td>PR</td>\n",
       "      <td>Private</td>\n",
       "      <td>4 Year</td>\n",
       "      <td>7993.0</td>\n",
       "      <td>5898</td>\n",
       "      <td>13891</td>\n",
       "      <td>5898</td>\n",
       "      <td>13891</td>\n",
       "    </tr>\n",
       "    <tr>\n",
       "      <th>1107</th>\n",
       "      <td>Inter American University of Puerto Rico: Faja...</td>\n",
       "      <td>NaN</td>\n",
       "      <td>PR</td>\n",
       "      <td>Private</td>\n",
       "      <td>4 Year</td>\n",
       "      <td>NaN</td>\n",
       "      <td>5898</td>\n",
       "      <td>5898</td>\n",
       "      <td>5898</td>\n",
       "      <td>5898</td>\n",
       "    </tr>\n",
       "    <tr>\n",
       "      <th>1108</th>\n",
       "      <td>Inter American University of Puerto Rico: Guay...</td>\n",
       "      <td>NaN</td>\n",
       "      <td>PR</td>\n",
       "      <td>Private</td>\n",
       "      <td>4 Year</td>\n",
       "      <td>NaN</td>\n",
       "      <td>6452</td>\n",
       "      <td>6452</td>\n",
       "      <td>6452</td>\n",
       "      <td>6452</td>\n",
       "    </tr>\n",
       "    <tr>\n",
       "      <th>1109</th>\n",
       "      <td>Inter American University of Puerto Rico: Metr...</td>\n",
       "      <td>NaN</td>\n",
       "      <td>PR</td>\n",
       "      <td>Private</td>\n",
       "      <td>4 Year</td>\n",
       "      <td>NaN</td>\n",
       "      <td>7476</td>\n",
       "      <td>7476</td>\n",
       "      <td>7476</td>\n",
       "      <td>7476</td>\n",
       "    </tr>\n",
       "    <tr>\n",
       "      <th>1110</th>\n",
       "      <td>Inter American University of Puerto Rico: Ponc...</td>\n",
       "      <td>NaN</td>\n",
       "      <td>PR</td>\n",
       "      <td>Private</td>\n",
       "      <td>4 Year</td>\n",
       "      <td>NaN</td>\n",
       "      <td>5220</td>\n",
       "      <td>5220</td>\n",
       "      <td>5220</td>\n",
       "      <td>5220</td>\n",
       "    </tr>\n",
       "    <tr>\n",
       "      <th>1111</th>\n",
       "      <td>Inter American University of Puerto Rico: San ...</td>\n",
       "      <td>NaN</td>\n",
       "      <td>PR</td>\n",
       "      <td>Private</td>\n",
       "      <td>4 Year</td>\n",
       "      <td>3900.0</td>\n",
       "      <td>5976</td>\n",
       "      <td>9876</td>\n",
       "      <td>5976</td>\n",
       "      <td>9876</td>\n",
       "    </tr>\n",
       "    <tr>\n",
       "      <th>1915</th>\n",
       "      <td>Pontifical Catholic University of Puerto Rico</td>\n",
       "      <td>NaN</td>\n",
       "      <td>PR</td>\n",
       "      <td>Private</td>\n",
       "      <td>4 Year</td>\n",
       "      <td>1374.0</td>\n",
       "      <td>5490</td>\n",
       "      <td>6864</td>\n",
       "      <td>5490</td>\n",
       "      <td>6864</td>\n",
       "    </tr>\n",
       "    <tr>\n",
       "      <th>2445</th>\n",
       "      <td>Trinity Washington University</td>\n",
       "      <td>NaN</td>\n",
       "      <td>DC</td>\n",
       "      <td>Private</td>\n",
       "      <td>4 Year</td>\n",
       "      <td>11160.0</td>\n",
       "      <td>24150</td>\n",
       "      <td>35310</td>\n",
       "      <td>24150</td>\n",
       "      <td>35310</td>\n",
       "    </tr>\n",
       "    <tr>\n",
       "      <th>2456</th>\n",
       "      <td>Turabo University</td>\n",
       "      <td>NaN</td>\n",
       "      <td>PR</td>\n",
       "      <td>Private</td>\n",
       "      <td>4 Year</td>\n",
       "      <td>NaN</td>\n",
       "      <td>7050</td>\n",
       "      <td>7050</td>\n",
       "      <td>7050</td>\n",
       "      <td>7050</td>\n",
       "    </tr>\n",
       "    <tr>\n",
       "      <th>2473</th>\n",
       "      <td>Universal Technology College of Puerto Rico</td>\n",
       "      <td>NaN</td>\n",
       "      <td>PR</td>\n",
       "      <td>Private</td>\n",
       "      <td>2 Year</td>\n",
       "      <td>NaN</td>\n",
       "      <td>18000</td>\n",
       "      <td>18000</td>\n",
       "      <td>18000</td>\n",
       "      <td>18000</td>\n",
       "    </tr>\n",
       "    <tr>\n",
       "      <th>2474</th>\n",
       "      <td>Universidad Adventista de las Antillas</td>\n",
       "      <td>NaN</td>\n",
       "      <td>PR</td>\n",
       "      <td>Private</td>\n",
       "      <td>4 Year</td>\n",
       "      <td>6400.0</td>\n",
       "      <td>6570</td>\n",
       "      <td>12970</td>\n",
       "      <td>6570</td>\n",
       "      <td>12970</td>\n",
       "    </tr>\n",
       "    <tr>\n",
       "      <th>2475</th>\n",
       "      <td>Universidad del Este</td>\n",
       "      <td>NaN</td>\n",
       "      <td>PR</td>\n",
       "      <td>Private</td>\n",
       "      <td>4 Year</td>\n",
       "      <td>NaN</td>\n",
       "      <td>6330</td>\n",
       "      <td>6330</td>\n",
       "      <td>6330</td>\n",
       "      <td>6330</td>\n",
       "    </tr>\n",
       "    <tr>\n",
       "      <th>2476</th>\n",
       "      <td>Universidad Metropolitana</td>\n",
       "      <td>NaN</td>\n",
       "      <td>PR</td>\n",
       "      <td>Private</td>\n",
       "      <td>4 Year</td>\n",
       "      <td>NaN</td>\n",
       "      <td>7050</td>\n",
       "      <td>7050</td>\n",
       "      <td>7050</td>\n",
       "      <td>7050</td>\n",
       "    </tr>\n",
       "    <tr>\n",
       "      <th>2477</th>\n",
       "      <td>Universidad Pentecostal Mizpa</td>\n",
       "      <td>NaN</td>\n",
       "      <td>PR</td>\n",
       "      <td>Private</td>\n",
       "      <td>4 Year</td>\n",
       "      <td>3760.0</td>\n",
       "      <td>4120</td>\n",
       "      <td>7880</td>\n",
       "      <td>4120</td>\n",
       "      <td>7880</td>\n",
       "    </tr>\n",
       "    <tr>\n",
       "      <th>2478</th>\n",
       "      <td>Universidad Politecnica de Puerto Rico</td>\n",
       "      <td>NaN</td>\n",
       "      <td>PR</td>\n",
       "      <td>Private</td>\n",
       "      <td>4 Year</td>\n",
       "      <td>4950.0</td>\n",
       "      <td>8610</td>\n",
       "      <td>13560</td>\n",
       "      <td>8610</td>\n",
       "      <td>13560</td>\n",
       "    </tr>\n",
       "    <tr>\n",
       "      <th>2479</th>\n",
       "      <td>University College of San Juan</td>\n",
       "      <td>NaN</td>\n",
       "      <td>PR</td>\n",
       "      <td>Public</td>\n",
       "      <td>4 Year</td>\n",
       "      <td>NaN</td>\n",
       "      <td>2370</td>\n",
       "      <td>2370</td>\n",
       "      <td>2370</td>\n",
       "      <td>2370</td>\n",
       "    </tr>\n",
       "    <tr>\n",
       "      <th>2647</th>\n",
       "      <td>University of Puerto Rico: Aguadilla</td>\n",
       "      <td>NaN</td>\n",
       "      <td>PR</td>\n",
       "      <td>Public</td>\n",
       "      <td>4 Year</td>\n",
       "      <td>NaN</td>\n",
       "      <td>3594</td>\n",
       "      <td>3594</td>\n",
       "      <td>3594</td>\n",
       "      <td>3594</td>\n",
       "    </tr>\n",
       "    <tr>\n",
       "      <th>2648</th>\n",
       "      <td>University of Puerto Rico: Arecibo</td>\n",
       "      <td>NaN</td>\n",
       "      <td>PR</td>\n",
       "      <td>Public</td>\n",
       "      <td>4 Year</td>\n",
       "      <td>NaN</td>\n",
       "      <td>1769</td>\n",
       "      <td>1769</td>\n",
       "      <td>1987</td>\n",
       "      <td>1987</td>\n",
       "    </tr>\n",
       "    <tr>\n",
       "      <th>2649</th>\n",
       "      <td>University of Puerto Rico: Bayamon University ...</td>\n",
       "      <td>NaN</td>\n",
       "      <td>PR</td>\n",
       "      <td>Public</td>\n",
       "      <td>4 Year</td>\n",
       "      <td>NaN</td>\n",
       "      <td>2022</td>\n",
       "      <td>2022</td>\n",
       "      <td>2022</td>\n",
       "      <td>2022</td>\n",
       "    </tr>\n",
       "    <tr>\n",
       "      <th>2650</th>\n",
       "      <td>University of Puerto Rico: Carolina Regional C...</td>\n",
       "      <td>NaN</td>\n",
       "      <td>PR</td>\n",
       "      <td>Public</td>\n",
       "      <td>4 Year</td>\n",
       "      <td>NaN</td>\n",
       "      <td>6116</td>\n",
       "      <td>6116</td>\n",
       "      <td>6116</td>\n",
       "      <td>6116</td>\n",
       "    </tr>\n",
       "    <tr>\n",
       "      <th>2651</th>\n",
       "      <td>University of Puerto Rico: Humacao</td>\n",
       "      <td>NaN</td>\n",
       "      <td>PR</td>\n",
       "      <td>Public</td>\n",
       "      <td>4 Year</td>\n",
       "      <td>NaN</td>\n",
       "      <td>1794</td>\n",
       "      <td>1794</td>\n",
       "      <td>1794</td>\n",
       "      <td>1794</td>\n",
       "    </tr>\n",
       "    <tr>\n",
       "      <th>2652</th>\n",
       "      <td>University of Puerto Rico: Mayaguez</td>\n",
       "      <td>NaN</td>\n",
       "      <td>PR</td>\n",
       "      <td>Public</td>\n",
       "      <td>4 Year</td>\n",
       "      <td>NaN</td>\n",
       "      <td>2083</td>\n",
       "      <td>2083</td>\n",
       "      <td>4105</td>\n",
       "      <td>4105</td>\n",
       "    </tr>\n",
       "    <tr>\n",
       "      <th>2653</th>\n",
       "      <td>University of Puerto Rico: Medical Sciences</td>\n",
       "      <td>NaN</td>\n",
       "      <td>PR</td>\n",
       "      <td>Public</td>\n",
       "      <td>4 Year</td>\n",
       "      <td>NaN</td>\n",
       "      <td>2196</td>\n",
       "      <td>2196</td>\n",
       "      <td>2196</td>\n",
       "      <td>2196</td>\n",
       "    </tr>\n",
       "    <tr>\n",
       "      <th>2654</th>\n",
       "      <td>University of Puerto Rico: Ponce</td>\n",
       "      <td>NaN</td>\n",
       "      <td>PR</td>\n",
       "      <td>Public</td>\n",
       "      <td>4 Year</td>\n",
       "      <td>NaN</td>\n",
       "      <td>2261</td>\n",
       "      <td>2261</td>\n",
       "      <td>2261</td>\n",
       "      <td>2261</td>\n",
       "    </tr>\n",
       "    <tr>\n",
       "      <th>2655</th>\n",
       "      <td>University of Puerto Rico: Rio Piedras</td>\n",
       "      <td>NaN</td>\n",
       "      <td>PR</td>\n",
       "      <td>Public</td>\n",
       "      <td>4 Year</td>\n",
       "      <td>8751.0</td>\n",
       "      <td>3624</td>\n",
       "      <td>12375</td>\n",
       "      <td>5349</td>\n",
       "      <td>14100</td>\n",
       "    </tr>\n",
       "    <tr>\n",
       "      <th>2656</th>\n",
       "      <td>University of Puerto Rico: Utuado</td>\n",
       "      <td>NaN</td>\n",
       "      <td>PR</td>\n",
       "      <td>Public</td>\n",
       "      <td>4 Year</td>\n",
       "      <td>NaN</td>\n",
       "      <td>2266</td>\n",
       "      <td>2266</td>\n",
       "      <td>4287</td>\n",
       "      <td>4287</td>\n",
       "    </tr>\n",
       "    <tr>\n",
       "      <th>2707</th>\n",
       "      <td>University of the District of Columbia</td>\n",
       "      <td>NaN</td>\n",
       "      <td>DC</td>\n",
       "      <td>Public</td>\n",
       "      <td>4 Year</td>\n",
       "      <td>16425.0</td>\n",
       "      <td>8252</td>\n",
       "      <td>24677</td>\n",
       "      <td>16388</td>\n",
       "      <td>32813</td>\n",
       "    </tr>\n",
       "    <tr>\n",
       "      <th>2713</th>\n",
       "      <td>University of the Virgin Islands</td>\n",
       "      <td>NaN</td>\n",
       "      <td>VI</td>\n",
       "      <td>Public</td>\n",
       "      <td>4 Year</td>\n",
       "      <td>9900.0</td>\n",
       "      <td>5235</td>\n",
       "      <td>15135</td>\n",
       "      <td>14496</td>\n",
       "      <td>24396</td>\n",
       "    </tr>\n",
       "  </tbody>\n",
       "</table>\n",
       "</div>"
      ],
      "text/plain": [
       "                                                   name state state_code  \\\n",
       "61                     American Samoa Community College   NaN         AS   \n",
       "62                                  American University   NaN         DC   \n",
       "63                   American University of Puerto Rico   NaN         PR   \n",
       "124                         Atlantic University College   NaN         PR   \n",
       "169                          Bayamon Central University   NaN         PR   \n",
       "349                                Caribbean University   NaN         PR   \n",
       "354                  Carlos Albizu University: San Juan   NaN         PR   \n",
       "372                      Catholic University of America   NaN         DC   \n",
       "576                  Columbia Central University: Yauco   NaN         PR   \n",
       "618                Conservatory of Music of Puerto Rico   NaN         PR   \n",
       "764                                        EDIC College   NaN         PR   \n",
       "768        EDP University of Puerto Rico: San Sebastian   NaN         PR   \n",
       "799           Escuela de Artes Plasticas de Puerto Rico   NaN         PR   \n",
       "882                                Gallaudet University   NaN         DC   \n",
       "900                        George Washington University   NaN         DC   \n",
       "902                               Georgetown University   NaN         DC   \n",
       "964                              Guam Community College   NaN         GU   \n",
       "1056                                  Howard University   NaN         DC   \n",
       "1059                                    Huertas College   NaN         PR   \n",
       "1061                          Humacao Community College   NaN         PR   \n",
       "1073                                ICPR Junior College   NaN         PR   \n",
       "1103  Inter American University of Puerto Rico: Agua...   NaN         PR   \n",
       "1104  Inter American University of Puerto Rico: Arec...   NaN         PR   \n",
       "1105  Inter American University of Puerto Rico: Barr...   NaN         PR   \n",
       "1106  Inter American University of Puerto Rico: Baya...   NaN         PR   \n",
       "1107  Inter American University of Puerto Rico: Faja...   NaN         PR   \n",
       "1108  Inter American University of Puerto Rico: Guay...   NaN         PR   \n",
       "1109  Inter American University of Puerto Rico: Metr...   NaN         PR   \n",
       "1110  Inter American University of Puerto Rico: Ponc...   NaN         PR   \n",
       "1111  Inter American University of Puerto Rico: San ...   NaN         PR   \n",
       "1915      Pontifical Catholic University of Puerto Rico   NaN         PR   \n",
       "2445                      Trinity Washington University   NaN         DC   \n",
       "2456                                  Turabo University   NaN         PR   \n",
       "2473        Universal Technology College of Puerto Rico   NaN         PR   \n",
       "2474             Universidad Adventista de las Antillas   NaN         PR   \n",
       "2475                               Universidad del Este   NaN         PR   \n",
       "2476                          Universidad Metropolitana   NaN         PR   \n",
       "2477                      Universidad Pentecostal Mizpa   NaN         PR   \n",
       "2478             Universidad Politecnica de Puerto Rico   NaN         PR   \n",
       "2479                     University College of San Juan   NaN         PR   \n",
       "2647               University of Puerto Rico: Aguadilla   NaN         PR   \n",
       "2648                 University of Puerto Rico: Arecibo   NaN         PR   \n",
       "2649  University of Puerto Rico: Bayamon University ...   NaN         PR   \n",
       "2650  University of Puerto Rico: Carolina Regional C...   NaN         PR   \n",
       "2651                 University of Puerto Rico: Humacao   NaN         PR   \n",
       "2652                University of Puerto Rico: Mayaguez   NaN         PR   \n",
       "2653        University of Puerto Rico: Medical Sciences   NaN         PR   \n",
       "2654                   University of Puerto Rico: Ponce   NaN         PR   \n",
       "2655             University of Puerto Rico: Rio Piedras   NaN         PR   \n",
       "2656                  University of Puerto Rico: Utuado   NaN         PR   \n",
       "2707             University of the District of Columbia   NaN         DC   \n",
       "2713                   University of the Virgin Islands   NaN         VI   \n",
       "\n",
       "            type degree_length  room_and_board  in_state_tuition  \\\n",
       "61        Public        2 Year             NaN              3700   \n",
       "62       Private        4 Year         14880.0             48459   \n",
       "63       Private        4 Year             NaN              6946   \n",
       "124      Private        4 Year             NaN              4525   \n",
       "169      Private        4 Year             NaN              5775   \n",
       "349      Private        4 Year             NaN              6570   \n",
       "354      Private        4 Year             NaN              5912   \n",
       "372      Private        4 Year         14650.0             45804   \n",
       "576   For Profit        2 Year             NaN              6420   \n",
       "618       Public        4 Year             NaN              4000   \n",
       "764   For Profit        2 Year             NaN              7065   \n",
       "768   For Profit        4 Year             NaN              5940   \n",
       "799       Public        4 Year             NaN              4002   \n",
       "882      Private        4 Year         14100.0             17038   \n",
       "900      Private        4 Year         13850.0             55230   \n",
       "902      Private        4 Year         16509.0             54104   \n",
       "964       Public        2 Year             NaN              4194   \n",
       "1056     Private        4 Year         13895.0             27056   \n",
       "1059  For Profit        2 Year             NaN              6635   \n",
       "1061     Private        2 Year          3000.0              5382   \n",
       "1073  For Profit        2 Year          4000.0              7010   \n",
       "1103     Private        4 Year             NaN              6262   \n",
       "1104     Private        4 Year             NaN              6452   \n",
       "1105     Private        4 Year             NaN              6262   \n",
       "1106     Private        4 Year          7993.0              5898   \n",
       "1107     Private        4 Year             NaN              5898   \n",
       "1108     Private        4 Year             NaN              6452   \n",
       "1109     Private        4 Year             NaN              7476   \n",
       "1110     Private        4 Year             NaN              5220   \n",
       "1111     Private        4 Year          3900.0              5976   \n",
       "1915     Private        4 Year          1374.0              5490   \n",
       "2445     Private        4 Year         11160.0             24150   \n",
       "2456     Private        4 Year             NaN              7050   \n",
       "2473     Private        2 Year             NaN             18000   \n",
       "2474     Private        4 Year          6400.0              6570   \n",
       "2475     Private        4 Year             NaN              6330   \n",
       "2476     Private        4 Year             NaN              7050   \n",
       "2477     Private        4 Year          3760.0              4120   \n",
       "2478     Private        4 Year          4950.0              8610   \n",
       "2479      Public        4 Year             NaN              2370   \n",
       "2647      Public        4 Year             NaN              3594   \n",
       "2648      Public        4 Year             NaN              1769   \n",
       "2649      Public        4 Year             NaN              2022   \n",
       "2650      Public        4 Year             NaN              6116   \n",
       "2651      Public        4 Year             NaN              1794   \n",
       "2652      Public        4 Year             NaN              2083   \n",
       "2653      Public        4 Year             NaN              2196   \n",
       "2654      Public        4 Year             NaN              2261   \n",
       "2655      Public        4 Year          8751.0              3624   \n",
       "2656      Public        4 Year             NaN              2266   \n",
       "2707      Public        4 Year         16425.0              8252   \n",
       "2713      Public        4 Year          9900.0              5235   \n",
       "\n",
       "      in_state_total  out_of_state_tuition  out_of_state_total  \n",
       "61              3700                  3700                3700  \n",
       "62             63339                 48459               63339  \n",
       "63              6946                  6946                6946  \n",
       "124             4525                  4525                4525  \n",
       "169             5775                  5775                5775  \n",
       "349             6570                  6570                6570  \n",
       "354             5912                  5912                5912  \n",
       "372            60454                 45804               60454  \n",
       "576             6420                  6420                6420  \n",
       "618             4000                  4000                4000  \n",
       "764             7065                  7065                7065  \n",
       "768             5940                  5940                5940  \n",
       "799             4002                  6702                6702  \n",
       "882            31138                 17038               31138  \n",
       "900            69080                 55230               69080  \n",
       "902            70613                 54104               70613  \n",
       "964             4194                  4944                4944  \n",
       "1056           40951                 27056               40951  \n",
       "1059            6635                  6635                6635  \n",
       "1061            8382                  5382                8382  \n",
       "1073           11010                  7010               11010  \n",
       "1103            6262                  6262                6262  \n",
       "1104            6452                  6452                6452  \n",
       "1105            6262                  6262                6262  \n",
       "1106           13891                  5898               13891  \n",
       "1107            5898                  5898                5898  \n",
       "1108            6452                  6452                6452  \n",
       "1109            7476                  7476                7476  \n",
       "1110            5220                  5220                5220  \n",
       "1111            9876                  5976                9876  \n",
       "1915            6864                  5490                6864  \n",
       "2445           35310                 24150               35310  \n",
       "2456            7050                  7050                7050  \n",
       "2473           18000                 18000               18000  \n",
       "2474           12970                  6570               12970  \n",
       "2475            6330                  6330                6330  \n",
       "2476            7050                  7050                7050  \n",
       "2477            7880                  4120                7880  \n",
       "2478           13560                  8610               13560  \n",
       "2479            2370                  2370                2370  \n",
       "2647            3594                  3594                3594  \n",
       "2648            1769                  1987                1987  \n",
       "2649            2022                  2022                2022  \n",
       "2650            6116                  6116                6116  \n",
       "2651            1794                  1794                1794  \n",
       "2652            2083                  4105                4105  \n",
       "2653            2196                  2196                2196  \n",
       "2654            2261                  2261                2261  \n",
       "2655           12375                  5349               14100  \n",
       "2656            2266                  4287                4287  \n",
       "2707           24677                 16388               32813  \n",
       "2713           15135                 14496               24396  "
      ]
     },
     "execution_count": 9,
     "metadata": {
     },
     "output_type": "execute_result"
    }
   ],
   "source": [
    "tuition[tuition['state'].isnull()] # null is the value for an empty variable"
   ]
  },
  {
   "cell_type": "code",
   "execution_count": 10,
   "metadata": {
    "collapsed": false
   },
   "outputs": [
    {
     "data": {
      "text/plain": [
       "array(['AS', 'DC', 'PR', 'GU', 'VI'], dtype=object)"
      ]
     },
     "execution_count": 10,
     "metadata": {
     },
     "output_type": "execute_result"
    }
   ],
   "source": [
    "tuition[tuition['state'].isnull()].state_code.unique()"
   ]
  },
  {
   "cell_type": "markdown",
   "metadata": {
    "collapsed": false
   },
   "source": [
    "We can see that there are a few state_codes that don't have state names, we can manually add those.\n",
    "<br>We'll make a function for this and add it to the top."
   ]
  },
  {
   "cell_type": "code",
   "execution_count": 11,
   "metadata": {
    "collapsed": false
   },
   "outputs": [
   ],
   "source": [
    "def fill_state(row):\n",
    "    if row['state_code'] == 'AS':\n",
    "        return 'American Samoa'\n",
    "    elif row['state_code'] == 'DC':\n",
    "        return 'District of Columbia'\n",
    "    elif row['state_code'] == 'PR':\n",
    "        return 'Puerto Rico'\n",
    "    elif row['state_code'] == 'GU':\n",
    "        return 'Guam'\n",
    "    elif row['state_code'] == 'VI':\n",
    "        return 'Virgin Islands'\n",
    "    else:\n",
    "        return row['state']\n",
    "\n",
    "# axis = 1 means do it to the columns (0 is the rows)\n",
    "tuition['state'] = tuition.apply(lambda row : fill_state(row), axis=1) "
   ]
  },
  {
   "cell_type": "markdown",
   "metadata": {
    "collapsed": false
   },
   "source": [
    "Now we check and see there are no more null values!"
   ]
  },
  {
   "cell_type": "code",
   "execution_count": 12,
   "metadata": {
    "collapsed": false,
    "scrolled": true
   },
   "outputs": [
    {
     "data": {
      "text/html": [
       "<div>\n",
       "<style scoped>\n",
       "    .dataframe tbody tr th:only-of-type {\n",
       "        vertical-align: middle;\n",
       "    }\n",
       "\n",
       "    .dataframe tbody tr th {\n",
       "        vertical-align: top;\n",
       "    }\n",
       "\n",
       "    .dataframe thead th {\n",
       "        text-align: right;\n",
       "    }\n",
       "</style>\n",
       "<table border=\"1\" class=\"dataframe\">\n",
       "  <thead>\n",
       "    <tr style=\"text-align: right;\">\n",
       "      <th></th>\n",
       "      <th>name</th>\n",
       "      <th>state</th>\n",
       "      <th>state_code</th>\n",
       "      <th>type</th>\n",
       "      <th>degree_length</th>\n",
       "      <th>room_and_board</th>\n",
       "      <th>in_state_tuition</th>\n",
       "      <th>in_state_total</th>\n",
       "      <th>out_of_state_tuition</th>\n",
       "      <th>out_of_state_total</th>\n",
       "    </tr>\n",
       "  </thead>\n",
       "  <tbody>\n",
       "  </tbody>\n",
       "</table>\n",
       "</div>"
      ],
      "text/plain": [
       "Empty DataFrame\n",
       "Columns: [name, state, state_code, type, degree_length, room_and_board, in_state_tuition, in_state_total, out_of_state_tuition, out_of_state_total]\n",
       "Index: []"
      ]
     },
     "execution_count": 12,
     "metadata": {
     },
     "output_type": "execute_result"
    }
   ],
   "source": [
    "tuition[tuition['state'].isnull()]"
   ]
  },
  {
   "cell_type": "markdown",
   "metadata": {
    "collapsed": false
   },
   "source": [
    "We still have a lot of missing data in the column 'room_and_board' and some in the 'make_world_better_place'\n",
    "<br><br>\n",
    "Since we don't care too much about room_and_board, we'll just drop that column as a whole, but for the other, we will just drop the rows that are missing that data since it is only ~3% of our dataset."
   ]
  },
  {
   "cell_type": "code",
   "execution_count": 13,
   "metadata": {
    "collapsed": false
   },
   "outputs": [
   ],
   "source": [
    "# drop room and board (axis = 1 --> column)\n",
    "tuition = tuition.drop('room_and_board', axis=1)\n",
    "# drop rows with empty make world better place (axis = 0 --> row)\n",
    "salary_potential = salary_potential.dropna(subset=['make_world_better_percent'])"
   ]
  },
  {
   "cell_type": "code",
   "execution_count": 14,
   "metadata": {
    "collapsed": false
   },
   "outputs": [
    {
     "name": "stdout",
     "output_type": "stream",
     "text": [
      "0 0\n"
     ]
    }
   ],
   "source": [
    "# confirm there are no null values in either dataframe, rows or columns (.sum().sum() condences it into 1 value)\n",
    "print(tuition.isnull().sum().sum(), salary_potential.isnull().sum().sum())"
   ]
  },
  {
   "cell_type": "markdown",
   "metadata": {
    "collapsed": false
   },
   "source": [
    "##### Merging our Dataframe\n",
    "To merge our dataframes we need to identify which columns we want to merge on. There's many ways to combine data, you can dive deeper here: <br>https://realpython.com/pandas-merge-join-and-concat/<br> We will be focusing on a simple merge. <br><br> For a simple merge, we want to have two dataframes that have a column by the same name we want to merge on. <br>In our case we want to merge using the 'name' column. We will only have the data of schools that appear identically in both dataframes.<br> One thing to keep in mind, you must merge on a column with the same name so often will need to rename a column from one dataframe."
   ]
  },
  {
   "cell_type": "code",
   "execution_count": 15,
   "metadata": {
    "collapsed": false
   },
   "outputs": [
   ],
   "source": [
    "# check here to find how to rename - https://pandas.pydata.org/docs/reference/api/pandas.DataFrame.rename.html\n",
    "# we create a new dataframe called merged_df that is the combined one\n",
    "merged_df = pd.merge(tuition, salary_potential, on='name')"
   ]
  },
  {
   "cell_type": "code",
   "execution_count": 16,
   "metadata": {
    "collapsed": false
   },
   "outputs": [
    {
     "data": {
      "text/html": [
       "<div>\n",
       "<style scoped>\n",
       "    .dataframe tbody tr th:only-of-type {\n",
       "        vertical-align: middle;\n",
       "    }\n",
       "\n",
       "    .dataframe tbody tr th {\n",
       "        vertical-align: top;\n",
       "    }\n",
       "\n",
       "    .dataframe thead th {\n",
       "        text-align: right;\n",
       "    }\n",
       "</style>\n",
       "<table border=\"1\" class=\"dataframe\">\n",
       "  <thead>\n",
       "    <tr style=\"text-align: right;\">\n",
       "      <th></th>\n",
       "      <th>name</th>\n",
       "      <th>state</th>\n",
       "      <th>state_code</th>\n",
       "      <th>type</th>\n",
       "      <th>degree_length</th>\n",
       "      <th>in_state_tuition</th>\n",
       "      <th>in_state_total</th>\n",
       "      <th>out_of_state_tuition</th>\n",
       "      <th>out_of_state_total</th>\n",
       "      <th>rank</th>\n",
       "      <th>state_name</th>\n",
       "      <th>early_career_pay</th>\n",
       "      <th>mid_career_pay</th>\n",
       "      <th>make_world_better_percent</th>\n",
       "      <th>stem_percent</th>\n",
       "    </tr>\n",
       "  </thead>\n",
       "  <tbody>\n",
       "    <tr>\n",
       "      <th>0</th>\n",
       "      <td>Adams State University</td>\n",
       "      <td>Colorado</td>\n",
       "      <td>CO</td>\n",
       "      <td>Public</td>\n",
       "      <td>4 Year</td>\n",
       "      <td>9440</td>\n",
       "      <td>18222</td>\n",
       "      <td>20456</td>\n",
       "      <td>29238</td>\n",
       "      <td>16</td>\n",
       "      <td>Colorado</td>\n",
       "      <td>44400</td>\n",
       "      <td>81400</td>\n",
       "      <td>56.0</td>\n",
       "      <td>3</td>\n",
       "    </tr>\n",
       "    <tr>\n",
       "      <th>1</th>\n",
       "      <td>Adventist University of Health Sciences</td>\n",
       "      <td>Florida</td>\n",
       "      <td>FL</td>\n",
       "      <td>Private</td>\n",
       "      <td>4 Year</td>\n",
       "      <td>15150</td>\n",
       "      <td>19350</td>\n",
       "      <td>15150</td>\n",
       "      <td>19350</td>\n",
       "      <td>14</td>\n",
       "      <td>Florida</td>\n",
       "      <td>51600</td>\n",
       "      <td>89800</td>\n",
       "      <td>88.0</td>\n",
       "      <td>5</td>\n",
       "    </tr>\n",
       "    <tr>\n",
       "      <th>2</th>\n",
       "      <td>Agnes Scott College</td>\n",
       "      <td>Georgia</td>\n",
       "      <td>GA</td>\n",
       "      <td>Private</td>\n",
       "      <td>4 Year</td>\n",
       "      <td>41160</td>\n",
       "      <td>53490</td>\n",
       "      <td>41160</td>\n",
       "      <td>53490</td>\n",
       "      <td>14</td>\n",
       "      <td>Georgia</td>\n",
       "      <td>46000</td>\n",
       "      <td>83600</td>\n",
       "      <td>57.0</td>\n",
       "      <td>26</td>\n",
       "    </tr>\n",
       "    <tr>\n",
       "      <th>3</th>\n",
       "      <td>Alabama State University</td>\n",
       "      <td>Alabama</td>\n",
       "      <td>AL</td>\n",
       "      <td>Public</td>\n",
       "      <td>4 Year</td>\n",
       "      <td>11068</td>\n",
       "      <td>16490</td>\n",
       "      <td>19396</td>\n",
       "      <td>24818</td>\n",
       "      <td>20</td>\n",
       "      <td>Alabama</td>\n",
       "      <td>39800</td>\n",
       "      <td>71500</td>\n",
       "      <td>61.0</td>\n",
       "      <td>16</td>\n",
       "    </tr>\n",
       "    <tr>\n",
       "      <th>4</th>\n",
       "      <td>Alaska Pacific University</td>\n",
       "      <td>Alaska</td>\n",
       "      <td>AK</td>\n",
       "      <td>Private</td>\n",
       "      <td>4 Year</td>\n",
       "      <td>20830</td>\n",
       "      <td>28130</td>\n",
       "      <td>20830</td>\n",
       "      <td>28130</td>\n",
       "      <td>3</td>\n",
       "      <td>Alaska</td>\n",
       "      <td>50300</td>\n",
       "      <td>90000</td>\n",
       "      <td>67.0</td>\n",
       "      <td>6</td>\n",
       "    </tr>\n",
       "  </tbody>\n",
       "</table>\n",
       "</div>"
      ],
      "text/plain": [
       "                                      name     state state_code     type  \\\n",
       "0                   Adams State University  Colorado         CO   Public   \n",
       "1  Adventist University of Health Sciences   Florida         FL  Private   \n",
       "2                      Agnes Scott College   Georgia         GA  Private   \n",
       "3                 Alabama State University   Alabama         AL   Public   \n",
       "4                Alaska Pacific University    Alaska         AK  Private   \n",
       "\n",
       "  degree_length  in_state_tuition  in_state_total  out_of_state_tuition  \\\n",
       "0        4 Year              9440           18222                 20456   \n",
       "1        4 Year             15150           19350                 15150   \n",
       "2        4 Year             41160           53490                 41160   \n",
       "3        4 Year             11068           16490                 19396   \n",
       "4        4 Year             20830           28130                 20830   \n",
       "\n",
       "   out_of_state_total  rank state_name  early_career_pay  mid_career_pay  \\\n",
       "0               29238    16   Colorado             44400           81400   \n",
       "1               19350    14    Florida             51600           89800   \n",
       "2               53490    14    Georgia             46000           83600   \n",
       "3               24818    20    Alabama             39800           71500   \n",
       "4               28130     3     Alaska             50300           90000   \n",
       "\n",
       "   make_world_better_percent  stem_percent  \n",
       "0                       56.0             3  \n",
       "1                       88.0             5  \n",
       "2                       57.0            26  \n",
       "3                       61.0            16  \n",
       "4                       67.0             6  "
      ]
     },
     "execution_count": 16,
     "metadata": {
     },
     "output_type": "execute_result"
    }
   ],
   "source": [
    "merged_df.head()"
   ]
  },
  {
   "cell_type": "markdown",
   "metadata": {
    "collapsed": false
   },
   "source": [
    "Now we have a 'state' and 'state_name' column that look duplicative, lets check."
   ]
  },
  {
   "cell_type": "code",
   "execution_count": 17,
   "metadata": {
    "collapsed": false
   },
   "outputs": [
    {
     "data": {
      "text/plain": [
       "False"
      ]
     },
     "execution_count": 17,
     "metadata": {
     },
     "output_type": "execute_result"
    }
   ],
   "source": [
    "merged_df['state'].equals(merged_df['state_name'])"
   ]
  },
  {
   "cell_type": "markdown",
   "metadata": {
    "collapsed": false
   },
   "source": [
    "Lets look at the differences, get all the unique 'state' and 'state_names' from all rows where they are not identical"
   ]
  },
  {
   "cell_type": "code",
   "execution_count": 18,
   "metadata": {
    "collapsed": false,
    "scrolled": true
   },
   "outputs": [
    {
     "data": {
      "text/plain": [
       "array(['New York', 'North Carolina', 'South Dakota', 'South Carolina',\n",
       "       'New Jersey', 'West Virginia', 'Rhode Island', 'New Hampshire',\n",
       "       'North Dakota', 'New Mexico', 'Illinois', 'Vermont'], dtype=object)"
      ]
     },
     "execution_count": 18,
     "metadata": {
     },
     "output_type": "execute_result"
    }
   ],
   "source": [
    "merged_df.loc[~(merged_df['state'] == merged_df['state_name'])]['state'].unique()"
   ]
  },
  {
   "cell_type": "code",
   "execution_count": 19,
   "metadata": {
    "collapsed": false
   },
   "outputs": [
    {
     "data": {
      "text/plain": [
       "array(['New-York', 'North-Carolina', 'South-Dakota', 'South-Carolina',\n",
       "       'New-Jersey', 'West-Virginia', 'Rhode-Island', 'New-Hampshire',\n",
       "       'North-Dakota', 'New-Mexico', 'Iowa', 'Kansas'], dtype=object)"
      ]
     },
     "execution_count": 19,
     "metadata": {
     },
     "output_type": "execute_result"
    }
   ],
   "source": [
    "merged_df.loc[~(merged_df['state'] == merged_df['state_name'])]['state_name'].unique()"
   ]
  },
  {
   "cell_type": "markdown",
   "metadata": {
    "collapsed": false
   },
   "source": [
    "Many are issues with hyphens, some are not, let's fix the hyphen problem and look at the rest."
   ]
  },
  {
   "cell_type": "code",
   "execution_count": 20,
   "metadata": {
    "collapsed": false
   },
   "outputs": [
    {
     "data": {
      "text/html": [
       "<div>\n",
       "<style scoped>\n",
       "    .dataframe tbody tr th:only-of-type {\n",
       "        vertical-align: middle;\n",
       "    }\n",
       "\n",
       "    .dataframe tbody tr th {\n",
       "        vertical-align: top;\n",
       "    }\n",
       "\n",
       "    .dataframe thead th {\n",
       "        text-align: right;\n",
       "    }\n",
       "</style>\n",
       "<table border=\"1\" class=\"dataframe\">\n",
       "  <thead>\n",
       "    <tr style=\"text-align: right;\">\n",
       "      <th></th>\n",
       "      <th>name</th>\n",
       "      <th>state</th>\n",
       "      <th>state_code</th>\n",
       "      <th>type</th>\n",
       "      <th>degree_length</th>\n",
       "      <th>in_state_tuition</th>\n",
       "      <th>in_state_total</th>\n",
       "      <th>out_of_state_tuition</th>\n",
       "      <th>out_of_state_total</th>\n",
       "      <th>rank</th>\n",
       "      <th>state_name</th>\n",
       "      <th>early_career_pay</th>\n",
       "      <th>mid_career_pay</th>\n",
       "      <th>make_world_better_percent</th>\n",
       "      <th>stem_percent</th>\n",
       "    </tr>\n",
       "  </thead>\n",
       "  <tbody>\n",
       "    <tr>\n",
       "      <th>365</th>\n",
       "      <td>Northwestern College</td>\n",
       "      <td>Illinois</td>\n",
       "      <td>IL</td>\n",
       "      <td>For Profit</td>\n",
       "      <td>2 Year</td>\n",
       "      <td>18485</td>\n",
       "      <td>30887</td>\n",
       "      <td>18485</td>\n",
       "      <td>30887</td>\n",
       "      <td>18</td>\n",
       "      <td>Iowa</td>\n",
       "      <td>44800</td>\n",
       "      <td>82400</td>\n",
       "      <td>42.0</td>\n",
       "      <td>11</td>\n",
       "    </tr>\n",
       "    <tr>\n",
       "      <th>481</th>\n",
       "      <td>Sterling College</td>\n",
       "      <td>Vermont</td>\n",
       "      <td>VT</td>\n",
       "      <td>Private</td>\n",
       "      <td>4 Year</td>\n",
       "      <td>38800</td>\n",
       "      <td>48700</td>\n",
       "      <td>38800</td>\n",
       "      <td>48700</td>\n",
       "      <td>17</td>\n",
       "      <td>Kansas</td>\n",
       "      <td>42700</td>\n",
       "      <td>79100</td>\n",
       "      <td>73.0</td>\n",
       "      <td>7</td>\n",
       "    </tr>\n",
       "  </tbody>\n",
       "</table>\n",
       "</div>"
      ],
      "text/plain": [
       "                     name     state state_code        type degree_length  \\\n",
       "365  Northwestern College  Illinois         IL  For Profit        2 Year   \n",
       "481      Sterling College   Vermont         VT     Private        4 Year   \n",
       "\n",
       "     in_state_tuition  in_state_total  out_of_state_tuition  \\\n",
       "365             18485           30887                 18485   \n",
       "481             38800           48700                 38800   \n",
       "\n",
       "     out_of_state_total  rank state_name  early_career_pay  mid_career_pay  \\\n",
       "365               30887    18       Iowa             44800           82400   \n",
       "481               48700    17     Kansas             42700           79100   \n",
       "\n",
       "     make_world_better_percent  stem_percent  \n",
       "365                       42.0            11  \n",
       "481                       73.0             7  "
      ]
     },
     "execution_count": 20,
     "metadata": {
     },
     "output_type": "execute_result"
    }
   ],
   "source": [
    "to_replace = ['New-York', 'North-Carolina', 'South-Dakota', 'South-Carolina',\n",
    "       'New-Jersey', 'West-Virginia', 'Rhode-Island', 'New-Hampshire',\n",
    "       'North-Dakota', 'New-Mexico']\n",
    "replace_with = ['New York', 'North Carolina', 'South Dakota', 'South Carolina',\n",
    "       'New Jersey', 'West Virginia', 'Rhode Island', 'New Hampshire',\n",
    "       'North Dakota', 'New Mexico']\n",
    "for i in range(len(to_replace)):\n",
    "    merged_df[\"state_name\"].replace({to_replace[i]: replace_with[i]}, inplace=True)\n",
    "merged_df.loc[~(merged_df['state'] == merged_df['state_name'])]"
   ]
  },
  {
   "cell_type": "markdown",
   "metadata": {
    "collapsed": false
   },
   "source": [
    "After searching Manually, Northwestern College is in Iowa & Sterling College is in Kansas. <br> This shows the importance of double checking your data. <br> I will drop the 'state column' as the 'state_name' column is the accurate one and state_code is unnecessary."
   ]
  },
  {
   "cell_type": "code",
   "execution_count": 21,
   "metadata": {
    "collapsed": false
   },
   "outputs": [
    {
     "data": {
      "text/html": [
       "<div>\n",
       "<style scoped>\n",
       "    .dataframe tbody tr th:only-of-type {\n",
       "        vertical-align: middle;\n",
       "    }\n",
       "\n",
       "    .dataframe tbody tr th {\n",
       "        vertical-align: top;\n",
       "    }\n",
       "\n",
       "    .dataframe thead th {\n",
       "        text-align: right;\n",
       "    }\n",
       "</style>\n",
       "<table border=\"1\" class=\"dataframe\">\n",
       "  <thead>\n",
       "    <tr style=\"text-align: right;\">\n",
       "      <th></th>\n",
       "      <th>name</th>\n",
       "      <th>type</th>\n",
       "      <th>degree_length</th>\n",
       "      <th>in_state_tuition</th>\n",
       "      <th>in_state_total</th>\n",
       "      <th>out_of_state_tuition</th>\n",
       "      <th>out_of_state_total</th>\n",
       "      <th>rank</th>\n",
       "      <th>state_name</th>\n",
       "      <th>early_career_pay</th>\n",
       "      <th>mid_career_pay</th>\n",
       "      <th>make_world_better_percent</th>\n",
       "      <th>stem_percent</th>\n",
       "    </tr>\n",
       "  </thead>\n",
       "  <tbody>\n",
       "    <tr>\n",
       "      <th>0</th>\n",
       "      <td>Adams State University</td>\n",
       "      <td>Public</td>\n",
       "      <td>4 Year</td>\n",
       "      <td>9440</td>\n",
       "      <td>18222</td>\n",
       "      <td>20456</td>\n",
       "      <td>29238</td>\n",
       "      <td>16</td>\n",
       "      <td>Colorado</td>\n",
       "      <td>44400</td>\n",
       "      <td>81400</td>\n",
       "      <td>56.0</td>\n",
       "      <td>3</td>\n",
       "    </tr>\n",
       "    <tr>\n",
       "      <th>1</th>\n",
       "      <td>Adventist University of Health Sciences</td>\n",
       "      <td>Private</td>\n",
       "      <td>4 Year</td>\n",
       "      <td>15150</td>\n",
       "      <td>19350</td>\n",
       "      <td>15150</td>\n",
       "      <td>19350</td>\n",
       "      <td>14</td>\n",
       "      <td>Florida</td>\n",
       "      <td>51600</td>\n",
       "      <td>89800</td>\n",
       "      <td>88.0</td>\n",
       "      <td>5</td>\n",
       "    </tr>\n",
       "    <tr>\n",
       "      <th>2</th>\n",
       "      <td>Agnes Scott College</td>\n",
       "      <td>Private</td>\n",
       "      <td>4 Year</td>\n",
       "      <td>41160</td>\n",
       "      <td>53490</td>\n",
       "      <td>41160</td>\n",
       "      <td>53490</td>\n",
       "      <td>14</td>\n",
       "      <td>Georgia</td>\n",
       "      <td>46000</td>\n",
       "      <td>83600</td>\n",
       "      <td>57.0</td>\n",
       "      <td>26</td>\n",
       "    </tr>\n",
       "    <tr>\n",
       "      <th>3</th>\n",
       "      <td>Alabama State University</td>\n",
       "      <td>Public</td>\n",
       "      <td>4 Year</td>\n",
       "      <td>11068</td>\n",
       "      <td>16490</td>\n",
       "      <td>19396</td>\n",
       "      <td>24818</td>\n",
       "      <td>20</td>\n",
       "      <td>Alabama</td>\n",
       "      <td>39800</td>\n",
       "      <td>71500</td>\n",
       "      <td>61.0</td>\n",
       "      <td>16</td>\n",
       "    </tr>\n",
       "    <tr>\n",
       "      <th>4</th>\n",
       "      <td>Alaska Pacific University</td>\n",
       "      <td>Private</td>\n",
       "      <td>4 Year</td>\n",
       "      <td>20830</td>\n",
       "      <td>28130</td>\n",
       "      <td>20830</td>\n",
       "      <td>28130</td>\n",
       "      <td>3</td>\n",
       "      <td>Alaska</td>\n",
       "      <td>50300</td>\n",
       "      <td>90000</td>\n",
       "      <td>67.0</td>\n",
       "      <td>6</td>\n",
       "    </tr>\n",
       "  </tbody>\n",
       "</table>\n",
       "</div>"
      ],
      "text/plain": [
       "                                      name     type degree_length  \\\n",
       "0                   Adams State University   Public        4 Year   \n",
       "1  Adventist University of Health Sciences  Private        4 Year   \n",
       "2                      Agnes Scott College  Private        4 Year   \n",
       "3                 Alabama State University   Public        4 Year   \n",
       "4                Alaska Pacific University  Private        4 Year   \n",
       "\n",
       "   in_state_tuition  in_state_total  out_of_state_tuition  out_of_state_total  \\\n",
       "0              9440           18222                 20456               29238   \n",
       "1             15150           19350                 15150               19350   \n",
       "2             41160           53490                 41160               53490   \n",
       "3             11068           16490                 19396               24818   \n",
       "4             20830           28130                 20830               28130   \n",
       "\n",
       "   rank state_name  early_career_pay  mid_career_pay  \\\n",
       "0    16   Colorado             44400           81400   \n",
       "1    14    Florida             51600           89800   \n",
       "2    14    Georgia             46000           83600   \n",
       "3    20    Alabama             39800           71500   \n",
       "4     3     Alaska             50300           90000   \n",
       "\n",
       "   make_world_better_percent  stem_percent  \n",
       "0                       56.0             3  \n",
       "1                       88.0             5  \n",
       "2                       57.0            26  \n",
       "3                       61.0            16  \n",
       "4                       67.0             6  "
      ]
     },
     "execution_count": 21,
     "metadata": {
     },
     "output_type": "execute_result"
    }
   ],
   "source": [
    "# inplace = True means that we want the rename to occur in existing dataframe, not return a new one\n",
    "merged_df.drop(['state','state_code'], axis=1, inplace=True)\n",
    "merged_df.head()"
   ]
  },
  {
   "cell_type": "code",
   "execution_count": 22,
   "metadata": {
    "collapsed": false
   },
   "outputs": [
    {
     "data": {
      "text/plain": [
       "(702, 13)"
      ]
     },
     "execution_count": 22,
     "metadata": {
     },
     "output_type": "execute_result"
    }
   ],
   "source": [
    "merged_df.shape"
   ]
  },
  {
   "cell_type": "markdown",
   "metadata": {
    "collapsed": false
   },
   "source": [
    "Now that we're done cleaning and merging our data, let's turn that into a function, and add it to the top as well to keep our notebook organized."
   ]
  },
  {
   "cell_type": "code",
   "execution_count": 23,
   "metadata": {
    "collapsed": false
   },
   "outputs": [
   ],
   "source": [
    "# this function cleans and merges our two dataframes, returns one merged_df\n",
    "def clean_and_merge_dfs(tuition, salary_potential):\n",
    "    # drop room and board (axis = 1 --> column)\n",
    "    tuition = tuition.drop('room_and_board', axis=1)\n",
    "    # drop rows with empty make world better place (axis = 0 --> row)\n",
    "    salary_potential = salary_potential.dropna(subset=['make_world_better_percent'])\n",
    "    # we create a new dataframe called merged_df that is the combined one\n",
    "    merged_df = pd.merge(tuition, salary_potential, on='name')\n",
    "    # replace mismatched rows\n",
    "    to_replace = ['New-York', 'North-Carolina', 'South-Dakota', 'South-Carolina',\n",
    "       'New-Jersey', 'West-Virginia', 'Rhode-Island', 'New-Hampshire',\n",
    "       'North-Dakota', 'New-Mexico']\n",
    "    replace_with = ['New York', 'North Carolina', 'South Dakota', 'South Carolina',\n",
    "           'New Jersey', 'West Virginia', 'Rhode Island', 'New Hampshire',\n",
    "           'North Dakota', 'New Mexico']\n",
    "    for i in range(len(to_replace)):\n",
    "        merged_df[\"state_name\"].replace({to_replace[i]: replace_with[i]}, inplace=True)\n",
    "    # drop the duplicative (and slightly incorrect) column 'state'\n",
    "    merged_df.drop(['state','state_code'], axis=1, inplace=True)\n",
    "    # return the merged dataframe\n",
    "    return merged_df"
   ]
  },
  {
   "cell_type": "markdown",
   "metadata": {
    "collapsed": false
   },
   "source": [
    "## Analyzing Our Data <a class=\"anchor\" id=\"Analyze\"></a>\n",
    "Here we want to start looking at our data in the context of our original goal. <br> \"Are There Associations With University Tuition & Professional Pay on a State-by-State Basis?\"<br> To do this I'm going to manually create a dataset, getting first the number of schools in that state, and then the average of statistics I am investigating."
   ]
  },
  {
   "cell_type": "code",
   "execution_count": 24,
   "metadata": {
    "collapsed": false
   },
   "outputs": [
    {
     "data": {
      "text/html": [
       "<div>\n",
       "<style scoped>\n",
       "    .dataframe tbody tr th:only-of-type {\n",
       "        vertical-align: middle;\n",
       "    }\n",
       "\n",
       "    .dataframe tbody tr th {\n",
       "        vertical-align: top;\n",
       "    }\n",
       "\n",
       "    .dataframe thead th {\n",
       "        text-align: right;\n",
       "    }\n",
       "</style>\n",
       "<table border=\"1\" class=\"dataframe\">\n",
       "  <thead>\n",
       "    <tr style=\"text-align: right;\">\n",
       "      <th></th>\n",
       "      <th>number of schools</th>\n",
       "      <th>average early_career_pay</th>\n",
       "      <th>average mid_career_pay</th>\n",
       "      <th>average make_world_better_percent</th>\n",
       "      <th>average stem_percent</th>\n",
       "      <th>average in_state_tuition</th>\n",
       "      <th>average out_of_state_tuition</th>\n",
       "    </tr>\n",
       "  </thead>\n",
       "  <tbody>\n",
       "    <tr>\n",
       "      <th>Alabama</th>\n",
       "      <td>21</td>\n",
       "      <td>44714.285714</td>\n",
       "      <td>81176.190476</td>\n",
       "      <td>60.047619</td>\n",
       "      <td>14.047619</td>\n",
       "      <td>16134.238095</td>\n",
       "      <td>22360.380952</td>\n",
       "    </tr>\n",
       "    <tr>\n",
       "      <th>Alaska</th>\n",
       "      <td>3</td>\n",
       "      <td>55133.333333</td>\n",
       "      <td>97600.0</td>\n",
       "      <td>59.333333</td>\n",
       "      <td>12.0</td>\n",
       "      <td>12201.666667</td>\n",
       "      <td>22981.666667</td>\n",
       "    </tr>\n",
       "    <tr>\n",
       "      <th>Arizona</th>\n",
       "      <td>3</td>\n",
       "      <td>48966.666667</td>\n",
       "      <td>88166.666667</td>\n",
       "      <td>58.666667</td>\n",
       "      <td>11.666667</td>\n",
       "      <td>18512.0</td>\n",
       "      <td>31233.0</td>\n",
       "    </tr>\n",
       "    <tr>\n",
       "      <th>Arkansas</th>\n",
       "      <td>14</td>\n",
       "      <td>45607.142857</td>\n",
       "      <td>81700.0</td>\n",
       "      <td>57.571429</td>\n",
       "      <td>14.071429</td>\n",
       "      <td>17196.357143</td>\n",
       "      <td>21704.142857</td>\n",
       "    </tr>\n",
       "    <tr>\n",
       "      <th>California</th>\n",
       "      <td>13</td>\n",
       "      <td>67800.0</td>\n",
       "      <td>124876.923077</td>\n",
       "      <td>49.769231</td>\n",
       "      <td>30.615385</td>\n",
       "      <td>47656.538462</td>\n",
       "      <td>48387.615385</td>\n",
       "    </tr>\n",
       "  </tbody>\n",
       "</table>\n",
       "</div>"
      ],
      "text/plain": [
       "           number of schools average early_career_pay average mid_career_pay  \\\n",
       "Alabama                   21             44714.285714           81176.190476   \n",
       "Alaska                     3             55133.333333                97600.0   \n",
       "Arizona                    3             48966.666667           88166.666667   \n",
       "Arkansas                  14             45607.142857                81700.0   \n",
       "California                13                  67800.0          124876.923077   \n",
       "\n",
       "           average make_world_better_percent average stem_percent  \\\n",
       "Alabama                            60.047619            14.047619   \n",
       "Alaska                             59.333333                 12.0   \n",
       "Arizona                            58.666667            11.666667   \n",
       "Arkansas                           57.571429            14.071429   \n",
       "California                         49.769231            30.615385   \n",
       "\n",
       "           average in_state_tuition average out_of_state_tuition  \n",
       "Alabama                16134.238095                 22360.380952  \n",
       "Alaska                 12201.666667                 22981.666667  \n",
       "Arizona                     18512.0                      31233.0  \n",
       "Arkansas               17196.357143                 21704.142857  \n",
       "California             47656.538462                 48387.615385  "
      ]
     },
     "execution_count": 24,
     "metadata": {
     },
     "output_type": "execute_result"
    }
   ],
   "source": [
    "def state_stats_df(merged_df):\n",
    "    # get a list of all state_name's\n",
    "    states = merged_df.state_name.unique()\n",
    "\n",
    "    # Create a column in a new dataframe for each stat I want\n",
    "    state_stats = pd.DataFrame(index=states, columns=['number of schools','average early_career_pay',\n",
    "                                                      'average mid_career_pay','average make_world_better_percent',\n",
    "                                                      'average stem_percent','average in_state_tuition','average out_of_state_tuition'])\n",
    "    # Fill in the columns for each state\n",
    "    for state in states:\n",
    "        state_stats.loc[state, 'number of schools'] = len(merged_df[merged_df.state_name == state])\n",
    "        state_stats.loc[state, 'average early_career_pay'] = merged_df[merged_df.state_name == state]['early_career_pay'].mean()\n",
    "        state_stats.loc[state, 'average mid_career_pay'] = merged_df[merged_df.state_name == state]['mid_career_pay'].mean()\n",
    "        state_stats.loc[state, 'average make_world_better_percent'] = merged_df[merged_df.state_name == state]['make_world_better_percent'].mean()\n",
    "        state_stats.loc[state, 'average stem_percent'] = merged_df[merged_df.state_name == state]['stem_percent'].mean()\n",
    "        state_stats.loc[state, 'average in_state_tuition'] = merged_df[merged_df.state_name == state]['in_state_tuition'].mean()\n",
    "        state_stats.loc[state, 'average out_of_state_tuition'] = merged_df[merged_df.state_name == state]['out_of_state_tuition'].mean()\n",
    "    # sort alphabetically by state\n",
    "    state_stats.sort_index(inplace = True)\n",
    "    return state_stats\n",
    "\n",
    "state_stats = state_stats_df(merged_df)\n",
    "state_stats.head()"
   ]
  },
  {
   "cell_type": "markdown",
   "metadata": {
    "collapsed": false
   },
   "source": [
    "We don't need to stay with just the data we have been given, we can combine columns or do additional calculations on them. <br> One example is say we want to get the average 4 year cost of tuition, we can create those columns as well (and a few others)"
   ]
  },
  {
   "cell_type": "code",
   "execution_count": 25,
   "metadata": {
    "collapsed": false
   },
   "outputs": [
   ],
   "source": [
    "def add_details(state_stats):\n",
    "    # convert all columns to numeric\n",
    "    state_stats = state_stats.apply(pd.to_numeric)\n",
    "    # make columns for four year average out of state and in state total\n",
    "    state_stats['four year average out of state tuition'] = state_stats['average out_of_state_tuition'] * 4\n",
    "    state_stats['four year average in state tuition'] = state_stats['average in_state_tuition'] * 4\n",
    "    # make column calculating how many years on average to repay four year average in and our of state based on average early career pay in index 0\n",
    "    state_stats['years to repay in state 4 year uni based on early career pay'] =  state_stats['four year average in state tuition'] / state_stats['average early_career_pay']\n",
    "    state_stats['years to repay out of state 4 year uni based on early career pay'] = state_stats['four year average out of state tuition'] / state_stats['average early_career_pay'] \n",
    "    # make column calculating how many years on average to repay four year average in and our of state based on average mid career pay in index 0\n",
    "    state_stats['years to repay in state 4 year uni based on mid career pay'] =  state_stats['four year average in state tuition'] / state_stats['average mid_career_pay']\n",
    "    state_stats['years to repay out of state 4 year uni based on mid career pay'] = state_stats['four year average out of state tuition'] / state_stats['average mid_career_pay'] \n",
    "    # move 'years to repay out of state 4 year uni based on early career pay' to the front of the dataframe\n",
    "    state_stats = state_stats.reindex(columns=['four year average in state tuition', 'four year average out of state tuition', 'years to repay in state 4 year uni based on early career pay', 'years to repay out of state 4 year uni based on early career pay',\n",
    "    'years to repay in state 4 year uni based on mid career pay', 'years to repay out of state 4 year uni based on mid career pay',\n",
    "    'number of schools', 'average early_career_pay', 'average mid_career_pay', 'average make_world_better_percent', 'average stem_percent',\n",
    "    'average in_state_tuition','average out_of_state_tuition'])\n",
    "    return state_stats"
   ]
  },
  {
   "cell_type": "code",
   "execution_count": 26,
   "metadata": {
    "collapsed": false
   },
   "outputs": [
    {
     "data": {
      "text/html": [
       "<div>\n",
       "<style scoped>\n",
       "    .dataframe tbody tr th:only-of-type {\n",
       "        vertical-align: middle;\n",
       "    }\n",
       "\n",
       "    .dataframe tbody tr th {\n",
       "        vertical-align: top;\n",
       "    }\n",
       "\n",
       "    .dataframe thead th {\n",
       "        text-align: right;\n",
       "    }\n",
       "</style>\n",
       "<table border=\"1\" class=\"dataframe\">\n",
       "  <thead>\n",
       "    <tr style=\"text-align: right;\">\n",
       "      <th></th>\n",
       "      <th>four year average in state tuition</th>\n",
       "      <th>four year average out of state tuition</th>\n",
       "      <th>years to repay in state 4 year uni based on early career pay</th>\n",
       "      <th>years to repay out of state 4 year uni based on early career pay</th>\n",
       "      <th>years to repay in state 4 year uni based on mid career pay</th>\n",
       "      <th>years to repay out of state 4 year uni based on mid career pay</th>\n",
       "      <th>number of schools</th>\n",
       "      <th>average early_career_pay</th>\n",
       "      <th>average mid_career_pay</th>\n",
       "      <th>average make_world_better_percent</th>\n",
       "      <th>average stem_percent</th>\n",
       "      <th>average in_state_tuition</th>\n",
       "      <th>average out_of_state_tuition</th>\n",
       "    </tr>\n",
       "  </thead>\n",
       "  <tbody>\n",
       "    <tr>\n",
       "      <th>Alabama</th>\n",
       "      <td>64536.952381</td>\n",
       "      <td>89441.523810</td>\n",
       "      <td>1.443318</td>\n",
       "      <td>2.000290</td>\n",
       "      <td>0.795023</td>\n",
       "      <td>1.101820</td>\n",
       "      <td>21</td>\n",
       "      <td>44714.285714</td>\n",
       "      <td>81176.190476</td>\n",
       "      <td>60.047619</td>\n",
       "      <td>14.047619</td>\n",
       "      <td>16134.238095</td>\n",
       "      <td>22360.380952</td>\n",
       "    </tr>\n",
       "    <tr>\n",
       "      <th>Alaska</th>\n",
       "      <td>48806.666667</td>\n",
       "      <td>91926.666667</td>\n",
       "      <td>0.885248</td>\n",
       "      <td>1.667352</td>\n",
       "      <td>0.500068</td>\n",
       "      <td>0.941872</td>\n",
       "      <td>3</td>\n",
       "      <td>55133.333333</td>\n",
       "      <td>97600.000000</td>\n",
       "      <td>59.333333</td>\n",
       "      <td>12.000000</td>\n",
       "      <td>12201.666667</td>\n",
       "      <td>22981.666667</td>\n",
       "    </tr>\n",
       "    <tr>\n",
       "      <th>Arizona</th>\n",
       "      <td>74048.000000</td>\n",
       "      <td>124932.000000</td>\n",
       "      <td>1.512212</td>\n",
       "      <td>2.551368</td>\n",
       "      <td>0.839864</td>\n",
       "      <td>1.416998</td>\n",
       "      <td>3</td>\n",
       "      <td>48966.666667</td>\n",
       "      <td>88166.666667</td>\n",
       "      <td>58.666667</td>\n",
       "      <td>11.666667</td>\n",
       "      <td>18512.000000</td>\n",
       "      <td>31233.000000</td>\n",
       "    </tr>\n",
       "    <tr>\n",
       "      <th>Arkansas</th>\n",
       "      <td>68785.428571</td>\n",
       "      <td>86816.571429</td>\n",
       "      <td>1.508216</td>\n",
       "      <td>1.903574</td>\n",
       "      <td>0.841927</td>\n",
       "      <td>1.062626</td>\n",
       "      <td>14</td>\n",
       "      <td>45607.142857</td>\n",
       "      <td>81700.000000</td>\n",
       "      <td>57.571429</td>\n",
       "      <td>14.071429</td>\n",
       "      <td>17196.357143</td>\n",
       "      <td>21704.142857</td>\n",
       "    </tr>\n",
       "    <tr>\n",
       "      <th>California</th>\n",
       "      <td>190626.153846</td>\n",
       "      <td>193550.461538</td>\n",
       "      <td>2.811595</td>\n",
       "      <td>2.854727</td>\n",
       "      <td>1.526512</td>\n",
       "      <td>1.549930</td>\n",
       "      <td>13</td>\n",
       "      <td>67800.000000</td>\n",
       "      <td>124876.923077</td>\n",
       "      <td>49.769231</td>\n",
       "      <td>30.615385</td>\n",
       "      <td>47656.538462</td>\n",
       "      <td>48387.615385</td>\n",
       "    </tr>\n",
       "  </tbody>\n",
       "</table>\n",
       "</div>"
      ],
      "text/plain": [
       "            four year average in state tuition  \\\n",
       "Alabama                           64536.952381   \n",
       "Alaska                            48806.666667   \n",
       "Arizona                           74048.000000   \n",
       "Arkansas                          68785.428571   \n",
       "California                       190626.153846   \n",
       "\n",
       "            four year average out of state tuition  \\\n",
       "Alabama                               89441.523810   \n",
       "Alaska                                91926.666667   \n",
       "Arizona                              124932.000000   \n",
       "Arkansas                              86816.571429   \n",
       "California                           193550.461538   \n",
       "\n",
       "            years to repay in state 4 year uni based on early career pay  \\\n",
       "Alabama                                              1.443318              \n",
       "Alaska                                               0.885248              \n",
       "Arizona                                              1.512212              \n",
       "Arkansas                                             1.508216              \n",
       "California                                           2.811595              \n",
       "\n",
       "            years to repay out of state 4 year uni based on early career pay  \\\n",
       "Alabama                                              2.000290                  \n",
       "Alaska                                               1.667352                  \n",
       "Arizona                                              2.551368                  \n",
       "Arkansas                                             1.903574                  \n",
       "California                                           2.854727                  \n",
       "\n",
       "            years to repay in state 4 year uni based on mid career pay  \\\n",
       "Alabama                                              0.795023            \n",
       "Alaska                                               0.500068            \n",
       "Arizona                                              0.839864            \n",
       "Arkansas                                             0.841927            \n",
       "California                                           1.526512            \n",
       "\n",
       "            years to repay out of state 4 year uni based on mid career pay  \\\n",
       "Alabama                                              1.101820                \n",
       "Alaska                                               0.941872                \n",
       "Arizona                                              1.416998                \n",
       "Arkansas                                             1.062626                \n",
       "California                                           1.549930                \n",
       "\n",
       "            number of schools  average early_career_pay  \\\n",
       "Alabama                    21              44714.285714   \n",
       "Alaska                      3              55133.333333   \n",
       "Arizona                     3              48966.666667   \n",
       "Arkansas                   14              45607.142857   \n",
       "California                 13              67800.000000   \n",
       "\n",
       "            average mid_career_pay  average make_world_better_percent  \\\n",
       "Alabama               81176.190476                          60.047619   \n",
       "Alaska                97600.000000                          59.333333   \n",
       "Arizona               88166.666667                          58.666667   \n",
       "Arkansas              81700.000000                          57.571429   \n",
       "California           124876.923077                          49.769231   \n",
       "\n",
       "            average stem_percent  average in_state_tuition  \\\n",
       "Alabama                14.047619              16134.238095   \n",
       "Alaska                 12.000000              12201.666667   \n",
       "Arizona                11.666667              18512.000000   \n",
       "Arkansas               14.071429              17196.357143   \n",
       "California             30.615385              47656.538462   \n",
       "\n",
       "            average out_of_state_tuition  \n",
       "Alabama                     22360.380952  \n",
       "Alaska                      22981.666667  \n",
       "Arizona                     31233.000000  \n",
       "Arkansas                    21704.142857  \n",
       "California                  48387.615385  "
      ]
     },
     "execution_count": 26,
     "metadata": {
     },
     "output_type": "execute_result"
    }
   ],
   "source": [
    "state_stats = add_details(state_stats)\n",
    "state_stats.head()"
   ]
  },
  {
   "cell_type": "markdown",
   "metadata": {
    "collapsed": false
   },
   "source": [
    "Notice: This assumes you divert your entire paycheck to student loans and there is no interest. While this gives a guidline, that does hurt the usefullness, as different areas may allow to divert different amounts. Look out for this type of error in your own work"
   ]
  },
  {
   "cell_type": "markdown",
   "metadata": {
    "collapsed": false
   },
   "source": [
    "One of my favorite ways to investigate a dataframe is by using highlighting. <br> Here is a quick example of how to highlight based on how the value compares to the average. <br>\n",
    "These functions are a bit confusing because they are meant to be used by the pandas Apply function. <br> Read more here: https://www.datacamp.com/community/tutorials/pandas-apply <br> It is a way to check each row and do 'something' based on some values."
   ]
  },
  {
   "cell_type": "markdown",
   "metadata": {
    "collapsed": false
   },
   "source": [
    "This uses python's \"list comprehension\", which you can find more on here - https://www.w3schools.com/python/python_lists_comprehension.asp"
   ]
  },
  {
   "cell_type": "code",
   "execution_count": 27,
   "metadata": {
    "collapsed": false
   },
   "outputs": [
   ],
   "source": [
    "# Highlighting functions for our dataframe\n",
    "def highlight_above_avg(state):\n",
    "    # state_TF will check every row (state) and give a True/False value depending on the condition asked\n",
    "    # e.g. if the value is >.50 quantile (average value) for the column\n",
    "    state_TF = state >= state.quantile(.50)\n",
    "    return ['background: lightgreen' if state else '' for state in state_TF]\n",
    "def highlight_top(s):   \n",
    "    state_TF = s > s.quantile(0.90)\n",
    "    return ['color: blue' if state else '' for state in state_TF]\n",
    "\n",
    "def return_highlighted_df(state_stats):\n",
    "    return state_stats.style.apply(highlight_above_avg).apply(highlight_top)"
   ]
  },
  {
   "cell_type": "markdown",
   "metadata": {
    "collapsed": false
   },
   "source": [
    "Add any other filters you can think of to the filters"
   ]
  },
  {
   "cell_type": "markdown",
   "metadata": {
    "collapsed": false
   },
   "source": [
    "Something to note aboout the below table, some green / blue values could be 'good' while others could be 'bad'. <br>\n",
    "E.g. Having a top 10% in 'average_early_career_pay' could be good, but having a top 10% 'years to repay out of state 4 year uni based on early career pay' would be less awesome."
   ]
  },
  {
   "cell_type": "code",
   "execution_count": 28,
   "metadata": {
    "collapsed": false
   },
   "outputs": [
    {
     "data": {
      "text/html": [
       "<style type=\"text/css\">\n",
       "#T_12b3d_row0_col6, #T_12b3d_row1_col7, #T_12b3d_row1_col8, #T_12b3d_row1_col9, #T_12b3d_row2_col1, #T_12b3d_row2_col3, #T_12b3d_row2_col5, #T_12b3d_row2_col9, #T_12b3d_row2_col12, #T_12b3d_row3_col9, #T_12b3d_row4_col5, #T_12b3d_row5_col1, #T_12b3d_row5_col7, #T_12b3d_row5_col8, #T_12b3d_row5_col9, #T_12b3d_row5_col10, #T_12b3d_row5_col12, #T_12b3d_row6_col0, #T_12b3d_row6_col1, #T_12b3d_row6_col2, #T_12b3d_row6_col3, #T_12b3d_row6_col4, #T_12b3d_row6_col5, #T_12b3d_row6_col6, #T_12b3d_row6_col7, #T_12b3d_row6_col8, #T_12b3d_row6_col10, #T_12b3d_row6_col11, #T_12b3d_row6_col12, #T_12b3d_row8_col0, #T_12b3d_row8_col1, #T_12b3d_row8_col2, #T_12b3d_row8_col3, #T_12b3d_row8_col4, #T_12b3d_row8_col5, #T_12b3d_row8_col6, #T_12b3d_row8_col8, #T_12b3d_row8_col9, #T_12b3d_row8_col11, #T_12b3d_row8_col12, #T_12b3d_row10_col9, #T_12b3d_row12_col0, #T_12b3d_row12_col1, #T_12b3d_row12_col2, #T_12b3d_row12_col3, #T_12b3d_row12_col4, #T_12b3d_row12_col5, #T_12b3d_row12_col6, #T_12b3d_row12_col7, #T_12b3d_row12_col8, #T_12b3d_row12_col10, #T_12b3d_row12_col11, #T_12b3d_row12_col12, #T_12b3d_row13_col0, #T_12b3d_row13_col1, #T_12b3d_row13_col3, #T_12b3d_row13_col5, #T_12b3d_row13_col6, #T_12b3d_row13_col7, #T_12b3d_row13_col8, #T_12b3d_row13_col10, #T_12b3d_row13_col11, #T_12b3d_row13_col12, #T_12b3d_row14_col0, #T_12b3d_row14_col1, #T_12b3d_row14_col2, #T_12b3d_row14_col3, #T_12b3d_row14_col4, #T_12b3d_row14_col6, #T_12b3d_row14_col10, #T_12b3d_row14_col11, #T_12b3d_row14_col12, #T_12b3d_row15_col6, #T_12b3d_row16_col2, #T_12b3d_row16_col3, #T_12b3d_row16_col4, #T_12b3d_row16_col5, #T_12b3d_row16_col9, #T_12b3d_row17_col9, #T_12b3d_row18_col0, #T_12b3d_row18_col1, #T_12b3d_row18_col2, #T_12b3d_row18_col3, #T_12b3d_row18_col4, #T_12b3d_row18_col5, #T_12b3d_row18_col6, #T_12b3d_row18_col9, #T_12b3d_row18_col11, #T_12b3d_row18_col12, #T_12b3d_row19_col0, #T_12b3d_row19_col1, #T_12b3d_row19_col2, #T_12b3d_row19_col3, #T_12b3d_row19_col4, #T_12b3d_row19_col5, #T_12b3d_row19_col6, #T_12b3d_row19_col7, #T_12b3d_row19_col8, #T_12b3d_row19_col10, #T_12b3d_row19_col11, #T_12b3d_row19_col12, #T_12b3d_row20_col6, #T_12b3d_row20_col10, #T_12b3d_row21_col0, #T_12b3d_row21_col2, #T_12b3d_row21_col4, #T_12b3d_row21_col7, #T_12b3d_row21_col8, #T_12b3d_row21_col10, #T_12b3d_row21_col11, #T_12b3d_row22_col0, #T_12b3d_row22_col1, #T_12b3d_row22_col2, #T_12b3d_row22_col3, #T_12b3d_row22_col4, #T_12b3d_row22_col5, #T_12b3d_row22_col7, #T_12b3d_row22_col8, #T_12b3d_row22_col10, #T_12b3d_row22_col11, #T_12b3d_row22_col12, #T_12b3d_row24_col6, #T_12b3d_row24_col10, #T_12b3d_row25_col7, #T_12b3d_row25_col8, #T_12b3d_row25_col9, #T_12b3d_row26_col9, #T_12b3d_row27_col0, #T_12b3d_row27_col1, #T_12b3d_row27_col2, #T_12b3d_row27_col3, #T_12b3d_row27_col4, #T_12b3d_row27_col5, #T_12b3d_row27_col7, #T_12b3d_row27_col8, #T_12b3d_row27_col11, #T_12b3d_row27_col12, #T_12b3d_row28_col0, #T_12b3d_row28_col1, #T_12b3d_row28_col2, #T_12b3d_row28_col3, #T_12b3d_row28_col4, #T_12b3d_row28_col5, #T_12b3d_row28_col7, #T_12b3d_row28_col10, #T_12b3d_row28_col11, #T_12b3d_row28_col12, #T_12b3d_row29_col0, #T_12b3d_row29_col1, #T_12b3d_row29_col2, #T_12b3d_row29_col6, #T_12b3d_row29_col7, #T_12b3d_row29_col8, #T_12b3d_row29_col10, #T_12b3d_row29_col11, #T_12b3d_row29_col12, #T_12b3d_row31_col2, #T_12b3d_row31_col3, #T_12b3d_row31_col4, #T_12b3d_row31_col5, #T_12b3d_row31_col6, #T_12b3d_row32_col0, #T_12b3d_row32_col1, #T_12b3d_row32_col2, #T_12b3d_row32_col3, #T_12b3d_row32_col4, #T_12b3d_row32_col5, #T_12b3d_row32_col6, #T_12b3d_row32_col11, #T_12b3d_row32_col12, #T_12b3d_row33_col9, #T_12b3d_row34_col1, #T_12b3d_row34_col3, #T_12b3d_row34_col5, #T_12b3d_row34_col7, #T_12b3d_row34_col8, #T_12b3d_row34_col10, #T_12b3d_row34_col12, #T_12b3d_row35_col6, #T_12b3d_row35_col9, #T_12b3d_row36_col0, #T_12b3d_row36_col1, #T_12b3d_row36_col2, #T_12b3d_row36_col3, #T_12b3d_row36_col4, #T_12b3d_row36_col5, #T_12b3d_row36_col6, #T_12b3d_row36_col7, #T_12b3d_row36_col8, #T_12b3d_row36_col9, #T_12b3d_row36_col11, #T_12b3d_row36_col12, #T_12b3d_row37_col6, #T_12b3d_row38_col0, #T_12b3d_row38_col2, #T_12b3d_row38_col4, #T_12b3d_row38_col7, #T_12b3d_row38_col8, #T_12b3d_row38_col11, #T_12b3d_row39_col2, #T_12b3d_row39_col3, #T_12b3d_row39_col4, #T_12b3d_row39_col5, #T_12b3d_row39_col6, #T_12b3d_row39_col9, #T_12b3d_row39_col10, #T_12b3d_row40_col9, #T_12b3d_row40_col10, #T_12b3d_row41_col0, #T_12b3d_row41_col2, #T_12b3d_row41_col3, #T_12b3d_row41_col4, #T_12b3d_row41_col5, #T_12b3d_row41_col6, #T_12b3d_row41_col9, #T_12b3d_row41_col11, #T_12b3d_row42_col0, #T_12b3d_row42_col1, #T_12b3d_row42_col6, #T_12b3d_row42_col10, #T_12b3d_row42_col11, #T_12b3d_row42_col12, #T_12b3d_row43_col7, #T_12b3d_row43_col8, #T_12b3d_row43_col9, #T_12b3d_row44_col0, #T_12b3d_row44_col1, #T_12b3d_row44_col2, #T_12b3d_row44_col4, #T_12b3d_row44_col11, #T_12b3d_row44_col12, #T_12b3d_row45_col0, #T_12b3d_row45_col1, #T_12b3d_row45_col3, #T_12b3d_row45_col5, #T_12b3d_row45_col7, #T_12b3d_row45_col8, #T_12b3d_row45_col10, #T_12b3d_row45_col11, #T_12b3d_row45_col12, #T_12b3d_row46_col0, #T_12b3d_row46_col1, #T_12b3d_row46_col2, #T_12b3d_row46_col3, #T_12b3d_row46_col4, #T_12b3d_row46_col5, #T_12b3d_row46_col6, #T_12b3d_row46_col7, #T_12b3d_row46_col8, #T_12b3d_row46_col10, #T_12b3d_row46_col11, #T_12b3d_row46_col12, #T_12b3d_row47_col9, #T_12b3d_row48_col4, #T_12b3d_row48_col7, #T_12b3d_row48_col8, #T_12b3d_row48_col10, #T_12b3d_row49_col7, #T_12b3d_row49_col8, #T_12b3d_row49_col9, #T_12b3d_row49_col10 {\n",
       "  background: lightgreen;\n",
       "}\n",
       "#T_12b3d_row0_col7, #T_12b3d_row1_col2, #T_12b3d_row1_col4, #T_12b3d_row1_col6, #T_12b3d_row2_col6, #T_12b3d_row11_col0, #T_12b3d_row11_col2, #T_12b3d_row11_col4, #T_12b3d_row11_col11, #T_12b3d_row15_col10, #T_12b3d_row16_col7, #T_12b3d_row16_col8, #T_12b3d_row20_col9, #T_12b3d_row23_col1, #T_12b3d_row23_col3, #T_12b3d_row23_col5, #T_12b3d_row23_col7, #T_12b3d_row23_col8, #T_12b3d_row23_col12, #T_12b3d_row26_col10, #T_12b3d_row27_col6, #T_12b3d_row27_col9, #T_12b3d_row27_col10, #T_12b3d_row29_col9, #T_12b3d_row30_col0, #T_12b3d_row30_col1, #T_12b3d_row30_col2, #T_12b3d_row30_col3, #T_12b3d_row30_col4, #T_12b3d_row30_col5, #T_12b3d_row30_col6, #T_12b3d_row30_col11, #T_12b3d_row30_col12, #T_12b3d_row33_col0, #T_12b3d_row33_col1, #T_12b3d_row33_col3, #T_12b3d_row33_col5, #T_12b3d_row33_col8, #T_12b3d_row33_col10, #T_12b3d_row33_col11, #T_12b3d_row33_col12, #T_12b3d_row37_col9, #T_12b3d_row38_col9, #T_12b3d_row39_col7, #T_12b3d_row39_col8, #T_12b3d_row40_col1, #T_12b3d_row40_col12, #T_12b3d_row43_col0, #T_12b3d_row43_col2, #T_12b3d_row43_col3, #T_12b3d_row43_col4, #T_12b3d_row43_col5, #T_12b3d_row43_col11, #T_12b3d_row47_col7, #T_12b3d_row47_col8, #T_12b3d_row47_col10, #T_12b3d_row49_col0, #T_12b3d_row49_col1, #T_12b3d_row49_col2, #T_12b3d_row49_col3, #T_12b3d_row49_col4, #T_12b3d_row49_col5, #T_12b3d_row49_col6, #T_12b3d_row49_col11, #T_12b3d_row49_col12 {\n",
       "  background: red;\n",
       "}\n",
       "#T_12b3d_row0_col9, #T_12b3d_row4_col0, #T_12b3d_row4_col1, #T_12b3d_row4_col2, #T_12b3d_row4_col3, #T_12b3d_row4_col4, #T_12b3d_row4_col7, #T_12b3d_row4_col8, #T_12b3d_row4_col10, #T_12b3d_row4_col11, #T_12b3d_row4_col12, #T_12b3d_row9_col6, #T_12b3d_row11_col9, #T_12b3d_row13_col2, #T_12b3d_row13_col4, #T_12b3d_row14_col5, #T_12b3d_row15_col9, #T_12b3d_row16_col6, #T_12b3d_row20_col0, #T_12b3d_row20_col1, #T_12b3d_row20_col2, #T_12b3d_row20_col3, #T_12b3d_row20_col4, #T_12b3d_row20_col5, #T_12b3d_row20_col7, #T_12b3d_row20_col8, #T_12b3d_row20_col11, #T_12b3d_row20_col12, #T_12b3d_row21_col6, #T_12b3d_row23_col9, #T_12b3d_row25_col10, #T_12b3d_row30_col9, #T_12b3d_row30_col10, #T_12b3d_row31_col0, #T_12b3d_row31_col1, #T_12b3d_row31_col7, #T_12b3d_row31_col8, #T_12b3d_row31_col10, #T_12b3d_row31_col11, #T_12b3d_row31_col12, #T_12b3d_row34_col0, #T_12b3d_row34_col2, #T_12b3d_row34_col4, #T_12b3d_row34_col11, #T_12b3d_row37_col0, #T_12b3d_row37_col1, #T_12b3d_row37_col2, #T_12b3d_row37_col3, #T_12b3d_row37_col4, #T_12b3d_row37_col5, #T_12b3d_row37_col7, #T_12b3d_row37_col8, #T_12b3d_row37_col10, #T_12b3d_row37_col11, #T_12b3d_row37_col12, #T_12b3d_row38_col1, #T_12b3d_row38_col3, #T_12b3d_row38_col5, #T_12b3d_row38_col12, #T_12b3d_row42_col7, #T_12b3d_row42_col8, #T_12b3d_row44_col3, #T_12b3d_row44_col5, #T_12b3d_row45_col6, #T_12b3d_row48_col6 {\n",
       "  background: lightgreen;\n",
       "  color: blue;\n",
       "}\n",
       "</style>\n",
       "<table id=\"T_12b3d_\">\n",
       "  <thead>\n",
       "    <tr>\n",
       "      <th class=\"blank level0\" >&nbsp;</th>\n",
       "      <th class=\"col_heading level0 col0\" >four year average in state tuition</th>\n",
       "      <th class=\"col_heading level0 col1\" >four year average out of state tuition</th>\n",
       "      <th class=\"col_heading level0 col2\" >years to repay in state 4 year uni based on early career pay</th>\n",
       "      <th class=\"col_heading level0 col3\" >years to repay out of state 4 year uni based on early career pay</th>\n",
       "      <th class=\"col_heading level0 col4\" >years to repay in state 4 year uni based on mid career pay</th>\n",
       "      <th class=\"col_heading level0 col5\" >years to repay out of state 4 year uni based on mid career pay</th>\n",
       "      <th class=\"col_heading level0 col6\" >number of schools</th>\n",
       "      <th class=\"col_heading level0 col7\" >average early_career_pay</th>\n",
       "      <th class=\"col_heading level0 col8\" >average mid_career_pay</th>\n",
       "      <th class=\"col_heading level0 col9\" >average make_world_better_percent</th>\n",
       "      <th class=\"col_heading level0 col10\" >average stem_percent</th>\n",
       "      <th class=\"col_heading level0 col11\" >average in_state_tuition</th>\n",
       "      <th class=\"col_heading level0 col12\" >average out_of_state_tuition</th>\n",
       "    </tr>\n",
       "  </thead>\n",
       "  <tbody>\n",
       "    <tr>\n",
       "      <th id=\"T_12b3d_level0_row0\" class=\"row_heading level0 row0\" >Alabama</th>\n",
       "      <td id=\"T_12b3d_row0_col0\" class=\"data row0 col0\" >64536.952381</td>\n",
       "      <td id=\"T_12b3d_row0_col1\" class=\"data row0 col1\" >89441.523810</td>\n",
       "      <td id=\"T_12b3d_row0_col2\" class=\"data row0 col2\" >1.443318</td>\n",
       "      <td id=\"T_12b3d_row0_col3\" class=\"data row0 col3\" >2.000290</td>\n",
       "      <td id=\"T_12b3d_row0_col4\" class=\"data row0 col4\" >0.795023</td>\n",
       "      <td id=\"T_12b3d_row0_col5\" class=\"data row0 col5\" >1.101820</td>\n",
       "      <td id=\"T_12b3d_row0_col6\" class=\"data row0 col6\" >21</td>\n",
       "      <td id=\"T_12b3d_row0_col7\" class=\"data row0 col7\" >44714.285714</td>\n",
       "      <td id=\"T_12b3d_row0_col8\" class=\"data row0 col8\" >81176.190476</td>\n",
       "      <td id=\"T_12b3d_row0_col9\" class=\"data row0 col9\" >60.047619</td>\n",
       "      <td id=\"T_12b3d_row0_col10\" class=\"data row0 col10\" >14.047619</td>\n",
       "      <td id=\"T_12b3d_row0_col11\" class=\"data row0 col11\" >16134.238095</td>\n",
       "      <td id=\"T_12b3d_row0_col12\" class=\"data row0 col12\" >22360.380952</td>\n",
       "    </tr>\n",
       "    <tr>\n",
       "      <th id=\"T_12b3d_level0_row1\" class=\"row_heading level0 row1\" >Alaska</th>\n",
       "      <td id=\"T_12b3d_row1_col0\" class=\"data row1 col0\" >48806.666667</td>\n",
       "      <td id=\"T_12b3d_row1_col1\" class=\"data row1 col1\" >91926.666667</td>\n",
       "      <td id=\"T_12b3d_row1_col2\" class=\"data row1 col2\" >0.885248</td>\n",
       "      <td id=\"T_12b3d_row1_col3\" class=\"data row1 col3\" >1.667352</td>\n",
       "      <td id=\"T_12b3d_row1_col4\" class=\"data row1 col4\" >0.500068</td>\n",
       "      <td id=\"T_12b3d_row1_col5\" class=\"data row1 col5\" >0.941872</td>\n",
       "      <td id=\"T_12b3d_row1_col6\" class=\"data row1 col6\" >3</td>\n",
       "      <td id=\"T_12b3d_row1_col7\" class=\"data row1 col7\" >55133.333333</td>\n",
       "      <td id=\"T_12b3d_row1_col8\" class=\"data row1 col8\" >97600.000000</td>\n",
       "      <td id=\"T_12b3d_row1_col9\" class=\"data row1 col9\" >59.333333</td>\n",
       "      <td id=\"T_12b3d_row1_col10\" class=\"data row1 col10\" >12.000000</td>\n",
       "      <td id=\"T_12b3d_row1_col11\" class=\"data row1 col11\" >12201.666667</td>\n",
       "      <td id=\"T_12b3d_row1_col12\" class=\"data row1 col12\" >22981.666667</td>\n",
       "    </tr>\n",
       "    <tr>\n",
       "      <th id=\"T_12b3d_level0_row2\" class=\"row_heading level0 row2\" >Arizona</th>\n",
       "      <td id=\"T_12b3d_row2_col0\" class=\"data row2 col0\" >74048.000000</td>\n",
       "      <td id=\"T_12b3d_row2_col1\" class=\"data row2 col1\" >124932.000000</td>\n",
       "      <td id=\"T_12b3d_row2_col2\" class=\"data row2 col2\" >1.512212</td>\n",
       "      <td id=\"T_12b3d_row2_col3\" class=\"data row2 col3\" >2.551368</td>\n",
       "      <td id=\"T_12b3d_row2_col4\" class=\"data row2 col4\" >0.839864</td>\n",
       "      <td id=\"T_12b3d_row2_col5\" class=\"data row2 col5\" >1.416998</td>\n",
       "      <td id=\"T_12b3d_row2_col6\" class=\"data row2 col6\" >3</td>\n",
       "      <td id=\"T_12b3d_row2_col7\" class=\"data row2 col7\" >48966.666667</td>\n",
       "      <td id=\"T_12b3d_row2_col8\" class=\"data row2 col8\" >88166.666667</td>\n",
       "      <td id=\"T_12b3d_row2_col9\" class=\"data row2 col9\" >58.666667</td>\n",
       "      <td id=\"T_12b3d_row2_col10\" class=\"data row2 col10\" >11.666667</td>\n",
       "      <td id=\"T_12b3d_row2_col11\" class=\"data row2 col11\" >18512.000000</td>\n",
       "      <td id=\"T_12b3d_row2_col12\" class=\"data row2 col12\" >31233.000000</td>\n",
       "    </tr>\n",
       "    <tr>\n",
       "      <th id=\"T_12b3d_level0_row3\" class=\"row_heading level0 row3\" >Arkansas</th>\n",
       "      <td id=\"T_12b3d_row3_col0\" class=\"data row3 col0\" >68785.428571</td>\n",
       "      <td id=\"T_12b3d_row3_col1\" class=\"data row3 col1\" >86816.571429</td>\n",
       "      <td id=\"T_12b3d_row3_col2\" class=\"data row3 col2\" >1.508216</td>\n",
       "      <td id=\"T_12b3d_row3_col3\" class=\"data row3 col3\" >1.903574</td>\n",
       "      <td id=\"T_12b3d_row3_col4\" class=\"data row3 col4\" >0.841927</td>\n",
       "      <td id=\"T_12b3d_row3_col5\" class=\"data row3 col5\" >1.062626</td>\n",
       "      <td id=\"T_12b3d_row3_col6\" class=\"data row3 col6\" >14</td>\n",
       "      <td id=\"T_12b3d_row3_col7\" class=\"data row3 col7\" >45607.142857</td>\n",
       "      <td id=\"T_12b3d_row3_col8\" class=\"data row3 col8\" >81700.000000</td>\n",
       "      <td id=\"T_12b3d_row3_col9\" class=\"data row3 col9\" >57.571429</td>\n",
       "      <td id=\"T_12b3d_row3_col10\" class=\"data row3 col10\" >14.071429</td>\n",
       "      <td id=\"T_12b3d_row3_col11\" class=\"data row3 col11\" >17196.357143</td>\n",
       "      <td id=\"T_12b3d_row3_col12\" class=\"data row3 col12\" >21704.142857</td>\n",
       "    </tr>\n",
       "    <tr>\n",
       "      <th id=\"T_12b3d_level0_row4\" class=\"row_heading level0 row4\" >California</th>\n",
       "      <td id=\"T_12b3d_row4_col0\" class=\"data row4 col0\" >190626.153846</td>\n",
       "      <td id=\"T_12b3d_row4_col1\" class=\"data row4 col1\" >193550.461538</td>\n",
       "      <td id=\"T_12b3d_row4_col2\" class=\"data row4 col2\" >2.811595</td>\n",
       "      <td id=\"T_12b3d_row4_col3\" class=\"data row4 col3\" >2.854727</td>\n",
       "      <td id=\"T_12b3d_row4_col4\" class=\"data row4 col4\" >1.526512</td>\n",
       "      <td id=\"T_12b3d_row4_col5\" class=\"data row4 col5\" >1.549930</td>\n",
       "      <td id=\"T_12b3d_row4_col6\" class=\"data row4 col6\" >13</td>\n",
       "      <td id=\"T_12b3d_row4_col7\" class=\"data row4 col7\" >67800.000000</td>\n",
       "      <td id=\"T_12b3d_row4_col8\" class=\"data row4 col8\" >124876.923077</td>\n",
       "      <td id=\"T_12b3d_row4_col9\" class=\"data row4 col9\" >49.769231</td>\n",
       "      <td id=\"T_12b3d_row4_col10\" class=\"data row4 col10\" >30.615385</td>\n",
       "      <td id=\"T_12b3d_row4_col11\" class=\"data row4 col11\" >47656.538462</td>\n",
       "      <td id=\"T_12b3d_row4_col12\" class=\"data row4 col12\" >48387.615385</td>\n",
       "    </tr>\n",
       "    <tr>\n",
       "      <th id=\"T_12b3d_level0_row5\" class=\"row_heading level0 row5\" >Colorado</th>\n",
       "      <td id=\"T_12b3d_row5_col0\" class=\"data row5 col0\" >83676.615385</td>\n",
       "      <td id=\"T_12b3d_row5_col1\" class=\"data row5 col1\" >123681.230769</td>\n",
       "      <td id=\"T_12b3d_row5_col2\" class=\"data row5 col2\" >1.601820</td>\n",
       "      <td id=\"T_12b3d_row5_col3\" class=\"data row5 col3\" >2.367628</td>\n",
       "      <td id=\"T_12b3d_row5_col4\" class=\"data row5 col4\" >0.891929</td>\n",
       "      <td id=\"T_12b3d_row5_col5\" class=\"data row5 col5\" >1.318347</td>\n",
       "      <td id=\"T_12b3d_row5_col6\" class=\"data row5 col6\" >13</td>\n",
       "      <td id=\"T_12b3d_row5_col7\" class=\"data row5 col7\" >52238.461538</td>\n",
       "      <td id=\"T_12b3d_row5_col8\" class=\"data row5 col8\" >93815.384615</td>\n",
       "      <td id=\"T_12b3d_row5_col9\" class=\"data row5 col9\" >53.923077</td>\n",
       "      <td id=\"T_12b3d_row5_col10\" class=\"data row5 col10\" >20.692308</td>\n",
       "      <td id=\"T_12b3d_row5_col11\" class=\"data row5 col11\" >20919.153846</td>\n",
       "      <td id=\"T_12b3d_row5_col12\" class=\"data row5 col12\" >30920.307692</td>\n",
       "    </tr>\n",
       "    <tr>\n",
       "      <th id=\"T_12b3d_level0_row6\" class=\"row_heading level0 row6\" >Connecticut</th>\n",
       "      <td id=\"T_12b3d_row6_col0\" class=\"data row6 col0\" >135868.444444</td>\n",
       "      <td id=\"T_12b3d_row6_col1\" class=\"data row6 col1\" >151483.555556</td>\n",
       "      <td id=\"T_12b3d_row6_col2\" class=\"data row6 col2\" >2.469587</td>\n",
       "      <td id=\"T_12b3d_row6_col3\" class=\"data row6 col3\" >2.753412</td>\n",
       "      <td id=\"T_12b3d_row6_col4\" class=\"data row6 col4\" >1.365436</td>\n",
       "      <td id=\"T_12b3d_row6_col5\" class=\"data row6 col5\" >1.522363</td>\n",
       "      <td id=\"T_12b3d_row6_col6\" class=\"data row6 col6\" >18</td>\n",
       "      <td id=\"T_12b3d_row6_col7\" class=\"data row6 col7\" >55016.666667</td>\n",
       "      <td id=\"T_12b3d_row6_col8\" class=\"data row6 col8\" >99505.555556</td>\n",
       "      <td id=\"T_12b3d_row6_col9\" class=\"data row6 col9\" >51.000000</td>\n",
       "      <td id=\"T_12b3d_row6_col10\" class=\"data row6 col10\" >15.888889</td>\n",
       "      <td id=\"T_12b3d_row6_col11\" class=\"data row6 col11\" >33967.111111</td>\n",
       "      <td id=\"T_12b3d_row6_col12\" class=\"data row6 col12\" >37870.888889</td>\n",
       "    </tr>\n",
       "    <tr>\n",
       "      <th id=\"T_12b3d_level0_row7\" class=\"row_heading level0 row7\" >Delaware</th>\n",
       "      <td id=\"T_12b3d_row7_col0\" class=\"data row7 col0\" >66771.200000</td>\n",
       "      <td id=\"T_12b3d_row7_col1\" class=\"data row7 col1\" >90504.000000</td>\n",
       "      <td id=\"T_12b3d_row7_col2\" class=\"data row7 col2\" >1.361566</td>\n",
       "      <td id=\"T_12b3d_row7_col3\" class=\"data row7 col3\" >1.845514</td>\n",
       "      <td id=\"T_12b3d_row7_col4\" class=\"data row7 col4\" >0.779855</td>\n",
       "      <td id=\"T_12b3d_row7_col5\" class=\"data row7 col5\" >1.057043</td>\n",
       "      <td id=\"T_12b3d_row7_col6\" class=\"data row7 col6\" >5</td>\n",
       "      <td id=\"T_12b3d_row7_col7\" class=\"data row7 col7\" >49040.000000</td>\n",
       "      <td id=\"T_12b3d_row7_col8\" class=\"data row7 col8\" >85620.000000</td>\n",
       "      <td id=\"T_12b3d_row7_col9\" class=\"data row7 col9\" >49.400000</td>\n",
       "      <td id=\"T_12b3d_row7_col10\" class=\"data row7 col10\" >12.600000</td>\n",
       "      <td id=\"T_12b3d_row7_col11\" class=\"data row7 col11\" >16692.800000</td>\n",
       "      <td id=\"T_12b3d_row7_col12\" class=\"data row7 col12\" >22626.000000</td>\n",
       "    </tr>\n",
       "    <tr>\n",
       "      <th id=\"T_12b3d_level0_row8\" class=\"row_heading level0 row8\" >Florida</th>\n",
       "      <td id=\"T_12b3d_row8_col0\" class=\"data row8 col0\" >96486.222222</td>\n",
       "      <td id=\"T_12b3d_row8_col1\" class=\"data row8 col1\" >125415.333333</td>\n",
       "      <td id=\"T_12b3d_row8_col2\" class=\"data row8 col2\" >1.920124</td>\n",
       "      <td id=\"T_12b3d_row8_col3\" class=\"data row8 col3\" >2.495828</td>\n",
       "      <td id=\"T_12b3d_row8_col4\" class=\"data row8 col4\" >1.066670</td>\n",
       "      <td id=\"T_12b3d_row8_col5\" class=\"data row8 col5\" >1.386486</td>\n",
       "      <td id=\"T_12b3d_row8_col6\" class=\"data row8 col6\" >18</td>\n",
       "      <td id=\"T_12b3d_row8_col7\" class=\"data row8 col7\" >50250.000000</td>\n",
       "      <td id=\"T_12b3d_row8_col8\" class=\"data row8 col8\" >90455.555556</td>\n",
       "      <td id=\"T_12b3d_row8_col9\" class=\"data row8 col9\" >54.500000</td>\n",
       "      <td id=\"T_12b3d_row8_col10\" class=\"data row8 col10\" >14.388889</td>\n",
       "      <td id=\"T_12b3d_row8_col11\" class=\"data row8 col11\" >24121.555556</td>\n",
       "      <td id=\"T_12b3d_row8_col12\" class=\"data row8 col12\" >31353.833333</td>\n",
       "    </tr>\n",
       "    <tr>\n",
       "      <th id=\"T_12b3d_level0_row9\" class=\"row_heading level0 row9\" >Georgia</th>\n",
       "      <td id=\"T_12b3d_row9_col0\" class=\"data row9 col0\" >84775.636364</td>\n",
       "      <td id=\"T_12b3d_row9_col1\" class=\"data row9 col1\" >113883.636364</td>\n",
       "      <td id=\"T_12b3d_row9_col2\" class=\"data row9 col2\" >1.746969</td>\n",
       "      <td id=\"T_12b3d_row9_col3\" class=\"data row9 col3\" >2.346797</td>\n",
       "      <td id=\"T_12b3d_row9_col4\" class=\"data row9 col4\" >0.977804</td>\n",
       "      <td id=\"T_12b3d_row9_col5\" class=\"data row9 col5\" >1.313537</td>\n",
       "      <td id=\"T_12b3d_row9_col6\" class=\"data row9 col6\" >22</td>\n",
       "      <td id=\"T_12b3d_row9_col7\" class=\"data row9 col7\" >48527.272727</td>\n",
       "      <td id=\"T_12b3d_row9_col8\" class=\"data row9 col8\" >86700.000000</td>\n",
       "      <td id=\"T_12b3d_row9_col9\" class=\"data row9 col9\" >52.863636</td>\n",
       "      <td id=\"T_12b3d_row9_col10\" class=\"data row9 col10\" >14.636364</td>\n",
       "      <td id=\"T_12b3d_row9_col11\" class=\"data row9 col11\" >21193.909091</td>\n",
       "      <td id=\"T_12b3d_row9_col12\" class=\"data row9 col12\" >28470.909091</td>\n",
       "    </tr>\n",
       "    <tr>\n",
       "      <th id=\"T_12b3d_level0_row10\" class=\"row_heading level0 row10\" >Hawaii</th>\n",
       "      <td id=\"T_12b3d_row10_col0\" class=\"data row10 col0\" >61283.200000</td>\n",
       "      <td id=\"T_12b3d_row10_col1\" class=\"data row10 col1\" >89276.800000</td>\n",
       "      <td id=\"T_12b3d_row10_col2\" class=\"data row10 col2\" >1.251188</td>\n",
       "      <td id=\"T_12b3d_row10_col3\" class=\"data row10 col3\" >1.822719</td>\n",
       "      <td id=\"T_12b3d_row10_col4\" class=\"data row10 col4\" >0.696084</td>\n",
       "      <td id=\"T_12b3d_row10_col5\" class=\"data row10 col5\" >1.014048</td>\n",
       "      <td id=\"T_12b3d_row10_col6\" class=\"data row10 col6\" >5</td>\n",
       "      <td id=\"T_12b3d_row10_col7\" class=\"data row10 col7\" >48980.000000</td>\n",
       "      <td id=\"T_12b3d_row10_col8\" class=\"data row10 col8\" >88040.000000</td>\n",
       "      <td id=\"T_12b3d_row10_col9\" class=\"data row10 col9\" >56.600000</td>\n",
       "      <td id=\"T_12b3d_row10_col10\" class=\"data row10 col10\" >12.400000</td>\n",
       "      <td id=\"T_12b3d_row10_col11\" class=\"data row10 col11\" >15320.800000</td>\n",
       "      <td id=\"T_12b3d_row10_col12\" class=\"data row10 col12\" >22319.200000</td>\n",
       "    </tr>\n",
       "    <tr>\n",
       "      <th id=\"T_12b3d_level0_row11\" class=\"row_heading level0 row11\" >Idaho</th>\n",
       "      <td id=\"T_12b3d_row11_col0\" class=\"data row11 col0\" >42009.333333</td>\n",
       "      <td id=\"T_12b3d_row11_col1\" class=\"data row11 col1\" >83246.666667</td>\n",
       "      <td id=\"T_12b3d_row11_col2\" class=\"data row11 col2\" >0.845826</td>\n",
       "      <td id=\"T_12b3d_row11_col3\" class=\"data row11 col3\" >1.676107</td>\n",
       "      <td id=\"T_12b3d_row11_col4\" class=\"data row11 col4\" >0.477741</td>\n",
       "      <td id=\"T_12b3d_row11_col5\" class=\"data row11 col5\" >0.946702</td>\n",
       "      <td id=\"T_12b3d_row11_col6\" class=\"data row11 col6\" >6</td>\n",
       "      <td id=\"T_12b3d_row11_col7\" class=\"data row11 col7\" >49666.666667</td>\n",
       "      <td id=\"T_12b3d_row11_col8\" class=\"data row11 col8\" >87933.333333</td>\n",
       "      <td id=\"T_12b3d_row11_col9\" class=\"data row11 col9\" >60.000000</td>\n",
       "      <td id=\"T_12b3d_row11_col10\" class=\"data row11 col10\" >12.333333</td>\n",
       "      <td id=\"T_12b3d_row11_col11\" class=\"data row11 col11\" >10502.333333</td>\n",
       "      <td id=\"T_12b3d_row11_col12\" class=\"data row11 col12\" >20811.666667</td>\n",
       "    </tr>\n",
       "    <tr>\n",
       "      <th id=\"T_12b3d_level0_row12\" class=\"row_heading level0 row12\" >Illinois</th>\n",
       "      <td id=\"T_12b3d_row12_col0\" class=\"data row12 col0\" >136982.315789</td>\n",
       "      <td id=\"T_12b3d_row12_col1\" class=\"data row12 col1\" >145679.157895</td>\n",
       "      <td id=\"T_12b3d_row12_col2\" class=\"data row12 col2\" >2.456502</td>\n",
       "      <td id=\"T_12b3d_row12_col3\" class=\"data row12 col3\" >2.612462</td>\n",
       "      <td id=\"T_12b3d_row12_col4\" class=\"data row12 col4\" >1.351331</td>\n",
       "      <td id=\"T_12b3d_row12_col5\" class=\"data row12 col5\" >1.437126</td>\n",
       "      <td id=\"T_12b3d_row12_col6\" class=\"data row12 col6\" >19</td>\n",
       "      <td id=\"T_12b3d_row12_col7\" class=\"data row12 col7\" >55763.157895</td>\n",
       "      <td id=\"T_12b3d_row12_col8\" class=\"data row12 col8\" >101368.421053</td>\n",
       "      <td id=\"T_12b3d_row12_col9\" class=\"data row12 col9\" >51.263158</td>\n",
       "      <td id=\"T_12b3d_row12_col10\" class=\"data row12 col10\" >20.631579</td>\n",
       "      <td id=\"T_12b3d_row12_col11\" class=\"data row12 col11\" >34245.578947</td>\n",
       "      <td id=\"T_12b3d_row12_col12\" class=\"data row12 col12\" >36419.789474</td>\n",
       "    </tr>\n",
       "    <tr>\n",
       "      <th id=\"T_12b3d_level0_row13\" class=\"row_heading level0 row13\" >Indiana</th>\n",
       "      <td id=\"T_12b3d_row13_col0\" class=\"data row13 col0\" >143818.444444</td>\n",
       "      <td id=\"T_12b3d_row13_col1\" class=\"data row13 col1\" >149889.111111</td>\n",
       "      <td id=\"T_12b3d_row13_col2\" class=\"data row13 col2\" >2.716688</td>\n",
       "      <td id=\"T_12b3d_row13_col3\" class=\"data row13 col3\" >2.831361</td>\n",
       "      <td id=\"T_12b3d_row13_col4\" class=\"data row13 col4\" >1.494476</td>\n",
       "      <td id=\"T_12b3d_row13_col5\" class=\"data row13 col5\" >1.557559</td>\n",
       "      <td id=\"T_12b3d_row13_col6\" class=\"data row13 col6\" >18</td>\n",
       "      <td id=\"T_12b3d_row13_col7\" class=\"data row13 col7\" >52938.888889</td>\n",
       "      <td id=\"T_12b3d_row13_col8\" class=\"data row13 col8\" >96233.333333</td>\n",
       "      <td id=\"T_12b3d_row13_col9\" class=\"data row13 col9\" >51.444444</td>\n",
       "      <td id=\"T_12b3d_row13_col10\" class=\"data row13 col10\" >22.944444</td>\n",
       "      <td id=\"T_12b3d_row13_col11\" class=\"data row13 col11\" >35954.611111</td>\n",
       "      <td id=\"T_12b3d_row13_col12\" class=\"data row13 col12\" >37472.277778</td>\n",
       "    </tr>\n",
       "    <tr>\n",
       "      <th id=\"T_12b3d_level0_row14\" class=\"row_heading level0 row14\" >Iowa</th>\n",
       "      <td id=\"T_12b3d_row14_col0\" class=\"data row14 col0\" >127574.476190</td>\n",
       "      <td id=\"T_12b3d_row14_col1\" class=\"data row14 col1\" >136510.095238</td>\n",
       "      <td id=\"T_12b3d_row14_col2\" class=\"data row14 col2\" >2.640513</td>\n",
       "      <td id=\"T_12b3d_row14_col3\" class=\"data row14 col3\" >2.825460</td>\n",
       "      <td id=\"T_12b3d_row14_col4\" class=\"data row14 col4\" >1.461573</td>\n",
       "      <td id=\"T_12b3d_row14_col5\" class=\"data row14 col5\" >1.563945</td>\n",
       "      <td id=\"T_12b3d_row14_col6\" class=\"data row14 col6\" >21</td>\n",
       "      <td id=\"T_12b3d_row14_col7\" class=\"data row14 col7\" >48314.285714</td>\n",
       "      <td id=\"T_12b3d_row14_col8\" class=\"data row14 col8\" >87285.714286</td>\n",
       "      <td id=\"T_12b3d_row14_col9\" class=\"data row14 col9\" >50.047619</td>\n",
       "      <td id=\"T_12b3d_row14_col10\" class=\"data row14 col10\" >16.333333</td>\n",
       "      <td id=\"T_12b3d_row14_col11\" class=\"data row14 col11\" >31893.619048</td>\n",
       "      <td id=\"T_12b3d_row14_col12\" class=\"data row14 col12\" >34127.523810</td>\n",
       "    </tr>\n",
       "    <tr>\n",
       "      <th id=\"T_12b3d_level0_row15\" class=\"row_heading level0 row15\" >Kansas</th>\n",
       "      <td id=\"T_12b3d_row15_col0\" class=\"data row15 col0\" >84346.352941</td>\n",
       "      <td id=\"T_12b3d_row15_col1\" class=\"data row15 col1\" >104886.117647</td>\n",
       "      <td id=\"T_12b3d_row15_col2\" class=\"data row15 col2\" >1.814589</td>\n",
       "      <td id=\"T_12b3d_row15_col3\" class=\"data row15 col3\" >2.256472</td>\n",
       "      <td id=\"T_12b3d_row15_col4\" class=\"data row15 col4\" >1.007085</td>\n",
       "      <td id=\"T_12b3d_row15_col5\" class=\"data row15 col5\" >1.252328</td>\n",
       "      <td id=\"T_12b3d_row15_col6\" class=\"data row15 col6\" >17</td>\n",
       "      <td id=\"T_12b3d_row15_col7\" class=\"data row15 col7\" >46482.352941</td>\n",
       "      <td id=\"T_12b3d_row15_col8\" class=\"data row15 col8\" >83752.941176</td>\n",
       "      <td id=\"T_12b3d_row15_col9\" class=\"data row15 col9\" >60.352941</td>\n",
       "      <td id=\"T_12b3d_row15_col10\" class=\"data row15 col10\" >9.764706</td>\n",
       "      <td id=\"T_12b3d_row15_col11\" class=\"data row15 col11\" >21086.588235</td>\n",
       "      <td id=\"T_12b3d_row15_col12\" class=\"data row15 col12\" >26221.529412</td>\n",
       "    </tr>\n",
       "    <tr>\n",
       "      <th id=\"T_12b3d_level0_row16\" class=\"row_heading level0 row16\" >Kentucky</th>\n",
       "      <td id=\"T_12b3d_row16_col0\" class=\"data row16 col0\" >92465.500000</td>\n",
       "      <td id=\"T_12b3d_row16_col1\" class=\"data row16 col1\" >108970.166667</td>\n",
       "      <td id=\"T_12b3d_row16_col2\" class=\"data row16 col2\" >2.113296</td>\n",
       "      <td id=\"T_12b3d_row16_col3\" class=\"data row16 col3\" >2.490509</td>\n",
       "      <td id=\"T_12b3d_row16_col4\" class=\"data row16 col4\" >1.170264</td>\n",
       "      <td id=\"T_12b3d_row16_col5\" class=\"data row16 col5\" >1.379151</td>\n",
       "      <td id=\"T_12b3d_row16_col6\" class=\"data row16 col6\" >24</td>\n",
       "      <td id=\"T_12b3d_row16_col7\" class=\"data row16 col7\" >43754.166667</td>\n",
       "      <td id=\"T_12b3d_row16_col8\" class=\"data row16 col8\" >79012.500000</td>\n",
       "      <td id=\"T_12b3d_row16_col9\" class=\"data row16 col9\" >56.083333</td>\n",
       "      <td id=\"T_12b3d_row16_col10\" class=\"data row16 col10\" >10.708333</td>\n",
       "      <td id=\"T_12b3d_row16_col11\" class=\"data row16 col11\" >23116.375000</td>\n",
       "      <td id=\"T_12b3d_row16_col12\" class=\"data row16 col12\" >27242.541667</td>\n",
       "    </tr>\n",
       "    <tr>\n",
       "      <th id=\"T_12b3d_level0_row17\" class=\"row_heading level0 row17\" >Louisiana</th>\n",
       "      <td id=\"T_12b3d_row17_col0\" class=\"data row17 col0\" >61872.000000</td>\n",
       "      <td id=\"T_12b3d_row17_col1\" class=\"data row17 col1\" >81881.333333</td>\n",
       "      <td id=\"T_12b3d_row17_col2\" class=\"data row17 col2\" >1.318670</td>\n",
       "      <td id=\"T_12b3d_row17_col3\" class=\"data row17 col3\" >1.745126</td>\n",
       "      <td id=\"T_12b3d_row17_col4\" class=\"data row17 col4\" >0.720056</td>\n",
       "      <td id=\"T_12b3d_row17_col5\" class=\"data row17 col5\" >0.952921</td>\n",
       "      <td id=\"T_12b3d_row17_col6\" class=\"data row17 col6\" >15</td>\n",
       "      <td id=\"T_12b3d_row17_col7\" class=\"data row17 col7\" >46920.000000</td>\n",
       "      <td id=\"T_12b3d_row17_col8\" class=\"data row17 col8\" >85926.666667</td>\n",
       "      <td id=\"T_12b3d_row17_col9\" class=\"data row17 col9\" >58.666667</td>\n",
       "      <td id=\"T_12b3d_row17_col10\" class=\"data row17 col10\" >14.266667</td>\n",
       "      <td id=\"T_12b3d_row17_col11\" class=\"data row17 col11\" >15468.000000</td>\n",
       "      <td id=\"T_12b3d_row17_col12\" class=\"data row17 col12\" >20470.333333</td>\n",
       "    </tr>\n",
       "    <tr>\n",
       "      <th id=\"T_12b3d_level0_row18\" class=\"row_heading level0 row18\" >Maine</th>\n",
       "      <td id=\"T_12b3d_row18_col0\" class=\"data row18 col0\" >98022.000000</td>\n",
       "      <td id=\"T_12b3d_row18_col1\" class=\"data row18 col1\" >118617.500000</td>\n",
       "      <td id=\"T_12b3d_row18_col2\" class=\"data row18 col2\" >2.034443</td>\n",
       "      <td id=\"T_12b3d_row18_col3\" class=\"data row18 col3\" >2.461902</td>\n",
       "      <td id=\"T_12b3d_row18_col4\" class=\"data row18 col4\" >1.134186</td>\n",
       "      <td id=\"T_12b3d_row18_col5\" class=\"data row18 col5\" >1.372491</td>\n",
       "      <td id=\"T_12b3d_row18_col6\" class=\"data row18 col6\" >16</td>\n",
       "      <td id=\"T_12b3d_row18_col7\" class=\"data row18 col7\" >48181.250000</td>\n",
       "      <td id=\"T_12b3d_row18_col8\" class=\"data row18 col8\" >86425.000000</td>\n",
       "      <td id=\"T_12b3d_row18_col9\" class=\"data row18 col9\" >55.875000</td>\n",
       "      <td id=\"T_12b3d_row18_col10\" class=\"data row18 col10\" >13.375000</td>\n",
       "      <td id=\"T_12b3d_row18_col11\" class=\"data row18 col11\" >24505.500000</td>\n",
       "      <td id=\"T_12b3d_row18_col12\" class=\"data row18 col12\" >29654.375000</td>\n",
       "    </tr>\n",
       "    <tr>\n",
       "      <th id=\"T_12b3d_level0_row19\" class=\"row_heading level0 row19\" >Maryland</th>\n",
       "      <td id=\"T_12b3d_row19_col0\" class=\"data row19 col0\" >126087.529412</td>\n",
       "      <td id=\"T_12b3d_row19_col1\" class=\"data row19 col1\" >140075.294118</td>\n",
       "      <td id=\"T_12b3d_row19_col2\" class=\"data row19 col2\" >2.377163</td>\n",
       "      <td id=\"T_12b3d_row19_col3\" class=\"data row19 col3\" >2.640878</td>\n",
       "      <td id=\"T_12b3d_row19_col4\" class=\"data row19 col4\" >1.331607</td>\n",
       "      <td id=\"T_12b3d_row19_col5\" class=\"data row19 col5\" >1.479332</td>\n",
       "      <td id=\"T_12b3d_row19_col6\" class=\"data row19 col6\" >17</td>\n",
       "      <td id=\"T_12b3d_row19_col7\" class=\"data row19 col7\" >53041.176471</td>\n",
       "      <td id=\"T_12b3d_row19_col8\" class=\"data row19 col8\" >94688.235294</td>\n",
       "      <td id=\"T_12b3d_row19_col9\" class=\"data row19 col9\" >52.294118</td>\n",
       "      <td id=\"T_12b3d_row19_col10\" class=\"data row19 col10\" >17.294118</td>\n",
       "      <td id=\"T_12b3d_row19_col11\" class=\"data row19 col11\" >31521.882353</td>\n",
       "      <td id=\"T_12b3d_row19_col12\" class=\"data row19 col12\" >35018.823529</td>\n",
       "    </tr>\n",
       "    <tr>\n",
       "      <th id=\"T_12b3d_level0_row20\" class=\"row_heading level0 row20\" >Massachusetts</th>\n",
       "      <td id=\"T_12b3d_row20_col0\" class=\"data row20 col0\" >188594.857143</td>\n",
       "      <td id=\"T_12b3d_row20_col1\" class=\"data row20 col1\" >191714.476190</td>\n",
       "      <td id=\"T_12b3d_row20_col2\" class=\"data row20 col2\" >2.969107</td>\n",
       "      <td id=\"T_12b3d_row20_col3\" class=\"data row20 col3\" >3.018220</td>\n",
       "      <td id=\"T_12b3d_row20_col4\" class=\"data row20 col4\" >1.625684</td>\n",
       "      <td id=\"T_12b3d_row20_col5\" class=\"data row20 col5\" >1.652575</td>\n",
       "      <td id=\"T_12b3d_row20_col6\" class=\"data row20 col6\" >21</td>\n",
       "      <td id=\"T_12b3d_row20_col7\" class=\"data row20 col7\" >63519.047619</td>\n",
       "      <td id=\"T_12b3d_row20_col8\" class=\"data row20 col8\" >116009.523810</td>\n",
       "      <td id=\"T_12b3d_row20_col9\" class=\"data row20 col9\" >47.523810</td>\n",
       "      <td id=\"T_12b3d_row20_col10\" class=\"data row20 col10\" >28.380952</td>\n",
       "      <td id=\"T_12b3d_row20_col11\" class=\"data row20 col11\" >47148.714286</td>\n",
       "      <td id=\"T_12b3d_row20_col12\" class=\"data row20 col12\" >47928.619048</td>\n",
       "    </tr>\n",
       "    <tr>\n",
       "      <th id=\"T_12b3d_level0_row21\" class=\"row_heading level0 row21\" >Michigan</th>\n",
       "      <td id=\"T_12b3d_row21_col0\" class=\"data row21 col0\" >99996.545455</td>\n",
       "      <td id=\"T_12b3d_row21_col1\" class=\"data row21 col1\" >115760.181818</td>\n",
       "      <td id=\"T_12b3d_row21_col2\" class=\"data row21 col2\" >1.934339</td>\n",
       "      <td id=\"T_12b3d_row21_col3\" class=\"data row21 col3\" >2.239272</td>\n",
       "      <td id=\"T_12b3d_row21_col4\" class=\"data row21 col4\" >1.069898</td>\n",
       "      <td id=\"T_12b3d_row21_col5\" class=\"data row21 col5\" >1.238559</td>\n",
       "      <td id=\"T_12b3d_row21_col6\" class=\"data row21 col6\" >22</td>\n",
       "      <td id=\"T_12b3d_row21_col7\" class=\"data row21 col7\" >51695.454545</td>\n",
       "      <td id=\"T_12b3d_row21_col8\" class=\"data row21 col8\" >93463.636364</td>\n",
       "      <td id=\"T_12b3d_row21_col9\" class=\"data row21 col9\" >48.909091</td>\n",
       "      <td id=\"T_12b3d_row21_col10\" class=\"data row21 col10\" >21.772727</td>\n",
       "      <td id=\"T_12b3d_row21_col11\" class=\"data row21 col11\" >24999.136364</td>\n",
       "      <td id=\"T_12b3d_row21_col12\" class=\"data row21 col12\" >28940.045455</td>\n",
       "    </tr>\n",
       "    <tr>\n",
       "      <th id=\"T_12b3d_level0_row22\" class=\"row_heading level0 row22\" >Minnesota</th>\n",
       "      <td id=\"T_12b3d_row22_col0\" class=\"data row22 col0\" >133345.333333</td>\n",
       "      <td id=\"T_12b3d_row22_col1\" class=\"data row22 col1\" >142793.333333</td>\n",
       "      <td id=\"T_12b3d_row22_col2\" class=\"data row22 col2\" >2.602707</td>\n",
       "      <td id=\"T_12b3d_row22_col3\" class=\"data row22 col3\" >2.787118</td>\n",
       "      <td id=\"T_12b3d_row22_col4\" class=\"data row22 col4\" >1.432965</td>\n",
       "      <td id=\"T_12b3d_row22_col5\" class=\"data row22 col5\" >1.534496</td>\n",
       "      <td id=\"T_12b3d_row22_col6\" class=\"data row22 col6\" >9</td>\n",
       "      <td id=\"T_12b3d_row22_col7\" class=\"data row22 col7\" >51233.333333</td>\n",
       "      <td id=\"T_12b3d_row22_col8\" class=\"data row22 col8\" >93055.555556</td>\n",
       "      <td id=\"T_12b3d_row22_col9\" class=\"data row22 col9\" >49.111111</td>\n",
       "      <td id=\"T_12b3d_row22_col10\" class=\"data row22 col10\" >16.666667</td>\n",
       "      <td id=\"T_12b3d_row22_col11\" class=\"data row22 col11\" >33336.333333</td>\n",
       "      <td id=\"T_12b3d_row22_col12\" class=\"data row22 col12\" >35698.333333</td>\n",
       "    </tr>\n",
       "    <tr>\n",
       "      <th id=\"T_12b3d_level0_row23\" class=\"row_heading level0 row23\" >Mississippi</th>\n",
       "      <td id=\"T_12b3d_row23_col0\" class=\"data row23 col0\" >51116.000000</td>\n",
       "      <td id=\"T_12b3d_row23_col1\" class=\"data row23 col1\" >63625.142857</td>\n",
       "      <td id=\"T_12b3d_row23_col2\" class=\"data row23 col2\" >1.215807</td>\n",
       "      <td id=\"T_12b3d_row23_col3\" class=\"data row23 col3\" >1.513340</td>\n",
       "      <td id=\"T_12b3d_row23_col4\" class=\"data row23 col4\" >0.675181</td>\n",
       "      <td id=\"T_12b3d_row23_col5\" class=\"data row23 col5\" >0.840411</td>\n",
       "      <td id=\"T_12b3d_row23_col6\" class=\"data row23 col6\" >14</td>\n",
       "      <td id=\"T_12b3d_row23_col7\" class=\"data row23 col7\" >42042.857143</td>\n",
       "      <td id=\"T_12b3d_row23_col8\" class=\"data row23 col8\" >75707.142857</td>\n",
       "      <td id=\"T_12b3d_row23_col9\" class=\"data row23 col9\" >62.642857</td>\n",
       "      <td id=\"T_12b3d_row23_col10\" class=\"data row23 col10\" >14.642857</td>\n",
       "      <td id=\"T_12b3d_row23_col11\" class=\"data row23 col11\" >12779.000000</td>\n",
       "      <td id=\"T_12b3d_row23_col12\" class=\"data row23 col12\" >15906.285714</td>\n",
       "    </tr>\n",
       "    <tr>\n",
       "      <th id=\"T_12b3d_level0_row24\" class=\"row_heading level0 row24\" >Missouri</th>\n",
       "      <td id=\"T_12b3d_row24_col0\" class=\"data row24 col0\" >86910.352941</td>\n",
       "      <td id=\"T_12b3d_row24_col1\" class=\"data row24 col1\" >99148.235294</td>\n",
       "      <td id=\"T_12b3d_row24_col2\" class=\"data row24 col2\" >1.809745</td>\n",
       "      <td id=\"T_12b3d_row24_col3\" class=\"data row24 col3\" >2.064576</td>\n",
       "      <td id=\"T_12b3d_row24_col4\" class=\"data row24 col4\" >1.013011</td>\n",
       "      <td id=\"T_12b3d_row24_col5\" class=\"data row24 col5\" >1.155653</td>\n",
       "      <td id=\"T_12b3d_row24_col6\" class=\"data row24 col6\" >17</td>\n",
       "      <td id=\"T_12b3d_row24_col7\" class=\"data row24 col7\" >48023.529412</td>\n",
       "      <td id=\"T_12b3d_row24_col8\" class=\"data row24 col8\" >85794.117647</td>\n",
       "      <td id=\"T_12b3d_row24_col9\" class=\"data row24 col9\" >53.000000</td>\n",
       "      <td id=\"T_12b3d_row24_col10\" class=\"data row24 col10\" >15.705882</td>\n",
       "      <td id=\"T_12b3d_row24_col11\" class=\"data row24 col11\" >21727.588235</td>\n",
       "      <td id=\"T_12b3d_row24_col12\" class=\"data row24 col12\" >24787.058824</td>\n",
       "    </tr>\n",
       "    <tr>\n",
       "      <th id=\"T_12b3d_level0_row25\" class=\"row_heading level0 row25\" >Montana</th>\n",
       "      <td id=\"T_12b3d_row25_col0\" class=\"data row25 col0\" >78830.000000</td>\n",
       "      <td id=\"T_12b3d_row25_col1\" class=\"data row25 col1\" >111421.000000</td>\n",
       "      <td id=\"T_12b3d_row25_col2\" class=\"data row25 col2\" >1.507987</td>\n",
       "      <td id=\"T_12b3d_row25_col3\" class=\"data row25 col3\" >2.131440</td>\n",
       "      <td id=\"T_12b3d_row25_col4\" class=\"data row25 col4\" >0.823075</td>\n",
       "      <td id=\"T_12b3d_row25_col5\" class=\"data row25 col5\" >1.163362</td>\n",
       "      <td id=\"T_12b3d_row25_col6\" class=\"data row25 col6\" >4</td>\n",
       "      <td id=\"T_12b3d_row25_col7\" class=\"data row25 col7\" >52275.000000</td>\n",
       "      <td id=\"T_12b3d_row25_col8\" class=\"data row25 col8\" >95775.000000</td>\n",
       "      <td id=\"T_12b3d_row25_col9\" class=\"data row25 col9\" >58.000000</td>\n",
       "      <td id=\"T_12b3d_row25_col10\" class=\"data row25 col10\" >32.250000</td>\n",
       "      <td id=\"T_12b3d_row25_col11\" class=\"data row25 col11\" >19707.500000</td>\n",
       "      <td id=\"T_12b3d_row25_col12\" class=\"data row25 col12\" >27855.250000</td>\n",
       "    </tr>\n",
       "    <tr>\n",
       "      <th id=\"T_12b3d_level0_row26\" class=\"row_heading level0 row26\" >Nebraska</th>\n",
       "      <td id=\"T_12b3d_row26_col0\" class=\"data row26 col0\" >78756.727273</td>\n",
       "      <td id=\"T_12b3d_row26_col1\" class=\"data row26 col1\" >87004.000000</td>\n",
       "      <td id=\"T_12b3d_row26_col2\" class=\"data row26 col2\" >1.683163</td>\n",
       "      <td id=\"T_12b3d_row26_col3\" class=\"data row26 col3\" >1.859421</td>\n",
       "      <td id=\"T_12b3d_row26_col4\" class=\"data row26 col4\" >0.948461</td>\n",
       "      <td id=\"T_12b3d_row26_col5\" class=\"data row26 col5\" >1.047782</td>\n",
       "      <td id=\"T_12b3d_row26_col6\" class=\"data row26 col6\" >11</td>\n",
       "      <td id=\"T_12b3d_row26_col7\" class=\"data row26 col7\" >46790.909091</td>\n",
       "      <td id=\"T_12b3d_row26_col8\" class=\"data row26 col8\" >83036.363636</td>\n",
       "      <td id=\"T_12b3d_row26_col9\" class=\"data row26 col9\" >59.636364</td>\n",
       "      <td id=\"T_12b3d_row26_col10\" class=\"data row26 col10\" >8.727273</td>\n",
       "      <td id=\"T_12b3d_row26_col11\" class=\"data row26 col11\" >19689.181818</td>\n",
       "      <td id=\"T_12b3d_row26_col12\" class=\"data row26 col12\" >21751.000000</td>\n",
       "    </tr>\n",
       "    <tr>\n",
       "      <th id=\"T_12b3d_level0_row27\" class=\"row_heading level0 row27\" >Nevada</th>\n",
       "      <td id=\"T_12b3d_row27_col0\" class=\"data row27 col0\" >136964.000000</td>\n",
       "      <td id=\"T_12b3d_row27_col1\" class=\"data row27 col1\" >136964.000000</td>\n",
       "      <td id=\"T_12b3d_row27_col2\" class=\"data row27 col2\" >2.536370</td>\n",
       "      <td id=\"T_12b3d_row27_col3\" class=\"data row27 col3\" >2.536370</td>\n",
       "      <td id=\"T_12b3d_row27_col4\" class=\"data row27 col4\" >1.434178</td>\n",
       "      <td id=\"T_12b3d_row27_col5\" class=\"data row27 col5\" >1.434178</td>\n",
       "      <td id=\"T_12b3d_row27_col6\" class=\"data row27 col6\" >1</td>\n",
       "      <td id=\"T_12b3d_row27_col7\" class=\"data row27 col7\" >54000.000000</td>\n",
       "      <td id=\"T_12b3d_row27_col8\" class=\"data row27 col8\" >95500.000000</td>\n",
       "      <td id=\"T_12b3d_row27_col9\" class=\"data row27 col9\" >39.000000</td>\n",
       "      <td id=\"T_12b3d_row27_col10\" class=\"data row27 col10\" >2.000000</td>\n",
       "      <td id=\"T_12b3d_row27_col11\" class=\"data row27 col11\" >34241.000000</td>\n",
       "      <td id=\"T_12b3d_row27_col12\" class=\"data row27 col12\" >34241.000000</td>\n",
       "    </tr>\n",
       "    <tr>\n",
       "      <th id=\"T_12b3d_level0_row28\" class=\"row_heading level0 row28\" >New Hampshire</th>\n",
       "      <td id=\"T_12b3d_row28_col0\" class=\"data row28 col0\" >120004.363636</td>\n",
       "      <td id=\"T_12b3d_row28_col1\" class=\"data row28 col1\" >132453.090909</td>\n",
       "      <td id=\"T_12b3d_row28_col2\" class=\"data row28 col2\" >2.374187</td>\n",
       "      <td id=\"T_12b3d_row28_col3\" class=\"data row28 col3\" >2.620475</td>\n",
       "      <td id=\"T_12b3d_row28_col4\" class=\"data row28 col4\" >1.334730</td>\n",
       "      <td id=\"T_12b3d_row28_col5\" class=\"data row28 col5\" >1.473189</td>\n",
       "      <td id=\"T_12b3d_row28_col6\" class=\"data row28 col6\" >11</td>\n",
       "      <td id=\"T_12b3d_row28_col7\" class=\"data row28 col7\" >50545.454545</td>\n",
       "      <td id=\"T_12b3d_row28_col8\" class=\"data row28 col8\" >89909.090909</td>\n",
       "      <td id=\"T_12b3d_row28_col9\" class=\"data row28 col9\" >51.272727</td>\n",
       "      <td id=\"T_12b3d_row28_col10\" class=\"data row28 col10\" >16.181818</td>\n",
       "      <td id=\"T_12b3d_row28_col11\" class=\"data row28 col11\" >30001.090909</td>\n",
       "      <td id=\"T_12b3d_row28_col12\" class=\"data row28 col12\" >33113.272727</td>\n",
       "    </tr>\n",
       "    <tr>\n",
       "      <th id=\"T_12b3d_level0_row29\" class=\"row_heading level0 row29\" >New Jersey</th>\n",
       "      <td id=\"T_12b3d_row29_col0\" class=\"data row29 col0\" >104793.263158</td>\n",
       "      <td id=\"T_12b3d_row29_col1\" class=\"data row29 col1\" >123157.473684</td>\n",
       "      <td id=\"T_12b3d_row29_col2\" class=\"data row29 col2\" >1.910634</td>\n",
       "      <td id=\"T_12b3d_row29_col3\" class=\"data row29 col3\" >2.245458</td>\n",
       "      <td id=\"T_12b3d_row29_col4\" class=\"data row29 col4\" >1.043758</td>\n",
       "      <td id=\"T_12b3d_row29_col5\" class=\"data row29 col5\" >1.226668</td>\n",
       "      <td id=\"T_12b3d_row29_col6\" class=\"data row29 col6\" >19</td>\n",
       "      <td id=\"T_12b3d_row29_col7\" class=\"data row29 col7\" >54847.368421</td>\n",
       "      <td id=\"T_12b3d_row29_col8\" class=\"data row29 col8\" >100400.000000</td>\n",
       "      <td id=\"T_12b3d_row29_col9\" class=\"data row29 col9\" >46.473684</td>\n",
       "      <td id=\"T_12b3d_row29_col10\" class=\"data row29 col10\" >20.263158</td>\n",
       "      <td id=\"T_12b3d_row29_col11\" class=\"data row29 col11\" >26198.315789</td>\n",
       "      <td id=\"T_12b3d_row29_col12\" class=\"data row29 col12\" >30789.368421</td>\n",
       "    </tr>\n",
       "    <tr>\n",
       "      <th id=\"T_12b3d_level0_row30\" class=\"row_heading level0 row30\" >New Mexico</th>\n",
       "      <td id=\"T_12b3d_row30_col0\" class=\"data row30 col0\" >27658.666667</td>\n",
       "      <td id=\"T_12b3d_row30_col1\" class=\"data row30 col1\" >63734.666667</td>\n",
       "      <td id=\"T_12b3d_row30_col2\" class=\"data row30 col2\" >0.565232</td>\n",
       "      <td id=\"T_12b3d_row30_col3\" class=\"data row30 col3\" >1.302480</td>\n",
       "      <td id=\"T_12b3d_row30_col4\" class=\"data row30 col4\" >0.306298</td>\n",
       "      <td id=\"T_12b3d_row30_col5\" class=\"data row30 col5\" >0.705810</td>\n",
       "      <td id=\"T_12b3d_row30_col6\" class=\"data row30 col6\" >3</td>\n",
       "      <td id=\"T_12b3d_row30_col7\" class=\"data row30 col7\" >48933.333333</td>\n",
       "      <td id=\"T_12b3d_row30_col8\" class=\"data row30 col8\" >90300.000000</td>\n",
       "      <td id=\"T_12b3d_row30_col9\" class=\"data row30 col9\" >66.333333</td>\n",
       "      <td id=\"T_12b3d_row30_col10\" class=\"data row30 col10\" >33.000000</td>\n",
       "      <td id=\"T_12b3d_row30_col11\" class=\"data row30 col11\" >6914.666667</td>\n",
       "      <td id=\"T_12b3d_row30_col12\" class=\"data row30 col12\" >15933.666667</td>\n",
       "    </tr>\n",
       "    <tr>\n",
       "      <th id=\"T_12b3d_level0_row31\" class=\"row_heading level0 row31\" >New York</th>\n",
       "      <td id=\"T_12b3d_row31_col0\" class=\"data row31 col0\" >178446.000000</td>\n",
       "      <td id=\"T_12b3d_row31_col1\" class=\"data row31 col1\" >183253.500000</td>\n",
       "      <td id=\"T_12b3d_row31_col2\" class=\"data row31 col2\" >2.708601</td>\n",
       "      <td id=\"T_12b3d_row31_col3\" class=\"data row31 col3\" >2.781573</td>\n",
       "      <td id=\"T_12b3d_row31_col4\" class=\"data row31 col4\" >1.461399</td>\n",
       "      <td id=\"T_12b3d_row31_col5\" class=\"data row31 col5\" >1.500771</td>\n",
       "      <td id=\"T_12b3d_row31_col6\" class=\"data row31 col6\" >16</td>\n",
       "      <td id=\"T_12b3d_row31_col7\" class=\"data row31 col7\" >65881.250000</td>\n",
       "      <td id=\"T_12b3d_row31_col8\" class=\"data row31 col8\" >122106.250000</td>\n",
       "      <td id=\"T_12b3d_row31_col9\" class=\"data row31 col9\" >50.812500</td>\n",
       "      <td id=\"T_12b3d_row31_col10\" class=\"data row31 col10\" >28.562500</td>\n",
       "      <td id=\"T_12b3d_row31_col11\" class=\"data row31 col11\" >44611.500000</td>\n",
       "      <td id=\"T_12b3d_row31_col12\" class=\"data row31 col12\" >45813.375000</td>\n",
       "    </tr>\n",
       "    <tr>\n",
       "      <th id=\"T_12b3d_level0_row32\" class=\"row_heading level0 row32\" >North Carolina</th>\n",
       "      <td id=\"T_12b3d_row32_col0\" class=\"data row32 col0\" >110695.200000</td>\n",
       "      <td id=\"T_12b3d_row32_col1\" class=\"data row32 col1\" >128864.000000</td>\n",
       "      <td id=\"T_12b3d_row32_col2\" class=\"data row32 col2\" >2.227492</td>\n",
       "      <td id=\"T_12b3d_row32_col3\" class=\"data row32 col3\" >2.593098</td>\n",
       "      <td id=\"T_12b3d_row32_col4\" class=\"data row32 col4\" >1.240352</td>\n",
       "      <td id=\"T_12b3d_row32_col5\" class=\"data row32 col5\" >1.443935</td>\n",
       "      <td id=\"T_12b3d_row32_col6\" class=\"data row32 col6\" >20</td>\n",
       "      <td id=\"T_12b3d_row32_col7\" class=\"data row32 col7\" >49695.000000</td>\n",
       "      <td id=\"T_12b3d_row32_col8\" class=\"data row32 col8\" >89245.000000</td>\n",
       "      <td id=\"T_12b3d_row32_col9\" class=\"data row32 col9\" >51.850000</td>\n",
       "      <td id=\"T_12b3d_row32_col10\" class=\"data row32 col10\" >11.150000</td>\n",
       "      <td id=\"T_12b3d_row32_col11\" class=\"data row32 col11\" >27673.800000</td>\n",
       "      <td id=\"T_12b3d_row32_col12\" class=\"data row32 col12\" >32216.000000</td>\n",
       "    </tr>\n",
       "    <tr>\n",
       "      <th id=\"T_12b3d_level0_row33\" class=\"row_heading level0 row33\" >North Dakota</th>\n",
       "      <td id=\"T_12b3d_row33_col0\" class=\"data row33 col0\" >44292.571429</td>\n",
       "      <td id=\"T_12b3d_row33_col1\" class=\"data row33 col1\" >59787.428571</td>\n",
       "      <td id=\"T_12b3d_row33_col2\" class=\"data row33 col2\" >0.961986</td>\n",
       "      <td id=\"T_12b3d_row33_col3\" class=\"data row33 col3\" >1.298517</td>\n",
       "      <td id=\"T_12b3d_row33_col4\" class=\"data row33 col4\" >0.548078</td>\n",
       "      <td id=\"T_12b3d_row33_col5\" class=\"data row33 col5\" >0.739813</td>\n",
       "      <td id=\"T_12b3d_row33_col6\" class=\"data row33 col6\" >7</td>\n",
       "      <td id=\"T_12b3d_row33_col7\" class=\"data row33 col7\" >46042.857143</td>\n",
       "      <td id=\"T_12b3d_row33_col8\" class=\"data row33 col8\" >80814.285714</td>\n",
       "      <td id=\"T_12b3d_row33_col9\" class=\"data row33 col9\" >56.000000</td>\n",
       "      <td id=\"T_12b3d_row33_col10\" class=\"data row33 col10\" >8.285714</td>\n",
       "      <td id=\"T_12b3d_row33_col11\" class=\"data row33 col11\" >11073.142857</td>\n",
       "      <td id=\"T_12b3d_row33_col12\" class=\"data row33 col12\" >14946.857143</td>\n",
       "    </tr>\n",
       "    <tr>\n",
       "      <th id=\"T_12b3d_level0_row34\" class=\"row_heading level0 row34\" >Ohio</th>\n",
       "      <td id=\"T_12b3d_row34_col0\" class=\"data row34 col0\" >147707.466667</td>\n",
       "      <td id=\"T_12b3d_row34_col1\" class=\"data row34 col1\" >151362.133333</td>\n",
       "      <td id=\"T_12b3d_row34_col2\" class=\"data row34 col2\" >2.755051</td>\n",
       "      <td id=\"T_12b3d_row34_col3\" class=\"data row34 col3\" >2.823218</td>\n",
       "      <td id=\"T_12b3d_row34_col4\" class=\"data row34 col4\" >1.485393</td>\n",
       "      <td id=\"T_12b3d_row34_col5\" class=\"data row34 col5\" >1.522145</td>\n",
       "      <td id=\"T_12b3d_row34_col6\" class=\"data row34 col6\" >15</td>\n",
       "      <td id=\"T_12b3d_row34_col7\" class=\"data row34 col7\" >53613.333333</td>\n",
       "      <td id=\"T_12b3d_row34_col8\" class=\"data row34 col8\" >99440.000000</td>\n",
       "      <td id=\"T_12b3d_row34_col9\" class=\"data row34 col9\" >50.000000</td>\n",
       "      <td id=\"T_12b3d_row34_col10\" class=\"data row34 col10\" >21.533333</td>\n",
       "      <td id=\"T_12b3d_row34_col11\" class=\"data row34 col11\" >36926.866667</td>\n",
       "      <td id=\"T_12b3d_row34_col12\" class=\"data row34 col12\" >37840.533333</td>\n",
       "    </tr>\n",
       "    <tr>\n",
       "      <th id=\"T_12b3d_level0_row35\" class=\"row_heading level0 row35\" >Oklahoma</th>\n",
       "      <td id=\"T_12b3d_row35_col0\" class=\"data row35 col0\" >62780.421053</td>\n",
       "      <td id=\"T_12b3d_row35_col1\" class=\"data row35 col1\" >81497.052632</td>\n",
       "      <td id=\"T_12b3d_row35_col2\" class=\"data row35 col2\" >1.391865</td>\n",
       "      <td id=\"T_12b3d_row35_col3\" class=\"data row35 col3\" >1.806819</td>\n",
       "      <td id=\"T_12b3d_row35_col4\" class=\"data row35 col4\" >0.772957</td>\n",
       "      <td id=\"T_12b3d_row35_col5\" class=\"data row35 col5\" >1.003398</td>\n",
       "      <td id=\"T_12b3d_row35_col6\" class=\"data row35 col6\" >19</td>\n",
       "      <td id=\"T_12b3d_row35_col7\" class=\"data row35 col7\" >45105.263158</td>\n",
       "      <td id=\"T_12b3d_row35_col8\" class=\"data row35 col8\" >81221.052632</td>\n",
       "      <td id=\"T_12b3d_row35_col9\" class=\"data row35 col9\" >57.631579</td>\n",
       "      <td id=\"T_12b3d_row35_col10\" class=\"data row35 col10\" >11.421053</td>\n",
       "      <td id=\"T_12b3d_row35_col11\" class=\"data row35 col11\" >15695.105263</td>\n",
       "      <td id=\"T_12b3d_row35_col12\" class=\"data row35 col12\" >20374.263158</td>\n",
       "    </tr>\n",
       "    <tr>\n",
       "      <th id=\"T_12b3d_level0_row36\" class=\"row_heading level0 row36\" >Oregon</th>\n",
       "      <td id=\"T_12b3d_row36_col0\" class=\"data row36 col0\" >107244.444444</td>\n",
       "      <td id=\"T_12b3d_row36_col1\" class=\"data row36 col1\" >137896.444444</td>\n",
       "      <td id=\"T_12b3d_row36_col2\" class=\"data row36 col2\" >2.115507</td>\n",
       "      <td id=\"T_12b3d_row36_col3\" class=\"data row36 col3\" >2.720149</td>\n",
       "      <td id=\"T_12b3d_row36_col4\" class=\"data row36 col4\" >1.177432</td>\n",
       "      <td id=\"T_12b3d_row36_col5\" class=\"data row36 col5\" >1.513959</td>\n",
       "      <td id=\"T_12b3d_row36_col6\" class=\"data row36 col6\" >18</td>\n",
       "      <td id=\"T_12b3d_row36_col7\" class=\"data row36 col7\" >50694.444444</td>\n",
       "      <td id=\"T_12b3d_row36_col8\" class=\"data row36 col8\" >91083.333333</td>\n",
       "      <td id=\"T_12b3d_row36_col9\" class=\"data row36 col9\" >57.222222</td>\n",
       "      <td id=\"T_12b3d_row36_col10\" class=\"data row36 col10\" >12.111111</td>\n",
       "      <td id=\"T_12b3d_row36_col11\" class=\"data row36 col11\" >26811.111111</td>\n",
       "      <td id=\"T_12b3d_row36_col12\" class=\"data row36 col12\" >34474.111111</td>\n",
       "    </tr>\n",
       "    <tr>\n",
       "      <th id=\"T_12b3d_level0_row37\" class=\"row_heading level0 row37\" >Pennsylvania</th>\n",
       "      <td id=\"T_12b3d_row37_col0\" class=\"data row37 col0\" >191462.526316</td>\n",
       "      <td id=\"T_12b3d_row37_col1\" class=\"data row37 col1\" >191462.526316</td>\n",
       "      <td id=\"T_12b3d_row37_col2\" class=\"data row37 col2\" >3.116412</td>\n",
       "      <td id=\"T_12b3d_row37_col3\" class=\"data row37 col3\" >3.116412</td>\n",
       "      <td id=\"T_12b3d_row37_col4\" class=\"data row37 col4\" >1.687521</td>\n",
       "      <td id=\"T_12b3d_row37_col5\" class=\"data row37 col5\" >1.687521</td>\n",
       "      <td id=\"T_12b3d_row37_col6\" class=\"data row37 col6\" >19</td>\n",
       "      <td id=\"T_12b3d_row37_col7\" class=\"data row37 col7\" >61436.842105</td>\n",
       "      <td id=\"T_12b3d_row37_col8\" class=\"data row37 col8\" >113457.894737</td>\n",
       "      <td id=\"T_12b3d_row37_col9\" class=\"data row37 col9\" >45.368421</td>\n",
       "      <td id=\"T_12b3d_row37_col10\" class=\"data row37 col10\" >28.631579</td>\n",
       "      <td id=\"T_12b3d_row37_col11\" class=\"data row37 col11\" >47865.631579</td>\n",
       "      <td id=\"T_12b3d_row37_col12\" class=\"data row37 col12\" >47865.631579</td>\n",
       "    </tr>\n",
       "    <tr>\n",
       "      <th id=\"T_12b3d_level0_row38\" class=\"row_heading level0 row38\" >Rhode Island</th>\n",
       "      <td id=\"T_12b3d_row38_col0\" class=\"data row38 col0\" >146248.000000</td>\n",
       "      <td id=\"T_12b3d_row38_col1\" class=\"data row38 col1\" >159353.333333</td>\n",
       "      <td id=\"T_12b3d_row38_col2\" class=\"data row38 col2\" >2.619889</td>\n",
       "      <td id=\"T_12b3d_row38_col3\" class=\"data row38 col3\" >2.854658</td>\n",
       "      <td id=\"T_12b3d_row38_col4\" class=\"data row38 col4\" >1.451673</td>\n",
       "      <td id=\"T_12b3d_row38_col5\" class=\"data row38 col5\" >1.581758</td>\n",
       "      <td id=\"T_12b3d_row38_col6\" class=\"data row38 col6\" >9</td>\n",
       "      <td id=\"T_12b3d_row38_col7\" class=\"data row38 col7\" >55822.222222</td>\n",
       "      <td id=\"T_12b3d_row38_col8\" class=\"data row38 col8\" >100744.444444</td>\n",
       "      <td id=\"T_12b3d_row38_col9\" class=\"data row38 col9\" >45.444444</td>\n",
       "      <td id=\"T_12b3d_row38_col10\" class=\"data row38 col10\" >13.000000</td>\n",
       "      <td id=\"T_12b3d_row38_col11\" class=\"data row38 col11\" >36562.000000</td>\n",
       "      <td id=\"T_12b3d_row38_col12\" class=\"data row38 col12\" >39838.333333</td>\n",
       "    </tr>\n",
       "    <tr>\n",
       "      <th id=\"T_12b3d_level0_row39\" class=\"row_heading level0 row39\" >South Carolina</th>\n",
       "      <td id=\"T_12b3d_row39_col0\" class=\"data row39 col0\" >87783.333333</td>\n",
       "      <td id=\"T_12b3d_row39_col1\" class=\"data row39 col1\" >110222.888889</td>\n",
       "      <td id=\"T_12b3d_row39_col2\" class=\"data row39 col2\" >1.963101</td>\n",
       "      <td id=\"T_12b3d_row39_col3\" class=\"data row39 col3\" >2.464917</td>\n",
       "      <td id=\"T_12b3d_row39_col4\" class=\"data row39 col4\" >1.090777</td>\n",
       "      <td id=\"T_12b3d_row39_col5\" class=\"data row39 col5\" >1.369607</td>\n",
       "      <td id=\"T_12b3d_row39_col6\" class=\"data row39 col6\" >18</td>\n",
       "      <td id=\"T_12b3d_row39_col7\" class=\"data row39 col7\" >44716.666667</td>\n",
       "      <td id=\"T_12b3d_row39_col8\" class=\"data row39 col8\" >80477.777778</td>\n",
       "      <td id=\"T_12b3d_row39_col9\" class=\"data row39 col9\" >57.666667</td>\n",
       "      <td id=\"T_12b3d_row39_col10\" class=\"data row39 col10\" >14.777778</td>\n",
       "      <td id=\"T_12b3d_row39_col11\" class=\"data row39 col11\" >21945.833333</td>\n",
       "      <td id=\"T_12b3d_row39_col12\" class=\"data row39 col12\" >27555.722222</td>\n",
       "    </tr>\n",
       "    <tr>\n",
       "      <th id=\"T_12b3d_level0_row40\" class=\"row_heading level0 row40\" >South Dakota</th>\n",
       "      <td id=\"T_12b3d_row40_col0\" class=\"data row40 col0\" >63994.000000</td>\n",
       "      <td id=\"T_12b3d_row40_col1\" class=\"data row40 col1\" >71978.400000</td>\n",
       "      <td id=\"T_12b3d_row40_col2\" class=\"data row40 col2\" >1.358395</td>\n",
       "      <td id=\"T_12b3d_row40_col3\" class=\"data row40 col3\" >1.527879</td>\n",
       "      <td id=\"T_12b3d_row40_col4\" class=\"data row40 col4\" >0.751368</td>\n",
       "      <td id=\"T_12b3d_row40_col5\" class=\"data row40 col5\" >0.845114</td>\n",
       "      <td id=\"T_12b3d_row40_col6\" class=\"data row40 col6\" >10</td>\n",
       "      <td id=\"T_12b3d_row40_col7\" class=\"data row40 col7\" >47110.000000</td>\n",
       "      <td id=\"T_12b3d_row40_col8\" class=\"data row40 col8\" >85170.000000</td>\n",
       "      <td id=\"T_12b3d_row40_col9\" class=\"data row40 col9\" >56.500000</td>\n",
       "      <td id=\"T_12b3d_row40_col10\" class=\"data row40 col10\" >22.800000</td>\n",
       "      <td id=\"T_12b3d_row40_col11\" class=\"data row40 col11\" >15998.500000</td>\n",
       "      <td id=\"T_12b3d_row40_col12\" class=\"data row40 col12\" >17994.600000</td>\n",
       "    </tr>\n",
       "    <tr>\n",
       "      <th id=\"T_12b3d_level0_row41\" class=\"row_heading level0 row41\" >Tennessee</th>\n",
       "      <td id=\"T_12b3d_row41_col0\" class=\"data row41 col0\" >98784.800000</td>\n",
       "      <td id=\"T_12b3d_row41_col1\" class=\"data row41 col1\" >118008.800000</td>\n",
       "      <td id=\"T_12b3d_row41_col2\" class=\"data row41 col2\" >2.085387</td>\n",
       "      <td id=\"T_12b3d_row41_col3\" class=\"data row41 col3\" >2.491214</td>\n",
       "      <td id=\"T_12b3d_row41_col4\" class=\"data row41 col4\" >1.166841</td>\n",
       "      <td id=\"T_12b3d_row41_col5\" class=\"data row41 col5\" >1.393914</td>\n",
       "      <td id=\"T_12b3d_row41_col6\" class=\"data row41 col6\" >20</td>\n",
       "      <td id=\"T_12b3d_row41_col7\" class=\"data row41 col7\" >47370.000000</td>\n",
       "      <td id=\"T_12b3d_row41_col8\" class=\"data row41 col8\" >84660.000000</td>\n",
       "      <td id=\"T_12b3d_row41_col9\" class=\"data row41 col9\" >57.700000</td>\n",
       "      <td id=\"T_12b3d_row41_col10\" class=\"data row41 col10\" >12.750000</td>\n",
       "      <td id=\"T_12b3d_row41_col11\" class=\"data row41 col11\" >24696.200000</td>\n",
       "      <td id=\"T_12b3d_row41_col12\" class=\"data row41 col12\" >29502.200000</td>\n",
       "    </tr>\n",
       "    <tr>\n",
       "      <th id=\"T_12b3d_level0_row42\" class=\"row_heading level0 row42\" >Texas</th>\n",
       "      <td id=\"T_12b3d_row42_col0\" class=\"data row42 col0\" >106221.555556</td>\n",
       "      <td id=\"T_12b3d_row42_col1\" class=\"data row42 col1\" >127508.444444</td>\n",
       "      <td id=\"T_12b3d_row42_col2\" class=\"data row42 col2\" >1.880028</td>\n",
       "      <td id=\"T_12b3d_row42_col3\" class=\"data row42 col3\" >2.256787</td>\n",
       "      <td id=\"T_12b3d_row42_col4\" class=\"data row42 col4\" >1.036139</td>\n",
       "      <td id=\"T_12b3d_row42_col5\" class=\"data row42 col5\" >1.243783</td>\n",
       "      <td id=\"T_12b3d_row42_col6\" class=\"data row42 col6\" >18</td>\n",
       "      <td id=\"T_12b3d_row42_col7\" class=\"data row42 col7\" >56500.000000</td>\n",
       "      <td id=\"T_12b3d_row42_col8\" class=\"data row42 col8\" >102516.666667</td>\n",
       "      <td id=\"T_12b3d_row42_col9\" class=\"data row42 col9\" >53.833333</td>\n",
       "      <td id=\"T_12b3d_row42_col10\" class=\"data row42 col10\" >20.055556</td>\n",
       "      <td id=\"T_12b3d_row42_col11\" class=\"data row42 col11\" >26555.388889</td>\n",
       "      <td id=\"T_12b3d_row42_col12\" class=\"data row42 col12\" >31877.111111</td>\n",
       "    </tr>\n",
       "    <tr>\n",
       "      <th id=\"T_12b3d_level0_row43\" class=\"row_heading level0 row43\" >Utah</th>\n",
       "      <td id=\"T_12b3d_row43_col0\" class=\"data row43 col0\" >27761.333333</td>\n",
       "      <td id=\"T_12b3d_row43_col1\" class=\"data row43 col1\" >73904.000000</td>\n",
       "      <td id=\"T_12b3d_row43_col2\" class=\"data row43 col2\" >0.531996</td>\n",
       "      <td id=\"T_12b3d_row43_col3\" class=\"data row43 col3\" >1.416238</td>\n",
       "      <td id=\"T_12b3d_row43_col4\" class=\"data row43 col4\" >0.299045</td>\n",
       "      <td id=\"T_12b3d_row43_col5\" class=\"data row43 col5\" >0.796093</td>\n",
       "      <td id=\"T_12b3d_row43_col6\" class=\"data row43 col6\" >6</td>\n",
       "      <td id=\"T_12b3d_row43_col7\" class=\"data row43 col7\" >52183.333333</td>\n",
       "      <td id=\"T_12b3d_row43_col8\" class=\"data row43 col8\" >92833.333333</td>\n",
       "      <td id=\"T_12b3d_row43_col9\" class=\"data row43 col9\" >59.500000</td>\n",
       "      <td id=\"T_12b3d_row43_col10\" class=\"data row43 col10\" >12.000000</td>\n",
       "      <td id=\"T_12b3d_row43_col11\" class=\"data row43 col11\" >6940.333333</td>\n",
       "      <td id=\"T_12b3d_row43_col12\" class=\"data row43 col12\" >18476.000000</td>\n",
       "    </tr>\n",
       "    <tr>\n",
       "      <th id=\"T_12b3d_level0_row44\" class=\"row_heading level0 row44\" >Vermont</th>\n",
       "      <td id=\"T_12b3d_row44_col0\" class=\"data row44 col0\" >129271.272727</td>\n",
       "      <td id=\"T_12b3d_row44_col1\" class=\"data row44 col1\" >153358.545455</td>\n",
       "      <td id=\"T_12b3d_row44_col2\" class=\"data row44 col2\" >2.614422</td>\n",
       "      <td id=\"T_12b3d_row44_col3\" class=\"data row44 col3\" >3.101570</td>\n",
       "      <td id=\"T_12b3d_row44_col4\" class=\"data row44 col4\" >1.444665</td>\n",
       "      <td id=\"T_12b3d_row44_col5\" class=\"data row44 col5\" >1.713851</td>\n",
       "      <td id=\"T_12b3d_row44_col6\" class=\"data row44 col6\" >11</td>\n",
       "      <td id=\"T_12b3d_row44_col7\" class=\"data row44 col7\" >49445.454545</td>\n",
       "      <td id=\"T_12b3d_row44_col8\" class=\"data row44 col8\" >89481.818182</td>\n",
       "      <td id=\"T_12b3d_row44_col9\" class=\"data row44 col9\" >49.636364</td>\n",
       "      <td id=\"T_12b3d_row44_col10\" class=\"data row44 col10\" >12.272727</td>\n",
       "      <td id=\"T_12b3d_row44_col11\" class=\"data row44 col11\" >32317.818182</td>\n",
       "      <td id=\"T_12b3d_row44_col12\" class=\"data row44 col12\" >38339.636364</td>\n",
       "    </tr>\n",
       "    <tr>\n",
       "      <th id=\"T_12b3d_level0_row45\" class=\"row_heading level0 row45\" >Virginia</th>\n",
       "      <td id=\"T_12b3d_row45_col0\" class=\"data row45 col0\" >100446.363636</td>\n",
       "      <td id=\"T_12b3d_row45_col1\" class=\"data row45 col1\" >138821.636364</td>\n",
       "      <td id=\"T_12b3d_row45_col2\" class=\"data row45 col2\" >1.869876</td>\n",
       "      <td id=\"T_12b3d_row45_col3\" class=\"data row45 col3\" >2.584258</td>\n",
       "      <td id=\"T_12b3d_row45_col4\" class=\"data row45 col4\" >1.040258</td>\n",
       "      <td id=\"T_12b3d_row45_col5\" class=\"data row45 col5\" >1.437686</td>\n",
       "      <td id=\"T_12b3d_row45_col6\" class=\"data row45 col6\" >22</td>\n",
       "      <td id=\"T_12b3d_row45_col7\" class=\"data row45 col7\" >53718.181818</td>\n",
       "      <td id=\"T_12b3d_row45_col8\" class=\"data row45 col8\" >96559.090909</td>\n",
       "      <td id=\"T_12b3d_row45_col9\" class=\"data row45 col9\" >53.136364</td>\n",
       "      <td id=\"T_12b3d_row45_col10\" class=\"data row45 col10\" >17.727273</td>\n",
       "      <td id=\"T_12b3d_row45_col11\" class=\"data row45 col11\" >25111.590909</td>\n",
       "      <td id=\"T_12b3d_row45_col12\" class=\"data row45 col12\" >34705.409091</td>\n",
       "    </tr>\n",
       "    <tr>\n",
       "      <th id=\"T_12b3d_level0_row46\" class=\"row_heading level0 row46\" >Washington</th>\n",
       "      <td id=\"T_12b3d_row46_col0\" class=\"data row46 col0\" >123986.000000</td>\n",
       "      <td id=\"T_12b3d_row46_col1\" class=\"data row46 col1\" >140918.250000</td>\n",
       "      <td id=\"T_12b3d_row46_col2\" class=\"data row46 col2\" >2.319663</td>\n",
       "      <td id=\"T_12b3d_row46_col3\" class=\"data row46 col3\" >2.636450</td>\n",
       "      <td id=\"T_12b3d_row46_col4\" class=\"data row46 col4\" >1.277630</td>\n",
       "      <td id=\"T_12b3d_row46_col5\" class=\"data row46 col5\" >1.452111</td>\n",
       "      <td id=\"T_12b3d_row46_col6\" class=\"data row46 col6\" >16</td>\n",
       "      <td id=\"T_12b3d_row46_col7\" class=\"data row46 col7\" >53450.000000</td>\n",
       "      <td id=\"T_12b3d_row46_col8\" class=\"data row46 col8\" >97043.750000</td>\n",
       "      <td id=\"T_12b3d_row46_col9\" class=\"data row46 col9\" >51.187500</td>\n",
       "      <td id=\"T_12b3d_row46_col10\" class=\"data row46 col10\" >16.625000</td>\n",
       "      <td id=\"T_12b3d_row46_col11\" class=\"data row46 col11\" >30996.500000</td>\n",
       "      <td id=\"T_12b3d_row46_col12\" class=\"data row46 col12\" >35229.562500</td>\n",
       "    </tr>\n",
       "    <tr>\n",
       "      <th id=\"T_12b3d_level0_row47\" class=\"row_heading level0 row47\" >West Virginia</th>\n",
       "      <td id=\"T_12b3d_row47_col0\" class=\"data row47 col0\" >53202.666667</td>\n",
       "      <td id=\"T_12b3d_row47_col1\" class=\"data row47 col1\" >81008.266667</td>\n",
       "      <td id=\"T_12b3d_row47_col2\" class=\"data row47 col2\" >1.200060</td>\n",
       "      <td id=\"T_12b3d_row47_col3\" class=\"data row47 col3\" >1.827254</td>\n",
       "      <td id=\"T_12b3d_row47_col4\" class=\"data row47 col4\" >0.664701</td>\n",
       "      <td id=\"T_12b3d_row47_col5\" class=\"data row47 col5\" >1.012097</td>\n",
       "      <td id=\"T_12b3d_row47_col6\" class=\"data row47 col6\" >15</td>\n",
       "      <td id=\"T_12b3d_row47_col7\" class=\"data row47 col7\" >44333.333333</td>\n",
       "      <td id=\"T_12b3d_row47_col8\" class=\"data row47 col8\" >80040.000000</td>\n",
       "      <td id=\"T_12b3d_row47_col9\" class=\"data row47 col9\" >55.866667</td>\n",
       "      <td id=\"T_12b3d_row47_col10\" class=\"data row47 col10\" >10.400000</td>\n",
       "      <td id=\"T_12b3d_row47_col11\" class=\"data row47 col11\" >13300.666667</td>\n",
       "      <td id=\"T_12b3d_row47_col12\" class=\"data row47 col12\" >20252.066667</td>\n",
       "    </tr>\n",
       "    <tr>\n",
       "      <th id=\"T_12b3d_level0_row48\" class=\"row_heading level0 row48\" >Wisconsin</th>\n",
       "      <td id=\"T_12b3d_row48_col0\" class=\"data row48 col0\" >95868.545455</td>\n",
       "      <td id=\"T_12b3d_row48_col1\" class=\"data row48 col1\" >114440.909091</td>\n",
       "      <td id=\"T_12b3d_row48_col2\" class=\"data row48 col2\" >1.891577</td>\n",
       "      <td id=\"T_12b3d_row48_col3\" class=\"data row48 col3\" >2.258027</td>\n",
       "      <td id=\"T_12b3d_row48_col4\" class=\"data row48 col4\" >1.052344</td>\n",
       "      <td id=\"T_12b3d_row48_col5\" class=\"data row48 col5\" >1.256212</td>\n",
       "      <td id=\"T_12b3d_row48_col6\" class=\"data row48 col6\" >22</td>\n",
       "      <td id=\"T_12b3d_row48_col7\" class=\"data row48 col7\" >50681.818182</td>\n",
       "      <td id=\"T_12b3d_row48_col8\" class=\"data row48 col8\" >91100.000000</td>\n",
       "      <td id=\"T_12b3d_row48_col9\" class=\"data row48 col9\" >53.227273</td>\n",
       "      <td id=\"T_12b3d_row48_col10\" class=\"data row48 col10\" >18.363636</td>\n",
       "      <td id=\"T_12b3d_row48_col11\" class=\"data row48 col11\" >23967.136364</td>\n",
       "      <td id=\"T_12b3d_row48_col12\" class=\"data row48 col12\" >28610.227273</td>\n",
       "    </tr>\n",
       "    <tr>\n",
       "      <th id=\"T_12b3d_level0_row49\" class=\"row_heading level0 row49\" >Wyoming</th>\n",
       "      <td id=\"T_12b3d_row49_col0\" class=\"data row49 col0\" >21600.000000</td>\n",
       "      <td id=\"T_12b3d_row49_col1\" class=\"data row49 col1\" >69960.000000</td>\n",
       "      <td id=\"T_12b3d_row49_col2\" class=\"data row49 col2\" >0.412214</td>\n",
       "      <td id=\"T_12b3d_row49_col3\" class=\"data row49 col3\" >1.335115</td>\n",
       "      <td id=\"T_12b3d_row49_col4\" class=\"data row49 col4\" >0.218623</td>\n",
       "      <td id=\"T_12b3d_row49_col5\" class=\"data row49 col5\" >0.708097</td>\n",
       "      <td id=\"T_12b3d_row49_col6\" class=\"data row49 col6\" >1</td>\n",
       "      <td id=\"T_12b3d_row49_col7\" class=\"data row49 col7\" >52400.000000</td>\n",
       "      <td id=\"T_12b3d_row49_col8\" class=\"data row49 col8\" >98800.000000</td>\n",
       "      <td id=\"T_12b3d_row49_col9\" class=\"data row49 col9\" >58.000000</td>\n",
       "      <td id=\"T_12b3d_row49_col10\" class=\"data row49 col10\" >25.000000</td>\n",
       "      <td id=\"T_12b3d_row49_col11\" class=\"data row49 col11\" >5400.000000</td>\n",
       "      <td id=\"T_12b3d_row49_col12\" class=\"data row49 col12\" >17490.000000</td>\n",
       "    </tr>\n",
       "  </tbody>\n",
       "</table>\n"
      ],
      "text/plain": [
       "<pandas.io.formats.style.Styler at 0x2905bb7d190>"
      ]
     },
     "execution_count": 28,
     "metadata": {
     },
     "output_type": "execute_result"
    }
   ],
   "source": [
    "return_highlighted_df(state_stats)"
   ]
  },
  {
   "cell_type": "markdown",
   "metadata": {
    "collapsed": false
   },
   "source": [
    "## Visualizing Our Data <a class=\"anchor\" id=\"Visual\"></a>\n",
    "Last but not least we want to visualize our data, you can see different Python visualization libraries compared here:https://towardsdatascience.com/top-6-python-libraries-for-visualization-which-one-to-use-fe43381cd658 <br> We are using Plotly, as it is the most powerful and simple out of the box. <br> You can see some of the capabilities of Plotly in their documentation here: https://plotly.com/python/ <br> Note: if while running this you get an error 'PX IS NOT DEFINED' you did not import plotly.express (replace plotly with plotly.express in the import)."
   ]
  },
  {
   "cell_type": "markdown",
   "metadata": {
    "collapsed": false
   },
   "source": [
    "First things first, now that we have completed our calculations we will turn the index into a named column for ease of graphing and we need to include state code if we want to graph on a map.\n"
   ]
  },
  {
   "cell_type": "code",
   "execution_count": 29,
   "metadata": {
    "collapsed": false
   },
   "outputs": [
    {
     "data": {
      "text/html": [
       "<div>\n",
       "<style scoped>\n",
       "    .dataframe tbody tr th:only-of-type {\n",
       "        vertical-align: middle;\n",
       "    }\n",
       "\n",
       "    .dataframe tbody tr th {\n",
       "        vertical-align: top;\n",
       "    }\n",
       "\n",
       "    .dataframe thead th {\n",
       "        text-align: right;\n",
       "    }\n",
       "</style>\n",
       "<table border=\"1\" class=\"dataframe\">\n",
       "  <thead>\n",
       "    <tr style=\"text-align: right;\">\n",
       "      <th></th>\n",
       "      <th>state</th>\n",
       "      <th>four year average in state tuition</th>\n",
       "      <th>four year average out of state tuition</th>\n",
       "      <th>years to repay in state 4 year uni based on early career pay</th>\n",
       "      <th>years to repay out of state 4 year uni based on early career pay</th>\n",
       "      <th>years to repay in state 4 year uni based on mid career pay</th>\n",
       "      <th>years to repay out of state 4 year uni based on mid career pay</th>\n",
       "      <th>number of schools</th>\n",
       "      <th>average early_career_pay</th>\n",
       "      <th>average mid_career_pay</th>\n",
       "      <th>average make_world_better_percent</th>\n",
       "      <th>average stem_percent</th>\n",
       "      <th>average in_state_tuition</th>\n",
       "      <th>average out_of_state_tuition</th>\n",
       "      <th>state_code</th>\n",
       "    </tr>\n",
       "  </thead>\n",
       "  <tbody>\n",
       "    <tr>\n",
       "      <th>0</th>\n",
       "      <td>Alabama</td>\n",
       "      <td>64536.952381</td>\n",
       "      <td>89441.523810</td>\n",
       "      <td>1.443318</td>\n",
       "      <td>2.000290</td>\n",
       "      <td>0.795023</td>\n",
       "      <td>1.101820</td>\n",
       "      <td>21</td>\n",
       "      <td>44714.285714</td>\n",
       "      <td>81176.190476</td>\n",
       "      <td>60.047619</td>\n",
       "      <td>14.047619</td>\n",
       "      <td>16134.238095</td>\n",
       "      <td>22360.380952</td>\n",
       "      <td>AL</td>\n",
       "    </tr>\n",
       "    <tr>\n",
       "      <th>1</th>\n",
       "      <td>Alaska</td>\n",
       "      <td>48806.666667</td>\n",
       "      <td>91926.666667</td>\n",
       "      <td>0.885248</td>\n",
       "      <td>1.667352</td>\n",
       "      <td>0.500068</td>\n",
       "      <td>0.941872</td>\n",
       "      <td>3</td>\n",
       "      <td>55133.333333</td>\n",
       "      <td>97600.000000</td>\n",
       "      <td>59.333333</td>\n",
       "      <td>12.000000</td>\n",
       "      <td>12201.666667</td>\n",
       "      <td>22981.666667</td>\n",
       "      <td>AK</td>\n",
       "    </tr>\n",
       "    <tr>\n",
       "      <th>2</th>\n",
       "      <td>Arizona</td>\n",
       "      <td>74048.000000</td>\n",
       "      <td>124932.000000</td>\n",
       "      <td>1.512212</td>\n",
       "      <td>2.551368</td>\n",
       "      <td>0.839864</td>\n",
       "      <td>1.416998</td>\n",
       "      <td>3</td>\n",
       "      <td>48966.666667</td>\n",
       "      <td>88166.666667</td>\n",
       "      <td>58.666667</td>\n",
       "      <td>11.666667</td>\n",
       "      <td>18512.000000</td>\n",
       "      <td>31233.000000</td>\n",
       "      <td>AZ</td>\n",
       "    </tr>\n",
       "    <tr>\n",
       "      <th>3</th>\n",
       "      <td>Arkansas</td>\n",
       "      <td>68785.428571</td>\n",
       "      <td>86816.571429</td>\n",
       "      <td>1.508216</td>\n",
       "      <td>1.903574</td>\n",
       "      <td>0.841927</td>\n",
       "      <td>1.062626</td>\n",
       "      <td>14</td>\n",
       "      <td>45607.142857</td>\n",
       "      <td>81700.000000</td>\n",
       "      <td>57.571429</td>\n",
       "      <td>14.071429</td>\n",
       "      <td>17196.357143</td>\n",
       "      <td>21704.142857</td>\n",
       "      <td>AR</td>\n",
       "    </tr>\n",
       "    <tr>\n",
       "      <th>4</th>\n",
       "      <td>California</td>\n",
       "      <td>190626.153846</td>\n",
       "      <td>193550.461538</td>\n",
       "      <td>2.811595</td>\n",
       "      <td>2.854727</td>\n",
       "      <td>1.526512</td>\n",
       "      <td>1.549930</td>\n",
       "      <td>13</td>\n",
       "      <td>67800.000000</td>\n",
       "      <td>124876.923077</td>\n",
       "      <td>49.769231</td>\n",
       "      <td>30.615385</td>\n",
       "      <td>47656.538462</td>\n",
       "      <td>48387.615385</td>\n",
       "      <td>CA</td>\n",
       "    </tr>\n",
       "  </tbody>\n",
       "</table>\n",
       "</div>"
      ],
      "text/plain": [
       "        state  four year average in state tuition  \\\n",
       "0     Alabama                        64536.952381   \n",
       "1      Alaska                        48806.666667   \n",
       "2     Arizona                        74048.000000   \n",
       "3    Arkansas                        68785.428571   \n",
       "4  California                       190626.153846   \n",
       "\n",
       "   four year average out of state tuition  \\\n",
       "0                            89441.523810   \n",
       "1                            91926.666667   \n",
       "2                           124932.000000   \n",
       "3                            86816.571429   \n",
       "4                           193550.461538   \n",
       "\n",
       "   years to repay in state 4 year uni based on early career pay  \\\n",
       "0                                           1.443318              \n",
       "1                                           0.885248              \n",
       "2                                           1.512212              \n",
       "3                                           1.508216              \n",
       "4                                           2.811595              \n",
       "\n",
       "   years to repay out of state 4 year uni based on early career pay  \\\n",
       "0                                           2.000290                  \n",
       "1                                           1.667352                  \n",
       "2                                           2.551368                  \n",
       "3                                           1.903574                  \n",
       "4                                           2.854727                  \n",
       "\n",
       "   years to repay in state 4 year uni based on mid career pay  \\\n",
       "0                                           0.795023            \n",
       "1                                           0.500068            \n",
       "2                                           0.839864            \n",
       "3                                           0.841927            \n",
       "4                                           1.526512            \n",
       "\n",
       "   years to repay out of state 4 year uni based on mid career pay  \\\n",
       "0                                           1.101820                \n",
       "1                                           0.941872                \n",
       "2                                           1.416998                \n",
       "3                                           1.062626                \n",
       "4                                           1.549930                \n",
       "\n",
       "   number of schools  average early_career_pay  average mid_career_pay  \\\n",
       "0                 21              44714.285714            81176.190476   \n",
       "1                  3              55133.333333            97600.000000   \n",
       "2                  3              48966.666667            88166.666667   \n",
       "3                 14              45607.142857            81700.000000   \n",
       "4                 13              67800.000000           124876.923077   \n",
       "\n",
       "   average make_world_better_percent  average stem_percent  \\\n",
       "0                          60.047619             14.047619   \n",
       "1                          59.333333             12.000000   \n",
       "2                          58.666667             11.666667   \n",
       "3                          57.571429             14.071429   \n",
       "4                          49.769231             30.615385   \n",
       "\n",
       "   average in_state_tuition  average out_of_state_tuition state_code  \n",
       "0              16134.238095                  22360.380952         AL  \n",
       "1              12201.666667                  22981.666667         AK  \n",
       "2              18512.000000                  31233.000000         AZ  \n",
       "3              17196.357143                  21704.142857         AR  \n",
       "4              47656.538462                  48387.615385         CA  "
      ]
     },
     "execution_count": 29,
     "metadata": {
     },
     "output_type": "execute_result"
    }
   ],
   "source": [
    "# turn the index into a column\n",
    "state_stats_extras = state_stats.reset_index(level=0)\n",
    "# rename index to state\n",
    "state_stats_extras.rename({'index': 'state'}, axis=1, inplace=True)\n",
    "# finds each state and adds the code\n",
    "state_stats_extras = state_stats_extras.merge(tuition[['state','state_code']], on='state').drop_duplicates().reset_index(drop=True)\n",
    "state_stats_extras.head()"
   ]
  },
  {
   "cell_type": "code",
   "execution_count": 30,
   "metadata": {
    "collapsed": false
   },
   "outputs": [
   ],
   "source": [
    "# Define a function to add these last extras that need to be applied after our numerical calculations (highlighting for example)\n",
    "# Don't forget to pass in tuition as a parameter because you merge with it\n",
    "def add_extras(state_stats,tuition):\n",
    "    # turn the index into a column\n",
    "    state_stats_extras = state_stats.reset_index(level=0)\n",
    "    # rename index to state\n",
    "    state_stats_extras.rename({'index': 'state'}, axis=1, inplace=True)\n",
    "    # add the state_code column\n",
    "    state_stats_extras = state_stats_extras.merge(tuition[['state','state_code']], on='state').drop_duplicates().reset_index(drop=True)\n",
    "    return state_stats_extras"
   ]
  },
  {
   "cell_type": "code",
   "execution_count": 31,
   "metadata": {
    "collapsed": false
   },
   "outputs": [
    {
     "name": "stderr",
     "output_type": "stream",
     "text": [
      "WARNING: 1 intermediate output message was discarded.\n"
     ]
    },
    {
     "data": {
      "application/vnd.plotly.v1+json": {
       "config": {
        "plotlyServerURL": "https://plot.ly"
       },
       "data": [
        {
         "hovertemplate": "state=Alabama<br>four year average in state tuition=%{x}<br>average mid_career_pay=%{y}<br>average make_world_better_percent=%{marker.size}<extra></extra>",
         "legendgroup": "Alabama",
         "marker": {
          "color": "#636efa",
          "size": [
           60.04761904761905
          ],
          "sizemode": "area",
          "sizeref": 0.16583333333333333,
          "symbol": "circle"
         },
         "mode": "markers",
         "name": "Alabama",
         "orientation": "v",
         "showlegend": true,
         "type": "scatter",
         "x": [
          64536.95238095238
         ],
         "xaxis": "x",
         "y": [
          81176.19047619047
         ],
         "yaxis": "y"
        },
        {
         "hovertemplate": "state=Alaska<br>four year average in state tuition=%{x}<br>average mid_career_pay=%{y}<br>average make_world_better_percent=%{marker.size}<extra></extra>",
         "legendgroup": "Alaska",
         "marker": {
          "color": "#EF553B",
          "size": [
           59.333333333333336
          ],
          "sizemode": "area",
          "sizeref": 0.16583333333333333,
          "symbol": "circle"
         },
         "mode": "markers",
         "name": "Alaska",
         "orientation": "v",
         "showlegend": true,
         "type": "scatter",
         "x": [
          48806.666666666664
         ],
         "xaxis": "x",
         "y": [
          97600
         ],
         "yaxis": "y"
        },
        {
         "hovertemplate": "state=Arizona<br>four year average in state tuition=%{x}<br>average mid_career_pay=%{y}<br>average make_world_better_percent=%{marker.size}<extra></extra>",
         "legendgroup": "Arizona",
         "marker": {
          "color": "#00cc96",
          "size": [
           58.666666666666664
          ],
          "sizemode": "area",
          "sizeref": 0.16583333333333333,
          "symbol": "circle"
         },
         "mode": "markers",
         "name": "Arizona",
         "orientation": "v",
         "showlegend": true,
         "type": "scatter",
         "x": [
          74048
         ],
         "xaxis": "x",
         "y": [
          88166.66666666667
         ],
         "yaxis": "y"
        },
        {
         "hovertemplate": "state=Arkansas<br>four year average in state tuition=%{x}<br>average mid_career_pay=%{y}<br>average make_world_better_percent=%{marker.size}<extra></extra>",
         "legendgroup": "Arkansas",
         "marker": {
          "color": "#ab63fa",
          "size": [
           57.57142857142857
          ],
          "sizemode": "area",
          "sizeref": 0.16583333333333333,
          "symbol": "circle"
         },
         "mode": "markers",
         "name": "Arkansas",
         "orientation": "v",
         "showlegend": true,
         "type": "scatter",
         "x": [
          68785.42857142857
         ],
         "xaxis": "x",
         "y": [
          81700
         ],
         "yaxis": "y"
        },
        {
         "hovertemplate": "state=California<br>four year average in state tuition=%{x}<br>average mid_career_pay=%{y}<br>average make_world_better_percent=%{marker.size}<extra></extra>",
         "legendgroup": "California",
         "marker": {
          "color": "#FFA15A",
          "size": [
           49.76923076923077
          ],
          "sizemode": "area",
          "sizeref": 0.16583333333333333,
          "symbol": "circle"
         },
         "mode": "markers",
         "name": "California",
         "orientation": "v",
         "showlegend": true,
         "type": "scatter",
         "x": [
          190626.15384615384
         ],
         "xaxis": "x",
         "y": [
          124876.92307692308
         ],
         "yaxis": "y"
        },
        {
         "hovertemplate": "state=Colorado<br>four year average in state tuition=%{x}<br>average mid_career_pay=%{y}<br>average make_world_better_percent=%{marker.size}<extra></extra>",
         "legendgroup": "Colorado",
         "marker": {
          "color": "#19d3f3",
          "size": [
           53.92307692307692
          ],
          "sizemode": "area",
          "sizeref": 0.16583333333333333,
          "symbol": "circle"
         },
         "mode": "markers",
         "name": "Colorado",
         "orientation": "v",
         "showlegend": true,
         "type": "scatter",
         "x": [
          83676.61538461539
         ],
         "xaxis": "x",
         "y": [
          93815.38461538461
         ],
         "yaxis": "y"
        },
        {
         "hovertemplate": "state=Connecticut<br>four year average in state tuition=%{x}<br>average mid_career_pay=%{y}<br>average make_world_better_percent=%{marker.size}<extra></extra>",
         "legendgroup": "Connecticut",
         "marker": {
          "color": "#FF6692",
          "size": [
           51
          ],
          "sizemode": "area",
          "sizeref": 0.16583333333333333,
          "symbol": "circle"
         },
         "mode": "markers",
         "name": "Connecticut",
         "orientation": "v",
         "showlegend": true,
         "type": "scatter",
         "x": [
          135868.44444444444
         ],
         "xaxis": "x",
         "y": [
          99505.55555555556
         ],
         "yaxis": "y"
        },
        {
         "hovertemplate": "state=Delaware<br>four year average in state tuition=%{x}<br>average mid_career_pay=%{y}<br>average make_world_better_percent=%{marker.size}<extra></extra>",
         "legendgroup": "Delaware",
         "marker": {
          "color": "#B6E880",
          "size": [
           49.4
          ],
          "sizemode": "area",
          "sizeref": 0.16583333333333333,
          "symbol": "circle"
         },
         "mode": "markers",
         "name": "Delaware",
         "orientation": "v",
         "showlegend": true,
         "type": "scatter",
         "x": [
          66771.2
         ],
         "xaxis": "x",
         "y": [
          85620
         ],
         "yaxis": "y"
        },
        {
         "hovertemplate": "state=Florida<br>four year average in state tuition=%{x}<br>average mid_career_pay=%{y}<br>average make_world_better_percent=%{marker.size}<extra></extra>",
         "legendgroup": "Florida",
         "marker": {
          "color": "#FF97FF",
          "size": [
           54.5
          ],
          "sizemode": "area",
          "sizeref": 0.16583333333333333,
          "symbol": "circle"
         },
         "mode": "markers",
         "name": "Florida",
         "orientation": "v",
         "showlegend": true,
         "type": "scatter",
         "x": [
          96486.22222222222
         ],
         "xaxis": "x",
         "y": [
          90455.55555555556
         ],
         "yaxis": "y"
        },
        {
         "hovertemplate": "state=Georgia<br>four year average in state tuition=%{x}<br>average mid_career_pay=%{y}<br>average make_world_better_percent=%{marker.size}<extra></extra>",
         "legendgroup": "Georgia",
         "marker": {
          "color": "#FECB52",
          "size": [
           52.86363636363637
          ],
          "sizemode": "area",
          "sizeref": 0.16583333333333333,
          "symbol": "circle"
         },
         "mode": "markers",
         "name": "Georgia",
         "orientation": "v",
         "showlegend": true,
         "type": "scatter",
         "x": [
          84775.63636363637
         ],
         "xaxis": "x",
         "y": [
          86700
         ],
         "yaxis": "y"
        },
        {
         "hovertemplate": "state=Hawaii<br>four year average in state tuition=%{x}<br>average mid_career_pay=%{y}<br>average make_world_better_percent=%{marker.size}<extra></extra>",
         "legendgroup": "Hawaii",
         "marker": {
          "color": "#636efa",
          "size": [
           56.6
          ],
          "sizemode": "area",
          "sizeref": 0.16583333333333333,
          "symbol": "circle"
         },
         "mode": "markers",
         "name": "Hawaii",
         "orientation": "v",
         "showlegend": true,
         "type": "scatter",
         "x": [
          61283.2
         ],
         "xaxis": "x",
         "y": [
          88040
         ],
         "yaxis": "y"
        },
        {
         "hovertemplate": "state=Idaho<br>four year average in state tuition=%{x}<br>average mid_career_pay=%{y}<br>average make_world_better_percent=%{marker.size}<extra></extra>",
         "legendgroup": "Idaho",
         "marker": {
          "color": "#EF553B",
          "size": [
           60
          ],
          "sizemode": "area",
          "sizeref": 0.16583333333333333,
          "symbol": "circle"
         },
         "mode": "markers",
         "name": "Idaho",
         "orientation": "v",
         "showlegend": true,
         "type": "scatter",
         "x": [
          42009.333333333336
         ],
         "xaxis": "x",
         "y": [
          87933.33333333333
         ],
         "yaxis": "y"
        },
        {
         "hovertemplate": "state=Illinois<br>four year average in state tuition=%{x}<br>average mid_career_pay=%{y}<br>average make_world_better_percent=%{marker.size}<extra></extra>",
         "legendgroup": "Illinois",
         "marker": {
          "color": "#00cc96",
          "size": [
           51.26315789473684
          ],
          "sizemode": "area",
          "sizeref": 0.16583333333333333,
          "symbol": "circle"
         },
         "mode": "markers",
         "name": "Illinois",
         "orientation": "v",
         "showlegend": true,
         "type": "scatter",
         "x": [
          136982.31578947368
         ],
         "xaxis": "x",
         "y": [
          101368.42105263157
         ],
         "yaxis": "y"
        },
        {
         "hovertemplate": "state=Indiana<br>four year average in state tuition=%{x}<br>average mid_career_pay=%{y}<br>average make_world_better_percent=%{marker.size}<extra></extra>",
         "legendgroup": "Indiana",
         "marker": {
          "color": "#ab63fa",
          "size": [
           51.44444444444444
          ],
          "sizemode": "area",
          "sizeref": 0.16583333333333333,
          "symbol": "circle"
         },
         "mode": "markers",
         "name": "Indiana",
         "orientation": "v",
         "showlegend": true,
         "type": "scatter",
         "x": [
          143818.44444444444
         ],
         "xaxis": "x",
         "y": [
          96233.33333333333
         ],
         "yaxis": "y"
        },
        {
         "hovertemplate": "state=Iowa<br>four year average in state tuition=%{x}<br>average mid_career_pay=%{y}<br>average make_world_better_percent=%{marker.size}<extra></extra>",
         "legendgroup": "Iowa",
         "marker": {
          "color": "#FFA15A",
          "size": [
           50.04761904761905
          ],
          "sizemode": "area",
          "sizeref": 0.16583333333333333,
          "symbol": "circle"
         },
         "mode": "markers",
         "name": "Iowa",
         "orientation": "v",
         "showlegend": true,
         "type": "scatter",
         "x": [
          127574.47619047618
         ],
         "xaxis": "x",
         "y": [
          87285.71428571429
         ],
         "yaxis": "y"
        },
        {
         "hovertemplate": "state=Kansas<br>four year average in state tuition=%{x}<br>average mid_career_pay=%{y}<br>average make_world_better_percent=%{marker.size}<extra></extra>",
         "legendgroup": "Kansas",
         "marker": {
          "color": "#19d3f3",
          "size": [
           60.35294117647059
          ],
          "sizemode": "area",
          "sizeref": 0.16583333333333333,
          "symbol": "circle"
         },
         "mode": "markers",
         "name": "Kansas",
         "orientation": "v",
         "showlegend": true,
         "type": "scatter",
         "x": [
          84346.35294117648
         ],
         "xaxis": "x",
         "y": [
          83752.94117647059
         ],
         "yaxis": "y"
        },
        {
         "hovertemplate": "state=Kentucky<br>four year average in state tuition=%{x}<br>average mid_career_pay=%{y}<br>average make_world_better_percent=%{marker.size}<extra></extra>",
         "legendgroup": "Kentucky",
         "marker": {
          "color": "#FF6692",
          "size": [
           56.083333333333336
          ],
          "sizemode": "area",
          "sizeref": 0.16583333333333333,
          "symbol": "circle"
         },
         "mode": "markers",
         "name": "Kentucky",
         "orientation": "v",
         "showlegend": true,
         "type": "scatter",
         "x": [
          92465.5
         ],
         "xaxis": "x",
         "y": [
          79012.5
         ],
         "yaxis": "y"
        },
        {
         "hovertemplate": "state=Louisiana<br>four year average in state tuition=%{x}<br>average mid_career_pay=%{y}<br>average make_world_better_percent=%{marker.size}<extra></extra>",
         "legendgroup": "Louisiana",
         "marker": {
          "color": "#B6E880",
          "size": [
           58.666666666666664
          ],
          "sizemode": "area",
          "sizeref": 0.16583333333333333,
          "symbol": "circle"
         },
         "mode": "markers",
         "name": "Louisiana",
         "orientation": "v",
         "showlegend": true,
         "type": "scatter",
         "x": [
          61872
         ],
         "xaxis": "x",
         "y": [
          85926.66666666667
         ],
         "yaxis": "y"
        },
        {
         "hovertemplate": "state=Maine<br>four year average in state tuition=%{x}<br>average mid_career_pay=%{y}<br>average make_world_better_percent=%{marker.size}<extra></extra>",
         "legendgroup": "Maine",
         "marker": {
          "color": "#FF97FF",
          "size": [
           55.875
          ],
          "sizemode": "area",
          "sizeref": 0.16583333333333333,
          "symbol": "circle"
         },
         "mode": "markers",
         "name": "Maine",
         "orientation": "v",
         "showlegend": true,
         "type": "scatter",
         "x": [
          98022
         ],
         "xaxis": "x",
         "y": [
          86425
         ],
         "yaxis": "y"
        },
        {
         "hovertemplate": "state=Maryland<br>four year average in state tuition=%{x}<br>average mid_career_pay=%{y}<br>average make_world_better_percent=%{marker.size}<extra></extra>",
         "legendgroup": "Maryland",
         "marker": {
          "color": "#FECB52",
          "size": [
           52.294117647058826
          ],
          "sizemode": "area",
          "sizeref": 0.16583333333333333,
          "symbol": "circle"
         },
         "mode": "markers",
         "name": "Maryland",
         "orientation": "v",
         "showlegend": true,
         "type": "scatter",
         "x": [
          126087.5294117647
         ],
         "xaxis": "x",
         "y": [
          94688.23529411765
         ],
         "yaxis": "y"
        },
        {
         "hovertemplate": "state=Massachusetts<br>four year average in state tuition=%{x}<br>average mid_career_pay=%{y}<br>average make_world_better_percent=%{marker.size}<extra></extra>",
         "legendgroup": "Massachusetts",
         "marker": {
          "color": "#636efa",
          "size": [
           47.523809523809526
          ],
          "sizemode": "area",
          "sizeref": 0.16583333333333333,
          "symbol": "circle"
         },
         "mode": "markers",
         "name": "Massachusetts",
         "orientation": "v",
         "showlegend": true,
         "type": "scatter",
         "x": [
          188594.85714285713
         ],
         "xaxis": "x",
         "y": [
          116009.52380952382
         ],
         "yaxis": "y"
        },
        {
         "hovertemplate": "state=Michigan<br>four year average in state tuition=%{x}<br>average mid_career_pay=%{y}<br>average make_world_better_percent=%{marker.size}<extra></extra>",
         "legendgroup": "Michigan",
         "marker": {
          "color": "#EF553B",
          "size": [
           48.90909090909091
          ],
          "sizemode": "area",
          "sizeref": 0.16583333333333333,
          "symbol": "circle"
         },
         "mode": "markers",
         "name": "Michigan",
         "orientation": "v",
         "showlegend": true,
         "type": "scatter",
         "x": [
          99996.54545454546
         ],
         "xaxis": "x",
         "y": [
          93463.63636363637
         ],
         "yaxis": "y"
        },
        {
         "hovertemplate": "state=Minnesota<br>four year average in state tuition=%{x}<br>average mid_career_pay=%{y}<br>average make_world_better_percent=%{marker.size}<extra></extra>",
         "legendgroup": "Minnesota",
         "marker": {
          "color": "#00cc96",
          "size": [
           49.111111111111114
          ],
          "sizemode": "area",
          "sizeref": 0.16583333333333333,
          "symbol": "circle"
         },
         "mode": "markers",
         "name": "Minnesota",
         "orientation": "v",
         "showlegend": true,
         "type": "scatter",
         "x": [
          133345.33333333334
         ],
         "xaxis": "x",
         "y": [
          93055.55555555556
         ],
         "yaxis": "y"
        },
        {
         "hovertemplate": "state=Mississippi<br>four year average in state tuition=%{x}<br>average mid_career_pay=%{y}<br>average make_world_better_percent=%{marker.size}<extra></extra>",
         "legendgroup": "Mississippi",
         "marker": {
          "color": "#ab63fa",
          "size": [
           62.642857142857146
          ],
          "sizemode": "area",
          "sizeref": 0.16583333333333333,
          "symbol": "circle"
         },
         "mode": "markers",
         "name": "Mississippi",
         "orientation": "v",
         "showlegend": true,
         "type": "scatter",
         "x": [
          51116
         ],
         "xaxis": "x",
         "y": [
          75707.14285714286
         ],
         "yaxis": "y"
        },
        {
         "hovertemplate": "state=Missouri<br>four year average in state tuition=%{x}<br>average mid_career_pay=%{y}<br>average make_world_better_percent=%{marker.size}<extra></extra>",
         "legendgroup": "Missouri",
         "marker": {
          "color": "#FFA15A",
          "size": [
           53
          ],
          "sizemode": "area",
          "sizeref": 0.16583333333333333,
          "symbol": "circle"
         },
         "mode": "markers",
         "name": "Missouri",
         "orientation": "v",
         "showlegend": true,
         "type": "scatter",
         "x": [
          86910.35294117648
         ],
         "xaxis": "x",
         "y": [
          85794.11764705883
         ],
         "yaxis": "y"
        },
        {
         "hovertemplate": "state=Montana<br>four year average in state tuition=%{x}<br>average mid_career_pay=%{y}<br>average make_world_better_percent=%{marker.size}<extra></extra>",
         "legendgroup": "Montana",
         "marker": {
          "color": "#19d3f3",
          "size": [
           58
          ],
          "sizemode": "area",
          "sizeref": 0.16583333333333333,
          "symbol": "circle"
         },
         "mode": "markers",
         "name": "Montana",
         "orientation": "v",
         "showlegend": true,
         "type": "scatter",
         "x": [
          78830
         ],
         "xaxis": "x",
         "y": [
          95775
         ],
         "yaxis": "y"
        },
        {
         "hovertemplate": "state=Nebraska<br>four year average in state tuition=%{x}<br>average mid_career_pay=%{y}<br>average make_world_better_percent=%{marker.size}<extra></extra>",
         "legendgroup": "Nebraska",
         "marker": {
          "color": "#FF6692",
          "size": [
           59.63636363636363
          ],
          "sizemode": "area",
          "sizeref": 0.16583333333333333,
          "symbol": "circle"
         },
         "mode": "markers",
         "name": "Nebraska",
         "orientation": "v",
         "showlegend": true,
         "type": "scatter",
         "x": [
          78756.72727272728
         ],
         "xaxis": "x",
         "y": [
          83036.36363636363
         ],
         "yaxis": "y"
        },
        {
         "hovertemplate": "state=Nevada<br>four year average in state tuition=%{x}<br>average mid_career_pay=%{y}<br>average make_world_better_percent=%{marker.size}<extra></extra>",
         "legendgroup": "Nevada",
         "marker": {
          "color": "#B6E880",
          "size": [
           39
          ],
          "sizemode": "area",
          "sizeref": 0.16583333333333333,
          "symbol": "circle"
         },
         "mode": "markers",
         "name": "Nevada",
         "orientation": "v",
         "showlegend": true,
         "type": "scatter",
         "x": [
          136964
         ],
         "xaxis": "x",
         "y": [
          95500
         ],
         "yaxis": "y"
        },
        {
         "hovertemplate": "state=New Hampshire<br>four year average in state tuition=%{x}<br>average mid_career_pay=%{y}<br>average make_world_better_percent=%{marker.size}<extra></extra>",
         "legendgroup": "New Hampshire",
         "marker": {
          "color": "#FF97FF",
          "size": [
           51.27272727272727
          ],
          "sizemode": "area",
          "sizeref": 0.16583333333333333,
          "symbol": "circle"
         },
         "mode": "markers",
         "name": "New Hampshire",
         "orientation": "v",
         "showlegend": true,
         "type": "scatter",
         "x": [
          120004.36363636363
         ],
         "xaxis": "x",
         "y": [
          89909.09090909091
         ],
         "yaxis": "y"
        },
        {
         "hovertemplate": "state=New Jersey<br>four year average in state tuition=%{x}<br>average mid_career_pay=%{y}<br>average make_world_better_percent=%{marker.size}<extra></extra>",
         "legendgroup": "New Jersey",
         "marker": {
          "color": "#FECB52",
          "size": [
           46.473684210526315
          ],
          "sizemode": "area",
          "sizeref": 0.16583333333333333,
          "symbol": "circle"
         },
         "mode": "markers",
         "name": "New Jersey",
         "orientation": "v",
         "showlegend": true,
         "type": "scatter",
         "x": [
          104793.26315789473
         ],
         "xaxis": "x",
         "y": [
          100400
         ],
         "yaxis": "y"
        },
        {
         "hovertemplate": "state=New Mexico<br>four year average in state tuition=%{x}<br>average mid_career_pay=%{y}<br>average make_world_better_percent=%{marker.size}<extra></extra>",
         "legendgroup": "New Mexico",
         "marker": {
          "color": "#636efa",
          "size": [
           66.33333333333333
          ],
          "sizemode": "area",
          "sizeref": 0.16583333333333333,
          "symbol": "circle"
         },
         "mode": "markers",
         "name": "New Mexico",
         "orientation": "v",
         "showlegend": true,
         "type": "scatter",
         "x": [
          27658.666666666668
         ],
         "xaxis": "x",
         "y": [
          90300
         ],
         "yaxis": "y"
        },
        {
         "hovertemplate": "state=New York<br>four year average in state tuition=%{x}<br>average mid_career_pay=%{y}<br>average make_world_better_percent=%{marker.size}<extra></extra>",
         "legendgroup": "New York",
         "marker": {
          "color": "#EF553B",
          "size": [
           50.8125
          ],
          "sizemode": "area",
          "sizeref": 0.16583333333333333,
          "symbol": "circle"
         },
         "mode": "markers",
         "name": "New York",
         "orientation": "v",
         "showlegend": true,
         "type": "scatter",
         "x": [
          178446
         ],
         "xaxis": "x",
         "y": [
          122106.25
         ],
         "yaxis": "y"
        },
        {
         "hovertemplate": "state=North Carolina<br>four year average in state tuition=%{x}<br>average mid_career_pay=%{y}<br>average make_world_better_percent=%{marker.size}<extra></extra>",
         "legendgroup": "North Carolina",
         "marker": {
          "color": "#00cc96",
          "size": [
           51.85
          ],
          "sizemode": "area",
          "sizeref": 0.16583333333333333,
          "symbol": "circle"
         },
         "mode": "markers",
         "name": "North Carolina",
         "orientation": "v",
         "showlegend": true,
         "type": "scatter",
         "x": [
          110695.2
         ],
         "xaxis": "x",
         "y": [
          89245
         ],
         "yaxis": "y"
        },
        {
         "hovertemplate": "state=North Dakota<br>four year average in state tuition=%{x}<br>average mid_career_pay=%{y}<br>average make_world_better_percent=%{marker.size}<extra></extra>",
         "legendgroup": "North Dakota",
         "marker": {
          "color": "#ab63fa",
          "size": [
           56
          ],
          "sizemode": "area",
          "sizeref": 0.16583333333333333,
          "symbol": "circle"
         },
         "mode": "markers",
         "name": "North Dakota",
         "orientation": "v",
         "showlegend": true,
         "type": "scatter",
         "x": [
          44292.57142857143
         ],
         "xaxis": "x",
         "y": [
          80814.28571428571
         ],
         "yaxis": "y"
        },
        {
         "hovertemplate": "state=Ohio<br>four year average in state tuition=%{x}<br>average mid_career_pay=%{y}<br>average make_world_better_percent=%{marker.size}<extra></extra>",
         "legendgroup": "Ohio",
         "marker": {
          "color": "#FFA15A",
          "size": [
           50
          ],
          "sizemode": "area",
          "sizeref": 0.16583333333333333,
          "symbol": "circle"
         },
         "mode": "markers",
         "name": "Ohio",
         "orientation": "v",
         "showlegend": true,
         "type": "scatter",
         "x": [
          147707.46666666667
         ],
         "xaxis": "x",
         "y": [
          99440
         ],
         "yaxis": "y"
        },
        {
         "hovertemplate": "state=Oklahoma<br>four year average in state tuition=%{x}<br>average mid_career_pay=%{y}<br>average make_world_better_percent=%{marker.size}<extra></extra>",
         "legendgroup": "Oklahoma",
         "marker": {
          "color": "#19d3f3",
          "size": [
           57.63157894736842
          ],
          "sizemode": "area",
          "sizeref": 0.16583333333333333,
          "symbol": "circle"
         },
         "mode": "markers",
         "name": "Oklahoma",
         "orientation": "v",
         "showlegend": true,
         "type": "scatter",
         "x": [
          62780.42105263158
         ],
         "xaxis": "x",
         "y": [
          81221.05263157895
         ],
         "yaxis": "y"
        },
        {
         "hovertemplate": "state=Oregon<br>four year average in state tuition=%{x}<br>average mid_career_pay=%{y}<br>average make_world_better_percent=%{marker.size}<extra></extra>",
         "legendgroup": "Oregon",
         "marker": {
          "color": "#FF6692",
          "size": [
           57.22222222222222
          ],
          "sizemode": "area",
          "sizeref": 0.16583333333333333,
          "symbol": "circle"
         },
         "mode": "markers",
         "name": "Oregon",
         "orientation": "v",
         "showlegend": true,
         "type": "scatter",
         "x": [
          107244.44444444444
         ],
         "xaxis": "x",
         "y": [
          91083.33333333333
         ],
         "yaxis": "y"
        },
        {
         "hovertemplate": "state=Pennsylvania<br>four year average in state tuition=%{x}<br>average mid_career_pay=%{y}<br>average make_world_better_percent=%{marker.size}<extra></extra>",
         "legendgroup": "Pennsylvania",
         "marker": {
          "color": "#B6E880",
          "size": [
           45.36842105263158
          ],
          "sizemode": "area",
          "sizeref": 0.16583333333333333,
          "symbol": "circle"
         },
         "mode": "markers",
         "name": "Pennsylvania",
         "orientation": "v",
         "showlegend": true,
         "type": "scatter",
         "x": [
          191462.52631578947
         ],
         "xaxis": "x",
         "y": [
          113457.8947368421
         ],
         "yaxis": "y"
        },
        {
         "hovertemplate": "state=Rhode Island<br>four year average in state tuition=%{x}<br>average mid_career_pay=%{y}<br>average make_world_better_percent=%{marker.size}<extra></extra>",
         "legendgroup": "Rhode Island",
         "marker": {
          "color": "#FF97FF",
          "size": [
           45.44444444444444
          ],
          "sizemode": "area",
          "sizeref": 0.16583333333333333,
          "symbol": "circle"
         },
         "mode": "markers",
         "name": "Rhode Island",
         "orientation": "v",
         "showlegend": true,
         "type": "scatter",
         "x": [
          146248
         ],
         "xaxis": "x",
         "y": [
          100744.44444444444
         ],
         "yaxis": "y"
        },
        {
         "hovertemplate": "state=South Carolina<br>four year average in state tuition=%{x}<br>average mid_career_pay=%{y}<br>average make_world_better_percent=%{marker.size}<extra></extra>",
         "legendgroup": "South Carolina",
         "marker": {
          "color": "#FECB52",
          "size": [
           57.666666666666664
          ],
          "sizemode": "area",
          "sizeref": 0.16583333333333333,
          "symbol": "circle"
         },
         "mode": "markers",
         "name": "South Carolina",
         "orientation": "v",
         "showlegend": true,
         "type": "scatter",
         "x": [
          87783.33333333333
         ],
         "xaxis": "x",
         "y": [
          80477.77777777778
         ],
         "yaxis": "y"
        },
        {
         "hovertemplate": "state=South Dakota<br>four year average in state tuition=%{x}<br>average mid_career_pay=%{y}<br>average make_world_better_percent=%{marker.size}<extra></extra>",
         "legendgroup": "South Dakota",
         "marker": {
          "color": "#636efa",
          "size": [
           56.5
          ],
          "sizemode": "area",
          "sizeref": 0.16583333333333333,
          "symbol": "circle"
         },
         "mode": "markers",
         "name": "South Dakota",
         "orientation": "v",
         "showlegend": true,
         "type": "scatter",
         "x": [
          63994
         ],
         "xaxis": "x",
         "y": [
          85170
         ],
         "yaxis": "y"
        },
        {
         "hovertemplate": "state=Tennessee<br>four year average in state tuition=%{x}<br>average mid_career_pay=%{y}<br>average make_world_better_percent=%{marker.size}<extra></extra>",
         "legendgroup": "Tennessee",
         "marker": {
          "color": "#EF553B",
          "size": [
           57.7
          ],
          "sizemode": "area",
          "sizeref": 0.16583333333333333,
          "symbol": "circle"
         },
         "mode": "markers",
         "name": "Tennessee",
         "orientation": "v",
         "showlegend": true,
         "type": "scatter",
         "x": [
          98784.8
         ],
         "xaxis": "x",
         "y": [
          84660
         ],
         "yaxis": "y"
        },
        {
         "hovertemplate": "state=Texas<br>four year average in state tuition=%{x}<br>average mid_career_pay=%{y}<br>average make_world_better_percent=%{marker.size}<extra></extra>",
         "legendgroup": "Texas",
         "marker": {
          "color": "#00cc96",
          "size": [
           53.833333333333336
          ],
          "sizemode": "area",
          "sizeref": 0.16583333333333333,
          "symbol": "circle"
         },
         "mode": "markers",
         "name": "Texas",
         "orientation": "v",
         "showlegend": true,
         "type": "scatter",
         "x": [
          106221.55555555556
         ],
         "xaxis": "x",
         "y": [
          102516.66666666667
         ],
         "yaxis": "y"
        },
        {
         "hovertemplate": "state=Utah<br>four year average in state tuition=%{x}<br>average mid_career_pay=%{y}<br>average make_world_better_percent=%{marker.size}<extra></extra>",
         "legendgroup": "Utah",
         "marker": {
          "color": "#ab63fa",
          "size": [
           59.5
          ],
          "sizemode": "area",
          "sizeref": 0.16583333333333333,
          "symbol": "circle"
         },
         "mode": "markers",
         "name": "Utah",
         "orientation": "v",
         "showlegend": true,
         "type": "scatter",
         "x": [
          27761.333333333332
         ],
         "xaxis": "x",
         "y": [
          92833.33333333333
         ],
         "yaxis": "y"
        },
        {
         "hovertemplate": "state=Vermont<br>four year average in state tuition=%{x}<br>average mid_career_pay=%{y}<br>average make_world_better_percent=%{marker.size}<extra></extra>",
         "legendgroup": "Vermont",
         "marker": {
          "color": "#FFA15A",
          "size": [
           49.63636363636363
          ],
          "sizemode": "area",
          "sizeref": 0.16583333333333333,
          "symbol": "circle"
         },
         "mode": "markers",
         "name": "Vermont",
         "orientation": "v",
         "showlegend": true,
         "type": "scatter",
         "x": [
          129271.27272727272
         ],
         "xaxis": "x",
         "y": [
          89481.81818181818
         ],
         "yaxis": "y"
        },
        {
         "hovertemplate": "state=Virginia<br>four year average in state tuition=%{x}<br>average mid_career_pay=%{y}<br>average make_world_better_percent=%{marker.size}<extra></extra>",
         "legendgroup": "Virginia",
         "marker": {
          "color": "#19d3f3",
          "size": [
           53.13636363636363
          ],
          "sizemode": "area",
          "sizeref": 0.16583333333333333,
          "symbol": "circle"
         },
         "mode": "markers",
         "name": "Virginia",
         "orientation": "v",
         "showlegend": true,
         "type": "scatter",
         "x": [
          100446.36363636363
         ],
         "xaxis": "x",
         "y": [
          96559.09090909091
         ],
         "yaxis": "y"
        },
        {
         "hovertemplate": "state=Washington<br>four year average in state tuition=%{x}<br>average mid_career_pay=%{y}<br>average make_world_better_percent=%{marker.size}<extra></extra>",
         "legendgroup": "Washington",
         "marker": {
          "color": "#FF6692",
          "size": [
           51.1875
          ],
          "sizemode": "area",
          "sizeref": 0.16583333333333333,
          "symbol": "circle"
         },
         "mode": "markers",
         "name": "Washington",
         "orientation": "v",
         "showlegend": true,
         "type": "scatter",
         "x": [
          123986
         ],
         "xaxis": "x",
         "y": [
          97043.75
         ],
         "yaxis": "y"
        },
        {
         "hovertemplate": "state=West Virginia<br>four year average in state tuition=%{x}<br>average mid_career_pay=%{y}<br>average make_world_better_percent=%{marker.size}<extra></extra>",
         "legendgroup": "West Virginia",
         "marker": {
          "color": "#B6E880",
          "size": [
           55.86666666666667
          ],
          "sizemode": "area",
          "sizeref": 0.16583333333333333,
          "symbol": "circle"
         },
         "mode": "markers",
         "name": "West Virginia",
         "orientation": "v",
         "showlegend": true,
         "type": "scatter",
         "x": [
          53202.666666666664
         ],
         "xaxis": "x",
         "y": [
          80040
         ],
         "yaxis": "y"
        },
        {
         "hovertemplate": "state=Wisconsin<br>four year average in state tuition=%{x}<br>average mid_career_pay=%{y}<br>average make_world_better_percent=%{marker.size}<extra></extra>",
         "legendgroup": "Wisconsin",
         "marker": {
          "color": "#FF97FF",
          "size": [
           53.22727272727273
          ],
          "sizemode": "area",
          "sizeref": 0.16583333333333333,
          "symbol": "circle"
         },
         "mode": "markers",
         "name": "Wisconsin",
         "orientation": "v",
         "showlegend": true,
         "type": "scatter",
         "x": [
          95868.54545454546
         ],
         "xaxis": "x",
         "y": [
          91100
         ],
         "yaxis": "y"
        },
        {
         "hovertemplate": "state=Wyoming<br>four year average in state tuition=%{x}<br>average mid_career_pay=%{y}<br>average make_world_better_percent=%{marker.size}<extra></extra>",
         "legendgroup": "Wyoming",
         "marker": {
          "color": "#FECB52",
          "size": [
           58
          ],
          "sizemode": "area",
          "sizeref": 0.16583333333333333,
          "symbol": "circle"
         },
         "mode": "markers",
         "name": "Wyoming",
         "orientation": "v",
         "showlegend": true,
         "type": "scatter",
         "x": [
          21600
         ],
         "xaxis": "x",
         "y": [
          98800
         ],
         "yaxis": "y"
        },
        {
         "hovertemplate": "<b>OLS trendline</b><br>average mid_career_pay = 0.175898 * four year average in state tuition + 75105<br>R<sup>2</sup>=0.504633<br><br>four year average in state tuition=%{x}<br>average mid_career_pay=%{y} <b>(trend)</b><extra></extra>",
         "legendgroup": "Overall Trendline",
         "line": {
          "color": "#636efa"
         },
         "mode": "lines",
         "name": "Overall Trendline",
         "showlegend": true,
         "type": "scatter",
         "x": [
          21600,
          27658.666666666668,
          27761.333333333332,
          42009.333333333336,
          44292.57142857143,
          48806.666666666664,
          51116,
          53202.666666666664,
          61283.2,
          61872,
          62780.42105263158,
          63994,
          64536.95238095238,
          66771.2,
          68785.42857142857,
          74048,
          78756.72727272728,
          78830,
          83676.61538461539,
          84346.35294117648,
          84775.63636363637,
          86910.35294117648,
          87783.33333333333,
          92465.5,
          95868.54545454546,
          96486.22222222222,
          98022,
          98784.8,
          99996.54545454546,
          100446.36363636363,
          104793.26315789473,
          106221.55555555556,
          107244.44444444444,
          110695.2,
          120004.36363636363,
          123986,
          126087.5294117647,
          127574.47619047618,
          129271.27272727272,
          133345.33333333334,
          135868.44444444444,
          136964,
          136982.31578947368,
          143818.44444444444,
          146248,
          147707.46666666667,
          178446,
          188594.85714285713,
          190626.15384615384,
          191462.52631578947
         ],
         "xaxis": "x",
         "y": [
          78904.39341150041,
          79970.10341185667,
          79988.1623181127,
          82494.36325645054,
          82895.98126997765,
          83690.00356935023,
          84096.21169448603,
          84463.25310085874,
          85884.6062888339,
          85988.17528886852,
          86147.96513267193,
          86361.4317733683,
          86456.93624884666,
          86849.9369141566,
          87204.23657275719,
          88129.9146645845,
          88958.17243474776,
          88971.0609929907,
          89823.573066593,
          89941.37885636654,
          90016.88913964713,
          90392.38245026732,
          90545.93833726717,
          91369.52413832376,
          91968.11451671988,
          92076.7628950706,
          92346.90380661924,
          92481.07913478909,
          92694.22326696262,
          92773.34558232999,
          93537.95841639242,
          93789.19281751807,
          93969.11737486988,
          94576.09988548947,
          96213.56722410505,
          96913.93083939601,
          97283.58657940928,
          97545.13819451773,
          97843.60205419542,
          98560.22294932137,
          99004.03425155306,
          99196.74076203414,
          99199.96248078522,
          100402.42683014554,
          100829.78185633008,
          101086.4997626659,
          106493.35974884841,
          108278.52786328449,
          108635.82977961272,
          108782.94639023882
         ],
         "yaxis": "y"
        }
       ],
       "layout": {
        "legend": {
         "itemsizing": "constant",
         "title": {
          "text": "state"
         },
         "tracegroupgap": 0
        },
        "template": {
         "data": {
          "bar": [
           {
            "error_x": {
             "color": "#2a3f5f"
            },
            "error_y": {
             "color": "#2a3f5f"
            },
            "marker": {
             "line": {
              "color": "#E5ECF6",
              "width": 0.5
             },
             "pattern": {
              "fillmode": "overlay",
              "size": 10,
              "solidity": 0.2
             }
            },
            "type": "bar"
           }
          ],
          "barpolar": [
           {
            "marker": {
             "line": {
              "color": "#E5ECF6",
              "width": 0.5
             },
             "pattern": {
              "fillmode": "overlay",
              "size": 10,
              "solidity": 0.2
             }
            },
            "type": "barpolar"
           }
          ],
          "carpet": [
           {
            "aaxis": {
             "endlinecolor": "#2a3f5f",
             "gridcolor": "white",
             "linecolor": "white",
             "minorgridcolor": "white",
             "startlinecolor": "#2a3f5f"
            },
            "baxis": {
             "endlinecolor": "#2a3f5f",
             "gridcolor": "white",
             "linecolor": "white",
             "minorgridcolor": "white",
             "startlinecolor": "#2a3f5f"
            },
            "type": "carpet"
           }
          ],
          "choropleth": [
           {
            "colorbar": {
             "outlinewidth": 0,
             "ticks": ""
            },
            "type": "choropleth"
           }
          ],
          "contour": [
           {
            "colorbar": {
             "outlinewidth": 0,
             "ticks": ""
            },
            "colorscale": [
             [
              0,
              "#0d0887"
             ],
             [
              0.1111111111111111,
              "#46039f"
             ],
             [
              0.2222222222222222,
              "#7201a8"
             ],
             [
              0.3333333333333333,
              "#9c179e"
             ],
             [
              0.4444444444444444,
              "#bd3786"
             ],
             [
              0.5555555555555556,
              "#d8576b"
             ],
             [
              0.6666666666666666,
              "#ed7953"
             ],
             [
              0.7777777777777778,
              "#fb9f3a"
             ],
             [
              0.8888888888888888,
              "#fdca26"
             ],
             [
              1,
              "#f0f921"
             ]
            ],
            "type": "contour"
           }
          ],
          "contourcarpet": [
           {
            "colorbar": {
             "outlinewidth": 0,
             "ticks": ""
            },
            "type": "contourcarpet"
           }
          ],
          "heatmap": [
           {
            "colorbar": {
             "outlinewidth": 0,
             "ticks": ""
            },
            "colorscale": [
             [
              0,
              "#0d0887"
             ],
             [
              0.1111111111111111,
              "#46039f"
             ],
             [
              0.2222222222222222,
              "#7201a8"
             ],
             [
              0.3333333333333333,
              "#9c179e"
             ],
             [
              0.4444444444444444,
              "#bd3786"
             ],
             [
              0.5555555555555556,
              "#d8576b"
             ],
             [
              0.6666666666666666,
              "#ed7953"
             ],
             [
              0.7777777777777778,
              "#fb9f3a"
             ],
             [
              0.8888888888888888,
              "#fdca26"
             ],
             [
              1,
              "#f0f921"
             ]
            ],
            "type": "heatmap"
           }
          ],
          "heatmapgl": [
           {
            "colorbar": {
             "outlinewidth": 0,
             "ticks": ""
            },
            "colorscale": [
             [
              0,
              "#0d0887"
             ],
             [
              0.1111111111111111,
              "#46039f"
             ],
             [
              0.2222222222222222,
              "#7201a8"
             ],
             [
              0.3333333333333333,
              "#9c179e"
             ],
             [
              0.4444444444444444,
              "#bd3786"
             ],
             [
              0.5555555555555556,
              "#d8576b"
             ],
             [
              0.6666666666666666,
              "#ed7953"
             ],
             [
              0.7777777777777778,
              "#fb9f3a"
             ],
             [
              0.8888888888888888,
              "#fdca26"
             ],
             [
              1,
              "#f0f921"
             ]
            ],
            "type": "heatmapgl"
           }
          ],
          "histogram": [
           {
            "marker": {
             "pattern": {
              "fillmode": "overlay",
              "size": 10,
              "solidity": 0.2
             }
            },
            "type": "histogram"
           }
          ],
          "histogram2d": [
           {
            "colorbar": {
             "outlinewidth": 0,
             "ticks": ""
            },
            "colorscale": [
             [
              0,
              "#0d0887"
             ],
             [
              0.1111111111111111,
              "#46039f"
             ],
             [
              0.2222222222222222,
              "#7201a8"
             ],
             [
              0.3333333333333333,
              "#9c179e"
             ],
             [
              0.4444444444444444,
              "#bd3786"
             ],
             [
              0.5555555555555556,
              "#d8576b"
             ],
             [
              0.6666666666666666,
              "#ed7953"
             ],
             [
              0.7777777777777778,
              "#fb9f3a"
             ],
             [
              0.8888888888888888,
              "#fdca26"
             ],
             [
              1,
              "#f0f921"
             ]
            ],
            "type": "histogram2d"
           }
          ],
          "histogram2dcontour": [
           {
            "colorbar": {
             "outlinewidth": 0,
             "ticks": ""
            },
            "colorscale": [
             [
              0,
              "#0d0887"
             ],
             [
              0.1111111111111111,
              "#46039f"
             ],
             [
              0.2222222222222222,
              "#7201a8"
             ],
             [
              0.3333333333333333,
              "#9c179e"
             ],
             [
              0.4444444444444444,
              "#bd3786"
             ],
             [
              0.5555555555555556,
              "#d8576b"
             ],
             [
              0.6666666666666666,
              "#ed7953"
             ],
             [
              0.7777777777777778,
              "#fb9f3a"
             ],
             [
              0.8888888888888888,
              "#fdca26"
             ],
             [
              1,
              "#f0f921"
             ]
            ],
            "type": "histogram2dcontour"
           }
          ],
          "mesh3d": [
           {
            "colorbar": {
             "outlinewidth": 0,
             "ticks": ""
            },
            "type": "mesh3d"
           }
          ],
          "parcoords": [
           {
            "line": {
             "colorbar": {
              "outlinewidth": 0,
              "ticks": ""
             }
            },
            "type": "parcoords"
           }
          ],
          "pie": [
           {
            "automargin": true,
            "type": "pie"
           }
          ],
          "scatter": [
           {
            "marker": {
             "colorbar": {
              "outlinewidth": 0,
              "ticks": ""
             }
            },
            "type": "scatter"
           }
          ],
          "scatter3d": [
           {
            "line": {
             "colorbar": {
              "outlinewidth": 0,
              "ticks": ""
             }
            },
            "marker": {
             "colorbar": {
              "outlinewidth": 0,
              "ticks": ""
             }
            },
            "type": "scatter3d"
           }
          ],
          "scattercarpet": [
           {
            "marker": {
             "colorbar": {
              "outlinewidth": 0,
              "ticks": ""
             }
            },
            "type": "scattercarpet"
           }
          ],
          "scattergeo": [
           {
            "marker": {
             "colorbar": {
              "outlinewidth": 0,
              "ticks": ""
             }
            },
            "type": "scattergeo"
           }
          ],
          "scattergl": [
           {
            "marker": {
             "colorbar": {
              "outlinewidth": 0,
              "ticks": ""
             }
            },
            "type": "scattergl"
           }
          ],
          "scattermapbox": [
           {
            "marker": {
             "colorbar": {
              "outlinewidth": 0,
              "ticks": ""
             }
            },
            "type": "scattermapbox"
           }
          ],
          "scatterpolar": [
           {
            "marker": {
             "colorbar": {
              "outlinewidth": 0,
              "ticks": ""
             }
            },
            "type": "scatterpolar"
           }
          ],
          "scatterpolargl": [
           {
            "marker": {
             "colorbar": {
              "outlinewidth": 0,
              "ticks": ""
             }
            },
            "type": "scatterpolargl"
           }
          ],
          "scatterternary": [
           {
            "marker": {
             "colorbar": {
              "outlinewidth": 0,
              "ticks": ""
             }
            },
            "type": "scatterternary"
           }
          ],
          "surface": [
           {
            "colorbar": {
             "outlinewidth": 0,
             "ticks": ""
            },
            "colorscale": [
             [
              0,
              "#0d0887"
             ],
             [
              0.1111111111111111,
              "#46039f"
             ],
             [
              0.2222222222222222,
              "#7201a8"
             ],
             [
              0.3333333333333333,
              "#9c179e"
             ],
             [
              0.4444444444444444,
              "#bd3786"
             ],
             [
              0.5555555555555556,
              "#d8576b"
             ],
             [
              0.6666666666666666,
              "#ed7953"
             ],
             [
              0.7777777777777778,
              "#fb9f3a"
             ],
             [
              0.8888888888888888,
              "#fdca26"
             ],
             [
              1,
              "#f0f921"
             ]
            ],
            "type": "surface"
           }
          ],
          "table": [
           {
            "cells": {
             "fill": {
              "color": "#EBF0F8"
             },
             "line": {
              "color": "white"
             }
            },
            "header": {
             "fill": {
              "color": "#C8D4E3"
             },
             "line": {
              "color": "white"
             }
            },
            "type": "table"
           }
          ]
         },
         "layout": {
          "annotationdefaults": {
           "arrowcolor": "#2a3f5f",
           "arrowhead": 0,
           "arrowwidth": 1
          },
          "autotypenumbers": "strict",
          "coloraxis": {
           "colorbar": {
            "outlinewidth": 0,
            "ticks": ""
           }
          },
          "colorscale": {
           "diverging": [
            [
             0,
             "#8e0152"
            ],
            [
             0.1,
             "#c51b7d"
            ],
            [
             0.2,
             "#de77ae"
            ],
            [
             0.3,
             "#f1b6da"
            ],
            [
             0.4,
             "#fde0ef"
            ],
            [
             0.5,
             "#f7f7f7"
            ],
            [
             0.6,
             "#e6f5d0"
            ],
            [
             0.7,
             "#b8e186"
            ],
            [
             0.8,
             "#7fbc41"
            ],
            [
             0.9,
             "#4d9221"
            ],
            [
             1,
             "#276419"
            ]
           ],
           "sequential": [
            [
             0,
             "#0d0887"
            ],
            [
             0.1111111111111111,
             "#46039f"
            ],
            [
             0.2222222222222222,
             "#7201a8"
            ],
            [
             0.3333333333333333,
             "#9c179e"
            ],
            [
             0.4444444444444444,
             "#bd3786"
            ],
            [
             0.5555555555555556,
             "#d8576b"
            ],
            [
             0.6666666666666666,
             "#ed7953"
            ],
            [
             0.7777777777777778,
             "#fb9f3a"
            ],
            [
             0.8888888888888888,
             "#fdca26"
            ],
            [
             1,
             "#f0f921"
            ]
           ],
           "sequentialminus": [
            [
             0,
             "#0d0887"
            ],
            [
             0.1111111111111111,
             "#46039f"
            ],
            [
             0.2222222222222222,
             "#7201a8"
            ],
            [
             0.3333333333333333,
             "#9c179e"
            ],
            [
             0.4444444444444444,
             "#bd3786"
            ],
            [
             0.5555555555555556,
             "#d8576b"
            ],
            [
             0.6666666666666666,
             "#ed7953"
            ],
            [
             0.7777777777777778,
             "#fb9f3a"
            ],
            [
             0.8888888888888888,
             "#fdca26"
            ],
            [
             1,
             "#f0f921"
            ]
           ]
          },
          "colorway": [
           "#636efa",
           "#EF553B",
           "#00cc96",
           "#ab63fa",
           "#FFA15A",
           "#19d3f3",
           "#FF6692",
           "#B6E880",
           "#FF97FF",
           "#FECB52"
          ],
          "font": {
           "color": "#2a3f5f"
          },
          "geo": {
           "bgcolor": "white",
           "lakecolor": "white",
           "landcolor": "#E5ECF6",
           "showlakes": true,
           "showland": true,
           "subunitcolor": "white"
          },
          "hoverlabel": {
           "align": "left"
          },
          "hovermode": "closest",
          "mapbox": {
           "style": "light"
          },
          "paper_bgcolor": "white",
          "plot_bgcolor": "#E5ECF6",
          "polar": {
           "angularaxis": {
            "gridcolor": "white",
            "linecolor": "white",
            "ticks": ""
           },
           "bgcolor": "#E5ECF6",
           "radialaxis": {
            "gridcolor": "white",
            "linecolor": "white",
            "ticks": ""
           }
          },
          "scene": {
           "xaxis": {
            "backgroundcolor": "#E5ECF6",
            "gridcolor": "white",
            "gridwidth": 2,
            "linecolor": "white",
            "showbackground": true,
            "ticks": "",
            "zerolinecolor": "white"
           },
           "yaxis": {
            "backgroundcolor": "#E5ECF6",
            "gridcolor": "white",
            "gridwidth": 2,
            "linecolor": "white",
            "showbackground": true,
            "ticks": "",
            "zerolinecolor": "white"
           },
           "zaxis": {
            "backgroundcolor": "#E5ECF6",
            "gridcolor": "white",
            "gridwidth": 2,
            "linecolor": "white",
            "showbackground": true,
            "ticks": "",
            "zerolinecolor": "white"
           }
          },
          "shapedefaults": {
           "line": {
            "color": "#2a3f5f"
           }
          },
          "ternary": {
           "aaxis": {
            "gridcolor": "white",
            "linecolor": "white",
            "ticks": ""
           },
           "baxis": {
            "gridcolor": "white",
            "linecolor": "white",
            "ticks": ""
           },
           "bgcolor": "#E5ECF6",
           "caxis": {
            "gridcolor": "white",
            "linecolor": "white",
            "ticks": ""
           }
          },
          "title": {
           "x": 0.05
          },
          "xaxis": {
           "automargin": true,
           "gridcolor": "white",
           "linecolor": "white",
           "ticks": "",
           "title": {
            "standoff": 15
           },
           "zerolinecolor": "white",
           "zerolinewidth": 2
          },
          "yaxis": {
           "automargin": true,
           "gridcolor": "white",
           "linecolor": "white",
           "ticks": "",
           "title": {
            "standoff": 15
           },
           "zerolinecolor": "white",
           "zerolinewidth": 2
          }
         }
        },
        "title": {
         "text": "Average In State Tuition vs Average % of Students Graduating with STEM Degrees"
        },
        "xaxis": {
         "anchor": "y",
         "domain": [
          0,
          1
         ],
         "title": {
          "text": "four year average in state tuition"
         }
        },
        "yaxis": {
         "anchor": "x",
         "domain": [
          0,
          1
         ],
         "title": {
          "text": "average mid_career_pay"
         }
        }
       }
      },
      "text/html": [
       "<div>                            <div id=\"c26159d1-21a9-4225-b7ce-be869c125be5\" class=\"plotly-graph-div\" style=\"height:525px; width:100%;\"></div>            <script type=\"text/javascript\">                require([\"plotly\"], function(Plotly) {                    window.PLOTLYENV=window.PLOTLYENV || {};                                    if (document.getElementById(\"c26159d1-21a9-4225-b7ce-be869c125be5\")) {                    Plotly.newPlot(                        \"c26159d1-21a9-4225-b7ce-be869c125be5\",                        [{\"hovertemplate\":\"state=Alabama<br>four year average in state tuition=%{x}<br>average mid_career_pay=%{y}<br>average make_world_better_percent=%{marker.size}<extra></extra>\",\"legendgroup\":\"Alabama\",\"marker\":{\"color\":\"#636efa\",\"size\":[60.04761904761905],\"sizemode\":\"area\",\"sizeref\":0.16583333333333333,\"symbol\":\"circle\"},\"mode\":\"markers\",\"name\":\"Alabama\",\"orientation\":\"v\",\"showlegend\":true,\"x\":[64536.95238095238],\"xaxis\":\"x\",\"y\":[81176.19047619047],\"yaxis\":\"y\",\"type\":\"scatter\"},{\"hovertemplate\":\"state=Alaska<br>four year average in state tuition=%{x}<br>average mid_career_pay=%{y}<br>average make_world_better_percent=%{marker.size}<extra></extra>\",\"legendgroup\":\"Alaska\",\"marker\":{\"color\":\"#EF553B\",\"size\":[59.333333333333336],\"sizemode\":\"area\",\"sizeref\":0.16583333333333333,\"symbol\":\"circle\"},\"mode\":\"markers\",\"name\":\"Alaska\",\"orientation\":\"v\",\"showlegend\":true,\"x\":[48806.666666666664],\"xaxis\":\"x\",\"y\":[97600.0],\"yaxis\":\"y\",\"type\":\"scatter\"},{\"hovertemplate\":\"state=Arizona<br>four year average in state tuition=%{x}<br>average mid_career_pay=%{y}<br>average make_world_better_percent=%{marker.size}<extra></extra>\",\"legendgroup\":\"Arizona\",\"marker\":{\"color\":\"#00cc96\",\"size\":[58.666666666666664],\"sizemode\":\"area\",\"sizeref\":0.16583333333333333,\"symbol\":\"circle\"},\"mode\":\"markers\",\"name\":\"Arizona\",\"orientation\":\"v\",\"showlegend\":true,\"x\":[74048.0],\"xaxis\":\"x\",\"y\":[88166.66666666667],\"yaxis\":\"y\",\"type\":\"scatter\"},{\"hovertemplate\":\"state=Arkansas<br>four year average in state tuition=%{x}<br>average mid_career_pay=%{y}<br>average make_world_better_percent=%{marker.size}<extra></extra>\",\"legendgroup\":\"Arkansas\",\"marker\":{\"color\":\"#ab63fa\",\"size\":[57.57142857142857],\"sizemode\":\"area\",\"sizeref\":0.16583333333333333,\"symbol\":\"circle\"},\"mode\":\"markers\",\"name\":\"Arkansas\",\"orientation\":\"v\",\"showlegend\":true,\"x\":[68785.42857142857],\"xaxis\":\"x\",\"y\":[81700.0],\"yaxis\":\"y\",\"type\":\"scatter\"},{\"hovertemplate\":\"state=California<br>four year average in state tuition=%{x}<br>average mid_career_pay=%{y}<br>average make_world_better_percent=%{marker.size}<extra></extra>\",\"legendgroup\":\"California\",\"marker\":{\"color\":\"#FFA15A\",\"size\":[49.76923076923077],\"sizemode\":\"area\",\"sizeref\":0.16583333333333333,\"symbol\":\"circle\"},\"mode\":\"markers\",\"name\":\"California\",\"orientation\":\"v\",\"showlegend\":true,\"x\":[190626.15384615384],\"xaxis\":\"x\",\"y\":[124876.92307692308],\"yaxis\":\"y\",\"type\":\"scatter\"},{\"hovertemplate\":\"state=Colorado<br>four year average in state tuition=%{x}<br>average mid_career_pay=%{y}<br>average make_world_better_percent=%{marker.size}<extra></extra>\",\"legendgroup\":\"Colorado\",\"marker\":{\"color\":\"#19d3f3\",\"size\":[53.92307692307692],\"sizemode\":\"area\",\"sizeref\":0.16583333333333333,\"symbol\":\"circle\"},\"mode\":\"markers\",\"name\":\"Colorado\",\"orientation\":\"v\",\"showlegend\":true,\"x\":[83676.61538461539],\"xaxis\":\"x\",\"y\":[93815.38461538461],\"yaxis\":\"y\",\"type\":\"scatter\"},{\"hovertemplate\":\"state=Connecticut<br>four year average in state tuition=%{x}<br>average mid_career_pay=%{y}<br>average make_world_better_percent=%{marker.size}<extra></extra>\",\"legendgroup\":\"Connecticut\",\"marker\":{\"color\":\"#FF6692\",\"size\":[51.0],\"sizemode\":\"area\",\"sizeref\":0.16583333333333333,\"symbol\":\"circle\"},\"mode\":\"markers\",\"name\":\"Connecticut\",\"orientation\":\"v\",\"showlegend\":true,\"x\":[135868.44444444444],\"xaxis\":\"x\",\"y\":[99505.55555555556],\"yaxis\":\"y\",\"type\":\"scatter\"},{\"hovertemplate\":\"state=Delaware<br>four year average in state tuition=%{x}<br>average mid_career_pay=%{y}<br>average make_world_better_percent=%{marker.size}<extra></extra>\",\"legendgroup\":\"Delaware\",\"marker\":{\"color\":\"#B6E880\",\"size\":[49.4],\"sizemode\":\"area\",\"sizeref\":0.16583333333333333,\"symbol\":\"circle\"},\"mode\":\"markers\",\"name\":\"Delaware\",\"orientation\":\"v\",\"showlegend\":true,\"x\":[66771.2],\"xaxis\":\"x\",\"y\":[85620.0],\"yaxis\":\"y\",\"type\":\"scatter\"},{\"hovertemplate\":\"state=Florida<br>four year average in state tuition=%{x}<br>average mid_career_pay=%{y}<br>average make_world_better_percent=%{marker.size}<extra></extra>\",\"legendgroup\":\"Florida\",\"marker\":{\"color\":\"#FF97FF\",\"size\":[54.5],\"sizemode\":\"area\",\"sizeref\":0.16583333333333333,\"symbol\":\"circle\"},\"mode\":\"markers\",\"name\":\"Florida\",\"orientation\":\"v\",\"showlegend\":true,\"x\":[96486.22222222222],\"xaxis\":\"x\",\"y\":[90455.55555555556],\"yaxis\":\"y\",\"type\":\"scatter\"},{\"hovertemplate\":\"state=Georgia<br>four year average in state tuition=%{x}<br>average mid_career_pay=%{y}<br>average make_world_better_percent=%{marker.size}<extra></extra>\",\"legendgroup\":\"Georgia\",\"marker\":{\"color\":\"#FECB52\",\"size\":[52.86363636363637],\"sizemode\":\"area\",\"sizeref\":0.16583333333333333,\"symbol\":\"circle\"},\"mode\":\"markers\",\"name\":\"Georgia\",\"orientation\":\"v\",\"showlegend\":true,\"x\":[84775.63636363637],\"xaxis\":\"x\",\"y\":[86700.0],\"yaxis\":\"y\",\"type\":\"scatter\"},{\"hovertemplate\":\"state=Hawaii<br>four year average in state tuition=%{x}<br>average mid_career_pay=%{y}<br>average make_world_better_percent=%{marker.size}<extra></extra>\",\"legendgroup\":\"Hawaii\",\"marker\":{\"color\":\"#636efa\",\"size\":[56.6],\"sizemode\":\"area\",\"sizeref\":0.16583333333333333,\"symbol\":\"circle\"},\"mode\":\"markers\",\"name\":\"Hawaii\",\"orientation\":\"v\",\"showlegend\":true,\"x\":[61283.2],\"xaxis\":\"x\",\"y\":[88040.0],\"yaxis\":\"y\",\"type\":\"scatter\"},{\"hovertemplate\":\"state=Idaho<br>four year average in state tuition=%{x}<br>average mid_career_pay=%{y}<br>average make_world_better_percent=%{marker.size}<extra></extra>\",\"legendgroup\":\"Idaho\",\"marker\":{\"color\":\"#EF553B\",\"size\":[60.0],\"sizemode\":\"area\",\"sizeref\":0.16583333333333333,\"symbol\":\"circle\"},\"mode\":\"markers\",\"name\":\"Idaho\",\"orientation\":\"v\",\"showlegend\":true,\"x\":[42009.333333333336],\"xaxis\":\"x\",\"y\":[87933.33333333333],\"yaxis\":\"y\",\"type\":\"scatter\"},{\"hovertemplate\":\"state=Illinois<br>four year average in state tuition=%{x}<br>average mid_career_pay=%{y}<br>average make_world_better_percent=%{marker.size}<extra></extra>\",\"legendgroup\":\"Illinois\",\"marker\":{\"color\":\"#00cc96\",\"size\":[51.26315789473684],\"sizemode\":\"area\",\"sizeref\":0.16583333333333333,\"symbol\":\"circle\"},\"mode\":\"markers\",\"name\":\"Illinois\",\"orientation\":\"v\",\"showlegend\":true,\"x\":[136982.31578947368],\"xaxis\":\"x\",\"y\":[101368.42105263157],\"yaxis\":\"y\",\"type\":\"scatter\"},{\"hovertemplate\":\"state=Indiana<br>four year average in state tuition=%{x}<br>average mid_career_pay=%{y}<br>average make_world_better_percent=%{marker.size}<extra></extra>\",\"legendgroup\":\"Indiana\",\"marker\":{\"color\":\"#ab63fa\",\"size\":[51.44444444444444],\"sizemode\":\"area\",\"sizeref\":0.16583333333333333,\"symbol\":\"circle\"},\"mode\":\"markers\",\"name\":\"Indiana\",\"orientation\":\"v\",\"showlegend\":true,\"x\":[143818.44444444444],\"xaxis\":\"x\",\"y\":[96233.33333333333],\"yaxis\":\"y\",\"type\":\"scatter\"},{\"hovertemplate\":\"state=Iowa<br>four year average in state tuition=%{x}<br>average mid_career_pay=%{y}<br>average make_world_better_percent=%{marker.size}<extra></extra>\",\"legendgroup\":\"Iowa\",\"marker\":{\"color\":\"#FFA15A\",\"size\":[50.04761904761905],\"sizemode\":\"area\",\"sizeref\":0.16583333333333333,\"symbol\":\"circle\"},\"mode\":\"markers\",\"name\":\"Iowa\",\"orientation\":\"v\",\"showlegend\":true,\"x\":[127574.47619047618],\"xaxis\":\"x\",\"y\":[87285.71428571429],\"yaxis\":\"y\",\"type\":\"scatter\"},{\"hovertemplate\":\"state=Kansas<br>four year average in state tuition=%{x}<br>average mid_career_pay=%{y}<br>average make_world_better_percent=%{marker.size}<extra></extra>\",\"legendgroup\":\"Kansas\",\"marker\":{\"color\":\"#19d3f3\",\"size\":[60.35294117647059],\"sizemode\":\"area\",\"sizeref\":0.16583333333333333,\"symbol\":\"circle\"},\"mode\":\"markers\",\"name\":\"Kansas\",\"orientation\":\"v\",\"showlegend\":true,\"x\":[84346.35294117648],\"xaxis\":\"x\",\"y\":[83752.94117647059],\"yaxis\":\"y\",\"type\":\"scatter\"},{\"hovertemplate\":\"state=Kentucky<br>four year average in state tuition=%{x}<br>average mid_career_pay=%{y}<br>average make_world_better_percent=%{marker.size}<extra></extra>\",\"legendgroup\":\"Kentucky\",\"marker\":{\"color\":\"#FF6692\",\"size\":[56.083333333333336],\"sizemode\":\"area\",\"sizeref\":0.16583333333333333,\"symbol\":\"circle\"},\"mode\":\"markers\",\"name\":\"Kentucky\",\"orientation\":\"v\",\"showlegend\":true,\"x\":[92465.5],\"xaxis\":\"x\",\"y\":[79012.5],\"yaxis\":\"y\",\"type\":\"scatter\"},{\"hovertemplate\":\"state=Louisiana<br>four year average in state tuition=%{x}<br>average mid_career_pay=%{y}<br>average make_world_better_percent=%{marker.size}<extra></extra>\",\"legendgroup\":\"Louisiana\",\"marker\":{\"color\":\"#B6E880\",\"size\":[58.666666666666664],\"sizemode\":\"area\",\"sizeref\":0.16583333333333333,\"symbol\":\"circle\"},\"mode\":\"markers\",\"name\":\"Louisiana\",\"orientation\":\"v\",\"showlegend\":true,\"x\":[61872.0],\"xaxis\":\"x\",\"y\":[85926.66666666667],\"yaxis\":\"y\",\"type\":\"scatter\"},{\"hovertemplate\":\"state=Maine<br>four year average in state tuition=%{x}<br>average mid_career_pay=%{y}<br>average make_world_better_percent=%{marker.size}<extra></extra>\",\"legendgroup\":\"Maine\",\"marker\":{\"color\":\"#FF97FF\",\"size\":[55.875],\"sizemode\":\"area\",\"sizeref\":0.16583333333333333,\"symbol\":\"circle\"},\"mode\":\"markers\",\"name\":\"Maine\",\"orientation\":\"v\",\"showlegend\":true,\"x\":[98022.0],\"xaxis\":\"x\",\"y\":[86425.0],\"yaxis\":\"y\",\"type\":\"scatter\"},{\"hovertemplate\":\"state=Maryland<br>four year average in state tuition=%{x}<br>average mid_career_pay=%{y}<br>average make_world_better_percent=%{marker.size}<extra></extra>\",\"legendgroup\":\"Maryland\",\"marker\":{\"color\":\"#FECB52\",\"size\":[52.294117647058826],\"sizemode\":\"area\",\"sizeref\":0.16583333333333333,\"symbol\":\"circle\"},\"mode\":\"markers\",\"name\":\"Maryland\",\"orientation\":\"v\",\"showlegend\":true,\"x\":[126087.5294117647],\"xaxis\":\"x\",\"y\":[94688.23529411765],\"yaxis\":\"y\",\"type\":\"scatter\"},{\"hovertemplate\":\"state=Massachusetts<br>four year average in state tuition=%{x}<br>average mid_career_pay=%{y}<br>average make_world_better_percent=%{marker.size}<extra></extra>\",\"legendgroup\":\"Massachusetts\",\"marker\":{\"color\":\"#636efa\",\"size\":[47.523809523809526],\"sizemode\":\"area\",\"sizeref\":0.16583333333333333,\"symbol\":\"circle\"},\"mode\":\"markers\",\"name\":\"Massachusetts\",\"orientation\":\"v\",\"showlegend\":true,\"x\":[188594.85714285713],\"xaxis\":\"x\",\"y\":[116009.52380952382],\"yaxis\":\"y\",\"type\":\"scatter\"},{\"hovertemplate\":\"state=Michigan<br>four year average in state tuition=%{x}<br>average mid_career_pay=%{y}<br>average make_world_better_percent=%{marker.size}<extra></extra>\",\"legendgroup\":\"Michigan\",\"marker\":{\"color\":\"#EF553B\",\"size\":[48.90909090909091],\"sizemode\":\"area\",\"sizeref\":0.16583333333333333,\"symbol\":\"circle\"},\"mode\":\"markers\",\"name\":\"Michigan\",\"orientation\":\"v\",\"showlegend\":true,\"x\":[99996.54545454546],\"xaxis\":\"x\",\"y\":[93463.63636363637],\"yaxis\":\"y\",\"type\":\"scatter\"},{\"hovertemplate\":\"state=Minnesota<br>four year average in state tuition=%{x}<br>average mid_career_pay=%{y}<br>average make_world_better_percent=%{marker.size}<extra></extra>\",\"legendgroup\":\"Minnesota\",\"marker\":{\"color\":\"#00cc96\",\"size\":[49.111111111111114],\"sizemode\":\"area\",\"sizeref\":0.16583333333333333,\"symbol\":\"circle\"},\"mode\":\"markers\",\"name\":\"Minnesota\",\"orientation\":\"v\",\"showlegend\":true,\"x\":[133345.33333333334],\"xaxis\":\"x\",\"y\":[93055.55555555556],\"yaxis\":\"y\",\"type\":\"scatter\"},{\"hovertemplate\":\"state=Mississippi<br>four year average in state tuition=%{x}<br>average mid_career_pay=%{y}<br>average make_world_better_percent=%{marker.size}<extra></extra>\",\"legendgroup\":\"Mississippi\",\"marker\":{\"color\":\"#ab63fa\",\"size\":[62.642857142857146],\"sizemode\":\"area\",\"sizeref\":0.16583333333333333,\"symbol\":\"circle\"},\"mode\":\"markers\",\"name\":\"Mississippi\",\"orientation\":\"v\",\"showlegend\":true,\"x\":[51116.0],\"xaxis\":\"x\",\"y\":[75707.14285714286],\"yaxis\":\"y\",\"type\":\"scatter\"},{\"hovertemplate\":\"state=Missouri<br>four year average in state tuition=%{x}<br>average mid_career_pay=%{y}<br>average make_world_better_percent=%{marker.size}<extra></extra>\",\"legendgroup\":\"Missouri\",\"marker\":{\"color\":\"#FFA15A\",\"size\":[53.0],\"sizemode\":\"area\",\"sizeref\":0.16583333333333333,\"symbol\":\"circle\"},\"mode\":\"markers\",\"name\":\"Missouri\",\"orientation\":\"v\",\"showlegend\":true,\"x\":[86910.35294117648],\"xaxis\":\"x\",\"y\":[85794.11764705883],\"yaxis\":\"y\",\"type\":\"scatter\"},{\"hovertemplate\":\"state=Montana<br>four year average in state tuition=%{x}<br>average mid_career_pay=%{y}<br>average make_world_better_percent=%{marker.size}<extra></extra>\",\"legendgroup\":\"Montana\",\"marker\":{\"color\":\"#19d3f3\",\"size\":[58.0],\"sizemode\":\"area\",\"sizeref\":0.16583333333333333,\"symbol\":\"circle\"},\"mode\":\"markers\",\"name\":\"Montana\",\"orientation\":\"v\",\"showlegend\":true,\"x\":[78830.0],\"xaxis\":\"x\",\"y\":[95775.0],\"yaxis\":\"y\",\"type\":\"scatter\"},{\"hovertemplate\":\"state=Nebraska<br>four year average in state tuition=%{x}<br>average mid_career_pay=%{y}<br>average make_world_better_percent=%{marker.size}<extra></extra>\",\"legendgroup\":\"Nebraska\",\"marker\":{\"color\":\"#FF6692\",\"size\":[59.63636363636363],\"sizemode\":\"area\",\"sizeref\":0.16583333333333333,\"symbol\":\"circle\"},\"mode\":\"markers\",\"name\":\"Nebraska\",\"orientation\":\"v\",\"showlegend\":true,\"x\":[78756.72727272728],\"xaxis\":\"x\",\"y\":[83036.36363636363],\"yaxis\":\"y\",\"type\":\"scatter\"},{\"hovertemplate\":\"state=Nevada<br>four year average in state tuition=%{x}<br>average mid_career_pay=%{y}<br>average make_world_better_percent=%{marker.size}<extra></extra>\",\"legendgroup\":\"Nevada\",\"marker\":{\"color\":\"#B6E880\",\"size\":[39.0],\"sizemode\":\"area\",\"sizeref\":0.16583333333333333,\"symbol\":\"circle\"},\"mode\":\"markers\",\"name\":\"Nevada\",\"orientation\":\"v\",\"showlegend\":true,\"x\":[136964.0],\"xaxis\":\"x\",\"y\":[95500.0],\"yaxis\":\"y\",\"type\":\"scatter\"},{\"hovertemplate\":\"state=New Hampshire<br>four year average in state tuition=%{x}<br>average mid_career_pay=%{y}<br>average make_world_better_percent=%{marker.size}<extra></extra>\",\"legendgroup\":\"New Hampshire\",\"marker\":{\"color\":\"#FF97FF\",\"size\":[51.27272727272727],\"sizemode\":\"area\",\"sizeref\":0.16583333333333333,\"symbol\":\"circle\"},\"mode\":\"markers\",\"name\":\"New Hampshire\",\"orientation\":\"v\",\"showlegend\":true,\"x\":[120004.36363636363],\"xaxis\":\"x\",\"y\":[89909.09090909091],\"yaxis\":\"y\",\"type\":\"scatter\"},{\"hovertemplate\":\"state=New Jersey<br>four year average in state tuition=%{x}<br>average mid_career_pay=%{y}<br>average make_world_better_percent=%{marker.size}<extra></extra>\",\"legendgroup\":\"New Jersey\",\"marker\":{\"color\":\"#FECB52\",\"size\":[46.473684210526315],\"sizemode\":\"area\",\"sizeref\":0.16583333333333333,\"symbol\":\"circle\"},\"mode\":\"markers\",\"name\":\"New Jersey\",\"orientation\":\"v\",\"showlegend\":true,\"x\":[104793.26315789473],\"xaxis\":\"x\",\"y\":[100400.0],\"yaxis\":\"y\",\"type\":\"scatter\"},{\"hovertemplate\":\"state=New Mexico<br>four year average in state tuition=%{x}<br>average mid_career_pay=%{y}<br>average make_world_better_percent=%{marker.size}<extra></extra>\",\"legendgroup\":\"New Mexico\",\"marker\":{\"color\":\"#636efa\",\"size\":[66.33333333333333],\"sizemode\":\"area\",\"sizeref\":0.16583333333333333,\"symbol\":\"circle\"},\"mode\":\"markers\",\"name\":\"New Mexico\",\"orientation\":\"v\",\"showlegend\":true,\"x\":[27658.666666666668],\"xaxis\":\"x\",\"y\":[90300.0],\"yaxis\":\"y\",\"type\":\"scatter\"},{\"hovertemplate\":\"state=New York<br>four year average in state tuition=%{x}<br>average mid_career_pay=%{y}<br>average make_world_better_percent=%{marker.size}<extra></extra>\",\"legendgroup\":\"New York\",\"marker\":{\"color\":\"#EF553B\",\"size\":[50.8125],\"sizemode\":\"area\",\"sizeref\":0.16583333333333333,\"symbol\":\"circle\"},\"mode\":\"markers\",\"name\":\"New York\",\"orientation\":\"v\",\"showlegend\":true,\"x\":[178446.0],\"xaxis\":\"x\",\"y\":[122106.25],\"yaxis\":\"y\",\"type\":\"scatter\"},{\"hovertemplate\":\"state=North Carolina<br>four year average in state tuition=%{x}<br>average mid_career_pay=%{y}<br>average make_world_better_percent=%{marker.size}<extra></extra>\",\"legendgroup\":\"North Carolina\",\"marker\":{\"color\":\"#00cc96\",\"size\":[51.85],\"sizemode\":\"area\",\"sizeref\":0.16583333333333333,\"symbol\":\"circle\"},\"mode\":\"markers\",\"name\":\"North Carolina\",\"orientation\":\"v\",\"showlegend\":true,\"x\":[110695.2],\"xaxis\":\"x\",\"y\":[89245.0],\"yaxis\":\"y\",\"type\":\"scatter\"},{\"hovertemplate\":\"state=North Dakota<br>four year average in state tuition=%{x}<br>average mid_career_pay=%{y}<br>average make_world_better_percent=%{marker.size}<extra></extra>\",\"legendgroup\":\"North Dakota\",\"marker\":{\"color\":\"#ab63fa\",\"size\":[56.0],\"sizemode\":\"area\",\"sizeref\":0.16583333333333333,\"symbol\":\"circle\"},\"mode\":\"markers\",\"name\":\"North Dakota\",\"orientation\":\"v\",\"showlegend\":true,\"x\":[44292.57142857143],\"xaxis\":\"x\",\"y\":[80814.28571428571],\"yaxis\":\"y\",\"type\":\"scatter\"},{\"hovertemplate\":\"state=Ohio<br>four year average in state tuition=%{x}<br>average mid_career_pay=%{y}<br>average make_world_better_percent=%{marker.size}<extra></extra>\",\"legendgroup\":\"Ohio\",\"marker\":{\"color\":\"#FFA15A\",\"size\":[50.0],\"sizemode\":\"area\",\"sizeref\":0.16583333333333333,\"symbol\":\"circle\"},\"mode\":\"markers\",\"name\":\"Ohio\",\"orientation\":\"v\",\"showlegend\":true,\"x\":[147707.46666666667],\"xaxis\":\"x\",\"y\":[99440.0],\"yaxis\":\"y\",\"type\":\"scatter\"},{\"hovertemplate\":\"state=Oklahoma<br>four year average in state tuition=%{x}<br>average mid_career_pay=%{y}<br>average make_world_better_percent=%{marker.size}<extra></extra>\",\"legendgroup\":\"Oklahoma\",\"marker\":{\"color\":\"#19d3f3\",\"size\":[57.63157894736842],\"sizemode\":\"area\",\"sizeref\":0.16583333333333333,\"symbol\":\"circle\"},\"mode\":\"markers\",\"name\":\"Oklahoma\",\"orientation\":\"v\",\"showlegend\":true,\"x\":[62780.42105263158],\"xaxis\":\"x\",\"y\":[81221.05263157895],\"yaxis\":\"y\",\"type\":\"scatter\"},{\"hovertemplate\":\"state=Oregon<br>four year average in state tuition=%{x}<br>average mid_career_pay=%{y}<br>average make_world_better_percent=%{marker.size}<extra></extra>\",\"legendgroup\":\"Oregon\",\"marker\":{\"color\":\"#FF6692\",\"size\":[57.22222222222222],\"sizemode\":\"area\",\"sizeref\":0.16583333333333333,\"symbol\":\"circle\"},\"mode\":\"markers\",\"name\":\"Oregon\",\"orientation\":\"v\",\"showlegend\":true,\"x\":[107244.44444444444],\"xaxis\":\"x\",\"y\":[91083.33333333333],\"yaxis\":\"y\",\"type\":\"scatter\"},{\"hovertemplate\":\"state=Pennsylvania<br>four year average in state tuition=%{x}<br>average mid_career_pay=%{y}<br>average make_world_better_percent=%{marker.size}<extra></extra>\",\"legendgroup\":\"Pennsylvania\",\"marker\":{\"color\":\"#B6E880\",\"size\":[45.36842105263158],\"sizemode\":\"area\",\"sizeref\":0.16583333333333333,\"symbol\":\"circle\"},\"mode\":\"markers\",\"name\":\"Pennsylvania\",\"orientation\":\"v\",\"showlegend\":true,\"x\":[191462.52631578947],\"xaxis\":\"x\",\"y\":[113457.8947368421],\"yaxis\":\"y\",\"type\":\"scatter\"},{\"hovertemplate\":\"state=Rhode Island<br>four year average in state tuition=%{x}<br>average mid_career_pay=%{y}<br>average make_world_better_percent=%{marker.size}<extra></extra>\",\"legendgroup\":\"Rhode Island\",\"marker\":{\"color\":\"#FF97FF\",\"size\":[45.44444444444444],\"sizemode\":\"area\",\"sizeref\":0.16583333333333333,\"symbol\":\"circle\"},\"mode\":\"markers\",\"name\":\"Rhode Island\",\"orientation\":\"v\",\"showlegend\":true,\"x\":[146248.0],\"xaxis\":\"x\",\"y\":[100744.44444444444],\"yaxis\":\"y\",\"type\":\"scatter\"},{\"hovertemplate\":\"state=South Carolina<br>four year average in state tuition=%{x}<br>average mid_career_pay=%{y}<br>average make_world_better_percent=%{marker.size}<extra></extra>\",\"legendgroup\":\"South Carolina\",\"marker\":{\"color\":\"#FECB52\",\"size\":[57.666666666666664],\"sizemode\":\"area\",\"sizeref\":0.16583333333333333,\"symbol\":\"circle\"},\"mode\":\"markers\",\"name\":\"South Carolina\",\"orientation\":\"v\",\"showlegend\":true,\"x\":[87783.33333333333],\"xaxis\":\"x\",\"y\":[80477.77777777778],\"yaxis\":\"y\",\"type\":\"scatter\"},{\"hovertemplate\":\"state=South Dakota<br>four year average in state tuition=%{x}<br>average mid_career_pay=%{y}<br>average make_world_better_percent=%{marker.size}<extra></extra>\",\"legendgroup\":\"South Dakota\",\"marker\":{\"color\":\"#636efa\",\"size\":[56.5],\"sizemode\":\"area\",\"sizeref\":0.16583333333333333,\"symbol\":\"circle\"},\"mode\":\"markers\",\"name\":\"South Dakota\",\"orientation\":\"v\",\"showlegend\":true,\"x\":[63994.0],\"xaxis\":\"x\",\"y\":[85170.0],\"yaxis\":\"y\",\"type\":\"scatter\"},{\"hovertemplate\":\"state=Tennessee<br>four year average in state tuition=%{x}<br>average mid_career_pay=%{y}<br>average make_world_better_percent=%{marker.size}<extra></extra>\",\"legendgroup\":\"Tennessee\",\"marker\":{\"color\":\"#EF553B\",\"size\":[57.7],\"sizemode\":\"area\",\"sizeref\":0.16583333333333333,\"symbol\":\"circle\"},\"mode\":\"markers\",\"name\":\"Tennessee\",\"orientation\":\"v\",\"showlegend\":true,\"x\":[98784.8],\"xaxis\":\"x\",\"y\":[84660.0],\"yaxis\":\"y\",\"type\":\"scatter\"},{\"hovertemplate\":\"state=Texas<br>four year average in state tuition=%{x}<br>average mid_career_pay=%{y}<br>average make_world_better_percent=%{marker.size}<extra></extra>\",\"legendgroup\":\"Texas\",\"marker\":{\"color\":\"#00cc96\",\"size\":[53.833333333333336],\"sizemode\":\"area\",\"sizeref\":0.16583333333333333,\"symbol\":\"circle\"},\"mode\":\"markers\",\"name\":\"Texas\",\"orientation\":\"v\",\"showlegend\":true,\"x\":[106221.55555555556],\"xaxis\":\"x\",\"y\":[102516.66666666667],\"yaxis\":\"y\",\"type\":\"scatter\"},{\"hovertemplate\":\"state=Utah<br>four year average in state tuition=%{x}<br>average mid_career_pay=%{y}<br>average make_world_better_percent=%{marker.size}<extra></extra>\",\"legendgroup\":\"Utah\",\"marker\":{\"color\":\"#ab63fa\",\"size\":[59.5],\"sizemode\":\"area\",\"sizeref\":0.16583333333333333,\"symbol\":\"circle\"},\"mode\":\"markers\",\"name\":\"Utah\",\"orientation\":\"v\",\"showlegend\":true,\"x\":[27761.333333333332],\"xaxis\":\"x\",\"y\":[92833.33333333333],\"yaxis\":\"y\",\"type\":\"scatter\"},{\"hovertemplate\":\"state=Vermont<br>four year average in state tuition=%{x}<br>average mid_career_pay=%{y}<br>average make_world_better_percent=%{marker.size}<extra></extra>\",\"legendgroup\":\"Vermont\",\"marker\":{\"color\":\"#FFA15A\",\"size\":[49.63636363636363],\"sizemode\":\"area\",\"sizeref\":0.16583333333333333,\"symbol\":\"circle\"},\"mode\":\"markers\",\"name\":\"Vermont\",\"orientation\":\"v\",\"showlegend\":true,\"x\":[129271.27272727272],\"xaxis\":\"x\",\"y\":[89481.81818181818],\"yaxis\":\"y\",\"type\":\"scatter\"},{\"hovertemplate\":\"state=Virginia<br>four year average in state tuition=%{x}<br>average mid_career_pay=%{y}<br>average make_world_better_percent=%{marker.size}<extra></extra>\",\"legendgroup\":\"Virginia\",\"marker\":{\"color\":\"#19d3f3\",\"size\":[53.13636363636363],\"sizemode\":\"area\",\"sizeref\":0.16583333333333333,\"symbol\":\"circle\"},\"mode\":\"markers\",\"name\":\"Virginia\",\"orientation\":\"v\",\"showlegend\":true,\"x\":[100446.36363636363],\"xaxis\":\"x\",\"y\":[96559.09090909091],\"yaxis\":\"y\",\"type\":\"scatter\"},{\"hovertemplate\":\"state=Washington<br>four year average in state tuition=%{x}<br>average mid_career_pay=%{y}<br>average make_world_better_percent=%{marker.size}<extra></extra>\",\"legendgroup\":\"Washington\",\"marker\":{\"color\":\"#FF6692\",\"size\":[51.1875],\"sizemode\":\"area\",\"sizeref\":0.16583333333333333,\"symbol\":\"circle\"},\"mode\":\"markers\",\"name\":\"Washington\",\"orientation\":\"v\",\"showlegend\":true,\"x\":[123986.0],\"xaxis\":\"x\",\"y\":[97043.75],\"yaxis\":\"y\",\"type\":\"scatter\"},{\"hovertemplate\":\"state=West Virginia<br>four year average in state tuition=%{x}<br>average mid_career_pay=%{y}<br>average make_world_better_percent=%{marker.size}<extra></extra>\",\"legendgroup\":\"West Virginia\",\"marker\":{\"color\":\"#B6E880\",\"size\":[55.86666666666667],\"sizemode\":\"area\",\"sizeref\":0.16583333333333333,\"symbol\":\"circle\"},\"mode\":\"markers\",\"name\":\"West Virginia\",\"orientation\":\"v\",\"showlegend\":true,\"x\":[53202.666666666664],\"xaxis\":\"x\",\"y\":[80040.0],\"yaxis\":\"y\",\"type\":\"scatter\"},{\"hovertemplate\":\"state=Wisconsin<br>four year average in state tuition=%{x}<br>average mid_career_pay=%{y}<br>average make_world_better_percent=%{marker.size}<extra></extra>\",\"legendgroup\":\"Wisconsin\",\"marker\":{\"color\":\"#FF97FF\",\"size\":[53.22727272727273],\"sizemode\":\"area\",\"sizeref\":0.16583333333333333,\"symbol\":\"circle\"},\"mode\":\"markers\",\"name\":\"Wisconsin\",\"orientation\":\"v\",\"showlegend\":true,\"x\":[95868.54545454546],\"xaxis\":\"x\",\"y\":[91100.0],\"yaxis\":\"y\",\"type\":\"scatter\"},{\"hovertemplate\":\"state=Wyoming<br>four year average in state tuition=%{x}<br>average mid_career_pay=%{y}<br>average make_world_better_percent=%{marker.size}<extra></extra>\",\"legendgroup\":\"Wyoming\",\"marker\":{\"color\":\"#FECB52\",\"size\":[58.0],\"sizemode\":\"area\",\"sizeref\":0.16583333333333333,\"symbol\":\"circle\"},\"mode\":\"markers\",\"name\":\"Wyoming\",\"orientation\":\"v\",\"showlegend\":true,\"x\":[21600.0],\"xaxis\":\"x\",\"y\":[98800.0],\"yaxis\":\"y\",\"type\":\"scatter\"},{\"hovertemplate\":\"<b>OLS trendline</b><br>average mid_career_pay = 0.175898 * four year average in state tuition + 75105<br>R<sup>2</sup>=0.504633<br><br>four year average in state tuition=%{x}<br>average mid_career_pay=%{y} <b>(trend)</b><extra></extra>\",\"legendgroup\":\"Overall Trendline\",\"line\":{\"color\":\"#636efa\"},\"mode\":\"lines\",\"name\":\"Overall Trendline\",\"showlegend\":true,\"x\":[21600.0,27658.666666666668,27761.333333333332,42009.333333333336,44292.57142857143,48806.666666666664,51116.0,53202.666666666664,61283.2,61872.0,62780.42105263158,63994.0,64536.95238095238,66771.2,68785.42857142857,74048.0,78756.72727272728,78830.0,83676.61538461539,84346.35294117648,84775.63636363637,86910.35294117648,87783.33333333333,92465.5,95868.54545454546,96486.22222222222,98022.0,98784.8,99996.54545454546,100446.36363636363,104793.26315789473,106221.55555555556,107244.44444444444,110695.2,120004.36363636363,123986.0,126087.5294117647,127574.47619047618,129271.27272727272,133345.33333333334,135868.44444444444,136964.0,136982.31578947368,143818.44444444444,146248.0,147707.46666666667,178446.0,188594.85714285713,190626.15384615384,191462.52631578947],\"y\":[78904.39341150041,79970.10341185667,79988.1623181127,82494.36325645054,82895.98126997765,83690.00356935023,84096.21169448603,84463.25310085874,85884.6062888339,85988.17528886852,86147.96513267193,86361.4317733683,86456.93624884666,86849.9369141566,87204.23657275719,88129.9146645845,88958.17243474776,88971.0609929907,89823.573066593,89941.37885636654,90016.88913964713,90392.38245026732,90545.93833726717,91369.52413832376,91968.11451671988,92076.7628950706,92346.90380661924,92481.07913478909,92694.22326696262,92773.34558232999,93537.95841639242,93789.19281751807,93969.11737486988,94576.09988548947,96213.56722410505,96913.93083939601,97283.58657940928,97545.13819451773,97843.60205419542,98560.22294932137,99004.03425155306,99196.74076203414,99199.96248078522,100402.42683014554,100829.78185633008,101086.4997626659,106493.35974884841,108278.52786328449,108635.82977961272,108782.94639023882],\"type\":\"scatter\",\"xaxis\":\"x\",\"yaxis\":\"y\"}],                        {\"template\":{\"data\":{\"bar\":[{\"error_x\":{\"color\":\"#2a3f5f\"},\"error_y\":{\"color\":\"#2a3f5f\"},\"marker\":{\"line\":{\"color\":\"#E5ECF6\",\"width\":0.5},\"pattern\":{\"fillmode\":\"overlay\",\"size\":10,\"solidity\":0.2}},\"type\":\"bar\"}],\"barpolar\":[{\"marker\":{\"line\":{\"color\":\"#E5ECF6\",\"width\":0.5},\"pattern\":{\"fillmode\":\"overlay\",\"size\":10,\"solidity\":0.2}},\"type\":\"barpolar\"}],\"carpet\":[{\"aaxis\":{\"endlinecolor\":\"#2a3f5f\",\"gridcolor\":\"white\",\"linecolor\":\"white\",\"minorgridcolor\":\"white\",\"startlinecolor\":\"#2a3f5f\"},\"baxis\":{\"endlinecolor\":\"#2a3f5f\",\"gridcolor\":\"white\",\"linecolor\":\"white\",\"minorgridcolor\":\"white\",\"startlinecolor\":\"#2a3f5f\"},\"type\":\"carpet\"}],\"choropleth\":[{\"colorbar\":{\"outlinewidth\":0,\"ticks\":\"\"},\"type\":\"choropleth\"}],\"contour\":[{\"colorbar\":{\"outlinewidth\":0,\"ticks\":\"\"},\"colorscale\":[[0.0,\"#0d0887\"],[0.1111111111111111,\"#46039f\"],[0.2222222222222222,\"#7201a8\"],[0.3333333333333333,\"#9c179e\"],[0.4444444444444444,\"#bd3786\"],[0.5555555555555556,\"#d8576b\"],[0.6666666666666666,\"#ed7953\"],[0.7777777777777778,\"#fb9f3a\"],[0.8888888888888888,\"#fdca26\"],[1.0,\"#f0f921\"]],\"type\":\"contour\"}],\"contourcarpet\":[{\"colorbar\":{\"outlinewidth\":0,\"ticks\":\"\"},\"type\":\"contourcarpet\"}],\"heatmap\":[{\"colorbar\":{\"outlinewidth\":0,\"ticks\":\"\"},\"colorscale\":[[0.0,\"#0d0887\"],[0.1111111111111111,\"#46039f\"],[0.2222222222222222,\"#7201a8\"],[0.3333333333333333,\"#9c179e\"],[0.4444444444444444,\"#bd3786\"],[0.5555555555555556,\"#d8576b\"],[0.6666666666666666,\"#ed7953\"],[0.7777777777777778,\"#fb9f3a\"],[0.8888888888888888,\"#fdca26\"],[1.0,\"#f0f921\"]],\"type\":\"heatmap\"}],\"heatmapgl\":[{\"colorbar\":{\"outlinewidth\":0,\"ticks\":\"\"},\"colorscale\":[[0.0,\"#0d0887\"],[0.1111111111111111,\"#46039f\"],[0.2222222222222222,\"#7201a8\"],[0.3333333333333333,\"#9c179e\"],[0.4444444444444444,\"#bd3786\"],[0.5555555555555556,\"#d8576b\"],[0.6666666666666666,\"#ed7953\"],[0.7777777777777778,\"#fb9f3a\"],[0.8888888888888888,\"#fdca26\"],[1.0,\"#f0f921\"]],\"type\":\"heatmapgl\"}],\"histogram\":[{\"marker\":{\"pattern\":{\"fillmode\":\"overlay\",\"size\":10,\"solidity\":0.2}},\"type\":\"histogram\"}],\"histogram2d\":[{\"colorbar\":{\"outlinewidth\":0,\"ticks\":\"\"},\"colorscale\":[[0.0,\"#0d0887\"],[0.1111111111111111,\"#46039f\"],[0.2222222222222222,\"#7201a8\"],[0.3333333333333333,\"#9c179e\"],[0.4444444444444444,\"#bd3786\"],[0.5555555555555556,\"#d8576b\"],[0.6666666666666666,\"#ed7953\"],[0.7777777777777778,\"#fb9f3a\"],[0.8888888888888888,\"#fdca26\"],[1.0,\"#f0f921\"]],\"type\":\"histogram2d\"}],\"histogram2dcontour\":[{\"colorbar\":{\"outlinewidth\":0,\"ticks\":\"\"},\"colorscale\":[[0.0,\"#0d0887\"],[0.1111111111111111,\"#46039f\"],[0.2222222222222222,\"#7201a8\"],[0.3333333333333333,\"#9c179e\"],[0.4444444444444444,\"#bd3786\"],[0.5555555555555556,\"#d8576b\"],[0.6666666666666666,\"#ed7953\"],[0.7777777777777778,\"#fb9f3a\"],[0.8888888888888888,\"#fdca26\"],[1.0,\"#f0f921\"]],\"type\":\"histogram2dcontour\"}],\"mesh3d\":[{\"colorbar\":{\"outlinewidth\":0,\"ticks\":\"\"},\"type\":\"mesh3d\"}],\"parcoords\":[{\"line\":{\"colorbar\":{\"outlinewidth\":0,\"ticks\":\"\"}},\"type\":\"parcoords\"}],\"pie\":[{\"automargin\":true,\"type\":\"pie\"}],\"scatter\":[{\"marker\":{\"colorbar\":{\"outlinewidth\":0,\"ticks\":\"\"}},\"type\":\"scatter\"}],\"scatter3d\":[{\"line\":{\"colorbar\":{\"outlinewidth\":0,\"ticks\":\"\"}},\"marker\":{\"colorbar\":{\"outlinewidth\":0,\"ticks\":\"\"}},\"type\":\"scatter3d\"}],\"scattercarpet\":[{\"marker\":{\"colorbar\":{\"outlinewidth\":0,\"ticks\":\"\"}},\"type\":\"scattercarpet\"}],\"scattergeo\":[{\"marker\":{\"colorbar\":{\"outlinewidth\":0,\"ticks\":\"\"}},\"type\":\"scattergeo\"}],\"scattergl\":[{\"marker\":{\"colorbar\":{\"outlinewidth\":0,\"ticks\":\"\"}},\"type\":\"scattergl\"}],\"scattermapbox\":[{\"marker\":{\"colorbar\":{\"outlinewidth\":0,\"ticks\":\"\"}},\"type\":\"scattermapbox\"}],\"scatterpolar\":[{\"marker\":{\"colorbar\":{\"outlinewidth\":0,\"ticks\":\"\"}},\"type\":\"scatterpolar\"}],\"scatterpolargl\":[{\"marker\":{\"colorbar\":{\"outlinewidth\":0,\"ticks\":\"\"}},\"type\":\"scatterpolargl\"}],\"scatterternary\":[{\"marker\":{\"colorbar\":{\"outlinewidth\":0,\"ticks\":\"\"}},\"type\":\"scatterternary\"}],\"surface\":[{\"colorbar\":{\"outlinewidth\":0,\"ticks\":\"\"},\"colorscale\":[[0.0,\"#0d0887\"],[0.1111111111111111,\"#46039f\"],[0.2222222222222222,\"#7201a8\"],[0.3333333333333333,\"#9c179e\"],[0.4444444444444444,\"#bd3786\"],[0.5555555555555556,\"#d8576b\"],[0.6666666666666666,\"#ed7953\"],[0.7777777777777778,\"#fb9f3a\"],[0.8888888888888888,\"#fdca26\"],[1.0,\"#f0f921\"]],\"type\":\"surface\"}],\"table\":[{\"cells\":{\"fill\":{\"color\":\"#EBF0F8\"},\"line\":{\"color\":\"white\"}},\"header\":{\"fill\":{\"color\":\"#C8D4E3\"},\"line\":{\"color\":\"white\"}},\"type\":\"table\"}]},\"layout\":{\"annotationdefaults\":{\"arrowcolor\":\"#2a3f5f\",\"arrowhead\":0,\"arrowwidth\":1},\"autotypenumbers\":\"strict\",\"coloraxis\":{\"colorbar\":{\"outlinewidth\":0,\"ticks\":\"\"}},\"colorscale\":{\"diverging\":[[0,\"#8e0152\"],[0.1,\"#c51b7d\"],[0.2,\"#de77ae\"],[0.3,\"#f1b6da\"],[0.4,\"#fde0ef\"],[0.5,\"#f7f7f7\"],[0.6,\"#e6f5d0\"],[0.7,\"#b8e186\"],[0.8,\"#7fbc41\"],[0.9,\"#4d9221\"],[1,\"#276419\"]],\"sequential\":[[0.0,\"#0d0887\"],[0.1111111111111111,\"#46039f\"],[0.2222222222222222,\"#7201a8\"],[0.3333333333333333,\"#9c179e\"],[0.4444444444444444,\"#bd3786\"],[0.5555555555555556,\"#d8576b\"],[0.6666666666666666,\"#ed7953\"],[0.7777777777777778,\"#fb9f3a\"],[0.8888888888888888,\"#fdca26\"],[1.0,\"#f0f921\"]],\"sequentialminus\":[[0.0,\"#0d0887\"],[0.1111111111111111,\"#46039f\"],[0.2222222222222222,\"#7201a8\"],[0.3333333333333333,\"#9c179e\"],[0.4444444444444444,\"#bd3786\"],[0.5555555555555556,\"#d8576b\"],[0.6666666666666666,\"#ed7953\"],[0.7777777777777778,\"#fb9f3a\"],[0.8888888888888888,\"#fdca26\"],[1.0,\"#f0f921\"]]},\"colorway\":[\"#636efa\",\"#EF553B\",\"#00cc96\",\"#ab63fa\",\"#FFA15A\",\"#19d3f3\",\"#FF6692\",\"#B6E880\",\"#FF97FF\",\"#FECB52\"],\"font\":{\"color\":\"#2a3f5f\"},\"geo\":{\"bgcolor\":\"white\",\"lakecolor\":\"white\",\"landcolor\":\"#E5ECF6\",\"showlakes\":true,\"showland\":true,\"subunitcolor\":\"white\"},\"hoverlabel\":{\"align\":\"left\"},\"hovermode\":\"closest\",\"mapbox\":{\"style\":\"light\"},\"paper_bgcolor\":\"white\",\"plot_bgcolor\":\"#E5ECF6\",\"polar\":{\"angularaxis\":{\"gridcolor\":\"white\",\"linecolor\":\"white\",\"ticks\":\"\"},\"bgcolor\":\"#E5ECF6\",\"radialaxis\":{\"gridcolor\":\"white\",\"linecolor\":\"white\",\"ticks\":\"\"}},\"scene\":{\"xaxis\":{\"backgroundcolor\":\"#E5ECF6\",\"gridcolor\":\"white\",\"gridwidth\":2,\"linecolor\":\"white\",\"showbackground\":true,\"ticks\":\"\",\"zerolinecolor\":\"white\"},\"yaxis\":{\"backgroundcolor\":\"#E5ECF6\",\"gridcolor\":\"white\",\"gridwidth\":2,\"linecolor\":\"white\",\"showbackground\":true,\"ticks\":\"\",\"zerolinecolor\":\"white\"},\"zaxis\":{\"backgroundcolor\":\"#E5ECF6\",\"gridcolor\":\"white\",\"gridwidth\":2,\"linecolor\":\"white\",\"showbackground\":true,\"ticks\":\"\",\"zerolinecolor\":\"white\"}},\"shapedefaults\":{\"line\":{\"color\":\"#2a3f5f\"}},\"ternary\":{\"aaxis\":{\"gridcolor\":\"white\",\"linecolor\":\"white\",\"ticks\":\"\"},\"baxis\":{\"gridcolor\":\"white\",\"linecolor\":\"white\",\"ticks\":\"\"},\"bgcolor\":\"#E5ECF6\",\"caxis\":{\"gridcolor\":\"white\",\"linecolor\":\"white\",\"ticks\":\"\"}},\"title\":{\"x\":0.05},\"xaxis\":{\"automargin\":true,\"gridcolor\":\"white\",\"linecolor\":\"white\",\"ticks\":\"\",\"title\":{\"standoff\":15},\"zerolinecolor\":\"white\",\"zerolinewidth\":2},\"yaxis\":{\"automargin\":true,\"gridcolor\":\"white\",\"linecolor\":\"white\",\"ticks\":\"\",\"title\":{\"standoff\":15},\"zerolinecolor\":\"white\",\"zerolinewidth\":2}}},\"xaxis\":{\"anchor\":\"y\",\"domain\":[0.0,1.0],\"title\":{\"text\":\"four year average in state tuition\"}},\"yaxis\":{\"anchor\":\"x\",\"domain\":[0.0,1.0],\"title\":{\"text\":\"average mid_career_pay\"}},\"legend\":{\"title\":{\"text\":\"state\"},\"tracegroupgap\":0,\"itemsizing\":\"constant\"},\"title\":{\"text\":\"Average In State Tuition vs Average % of Students Graduating with STEM Degrees\"}},                        {\"responsive\": true}                    ).then(function(){\n",
       "                            \n",
       "var gd = document.getElementById('c26159d1-21a9-4225-b7ce-be869c125be5');\n",
       "var x = new MutationObserver(function (mutations, observer) {{\n",
       "        var display = window.getComputedStyle(gd).display;\n",
       "        if (!display || display === 'none') {{\n",
       "            console.log([gd, 'removed!']);\n",
       "            Plotly.purge(gd);\n",
       "            observer.disconnect();\n",
       "        }}\n",
       "}});\n",
       "\n",
       "// Listen for the removal of the full notebook cells\n",
       "var notebookContainer = gd.closest('#notebook-container');\n",
       "if (notebookContainer) {{\n",
       "    x.observe(notebookContainer, {childList: true});\n",
       "}}\n",
       "\n",
       "// Listen for the clearing of the current output cell\n",
       "var outputEl = gd.closest('.output');\n",
       "if (outputEl) {{\n",
       "    x.observe(outputEl, {childList: true});\n",
       "}}\n",
       "\n",
       "                        })                };                });            </script>        </div>"
      ]
     },
     "execution_count": 31,
     "metadata": {
     },
     "output_type": "execute_result"
    },
    {
     "name": "stderr",
     "output_type": "stream",
     "text": [
      "WARNING: 1 intermediate output message was discarded.\n"
     ]
    }
   ],
   "source": [
    "fig = px.scatter(state_stats_extras, x='four year average in state tuition', y='average mid_career_pay',\n",
    "                 color='state',size='average make_world_better_percent',\n",
    "                 trendline=\"ols\", trendline_scope = 'overall',\n",
    "                 title= 'Average In State Tuition vs Average % of Students Graduating with STEM Degrees')\n",
    "\n",
    "fig.show()"
   ]
  },
  {
   "cell_type": "code",
   "execution_count": 32,
   "metadata": {
    "collapsed": false
   },
   "outputs": [
    {
     "data": {
      "application/vnd.plotly.v1+json": {
       "config": {
        "plotlyServerURL": "https://plot.ly"
       },
       "data": [
        {
         "hovertemplate": "state=Alabama<br>average stem_percent=%{x}<br>average early_career_pay=%{y}<extra></extra>",
         "legendgroup": "Alabama",
         "marker": {
          "color": "#636efa",
          "symbol": "circle"
         },
         "mode": "markers",
         "name": "Alabama",
         "orientation": "v",
         "showlegend": true,
         "type": "scatter",
         "x": [
          14.047619047619047
         ],
         "xaxis": "x",
         "y": [
          44714.28571428572
         ],
         "yaxis": "y"
        },
        {
         "hovertemplate": "state=Alaska<br>average stem_percent=%{x}<br>average early_career_pay=%{y}<extra></extra>",
         "legendgroup": "Alaska",
         "marker": {
          "color": "#EF553B",
          "symbol": "circle"
         },
         "mode": "markers",
         "name": "Alaska",
         "orientation": "v",
         "showlegend": true,
         "type": "scatter",
         "x": [
          12
         ],
         "xaxis": "x",
         "y": [
          55133.333333333336
         ],
         "yaxis": "y"
        },
        {
         "hovertemplate": "state=Arizona<br>average stem_percent=%{x}<br>average early_career_pay=%{y}<extra></extra>",
         "legendgroup": "Arizona",
         "marker": {
          "color": "#00cc96",
          "symbol": "circle"
         },
         "mode": "markers",
         "name": "Arizona",
         "orientation": "v",
         "showlegend": true,
         "type": "scatter",
         "x": [
          11.666666666666666
         ],
         "xaxis": "x",
         "y": [
          48966.666666666664
         ],
         "yaxis": "y"
        },
        {
         "hovertemplate": "state=Arkansas<br>average stem_percent=%{x}<br>average early_career_pay=%{y}<extra></extra>",
         "legendgroup": "Arkansas",
         "marker": {
          "color": "#ab63fa",
          "symbol": "circle"
         },
         "mode": "markers",
         "name": "Arkansas",
         "orientation": "v",
         "showlegend": true,
         "type": "scatter",
         "x": [
          14.071428571428571
         ],
         "xaxis": "x",
         "y": [
          45607.142857142855
         ],
         "yaxis": "y"
        },
        {
         "hovertemplate": "state=California<br>average stem_percent=%{x}<br>average early_career_pay=%{y}<extra></extra>",
         "legendgroup": "California",
         "marker": {
          "color": "#FFA15A",
          "symbol": "circle"
         },
         "mode": "markers",
         "name": "California",
         "orientation": "v",
         "showlegend": true,
         "type": "scatter",
         "x": [
          30.615384615384617
         ],
         "xaxis": "x",
         "y": [
          67800
         ],
         "yaxis": "y"
        },
        {
         "hovertemplate": "state=Colorado<br>average stem_percent=%{x}<br>average early_career_pay=%{y}<extra></extra>",
         "legendgroup": "Colorado",
         "marker": {
          "color": "#19d3f3",
          "symbol": "circle"
         },
         "mode": "markers",
         "name": "Colorado",
         "orientation": "v",
         "showlegend": true,
         "type": "scatter",
         "x": [
          20.692307692307693
         ],
         "xaxis": "x",
         "y": [
          52238.46153846154
         ],
         "yaxis": "y"
        },
        {
         "hovertemplate": "state=Connecticut<br>average stem_percent=%{x}<br>average early_career_pay=%{y}<extra></extra>",
         "legendgroup": "Connecticut",
         "marker": {
          "color": "#FF6692",
          "symbol": "circle"
         },
         "mode": "markers",
         "name": "Connecticut",
         "orientation": "v",
         "showlegend": true,
         "type": "scatter",
         "x": [
          15.88888888888889
         ],
         "xaxis": "x",
         "y": [
          55016.666666666664
         ],
         "yaxis": "y"
        },
        {
         "hovertemplate": "state=Delaware<br>average stem_percent=%{x}<br>average early_career_pay=%{y}<extra></extra>",
         "legendgroup": "Delaware",
         "marker": {
          "color": "#B6E880",
          "symbol": "circle"
         },
         "mode": "markers",
         "name": "Delaware",
         "orientation": "v",
         "showlegend": true,
         "type": "scatter",
         "x": [
          12.6
         ],
         "xaxis": "x",
         "y": [
          49040
         ],
         "yaxis": "y"
        },
        {
         "hovertemplate": "state=Florida<br>average stem_percent=%{x}<br>average early_career_pay=%{y}<extra></extra>",
         "legendgroup": "Florida",
         "marker": {
          "color": "#FF97FF",
          "symbol": "circle"
         },
         "mode": "markers",
         "name": "Florida",
         "orientation": "v",
         "showlegend": true,
         "type": "scatter",
         "x": [
          14.38888888888889
         ],
         "xaxis": "x",
         "y": [
          50250
         ],
         "yaxis": "y"
        },
        {
         "hovertemplate": "state=Georgia<br>average stem_percent=%{x}<br>average early_career_pay=%{y}<extra></extra>",
         "legendgroup": "Georgia",
         "marker": {
          "color": "#FECB52",
          "symbol": "circle"
         },
         "mode": "markers",
         "name": "Georgia",
         "orientation": "v",
         "showlegend": true,
         "type": "scatter",
         "x": [
          14.636363636363637
         ],
         "xaxis": "x",
         "y": [
          48527.27272727273
         ],
         "yaxis": "y"
        },
        {
         "hovertemplate": "state=Hawaii<br>average stem_percent=%{x}<br>average early_career_pay=%{y}<extra></extra>",
         "legendgroup": "Hawaii",
         "marker": {
          "color": "#636efa",
          "symbol": "circle"
         },
         "mode": "markers",
         "name": "Hawaii",
         "orientation": "v",
         "showlegend": true,
         "type": "scatter",
         "x": [
          12.4
         ],
         "xaxis": "x",
         "y": [
          48980
         ],
         "yaxis": "y"
        },
        {
         "hovertemplate": "state=Idaho<br>average stem_percent=%{x}<br>average early_career_pay=%{y}<extra></extra>",
         "legendgroup": "Idaho",
         "marker": {
          "color": "#EF553B",
          "symbol": "circle"
         },
         "mode": "markers",
         "name": "Idaho",
         "orientation": "v",
         "showlegend": true,
         "type": "scatter",
         "x": [
          12.333333333333334
         ],
         "xaxis": "x",
         "y": [
          49666.666666666664
         ],
         "yaxis": "y"
        },
        {
         "hovertemplate": "state=Illinois<br>average stem_percent=%{x}<br>average early_career_pay=%{y}<extra></extra>",
         "legendgroup": "Illinois",
         "marker": {
          "color": "#00cc96",
          "symbol": "circle"
         },
         "mode": "markers",
         "name": "Illinois",
         "orientation": "v",
         "showlegend": true,
         "type": "scatter",
         "x": [
          20.63157894736842
         ],
         "xaxis": "x",
         "y": [
          55763.15789473684
         ],
         "yaxis": "y"
        },
        {
         "hovertemplate": "state=Indiana<br>average stem_percent=%{x}<br>average early_career_pay=%{y}<extra></extra>",
         "legendgroup": "Indiana",
         "marker": {
          "color": "#ab63fa",
          "symbol": "circle"
         },
         "mode": "markers",
         "name": "Indiana",
         "orientation": "v",
         "showlegend": true,
         "type": "scatter",
         "x": [
          22.944444444444443
         ],
         "xaxis": "x",
         "y": [
          52938.88888888889
         ],
         "yaxis": "y"
        },
        {
         "hovertemplate": "state=Iowa<br>average stem_percent=%{x}<br>average early_career_pay=%{y}<extra></extra>",
         "legendgroup": "Iowa",
         "marker": {
          "color": "#FFA15A",
          "symbol": "circle"
         },
         "mode": "markers",
         "name": "Iowa",
         "orientation": "v",
         "showlegend": true,
         "type": "scatter",
         "x": [
          16.333333333333332
         ],
         "xaxis": "x",
         "y": [
          48314.28571428572
         ],
         "yaxis": "y"
        },
        {
         "hovertemplate": "state=Kansas<br>average stem_percent=%{x}<br>average early_career_pay=%{y}<extra></extra>",
         "legendgroup": "Kansas",
         "marker": {
          "color": "#19d3f3",
          "symbol": "circle"
         },
         "mode": "markers",
         "name": "Kansas",
         "orientation": "v",
         "showlegend": true,
         "type": "scatter",
         "x": [
          9.764705882352942
         ],
         "xaxis": "x",
         "y": [
          46482.35294117647
         ],
         "yaxis": "y"
        },
        {
         "hovertemplate": "state=Kentucky<br>average stem_percent=%{x}<br>average early_career_pay=%{y}<extra></extra>",
         "legendgroup": "Kentucky",
         "marker": {
          "color": "#FF6692",
          "symbol": "circle"
         },
         "mode": "markers",
         "name": "Kentucky",
         "orientation": "v",
         "showlegend": true,
         "type": "scatter",
         "x": [
          10.708333333333334
         ],
         "xaxis": "x",
         "y": [
          43754.166666666664
         ],
         "yaxis": "y"
        },
        {
         "hovertemplate": "state=Louisiana<br>average stem_percent=%{x}<br>average early_career_pay=%{y}<extra></extra>",
         "legendgroup": "Louisiana",
         "marker": {
          "color": "#B6E880",
          "symbol": "circle"
         },
         "mode": "markers",
         "name": "Louisiana",
         "orientation": "v",
         "showlegend": true,
         "type": "scatter",
         "x": [
          14.266666666666667
         ],
         "xaxis": "x",
         "y": [
          46920
         ],
         "yaxis": "y"
        },
        {
         "hovertemplate": "state=Maine<br>average stem_percent=%{x}<br>average early_career_pay=%{y}<extra></extra>",
         "legendgroup": "Maine",
         "marker": {
          "color": "#FF97FF",
          "symbol": "circle"
         },
         "mode": "markers",
         "name": "Maine",
         "orientation": "v",
         "showlegend": true,
         "type": "scatter",
         "x": [
          13.375
         ],
         "xaxis": "x",
         "y": [
          48181.25
         ],
         "yaxis": "y"
        },
        {
         "hovertemplate": "state=Maryland<br>average stem_percent=%{x}<br>average early_career_pay=%{y}<extra></extra>",
         "legendgroup": "Maryland",
         "marker": {
          "color": "#FECB52",
          "symbol": "circle"
         },
         "mode": "markers",
         "name": "Maryland",
         "orientation": "v",
         "showlegend": true,
         "type": "scatter",
         "x": [
          17.294117647058822
         ],
         "xaxis": "x",
         "y": [
          53041.17647058824
         ],
         "yaxis": "y"
        },
        {
         "hovertemplate": "state=Massachusetts<br>average stem_percent=%{x}<br>average early_career_pay=%{y}<extra></extra>",
         "legendgroup": "Massachusetts",
         "marker": {
          "color": "#636efa",
          "symbol": "circle"
         },
         "mode": "markers",
         "name": "Massachusetts",
         "orientation": "v",
         "showlegend": true,
         "type": "scatter",
         "x": [
          28.38095238095238
         ],
         "xaxis": "x",
         "y": [
          63519.04761904762
         ],
         "yaxis": "y"
        },
        {
         "hovertemplate": "state=Michigan<br>average stem_percent=%{x}<br>average early_career_pay=%{y}<extra></extra>",
         "legendgroup": "Michigan",
         "marker": {
          "color": "#EF553B",
          "symbol": "circle"
         },
         "mode": "markers",
         "name": "Michigan",
         "orientation": "v",
         "showlegend": true,
         "type": "scatter",
         "x": [
          21.772727272727273
         ],
         "xaxis": "x",
         "y": [
          51695.454545454544
         ],
         "yaxis": "y"
        },
        {
         "hovertemplate": "state=Minnesota<br>average stem_percent=%{x}<br>average early_career_pay=%{y}<extra></extra>",
         "legendgroup": "Minnesota",
         "marker": {
          "color": "#00cc96",
          "symbol": "circle"
         },
         "mode": "markers",
         "name": "Minnesota",
         "orientation": "v",
         "showlegend": true,
         "type": "scatter",
         "x": [
          16.666666666666668
         ],
         "xaxis": "x",
         "y": [
          51233.333333333336
         ],
         "yaxis": "y"
        },
        {
         "hovertemplate": "state=Mississippi<br>average stem_percent=%{x}<br>average early_career_pay=%{y}<extra></extra>",
         "legendgroup": "Mississippi",
         "marker": {
          "color": "#ab63fa",
          "symbol": "circle"
         },
         "mode": "markers",
         "name": "Mississippi",
         "orientation": "v",
         "showlegend": true,
         "type": "scatter",
         "x": [
          14.642857142857142
         ],
         "xaxis": "x",
         "y": [
          42042.857142857145
         ],
         "yaxis": "y"
        },
        {
         "hovertemplate": "state=Missouri<br>average stem_percent=%{x}<br>average early_career_pay=%{y}<extra></extra>",
         "legendgroup": "Missouri",
         "marker": {
          "color": "#FFA15A",
          "symbol": "circle"
         },
         "mode": "markers",
         "name": "Missouri",
         "orientation": "v",
         "showlegend": true,
         "type": "scatter",
         "x": [
          15.705882352941176
         ],
         "xaxis": "x",
         "y": [
          48023.529411764706
         ],
         "yaxis": "y"
        },
        {
         "hovertemplate": "state=Montana<br>average stem_percent=%{x}<br>average early_career_pay=%{y}<extra></extra>",
         "legendgroup": "Montana",
         "marker": {
          "color": "#19d3f3",
          "symbol": "circle"
         },
         "mode": "markers",
         "name": "Montana",
         "orientation": "v",
         "showlegend": true,
         "type": "scatter",
         "x": [
          32.25
         ],
         "xaxis": "x",
         "y": [
          52275
         ],
         "yaxis": "y"
        },
        {
         "hovertemplate": "state=Nebraska<br>average stem_percent=%{x}<br>average early_career_pay=%{y}<extra></extra>",
         "legendgroup": "Nebraska",
         "marker": {
          "color": "#FF6692",
          "symbol": "circle"
         },
         "mode": "markers",
         "name": "Nebraska",
         "orientation": "v",
         "showlegend": true,
         "type": "scatter",
         "x": [
          8.727272727272727
         ],
         "xaxis": "x",
         "y": [
          46790.90909090909
         ],
         "yaxis": "y"
        },
        {
         "hovertemplate": "state=Nevada<br>average stem_percent=%{x}<br>average early_career_pay=%{y}<extra></extra>",
         "legendgroup": "Nevada",
         "marker": {
          "color": "#B6E880",
          "symbol": "circle"
         },
         "mode": "markers",
         "name": "Nevada",
         "orientation": "v",
         "showlegend": true,
         "type": "scatter",
         "x": [
          2
         ],
         "xaxis": "x",
         "y": [
          54000
         ],
         "yaxis": "y"
        },
        {
         "hovertemplate": "state=New Hampshire<br>average stem_percent=%{x}<br>average early_career_pay=%{y}<extra></extra>",
         "legendgroup": "New Hampshire",
         "marker": {
          "color": "#FF97FF",
          "symbol": "circle"
         },
         "mode": "markers",
         "name": "New Hampshire",
         "orientation": "v",
         "showlegend": true,
         "type": "scatter",
         "x": [
          16.181818181818183
         ],
         "xaxis": "x",
         "y": [
          50545.454545454544
         ],
         "yaxis": "y"
        },
        {
         "hovertemplate": "state=New Jersey<br>average stem_percent=%{x}<br>average early_career_pay=%{y}<extra></extra>",
         "legendgroup": "New Jersey",
         "marker": {
          "color": "#FECB52",
          "symbol": "circle"
         },
         "mode": "markers",
         "name": "New Jersey",
         "orientation": "v",
         "showlegend": true,
         "type": "scatter",
         "x": [
          20.263157894736842
         ],
         "xaxis": "x",
         "y": [
          54847.36842105263
         ],
         "yaxis": "y"
        },
        {
         "hovertemplate": "state=New Mexico<br>average stem_percent=%{x}<br>average early_career_pay=%{y}<extra></extra>",
         "legendgroup": "New Mexico",
         "marker": {
          "color": "#636efa",
          "symbol": "circle"
         },
         "mode": "markers",
         "name": "New Mexico",
         "orientation": "v",
         "showlegend": true,
         "type": "scatter",
         "x": [
          33
         ],
         "xaxis": "x",
         "y": [
          48933.333333333336
         ],
         "yaxis": "y"
        },
        {
         "hovertemplate": "state=New York<br>average stem_percent=%{x}<br>average early_career_pay=%{y}<extra></extra>",
         "legendgroup": "New York",
         "marker": {
          "color": "#EF553B",
          "symbol": "circle"
         },
         "mode": "markers",
         "name": "New York",
         "orientation": "v",
         "showlegend": true,
         "type": "scatter",
         "x": [
          28.5625
         ],
         "xaxis": "x",
         "y": [
          65881.25
         ],
         "yaxis": "y"
        },
        {
         "hovertemplate": "state=North Carolina<br>average stem_percent=%{x}<br>average early_career_pay=%{y}<extra></extra>",
         "legendgroup": "North Carolina",
         "marker": {
          "color": "#00cc96",
          "symbol": "circle"
         },
         "mode": "markers",
         "name": "North Carolina",
         "orientation": "v",
         "showlegend": true,
         "type": "scatter",
         "x": [
          11.15
         ],
         "xaxis": "x",
         "y": [
          49695
         ],
         "yaxis": "y"
        },
        {
         "hovertemplate": "state=North Dakota<br>average stem_percent=%{x}<br>average early_career_pay=%{y}<extra></extra>",
         "legendgroup": "North Dakota",
         "marker": {
          "color": "#ab63fa",
          "symbol": "circle"
         },
         "mode": "markers",
         "name": "North Dakota",
         "orientation": "v",
         "showlegend": true,
         "type": "scatter",
         "x": [
          8.285714285714286
         ],
         "xaxis": "x",
         "y": [
          46042.857142857145
         ],
         "yaxis": "y"
        },
        {
         "hovertemplate": "state=Ohio<br>average stem_percent=%{x}<br>average early_career_pay=%{y}<extra></extra>",
         "legendgroup": "Ohio",
         "marker": {
          "color": "#FFA15A",
          "symbol": "circle"
         },
         "mode": "markers",
         "name": "Ohio",
         "orientation": "v",
         "showlegend": true,
         "type": "scatter",
         "x": [
          21.533333333333335
         ],
         "xaxis": "x",
         "y": [
          53613.333333333336
         ],
         "yaxis": "y"
        },
        {
         "hovertemplate": "state=Oklahoma<br>average stem_percent=%{x}<br>average early_career_pay=%{y}<extra></extra>",
         "legendgroup": "Oklahoma",
         "marker": {
          "color": "#19d3f3",
          "symbol": "circle"
         },
         "mode": "markers",
         "name": "Oklahoma",
         "orientation": "v",
         "showlegend": true,
         "type": "scatter",
         "x": [
          11.421052631578947
         ],
         "xaxis": "x",
         "y": [
          45105.26315789474
         ],
         "yaxis": "y"
        },
        {
         "hovertemplate": "state=Oregon<br>average stem_percent=%{x}<br>average early_career_pay=%{y}<extra></extra>",
         "legendgroup": "Oregon",
         "marker": {
          "color": "#FF6692",
          "symbol": "circle"
         },
         "mode": "markers",
         "name": "Oregon",
         "orientation": "v",
         "showlegend": true,
         "type": "scatter",
         "x": [
          12.11111111111111
         ],
         "xaxis": "x",
         "y": [
          50694.444444444445
         ],
         "yaxis": "y"
        },
        {
         "hovertemplate": "state=Pennsylvania<br>average stem_percent=%{x}<br>average early_career_pay=%{y}<extra></extra>",
         "legendgroup": "Pennsylvania",
         "marker": {
          "color": "#B6E880",
          "symbol": "circle"
         },
         "mode": "markers",
         "name": "Pennsylvania",
         "orientation": "v",
         "showlegend": true,
         "type": "scatter",
         "x": [
          28.63157894736842
         ],
         "xaxis": "x",
         "y": [
          61436.84210526316
         ],
         "yaxis": "y"
        },
        {
         "hovertemplate": "state=Rhode Island<br>average stem_percent=%{x}<br>average early_career_pay=%{y}<extra></extra>",
         "legendgroup": "Rhode Island",
         "marker": {
          "color": "#FF97FF",
          "symbol": "circle"
         },
         "mode": "markers",
         "name": "Rhode Island",
         "orientation": "v",
         "showlegend": true,
         "type": "scatter",
         "x": [
          13
         ],
         "xaxis": "x",
         "y": [
          55822.22222222222
         ],
         "yaxis": "y"
        },
        {
         "hovertemplate": "state=South Carolina<br>average stem_percent=%{x}<br>average early_career_pay=%{y}<extra></extra>",
         "legendgroup": "South Carolina",
         "marker": {
          "color": "#FECB52",
          "symbol": "circle"
         },
         "mode": "markers",
         "name": "South Carolina",
         "orientation": "v",
         "showlegend": true,
         "type": "scatter",
         "x": [
          14.777777777777779
         ],
         "xaxis": "x",
         "y": [
          44716.666666666664
         ],
         "yaxis": "y"
        },
        {
         "hovertemplate": "state=South Dakota<br>average stem_percent=%{x}<br>average early_career_pay=%{y}<extra></extra>",
         "legendgroup": "South Dakota",
         "marker": {
          "color": "#636efa",
          "symbol": "circle"
         },
         "mode": "markers",
         "name": "South Dakota",
         "orientation": "v",
         "showlegend": true,
         "type": "scatter",
         "x": [
          22.8
         ],
         "xaxis": "x",
         "y": [
          47110
         ],
         "yaxis": "y"
        },
        {
         "hovertemplate": "state=Tennessee<br>average stem_percent=%{x}<br>average early_career_pay=%{y}<extra></extra>",
         "legendgroup": "Tennessee",
         "marker": {
          "color": "#EF553B",
          "symbol": "circle"
         },
         "mode": "markers",
         "name": "Tennessee",
         "orientation": "v",
         "showlegend": true,
         "type": "scatter",
         "x": [
          12.75
         ],
         "xaxis": "x",
         "y": [
          47370
         ],
         "yaxis": "y"
        },
        {
         "hovertemplate": "state=Texas<br>average stem_percent=%{x}<br>average early_career_pay=%{y}<extra></extra>",
         "legendgroup": "Texas",
         "marker": {
          "color": "#00cc96",
          "symbol": "circle"
         },
         "mode": "markers",
         "name": "Texas",
         "orientation": "v",
         "showlegend": true,
         "type": "scatter",
         "x": [
          20.055555555555557
         ],
         "xaxis": "x",
         "y": [
          56500
         ],
         "yaxis": "y"
        },
        {
         "hovertemplate": "state=Utah<br>average stem_percent=%{x}<br>average early_career_pay=%{y}<extra></extra>",
         "legendgroup": "Utah",
         "marker": {
          "color": "#ab63fa",
          "symbol": "circle"
         },
         "mode": "markers",
         "name": "Utah",
         "orientation": "v",
         "showlegend": true,
         "type": "scatter",
         "x": [
          12
         ],
         "xaxis": "x",
         "y": [
          52183.333333333336
         ],
         "yaxis": "y"
        },
        {
         "hovertemplate": "state=Vermont<br>average stem_percent=%{x}<br>average early_career_pay=%{y}<extra></extra>",
         "legendgroup": "Vermont",
         "marker": {
          "color": "#FFA15A",
          "symbol": "circle"
         },
         "mode": "markers",
         "name": "Vermont",
         "orientation": "v",
         "showlegend": true,
         "type": "scatter",
         "x": [
          12.272727272727273
         ],
         "xaxis": "x",
         "y": [
          49445.454545454544
         ],
         "yaxis": "y"
        },
        {
         "hovertemplate": "state=Virginia<br>average stem_percent=%{x}<br>average early_career_pay=%{y}<extra></extra>",
         "legendgroup": "Virginia",
         "marker": {
          "color": "#19d3f3",
          "symbol": "circle"
         },
         "mode": "markers",
         "name": "Virginia",
         "orientation": "v",
         "showlegend": true,
         "type": "scatter",
         "x": [
          17.727272727272727
         ],
         "xaxis": "x",
         "y": [
          53718.181818181816
         ],
         "yaxis": "y"
        },
        {
         "hovertemplate": "state=Washington<br>average stem_percent=%{x}<br>average early_career_pay=%{y}<extra></extra>",
         "legendgroup": "Washington",
         "marker": {
          "color": "#FF6692",
          "symbol": "circle"
         },
         "mode": "markers",
         "name": "Washington",
         "orientation": "v",
         "showlegend": true,
         "type": "scatter",
         "x": [
          16.625
         ],
         "xaxis": "x",
         "y": [
          53450
         ],
         "yaxis": "y"
        },
        {
         "hovertemplate": "state=West Virginia<br>average stem_percent=%{x}<br>average early_career_pay=%{y}<extra></extra>",
         "legendgroup": "West Virginia",
         "marker": {
          "color": "#B6E880",
          "symbol": "circle"
         },
         "mode": "markers",
         "name": "West Virginia",
         "orientation": "v",
         "showlegend": true,
         "type": "scatter",
         "x": [
          10.4
         ],
         "xaxis": "x",
         "y": [
          44333.333333333336
         ],
         "yaxis": "y"
        },
        {
         "hovertemplate": "state=Wisconsin<br>average stem_percent=%{x}<br>average early_career_pay=%{y}<extra></extra>",
         "legendgroup": "Wisconsin",
         "marker": {
          "color": "#FF97FF",
          "symbol": "circle"
         },
         "mode": "markers",
         "name": "Wisconsin",
         "orientation": "v",
         "showlegend": true,
         "type": "scatter",
         "x": [
          18.363636363636363
         ],
         "xaxis": "x",
         "y": [
          50681.818181818184
         ],
         "yaxis": "y"
        },
        {
         "hovertemplate": "state=Wyoming<br>average stem_percent=%{x}<br>average early_career_pay=%{y}<extra></extra>",
         "legendgroup": "Wyoming",
         "marker": {
          "color": "#FECB52",
          "symbol": "circle"
         },
         "mode": "markers",
         "name": "Wyoming",
         "orientation": "v",
         "showlegend": true,
         "type": "scatter",
         "x": [
          25
         ],
         "xaxis": "x",
         "y": [
          52400
         ],
         "yaxis": "y"
        },
        {
         "hovertemplate": "<b>OLS trendline</b><br>average early_career_pay = 478.507 * average stem_percent + 43091.8<br>R<sup>2</sup>=0.347354<br><br>average stem_percent=%{x}<br>average early_career_pay=%{y} <b>(trend)</b><extra></extra>",
         "legendgroup": "Overall Trendline",
         "line": {
          "color": "#636efa"
         },
         "mode": "lines",
         "name": "Overall Trendline",
         "showlegend": true,
         "type": "scatter",
         "x": [
          2,
          8.285714285714286,
          8.727272727272727,
          9.764705882352942,
          10.4,
          10.708333333333334,
          11.15,
          11.421052631578947,
          11.666666666666666,
          12,
          12,
          12.11111111111111,
          12.272727272727273,
          12.333333333333334,
          12.4,
          12.6,
          12.75,
          13,
          13.375,
          14.047619047619047,
          14.071428571428571,
          14.266666666666667,
          14.38888888888889,
          14.636363636363637,
          14.642857142857142,
          14.777777777777779,
          15.705882352941176,
          15.88888888888889,
          16.181818181818183,
          16.333333333333332,
          16.625,
          16.666666666666668,
          17.294117647058822,
          17.727272727272727,
          18.363636363636363,
          20.055555555555557,
          20.263157894736842,
          20.63157894736842,
          20.692307692307693,
          21.533333333333335,
          21.772727272727273,
          22.8,
          22.944444444444443,
          25,
          28.38095238095238,
          28.5625,
          28.63157894736842,
          30.615384615384617,
          32.25,
          33
         ],
         "xaxis": "x",
         "y": [
          44048.785584220146,
          47056.541490488235,
          47267.83012853186,
          47764.24876255132,
          48068.24120441477,
          48215.780746029064,
          48427.12117050358,
          48556.82164947603,
          48674.34959158698,
          48833.85179873756,
          48833.85179873756,
          48887.01920112108,
          48964.35360458803,
          48993.35400588814,
          49025.25444731826,
          49120.955771608606,
          49192.73176482636,
          49312.358420189295,
          49491.798403233704,
          49813.65107123398,
          49825.04408603045,
          49918.4668073615,
          49976.95094998338,
          50095.36925529215,
          50098.47644114573,
          50163.03685832573,
          50607.14104294107,
          50694.710882160995,
          50834.87948844484,
          50907.380491695105,
          51046.94492295186,
          51066.882698845686,
          51367.122147599715,
          51574.38972159753,
          51878.893935248634,
          52688.48847154325,
          52787.82756547036,
          52964.1194786368,
          52993.178585202695,
          53395.61492324415,
          53510.166508379574,
          54001.72331041636,
          54070.84093351495,
          55054.43787761019,
          56672.24597870893,
          56759.11771653202,
          56792.17245025072,
          57741.436598069966,
          58523.61088313531,
          58882.490849224116
         ],
         "yaxis": "y"
        }
       ],
       "layout": {
        "legend": {
         "title": {
          "text": "state"
         },
         "tracegroupgap": 0
        },
        "template": {
         "data": {
          "bar": [
           {
            "error_x": {
             "color": "#2a3f5f"
            },
            "error_y": {
             "color": "#2a3f5f"
            },
            "marker": {
             "line": {
              "color": "#E5ECF6",
              "width": 0.5
             },
             "pattern": {
              "fillmode": "overlay",
              "size": 10,
              "solidity": 0.2
             }
            },
            "type": "bar"
           }
          ],
          "barpolar": [
           {
            "marker": {
             "line": {
              "color": "#E5ECF6",
              "width": 0.5
             },
             "pattern": {
              "fillmode": "overlay",
              "size": 10,
              "solidity": 0.2
             }
            },
            "type": "barpolar"
           }
          ],
          "carpet": [
           {
            "aaxis": {
             "endlinecolor": "#2a3f5f",
             "gridcolor": "white",
             "linecolor": "white",
             "minorgridcolor": "white",
             "startlinecolor": "#2a3f5f"
            },
            "baxis": {
             "endlinecolor": "#2a3f5f",
             "gridcolor": "white",
             "linecolor": "white",
             "minorgridcolor": "white",
             "startlinecolor": "#2a3f5f"
            },
            "type": "carpet"
           }
          ],
          "choropleth": [
           {
            "colorbar": {
             "outlinewidth": 0,
             "ticks": ""
            },
            "type": "choropleth"
           }
          ],
          "contour": [
           {
            "colorbar": {
             "outlinewidth": 0,
             "ticks": ""
            },
            "colorscale": [
             [
              0,
              "#0d0887"
             ],
             [
              0.1111111111111111,
              "#46039f"
             ],
             [
              0.2222222222222222,
              "#7201a8"
             ],
             [
              0.3333333333333333,
              "#9c179e"
             ],
             [
              0.4444444444444444,
              "#bd3786"
             ],
             [
              0.5555555555555556,
              "#d8576b"
             ],
             [
              0.6666666666666666,
              "#ed7953"
             ],
             [
              0.7777777777777778,
              "#fb9f3a"
             ],
             [
              0.8888888888888888,
              "#fdca26"
             ],
             [
              1,
              "#f0f921"
             ]
            ],
            "type": "contour"
           }
          ],
          "contourcarpet": [
           {
            "colorbar": {
             "outlinewidth": 0,
             "ticks": ""
            },
            "type": "contourcarpet"
           }
          ],
          "heatmap": [
           {
            "colorbar": {
             "outlinewidth": 0,
             "ticks": ""
            },
            "colorscale": [
             [
              0,
              "#0d0887"
             ],
             [
              0.1111111111111111,
              "#46039f"
             ],
             [
              0.2222222222222222,
              "#7201a8"
             ],
             [
              0.3333333333333333,
              "#9c179e"
             ],
             [
              0.4444444444444444,
              "#bd3786"
             ],
             [
              0.5555555555555556,
              "#d8576b"
             ],
             [
              0.6666666666666666,
              "#ed7953"
             ],
             [
              0.7777777777777778,
              "#fb9f3a"
             ],
             [
              0.8888888888888888,
              "#fdca26"
             ],
             [
              1,
              "#f0f921"
             ]
            ],
            "type": "heatmap"
           }
          ],
          "heatmapgl": [
           {
            "colorbar": {
             "outlinewidth": 0,
             "ticks": ""
            },
            "colorscale": [
             [
              0,
              "#0d0887"
             ],
             [
              0.1111111111111111,
              "#46039f"
             ],
             [
              0.2222222222222222,
              "#7201a8"
             ],
             [
              0.3333333333333333,
              "#9c179e"
             ],
             [
              0.4444444444444444,
              "#bd3786"
             ],
             [
              0.5555555555555556,
              "#d8576b"
             ],
             [
              0.6666666666666666,
              "#ed7953"
             ],
             [
              0.7777777777777778,
              "#fb9f3a"
             ],
             [
              0.8888888888888888,
              "#fdca26"
             ],
             [
              1,
              "#f0f921"
             ]
            ],
            "type": "heatmapgl"
           }
          ],
          "histogram": [
           {
            "marker": {
             "pattern": {
              "fillmode": "overlay",
              "size": 10,
              "solidity": 0.2
             }
            },
            "type": "histogram"
           }
          ],
          "histogram2d": [
           {
            "colorbar": {
             "outlinewidth": 0,
             "ticks": ""
            },
            "colorscale": [
             [
              0,
              "#0d0887"
             ],
             [
              0.1111111111111111,
              "#46039f"
             ],
             [
              0.2222222222222222,
              "#7201a8"
             ],
             [
              0.3333333333333333,
              "#9c179e"
             ],
             [
              0.4444444444444444,
              "#bd3786"
             ],
             [
              0.5555555555555556,
              "#d8576b"
             ],
             [
              0.6666666666666666,
              "#ed7953"
             ],
             [
              0.7777777777777778,
              "#fb9f3a"
             ],
             [
              0.8888888888888888,
              "#fdca26"
             ],
             [
              1,
              "#f0f921"
             ]
            ],
            "type": "histogram2d"
           }
          ],
          "histogram2dcontour": [
           {
            "colorbar": {
             "outlinewidth": 0,
             "ticks": ""
            },
            "colorscale": [
             [
              0,
              "#0d0887"
             ],
             [
              0.1111111111111111,
              "#46039f"
             ],
             [
              0.2222222222222222,
              "#7201a8"
             ],
             [
              0.3333333333333333,
              "#9c179e"
             ],
             [
              0.4444444444444444,
              "#bd3786"
             ],
             [
              0.5555555555555556,
              "#d8576b"
             ],
             [
              0.6666666666666666,
              "#ed7953"
             ],
             [
              0.7777777777777778,
              "#fb9f3a"
             ],
             [
              0.8888888888888888,
              "#fdca26"
             ],
             [
              1,
              "#f0f921"
             ]
            ],
            "type": "histogram2dcontour"
           }
          ],
          "mesh3d": [
           {
            "colorbar": {
             "outlinewidth": 0,
             "ticks": ""
            },
            "type": "mesh3d"
           }
          ],
          "parcoords": [
           {
            "line": {
             "colorbar": {
              "outlinewidth": 0,
              "ticks": ""
             }
            },
            "type": "parcoords"
           }
          ],
          "pie": [
           {
            "automargin": true,
            "type": "pie"
           }
          ],
          "scatter": [
           {
            "marker": {
             "colorbar": {
              "outlinewidth": 0,
              "ticks": ""
             }
            },
            "type": "scatter"
           }
          ],
          "scatter3d": [
           {
            "line": {
             "colorbar": {
              "outlinewidth": 0,
              "ticks": ""
             }
            },
            "marker": {
             "colorbar": {
              "outlinewidth": 0,
              "ticks": ""
             }
            },
            "type": "scatter3d"
           }
          ],
          "scattercarpet": [
           {
            "marker": {
             "colorbar": {
              "outlinewidth": 0,
              "ticks": ""
             }
            },
            "type": "scattercarpet"
           }
          ],
          "scattergeo": [
           {
            "marker": {
             "colorbar": {
              "outlinewidth": 0,
              "ticks": ""
             }
            },
            "type": "scattergeo"
           }
          ],
          "scattergl": [
           {
            "marker": {
             "colorbar": {
              "outlinewidth": 0,
              "ticks": ""
             }
            },
            "type": "scattergl"
           }
          ],
          "scattermapbox": [
           {
            "marker": {
             "colorbar": {
              "outlinewidth": 0,
              "ticks": ""
             }
            },
            "type": "scattermapbox"
           }
          ],
          "scatterpolar": [
           {
            "marker": {
             "colorbar": {
              "outlinewidth": 0,
              "ticks": ""
             }
            },
            "type": "scatterpolar"
           }
          ],
          "scatterpolargl": [
           {
            "marker": {
             "colorbar": {
              "outlinewidth": 0,
              "ticks": ""
             }
            },
            "type": "scatterpolargl"
           }
          ],
          "scatterternary": [
           {
            "marker": {
             "colorbar": {
              "outlinewidth": 0,
              "ticks": ""
             }
            },
            "type": "scatterternary"
           }
          ],
          "surface": [
           {
            "colorbar": {
             "outlinewidth": 0,
             "ticks": ""
            },
            "colorscale": [
             [
              0,
              "#0d0887"
             ],
             [
              0.1111111111111111,
              "#46039f"
             ],
             [
              0.2222222222222222,
              "#7201a8"
             ],
             [
              0.3333333333333333,
              "#9c179e"
             ],
             [
              0.4444444444444444,
              "#bd3786"
             ],
             [
              0.5555555555555556,
              "#d8576b"
             ],
             [
              0.6666666666666666,
              "#ed7953"
             ],
             [
              0.7777777777777778,
              "#fb9f3a"
             ],
             [
              0.8888888888888888,
              "#fdca26"
             ],
             [
              1,
              "#f0f921"
             ]
            ],
            "type": "surface"
           }
          ],
          "table": [
           {
            "cells": {
             "fill": {
              "color": "#EBF0F8"
             },
             "line": {
              "color": "white"
             }
            },
            "header": {
             "fill": {
              "color": "#C8D4E3"
             },
             "line": {
              "color": "white"
             }
            },
            "type": "table"
           }
          ]
         },
         "layout": {
          "annotationdefaults": {
           "arrowcolor": "#2a3f5f",
           "arrowhead": 0,
           "arrowwidth": 1
          },
          "autotypenumbers": "strict",
          "coloraxis": {
           "colorbar": {
            "outlinewidth": 0,
            "ticks": ""
           }
          },
          "colorscale": {
           "diverging": [
            [
             0,
             "#8e0152"
            ],
            [
             0.1,
             "#c51b7d"
            ],
            [
             0.2,
             "#de77ae"
            ],
            [
             0.3,
             "#f1b6da"
            ],
            [
             0.4,
             "#fde0ef"
            ],
            [
             0.5,
             "#f7f7f7"
            ],
            [
             0.6,
             "#e6f5d0"
            ],
            [
             0.7,
             "#b8e186"
            ],
            [
             0.8,
             "#7fbc41"
            ],
            [
             0.9,
             "#4d9221"
            ],
            [
             1,
             "#276419"
            ]
           ],
           "sequential": [
            [
             0,
             "#0d0887"
            ],
            [
             0.1111111111111111,
             "#46039f"
            ],
            [
             0.2222222222222222,
             "#7201a8"
            ],
            [
             0.3333333333333333,
             "#9c179e"
            ],
            [
             0.4444444444444444,
             "#bd3786"
            ],
            [
             0.5555555555555556,
             "#d8576b"
            ],
            [
             0.6666666666666666,
             "#ed7953"
            ],
            [
             0.7777777777777778,
             "#fb9f3a"
            ],
            [
             0.8888888888888888,
             "#fdca26"
            ],
            [
             1,
             "#f0f921"
            ]
           ],
           "sequentialminus": [
            [
             0,
             "#0d0887"
            ],
            [
             0.1111111111111111,
             "#46039f"
            ],
            [
             0.2222222222222222,
             "#7201a8"
            ],
            [
             0.3333333333333333,
             "#9c179e"
            ],
            [
             0.4444444444444444,
             "#bd3786"
            ],
            [
             0.5555555555555556,
             "#d8576b"
            ],
            [
             0.6666666666666666,
             "#ed7953"
            ],
            [
             0.7777777777777778,
             "#fb9f3a"
            ],
            [
             0.8888888888888888,
             "#fdca26"
            ],
            [
             1,
             "#f0f921"
            ]
           ]
          },
          "colorway": [
           "#636efa",
           "#EF553B",
           "#00cc96",
           "#ab63fa",
           "#FFA15A",
           "#19d3f3",
           "#FF6692",
           "#B6E880",
           "#FF97FF",
           "#FECB52"
          ],
          "font": {
           "color": "#2a3f5f"
          },
          "geo": {
           "bgcolor": "white",
           "lakecolor": "white",
           "landcolor": "#E5ECF6",
           "showlakes": true,
           "showland": true,
           "subunitcolor": "white"
          },
          "hoverlabel": {
           "align": "left"
          },
          "hovermode": "closest",
          "mapbox": {
           "style": "light"
          },
          "paper_bgcolor": "white",
          "plot_bgcolor": "#E5ECF6",
          "polar": {
           "angularaxis": {
            "gridcolor": "white",
            "linecolor": "white",
            "ticks": ""
           },
           "bgcolor": "#E5ECF6",
           "radialaxis": {
            "gridcolor": "white",
            "linecolor": "white",
            "ticks": ""
           }
          },
          "scene": {
           "xaxis": {
            "backgroundcolor": "#E5ECF6",
            "gridcolor": "white",
            "gridwidth": 2,
            "linecolor": "white",
            "showbackground": true,
            "ticks": "",
            "zerolinecolor": "white"
           },
           "yaxis": {
            "backgroundcolor": "#E5ECF6",
            "gridcolor": "white",
            "gridwidth": 2,
            "linecolor": "white",
            "showbackground": true,
            "ticks": "",
            "zerolinecolor": "white"
           },
           "zaxis": {
            "backgroundcolor": "#E5ECF6",
            "gridcolor": "white",
            "gridwidth": 2,
            "linecolor": "white",
            "showbackground": true,
            "ticks": "",
            "zerolinecolor": "white"
           }
          },
          "shapedefaults": {
           "line": {
            "color": "#2a3f5f"
           }
          },
          "ternary": {
           "aaxis": {
            "gridcolor": "white",
            "linecolor": "white",
            "ticks": ""
           },
           "baxis": {
            "gridcolor": "white",
            "linecolor": "white",
            "ticks": ""
           },
           "bgcolor": "#E5ECF6",
           "caxis": {
            "gridcolor": "white",
            "linecolor": "white",
            "ticks": ""
           }
          },
          "title": {
           "x": 0.05
          },
          "xaxis": {
           "automargin": true,
           "gridcolor": "white",
           "linecolor": "white",
           "ticks": "",
           "title": {
            "standoff": 15
           },
           "zerolinecolor": "white",
           "zerolinewidth": 2
          },
          "yaxis": {
           "automargin": true,
           "gridcolor": "white",
           "linecolor": "white",
           "ticks": "",
           "title": {
            "standoff": 15
           },
           "zerolinecolor": "white",
           "zerolinewidth": 2
          }
         }
        },
        "title": {
         "text": "Average In State Tuition vs Average % of Students Graduating with STEM Degrees"
        },
        "xaxis": {
         "anchor": "y",
         "domain": [
          0,
          1
         ],
         "title": {
          "text": "average stem_percent"
         }
        },
        "yaxis": {
         "anchor": "x",
         "domain": [
          0,
          1
         ],
         "title": {
          "text": "average early_career_pay"
         }
        }
       }
      },
      "text/html": [
       "<div>                            <div id=\"cf250939-581c-4579-bc9e-bbd126521b1c\" class=\"plotly-graph-div\" style=\"height:525px; width:100%;\"></div>            <script type=\"text/javascript\">                require([\"plotly\"], function(Plotly) {                    window.PLOTLYENV=window.PLOTLYENV || {};                                    if (document.getElementById(\"cf250939-581c-4579-bc9e-bbd126521b1c\")) {                    Plotly.newPlot(                        \"cf250939-581c-4579-bc9e-bbd126521b1c\",                        [{\"hovertemplate\":\"state=Alabama<br>average stem_percent=%{x}<br>average early_career_pay=%{y}<extra></extra>\",\"legendgroup\":\"Alabama\",\"marker\":{\"color\":\"#636efa\",\"symbol\":\"circle\"},\"mode\":\"markers\",\"name\":\"Alabama\",\"orientation\":\"v\",\"showlegend\":true,\"x\":[14.047619047619047],\"xaxis\":\"x\",\"y\":[44714.28571428572],\"yaxis\":\"y\",\"type\":\"scatter\"},{\"hovertemplate\":\"state=Alaska<br>average stem_percent=%{x}<br>average early_career_pay=%{y}<extra></extra>\",\"legendgroup\":\"Alaska\",\"marker\":{\"color\":\"#EF553B\",\"symbol\":\"circle\"},\"mode\":\"markers\",\"name\":\"Alaska\",\"orientation\":\"v\",\"showlegend\":true,\"x\":[12.0],\"xaxis\":\"x\",\"y\":[55133.333333333336],\"yaxis\":\"y\",\"type\":\"scatter\"},{\"hovertemplate\":\"state=Arizona<br>average stem_percent=%{x}<br>average early_career_pay=%{y}<extra></extra>\",\"legendgroup\":\"Arizona\",\"marker\":{\"color\":\"#00cc96\",\"symbol\":\"circle\"},\"mode\":\"markers\",\"name\":\"Arizona\",\"orientation\":\"v\",\"showlegend\":true,\"x\":[11.666666666666666],\"xaxis\":\"x\",\"y\":[48966.666666666664],\"yaxis\":\"y\",\"type\":\"scatter\"},{\"hovertemplate\":\"state=Arkansas<br>average stem_percent=%{x}<br>average early_career_pay=%{y}<extra></extra>\",\"legendgroup\":\"Arkansas\",\"marker\":{\"color\":\"#ab63fa\",\"symbol\":\"circle\"},\"mode\":\"markers\",\"name\":\"Arkansas\",\"orientation\":\"v\",\"showlegend\":true,\"x\":[14.071428571428571],\"xaxis\":\"x\",\"y\":[45607.142857142855],\"yaxis\":\"y\",\"type\":\"scatter\"},{\"hovertemplate\":\"state=California<br>average stem_percent=%{x}<br>average early_career_pay=%{y}<extra></extra>\",\"legendgroup\":\"California\",\"marker\":{\"color\":\"#FFA15A\",\"symbol\":\"circle\"},\"mode\":\"markers\",\"name\":\"California\",\"orientation\":\"v\",\"showlegend\":true,\"x\":[30.615384615384617],\"xaxis\":\"x\",\"y\":[67800.0],\"yaxis\":\"y\",\"type\":\"scatter\"},{\"hovertemplate\":\"state=Colorado<br>average stem_percent=%{x}<br>average early_career_pay=%{y}<extra></extra>\",\"legendgroup\":\"Colorado\",\"marker\":{\"color\":\"#19d3f3\",\"symbol\":\"circle\"},\"mode\":\"markers\",\"name\":\"Colorado\",\"orientation\":\"v\",\"showlegend\":true,\"x\":[20.692307692307693],\"xaxis\":\"x\",\"y\":[52238.46153846154],\"yaxis\":\"y\",\"type\":\"scatter\"},{\"hovertemplate\":\"state=Connecticut<br>average stem_percent=%{x}<br>average early_career_pay=%{y}<extra></extra>\",\"legendgroup\":\"Connecticut\",\"marker\":{\"color\":\"#FF6692\",\"symbol\":\"circle\"},\"mode\":\"markers\",\"name\":\"Connecticut\",\"orientation\":\"v\",\"showlegend\":true,\"x\":[15.88888888888889],\"xaxis\":\"x\",\"y\":[55016.666666666664],\"yaxis\":\"y\",\"type\":\"scatter\"},{\"hovertemplate\":\"state=Delaware<br>average stem_percent=%{x}<br>average early_career_pay=%{y}<extra></extra>\",\"legendgroup\":\"Delaware\",\"marker\":{\"color\":\"#B6E880\",\"symbol\":\"circle\"},\"mode\":\"markers\",\"name\":\"Delaware\",\"orientation\":\"v\",\"showlegend\":true,\"x\":[12.6],\"xaxis\":\"x\",\"y\":[49040.0],\"yaxis\":\"y\",\"type\":\"scatter\"},{\"hovertemplate\":\"state=Florida<br>average stem_percent=%{x}<br>average early_career_pay=%{y}<extra></extra>\",\"legendgroup\":\"Florida\",\"marker\":{\"color\":\"#FF97FF\",\"symbol\":\"circle\"},\"mode\":\"markers\",\"name\":\"Florida\",\"orientation\":\"v\",\"showlegend\":true,\"x\":[14.38888888888889],\"xaxis\":\"x\",\"y\":[50250.0],\"yaxis\":\"y\",\"type\":\"scatter\"},{\"hovertemplate\":\"state=Georgia<br>average stem_percent=%{x}<br>average early_career_pay=%{y}<extra></extra>\",\"legendgroup\":\"Georgia\",\"marker\":{\"color\":\"#FECB52\",\"symbol\":\"circle\"},\"mode\":\"markers\",\"name\":\"Georgia\",\"orientation\":\"v\",\"showlegend\":true,\"x\":[14.636363636363637],\"xaxis\":\"x\",\"y\":[48527.27272727273],\"yaxis\":\"y\",\"type\":\"scatter\"},{\"hovertemplate\":\"state=Hawaii<br>average stem_percent=%{x}<br>average early_career_pay=%{y}<extra></extra>\",\"legendgroup\":\"Hawaii\",\"marker\":{\"color\":\"#636efa\",\"symbol\":\"circle\"},\"mode\":\"markers\",\"name\":\"Hawaii\",\"orientation\":\"v\",\"showlegend\":true,\"x\":[12.4],\"xaxis\":\"x\",\"y\":[48980.0],\"yaxis\":\"y\",\"type\":\"scatter\"},{\"hovertemplate\":\"state=Idaho<br>average stem_percent=%{x}<br>average early_career_pay=%{y}<extra></extra>\",\"legendgroup\":\"Idaho\",\"marker\":{\"color\":\"#EF553B\",\"symbol\":\"circle\"},\"mode\":\"markers\",\"name\":\"Idaho\",\"orientation\":\"v\",\"showlegend\":true,\"x\":[12.333333333333334],\"xaxis\":\"x\",\"y\":[49666.666666666664],\"yaxis\":\"y\",\"type\":\"scatter\"},{\"hovertemplate\":\"state=Illinois<br>average stem_percent=%{x}<br>average early_career_pay=%{y}<extra></extra>\",\"legendgroup\":\"Illinois\",\"marker\":{\"color\":\"#00cc96\",\"symbol\":\"circle\"},\"mode\":\"markers\",\"name\":\"Illinois\",\"orientation\":\"v\",\"showlegend\":true,\"x\":[20.63157894736842],\"xaxis\":\"x\",\"y\":[55763.15789473684],\"yaxis\":\"y\",\"type\":\"scatter\"},{\"hovertemplate\":\"state=Indiana<br>average stem_percent=%{x}<br>average early_career_pay=%{y}<extra></extra>\",\"legendgroup\":\"Indiana\",\"marker\":{\"color\":\"#ab63fa\",\"symbol\":\"circle\"},\"mode\":\"markers\",\"name\":\"Indiana\",\"orientation\":\"v\",\"showlegend\":true,\"x\":[22.944444444444443],\"xaxis\":\"x\",\"y\":[52938.88888888889],\"yaxis\":\"y\",\"type\":\"scatter\"},{\"hovertemplate\":\"state=Iowa<br>average stem_percent=%{x}<br>average early_career_pay=%{y}<extra></extra>\",\"legendgroup\":\"Iowa\",\"marker\":{\"color\":\"#FFA15A\",\"symbol\":\"circle\"},\"mode\":\"markers\",\"name\":\"Iowa\",\"orientation\":\"v\",\"showlegend\":true,\"x\":[16.333333333333332],\"xaxis\":\"x\",\"y\":[48314.28571428572],\"yaxis\":\"y\",\"type\":\"scatter\"},{\"hovertemplate\":\"state=Kansas<br>average stem_percent=%{x}<br>average early_career_pay=%{y}<extra></extra>\",\"legendgroup\":\"Kansas\",\"marker\":{\"color\":\"#19d3f3\",\"symbol\":\"circle\"},\"mode\":\"markers\",\"name\":\"Kansas\",\"orientation\":\"v\",\"showlegend\":true,\"x\":[9.764705882352942],\"xaxis\":\"x\",\"y\":[46482.35294117647],\"yaxis\":\"y\",\"type\":\"scatter\"},{\"hovertemplate\":\"state=Kentucky<br>average stem_percent=%{x}<br>average early_career_pay=%{y}<extra></extra>\",\"legendgroup\":\"Kentucky\",\"marker\":{\"color\":\"#FF6692\",\"symbol\":\"circle\"},\"mode\":\"markers\",\"name\":\"Kentucky\",\"orientation\":\"v\",\"showlegend\":true,\"x\":[10.708333333333334],\"xaxis\":\"x\",\"y\":[43754.166666666664],\"yaxis\":\"y\",\"type\":\"scatter\"},{\"hovertemplate\":\"state=Louisiana<br>average stem_percent=%{x}<br>average early_career_pay=%{y}<extra></extra>\",\"legendgroup\":\"Louisiana\",\"marker\":{\"color\":\"#B6E880\",\"symbol\":\"circle\"},\"mode\":\"markers\",\"name\":\"Louisiana\",\"orientation\":\"v\",\"showlegend\":true,\"x\":[14.266666666666667],\"xaxis\":\"x\",\"y\":[46920.0],\"yaxis\":\"y\",\"type\":\"scatter\"},{\"hovertemplate\":\"state=Maine<br>average stem_percent=%{x}<br>average early_career_pay=%{y}<extra></extra>\",\"legendgroup\":\"Maine\",\"marker\":{\"color\":\"#FF97FF\",\"symbol\":\"circle\"},\"mode\":\"markers\",\"name\":\"Maine\",\"orientation\":\"v\",\"showlegend\":true,\"x\":[13.375],\"xaxis\":\"x\",\"y\":[48181.25],\"yaxis\":\"y\",\"type\":\"scatter\"},{\"hovertemplate\":\"state=Maryland<br>average stem_percent=%{x}<br>average early_career_pay=%{y}<extra></extra>\",\"legendgroup\":\"Maryland\",\"marker\":{\"color\":\"#FECB52\",\"symbol\":\"circle\"},\"mode\":\"markers\",\"name\":\"Maryland\",\"orientation\":\"v\",\"showlegend\":true,\"x\":[17.294117647058822],\"xaxis\":\"x\",\"y\":[53041.17647058824],\"yaxis\":\"y\",\"type\":\"scatter\"},{\"hovertemplate\":\"state=Massachusetts<br>average stem_percent=%{x}<br>average early_career_pay=%{y}<extra></extra>\",\"legendgroup\":\"Massachusetts\",\"marker\":{\"color\":\"#636efa\",\"symbol\":\"circle\"},\"mode\":\"markers\",\"name\":\"Massachusetts\",\"orientation\":\"v\",\"showlegend\":true,\"x\":[28.38095238095238],\"xaxis\":\"x\",\"y\":[63519.04761904762],\"yaxis\":\"y\",\"type\":\"scatter\"},{\"hovertemplate\":\"state=Michigan<br>average stem_percent=%{x}<br>average early_career_pay=%{y}<extra></extra>\",\"legendgroup\":\"Michigan\",\"marker\":{\"color\":\"#EF553B\",\"symbol\":\"circle\"},\"mode\":\"markers\",\"name\":\"Michigan\",\"orientation\":\"v\",\"showlegend\":true,\"x\":[21.772727272727273],\"xaxis\":\"x\",\"y\":[51695.454545454544],\"yaxis\":\"y\",\"type\":\"scatter\"},{\"hovertemplate\":\"state=Minnesota<br>average stem_percent=%{x}<br>average early_career_pay=%{y}<extra></extra>\",\"legendgroup\":\"Minnesota\",\"marker\":{\"color\":\"#00cc96\",\"symbol\":\"circle\"},\"mode\":\"markers\",\"name\":\"Minnesota\",\"orientation\":\"v\",\"showlegend\":true,\"x\":[16.666666666666668],\"xaxis\":\"x\",\"y\":[51233.333333333336],\"yaxis\":\"y\",\"type\":\"scatter\"},{\"hovertemplate\":\"state=Mississippi<br>average stem_percent=%{x}<br>average early_career_pay=%{y}<extra></extra>\",\"legendgroup\":\"Mississippi\",\"marker\":{\"color\":\"#ab63fa\",\"symbol\":\"circle\"},\"mode\":\"markers\",\"name\":\"Mississippi\",\"orientation\":\"v\",\"showlegend\":true,\"x\":[14.642857142857142],\"xaxis\":\"x\",\"y\":[42042.857142857145],\"yaxis\":\"y\",\"type\":\"scatter\"},{\"hovertemplate\":\"state=Missouri<br>average stem_percent=%{x}<br>average early_career_pay=%{y}<extra></extra>\",\"legendgroup\":\"Missouri\",\"marker\":{\"color\":\"#FFA15A\",\"symbol\":\"circle\"},\"mode\":\"markers\",\"name\":\"Missouri\",\"orientation\":\"v\",\"showlegend\":true,\"x\":[15.705882352941176],\"xaxis\":\"x\",\"y\":[48023.529411764706],\"yaxis\":\"y\",\"type\":\"scatter\"},{\"hovertemplate\":\"state=Montana<br>average stem_percent=%{x}<br>average early_career_pay=%{y}<extra></extra>\",\"legendgroup\":\"Montana\",\"marker\":{\"color\":\"#19d3f3\",\"symbol\":\"circle\"},\"mode\":\"markers\",\"name\":\"Montana\",\"orientation\":\"v\",\"showlegend\":true,\"x\":[32.25],\"xaxis\":\"x\",\"y\":[52275.0],\"yaxis\":\"y\",\"type\":\"scatter\"},{\"hovertemplate\":\"state=Nebraska<br>average stem_percent=%{x}<br>average early_career_pay=%{y}<extra></extra>\",\"legendgroup\":\"Nebraska\",\"marker\":{\"color\":\"#FF6692\",\"symbol\":\"circle\"},\"mode\":\"markers\",\"name\":\"Nebraska\",\"orientation\":\"v\",\"showlegend\":true,\"x\":[8.727272727272727],\"xaxis\":\"x\",\"y\":[46790.90909090909],\"yaxis\":\"y\",\"type\":\"scatter\"},{\"hovertemplate\":\"state=Nevada<br>average stem_percent=%{x}<br>average early_career_pay=%{y}<extra></extra>\",\"legendgroup\":\"Nevada\",\"marker\":{\"color\":\"#B6E880\",\"symbol\":\"circle\"},\"mode\":\"markers\",\"name\":\"Nevada\",\"orientation\":\"v\",\"showlegend\":true,\"x\":[2.0],\"xaxis\":\"x\",\"y\":[54000.0],\"yaxis\":\"y\",\"type\":\"scatter\"},{\"hovertemplate\":\"state=New Hampshire<br>average stem_percent=%{x}<br>average early_career_pay=%{y}<extra></extra>\",\"legendgroup\":\"New Hampshire\",\"marker\":{\"color\":\"#FF97FF\",\"symbol\":\"circle\"},\"mode\":\"markers\",\"name\":\"New Hampshire\",\"orientation\":\"v\",\"showlegend\":true,\"x\":[16.181818181818183],\"xaxis\":\"x\",\"y\":[50545.454545454544],\"yaxis\":\"y\",\"type\":\"scatter\"},{\"hovertemplate\":\"state=New Jersey<br>average stem_percent=%{x}<br>average early_career_pay=%{y}<extra></extra>\",\"legendgroup\":\"New Jersey\",\"marker\":{\"color\":\"#FECB52\",\"symbol\":\"circle\"},\"mode\":\"markers\",\"name\":\"New Jersey\",\"orientation\":\"v\",\"showlegend\":true,\"x\":[20.263157894736842],\"xaxis\":\"x\",\"y\":[54847.36842105263],\"yaxis\":\"y\",\"type\":\"scatter\"},{\"hovertemplate\":\"state=New Mexico<br>average stem_percent=%{x}<br>average early_career_pay=%{y}<extra></extra>\",\"legendgroup\":\"New Mexico\",\"marker\":{\"color\":\"#636efa\",\"symbol\":\"circle\"},\"mode\":\"markers\",\"name\":\"New Mexico\",\"orientation\":\"v\",\"showlegend\":true,\"x\":[33.0],\"xaxis\":\"x\",\"y\":[48933.333333333336],\"yaxis\":\"y\",\"type\":\"scatter\"},{\"hovertemplate\":\"state=New York<br>average stem_percent=%{x}<br>average early_career_pay=%{y}<extra></extra>\",\"legendgroup\":\"New York\",\"marker\":{\"color\":\"#EF553B\",\"symbol\":\"circle\"},\"mode\":\"markers\",\"name\":\"New York\",\"orientation\":\"v\",\"showlegend\":true,\"x\":[28.5625],\"xaxis\":\"x\",\"y\":[65881.25],\"yaxis\":\"y\",\"type\":\"scatter\"},{\"hovertemplate\":\"state=North Carolina<br>average stem_percent=%{x}<br>average early_career_pay=%{y}<extra></extra>\",\"legendgroup\":\"North Carolina\",\"marker\":{\"color\":\"#00cc96\",\"symbol\":\"circle\"},\"mode\":\"markers\",\"name\":\"North Carolina\",\"orientation\":\"v\",\"showlegend\":true,\"x\":[11.15],\"xaxis\":\"x\",\"y\":[49695.0],\"yaxis\":\"y\",\"type\":\"scatter\"},{\"hovertemplate\":\"state=North Dakota<br>average stem_percent=%{x}<br>average early_career_pay=%{y}<extra></extra>\",\"legendgroup\":\"North Dakota\",\"marker\":{\"color\":\"#ab63fa\",\"symbol\":\"circle\"},\"mode\":\"markers\",\"name\":\"North Dakota\",\"orientation\":\"v\",\"showlegend\":true,\"x\":[8.285714285714286],\"xaxis\":\"x\",\"y\":[46042.857142857145],\"yaxis\":\"y\",\"type\":\"scatter\"},{\"hovertemplate\":\"state=Ohio<br>average stem_percent=%{x}<br>average early_career_pay=%{y}<extra></extra>\",\"legendgroup\":\"Ohio\",\"marker\":{\"color\":\"#FFA15A\",\"symbol\":\"circle\"},\"mode\":\"markers\",\"name\":\"Ohio\",\"orientation\":\"v\",\"showlegend\":true,\"x\":[21.533333333333335],\"xaxis\":\"x\",\"y\":[53613.333333333336],\"yaxis\":\"y\",\"type\":\"scatter\"},{\"hovertemplate\":\"state=Oklahoma<br>average stem_percent=%{x}<br>average early_career_pay=%{y}<extra></extra>\",\"legendgroup\":\"Oklahoma\",\"marker\":{\"color\":\"#19d3f3\",\"symbol\":\"circle\"},\"mode\":\"markers\",\"name\":\"Oklahoma\",\"orientation\":\"v\",\"showlegend\":true,\"x\":[11.421052631578947],\"xaxis\":\"x\",\"y\":[45105.26315789474],\"yaxis\":\"y\",\"type\":\"scatter\"},{\"hovertemplate\":\"state=Oregon<br>average stem_percent=%{x}<br>average early_career_pay=%{y}<extra></extra>\",\"legendgroup\":\"Oregon\",\"marker\":{\"color\":\"#FF6692\",\"symbol\":\"circle\"},\"mode\":\"markers\",\"name\":\"Oregon\",\"orientation\":\"v\",\"showlegend\":true,\"x\":[12.11111111111111],\"xaxis\":\"x\",\"y\":[50694.444444444445],\"yaxis\":\"y\",\"type\":\"scatter\"},{\"hovertemplate\":\"state=Pennsylvania<br>average stem_percent=%{x}<br>average early_career_pay=%{y}<extra></extra>\",\"legendgroup\":\"Pennsylvania\",\"marker\":{\"color\":\"#B6E880\",\"symbol\":\"circle\"},\"mode\":\"markers\",\"name\":\"Pennsylvania\",\"orientation\":\"v\",\"showlegend\":true,\"x\":[28.63157894736842],\"xaxis\":\"x\",\"y\":[61436.84210526316],\"yaxis\":\"y\",\"type\":\"scatter\"},{\"hovertemplate\":\"state=Rhode Island<br>average stem_percent=%{x}<br>average early_career_pay=%{y}<extra></extra>\",\"legendgroup\":\"Rhode Island\",\"marker\":{\"color\":\"#FF97FF\",\"symbol\":\"circle\"},\"mode\":\"markers\",\"name\":\"Rhode Island\",\"orientation\":\"v\",\"showlegend\":true,\"x\":[13.0],\"xaxis\":\"x\",\"y\":[55822.22222222222],\"yaxis\":\"y\",\"type\":\"scatter\"},{\"hovertemplate\":\"state=South Carolina<br>average stem_percent=%{x}<br>average early_career_pay=%{y}<extra></extra>\",\"legendgroup\":\"South Carolina\",\"marker\":{\"color\":\"#FECB52\",\"symbol\":\"circle\"},\"mode\":\"markers\",\"name\":\"South Carolina\",\"orientation\":\"v\",\"showlegend\":true,\"x\":[14.777777777777779],\"xaxis\":\"x\",\"y\":[44716.666666666664],\"yaxis\":\"y\",\"type\":\"scatter\"},{\"hovertemplate\":\"state=South Dakota<br>average stem_percent=%{x}<br>average early_career_pay=%{y}<extra></extra>\",\"legendgroup\":\"South Dakota\",\"marker\":{\"color\":\"#636efa\",\"symbol\":\"circle\"},\"mode\":\"markers\",\"name\":\"South Dakota\",\"orientation\":\"v\",\"showlegend\":true,\"x\":[22.8],\"xaxis\":\"x\",\"y\":[47110.0],\"yaxis\":\"y\",\"type\":\"scatter\"},{\"hovertemplate\":\"state=Tennessee<br>average stem_percent=%{x}<br>average early_career_pay=%{y}<extra></extra>\",\"legendgroup\":\"Tennessee\",\"marker\":{\"color\":\"#EF553B\",\"symbol\":\"circle\"},\"mode\":\"markers\",\"name\":\"Tennessee\",\"orientation\":\"v\",\"showlegend\":true,\"x\":[12.75],\"xaxis\":\"x\",\"y\":[47370.0],\"yaxis\":\"y\",\"type\":\"scatter\"},{\"hovertemplate\":\"state=Texas<br>average stem_percent=%{x}<br>average early_career_pay=%{y}<extra></extra>\",\"legendgroup\":\"Texas\",\"marker\":{\"color\":\"#00cc96\",\"symbol\":\"circle\"},\"mode\":\"markers\",\"name\":\"Texas\",\"orientation\":\"v\",\"showlegend\":true,\"x\":[20.055555555555557],\"xaxis\":\"x\",\"y\":[56500.0],\"yaxis\":\"y\",\"type\":\"scatter\"},{\"hovertemplate\":\"state=Utah<br>average stem_percent=%{x}<br>average early_career_pay=%{y}<extra></extra>\",\"legendgroup\":\"Utah\",\"marker\":{\"color\":\"#ab63fa\",\"symbol\":\"circle\"},\"mode\":\"markers\",\"name\":\"Utah\",\"orientation\":\"v\",\"showlegend\":true,\"x\":[12.0],\"xaxis\":\"x\",\"y\":[52183.333333333336],\"yaxis\":\"y\",\"type\":\"scatter\"},{\"hovertemplate\":\"state=Vermont<br>average stem_percent=%{x}<br>average early_career_pay=%{y}<extra></extra>\",\"legendgroup\":\"Vermont\",\"marker\":{\"color\":\"#FFA15A\",\"symbol\":\"circle\"},\"mode\":\"markers\",\"name\":\"Vermont\",\"orientation\":\"v\",\"showlegend\":true,\"x\":[12.272727272727273],\"xaxis\":\"x\",\"y\":[49445.454545454544],\"yaxis\":\"y\",\"type\":\"scatter\"},{\"hovertemplate\":\"state=Virginia<br>average stem_percent=%{x}<br>average early_career_pay=%{y}<extra></extra>\",\"legendgroup\":\"Virginia\",\"marker\":{\"color\":\"#19d3f3\",\"symbol\":\"circle\"},\"mode\":\"markers\",\"name\":\"Virginia\",\"orientation\":\"v\",\"showlegend\":true,\"x\":[17.727272727272727],\"xaxis\":\"x\",\"y\":[53718.181818181816],\"yaxis\":\"y\",\"type\":\"scatter\"},{\"hovertemplate\":\"state=Washington<br>average stem_percent=%{x}<br>average early_career_pay=%{y}<extra></extra>\",\"legendgroup\":\"Washington\",\"marker\":{\"color\":\"#FF6692\",\"symbol\":\"circle\"},\"mode\":\"markers\",\"name\":\"Washington\",\"orientation\":\"v\",\"showlegend\":true,\"x\":[16.625],\"xaxis\":\"x\",\"y\":[53450.0],\"yaxis\":\"y\",\"type\":\"scatter\"},{\"hovertemplate\":\"state=West Virginia<br>average stem_percent=%{x}<br>average early_career_pay=%{y}<extra></extra>\",\"legendgroup\":\"West Virginia\",\"marker\":{\"color\":\"#B6E880\",\"symbol\":\"circle\"},\"mode\":\"markers\",\"name\":\"West Virginia\",\"orientation\":\"v\",\"showlegend\":true,\"x\":[10.4],\"xaxis\":\"x\",\"y\":[44333.333333333336],\"yaxis\":\"y\",\"type\":\"scatter\"},{\"hovertemplate\":\"state=Wisconsin<br>average stem_percent=%{x}<br>average early_career_pay=%{y}<extra></extra>\",\"legendgroup\":\"Wisconsin\",\"marker\":{\"color\":\"#FF97FF\",\"symbol\":\"circle\"},\"mode\":\"markers\",\"name\":\"Wisconsin\",\"orientation\":\"v\",\"showlegend\":true,\"x\":[18.363636363636363],\"xaxis\":\"x\",\"y\":[50681.818181818184],\"yaxis\":\"y\",\"type\":\"scatter\"},{\"hovertemplate\":\"state=Wyoming<br>average stem_percent=%{x}<br>average early_career_pay=%{y}<extra></extra>\",\"legendgroup\":\"Wyoming\",\"marker\":{\"color\":\"#FECB52\",\"symbol\":\"circle\"},\"mode\":\"markers\",\"name\":\"Wyoming\",\"orientation\":\"v\",\"showlegend\":true,\"x\":[25.0],\"xaxis\":\"x\",\"y\":[52400.0],\"yaxis\":\"y\",\"type\":\"scatter\"},{\"hovertemplate\":\"<b>OLS trendline</b><br>average early_career_pay = 478.507 * average stem_percent + 43091.8<br>R<sup>2</sup>=0.347354<br><br>average stem_percent=%{x}<br>average early_career_pay=%{y} <b>(trend)</b><extra></extra>\",\"legendgroup\":\"Overall Trendline\",\"line\":{\"color\":\"#636efa\"},\"mode\":\"lines\",\"name\":\"Overall Trendline\",\"showlegend\":true,\"x\":[2.0,8.285714285714286,8.727272727272727,9.764705882352942,10.4,10.708333333333334,11.15,11.421052631578947,11.666666666666666,12.0,12.0,12.11111111111111,12.272727272727273,12.333333333333334,12.4,12.6,12.75,13.0,13.375,14.047619047619047,14.071428571428571,14.266666666666667,14.38888888888889,14.636363636363637,14.642857142857142,14.777777777777779,15.705882352941176,15.88888888888889,16.181818181818183,16.333333333333332,16.625,16.666666666666668,17.294117647058822,17.727272727272727,18.363636363636363,20.055555555555557,20.263157894736842,20.63157894736842,20.692307692307693,21.533333333333335,21.772727272727273,22.8,22.944444444444443,25.0,28.38095238095238,28.5625,28.63157894736842,30.615384615384617,32.25,33.0],\"y\":[44048.785584220146,47056.541490488235,47267.83012853186,47764.24876255132,48068.24120441477,48215.780746029064,48427.12117050358,48556.82164947603,48674.34959158698,48833.85179873756,48833.85179873756,48887.01920112108,48964.35360458803,48993.35400588814,49025.25444731826,49120.955771608606,49192.73176482636,49312.358420189295,49491.798403233704,49813.65107123398,49825.04408603045,49918.4668073615,49976.95094998338,50095.36925529215,50098.47644114573,50163.03685832573,50607.14104294107,50694.710882160995,50834.87948844484,50907.380491695105,51046.94492295186,51066.882698845686,51367.122147599715,51574.38972159753,51878.893935248634,52688.48847154325,52787.82756547036,52964.1194786368,52993.178585202695,53395.61492324415,53510.166508379574,54001.72331041636,54070.84093351495,55054.43787761019,56672.24597870893,56759.11771653202,56792.17245025072,57741.436598069966,58523.61088313531,58882.490849224116],\"type\":\"scatter\",\"xaxis\":\"x\",\"yaxis\":\"y\"}],                        {\"template\":{\"data\":{\"bar\":[{\"error_x\":{\"color\":\"#2a3f5f\"},\"error_y\":{\"color\":\"#2a3f5f\"},\"marker\":{\"line\":{\"color\":\"#E5ECF6\",\"width\":0.5},\"pattern\":{\"fillmode\":\"overlay\",\"size\":10,\"solidity\":0.2}},\"type\":\"bar\"}],\"barpolar\":[{\"marker\":{\"line\":{\"color\":\"#E5ECF6\",\"width\":0.5},\"pattern\":{\"fillmode\":\"overlay\",\"size\":10,\"solidity\":0.2}},\"type\":\"barpolar\"}],\"carpet\":[{\"aaxis\":{\"endlinecolor\":\"#2a3f5f\",\"gridcolor\":\"white\",\"linecolor\":\"white\",\"minorgridcolor\":\"white\",\"startlinecolor\":\"#2a3f5f\"},\"baxis\":{\"endlinecolor\":\"#2a3f5f\",\"gridcolor\":\"white\",\"linecolor\":\"white\",\"minorgridcolor\":\"white\",\"startlinecolor\":\"#2a3f5f\"},\"type\":\"carpet\"}],\"choropleth\":[{\"colorbar\":{\"outlinewidth\":0,\"ticks\":\"\"},\"type\":\"choropleth\"}],\"contour\":[{\"colorbar\":{\"outlinewidth\":0,\"ticks\":\"\"},\"colorscale\":[[0.0,\"#0d0887\"],[0.1111111111111111,\"#46039f\"],[0.2222222222222222,\"#7201a8\"],[0.3333333333333333,\"#9c179e\"],[0.4444444444444444,\"#bd3786\"],[0.5555555555555556,\"#d8576b\"],[0.6666666666666666,\"#ed7953\"],[0.7777777777777778,\"#fb9f3a\"],[0.8888888888888888,\"#fdca26\"],[1.0,\"#f0f921\"]],\"type\":\"contour\"}],\"contourcarpet\":[{\"colorbar\":{\"outlinewidth\":0,\"ticks\":\"\"},\"type\":\"contourcarpet\"}],\"heatmap\":[{\"colorbar\":{\"outlinewidth\":0,\"ticks\":\"\"},\"colorscale\":[[0.0,\"#0d0887\"],[0.1111111111111111,\"#46039f\"],[0.2222222222222222,\"#7201a8\"],[0.3333333333333333,\"#9c179e\"],[0.4444444444444444,\"#bd3786\"],[0.5555555555555556,\"#d8576b\"],[0.6666666666666666,\"#ed7953\"],[0.7777777777777778,\"#fb9f3a\"],[0.8888888888888888,\"#fdca26\"],[1.0,\"#f0f921\"]],\"type\":\"heatmap\"}],\"heatmapgl\":[{\"colorbar\":{\"outlinewidth\":0,\"ticks\":\"\"},\"colorscale\":[[0.0,\"#0d0887\"],[0.1111111111111111,\"#46039f\"],[0.2222222222222222,\"#7201a8\"],[0.3333333333333333,\"#9c179e\"],[0.4444444444444444,\"#bd3786\"],[0.5555555555555556,\"#d8576b\"],[0.6666666666666666,\"#ed7953\"],[0.7777777777777778,\"#fb9f3a\"],[0.8888888888888888,\"#fdca26\"],[1.0,\"#f0f921\"]],\"type\":\"heatmapgl\"}],\"histogram\":[{\"marker\":{\"pattern\":{\"fillmode\":\"overlay\",\"size\":10,\"solidity\":0.2}},\"type\":\"histogram\"}],\"histogram2d\":[{\"colorbar\":{\"outlinewidth\":0,\"ticks\":\"\"},\"colorscale\":[[0.0,\"#0d0887\"],[0.1111111111111111,\"#46039f\"],[0.2222222222222222,\"#7201a8\"],[0.3333333333333333,\"#9c179e\"],[0.4444444444444444,\"#bd3786\"],[0.5555555555555556,\"#d8576b\"],[0.6666666666666666,\"#ed7953\"],[0.7777777777777778,\"#fb9f3a\"],[0.8888888888888888,\"#fdca26\"],[1.0,\"#f0f921\"]],\"type\":\"histogram2d\"}],\"histogram2dcontour\":[{\"colorbar\":{\"outlinewidth\":0,\"ticks\":\"\"},\"colorscale\":[[0.0,\"#0d0887\"],[0.1111111111111111,\"#46039f\"],[0.2222222222222222,\"#7201a8\"],[0.3333333333333333,\"#9c179e\"],[0.4444444444444444,\"#bd3786\"],[0.5555555555555556,\"#d8576b\"],[0.6666666666666666,\"#ed7953\"],[0.7777777777777778,\"#fb9f3a\"],[0.8888888888888888,\"#fdca26\"],[1.0,\"#f0f921\"]],\"type\":\"histogram2dcontour\"}],\"mesh3d\":[{\"colorbar\":{\"outlinewidth\":0,\"ticks\":\"\"},\"type\":\"mesh3d\"}],\"parcoords\":[{\"line\":{\"colorbar\":{\"outlinewidth\":0,\"ticks\":\"\"}},\"type\":\"parcoords\"}],\"pie\":[{\"automargin\":true,\"type\":\"pie\"}],\"scatter\":[{\"marker\":{\"colorbar\":{\"outlinewidth\":0,\"ticks\":\"\"}},\"type\":\"scatter\"}],\"scatter3d\":[{\"line\":{\"colorbar\":{\"outlinewidth\":0,\"ticks\":\"\"}},\"marker\":{\"colorbar\":{\"outlinewidth\":0,\"ticks\":\"\"}},\"type\":\"scatter3d\"}],\"scattercarpet\":[{\"marker\":{\"colorbar\":{\"outlinewidth\":0,\"ticks\":\"\"}},\"type\":\"scattercarpet\"}],\"scattergeo\":[{\"marker\":{\"colorbar\":{\"outlinewidth\":0,\"ticks\":\"\"}},\"type\":\"scattergeo\"}],\"scattergl\":[{\"marker\":{\"colorbar\":{\"outlinewidth\":0,\"ticks\":\"\"}},\"type\":\"scattergl\"}],\"scattermapbox\":[{\"marker\":{\"colorbar\":{\"outlinewidth\":0,\"ticks\":\"\"}},\"type\":\"scattermapbox\"}],\"scatterpolar\":[{\"marker\":{\"colorbar\":{\"outlinewidth\":0,\"ticks\":\"\"}},\"type\":\"scatterpolar\"}],\"scatterpolargl\":[{\"marker\":{\"colorbar\":{\"outlinewidth\":0,\"ticks\":\"\"}},\"type\":\"scatterpolargl\"}],\"scatterternary\":[{\"marker\":{\"colorbar\":{\"outlinewidth\":0,\"ticks\":\"\"}},\"type\":\"scatterternary\"}],\"surface\":[{\"colorbar\":{\"outlinewidth\":0,\"ticks\":\"\"},\"colorscale\":[[0.0,\"#0d0887\"],[0.1111111111111111,\"#46039f\"],[0.2222222222222222,\"#7201a8\"],[0.3333333333333333,\"#9c179e\"],[0.4444444444444444,\"#bd3786\"],[0.5555555555555556,\"#d8576b\"],[0.6666666666666666,\"#ed7953\"],[0.7777777777777778,\"#fb9f3a\"],[0.8888888888888888,\"#fdca26\"],[1.0,\"#f0f921\"]],\"type\":\"surface\"}],\"table\":[{\"cells\":{\"fill\":{\"color\":\"#EBF0F8\"},\"line\":{\"color\":\"white\"}},\"header\":{\"fill\":{\"color\":\"#C8D4E3\"},\"line\":{\"color\":\"white\"}},\"type\":\"table\"}]},\"layout\":{\"annotationdefaults\":{\"arrowcolor\":\"#2a3f5f\",\"arrowhead\":0,\"arrowwidth\":1},\"autotypenumbers\":\"strict\",\"coloraxis\":{\"colorbar\":{\"outlinewidth\":0,\"ticks\":\"\"}},\"colorscale\":{\"diverging\":[[0,\"#8e0152\"],[0.1,\"#c51b7d\"],[0.2,\"#de77ae\"],[0.3,\"#f1b6da\"],[0.4,\"#fde0ef\"],[0.5,\"#f7f7f7\"],[0.6,\"#e6f5d0\"],[0.7,\"#b8e186\"],[0.8,\"#7fbc41\"],[0.9,\"#4d9221\"],[1,\"#276419\"]],\"sequential\":[[0.0,\"#0d0887\"],[0.1111111111111111,\"#46039f\"],[0.2222222222222222,\"#7201a8\"],[0.3333333333333333,\"#9c179e\"],[0.4444444444444444,\"#bd3786\"],[0.5555555555555556,\"#d8576b\"],[0.6666666666666666,\"#ed7953\"],[0.7777777777777778,\"#fb9f3a\"],[0.8888888888888888,\"#fdca26\"],[1.0,\"#f0f921\"]],\"sequentialminus\":[[0.0,\"#0d0887\"],[0.1111111111111111,\"#46039f\"],[0.2222222222222222,\"#7201a8\"],[0.3333333333333333,\"#9c179e\"],[0.4444444444444444,\"#bd3786\"],[0.5555555555555556,\"#d8576b\"],[0.6666666666666666,\"#ed7953\"],[0.7777777777777778,\"#fb9f3a\"],[0.8888888888888888,\"#fdca26\"],[1.0,\"#f0f921\"]]},\"colorway\":[\"#636efa\",\"#EF553B\",\"#00cc96\",\"#ab63fa\",\"#FFA15A\",\"#19d3f3\",\"#FF6692\",\"#B6E880\",\"#FF97FF\",\"#FECB52\"],\"font\":{\"color\":\"#2a3f5f\"},\"geo\":{\"bgcolor\":\"white\",\"lakecolor\":\"white\",\"landcolor\":\"#E5ECF6\",\"showlakes\":true,\"showland\":true,\"subunitcolor\":\"white\"},\"hoverlabel\":{\"align\":\"left\"},\"hovermode\":\"closest\",\"mapbox\":{\"style\":\"light\"},\"paper_bgcolor\":\"white\",\"plot_bgcolor\":\"#E5ECF6\",\"polar\":{\"angularaxis\":{\"gridcolor\":\"white\",\"linecolor\":\"white\",\"ticks\":\"\"},\"bgcolor\":\"#E5ECF6\",\"radialaxis\":{\"gridcolor\":\"white\",\"linecolor\":\"white\",\"ticks\":\"\"}},\"scene\":{\"xaxis\":{\"backgroundcolor\":\"#E5ECF6\",\"gridcolor\":\"white\",\"gridwidth\":2,\"linecolor\":\"white\",\"showbackground\":true,\"ticks\":\"\",\"zerolinecolor\":\"white\"},\"yaxis\":{\"backgroundcolor\":\"#E5ECF6\",\"gridcolor\":\"white\",\"gridwidth\":2,\"linecolor\":\"white\",\"showbackground\":true,\"ticks\":\"\",\"zerolinecolor\":\"white\"},\"zaxis\":{\"backgroundcolor\":\"#E5ECF6\",\"gridcolor\":\"white\",\"gridwidth\":2,\"linecolor\":\"white\",\"showbackground\":true,\"ticks\":\"\",\"zerolinecolor\":\"white\"}},\"shapedefaults\":{\"line\":{\"color\":\"#2a3f5f\"}},\"ternary\":{\"aaxis\":{\"gridcolor\":\"white\",\"linecolor\":\"white\",\"ticks\":\"\"},\"baxis\":{\"gridcolor\":\"white\",\"linecolor\":\"white\",\"ticks\":\"\"},\"bgcolor\":\"#E5ECF6\",\"caxis\":{\"gridcolor\":\"white\",\"linecolor\":\"white\",\"ticks\":\"\"}},\"title\":{\"x\":0.05},\"xaxis\":{\"automargin\":true,\"gridcolor\":\"white\",\"linecolor\":\"white\",\"ticks\":\"\",\"title\":{\"standoff\":15},\"zerolinecolor\":\"white\",\"zerolinewidth\":2},\"yaxis\":{\"automargin\":true,\"gridcolor\":\"white\",\"linecolor\":\"white\",\"ticks\":\"\",\"title\":{\"standoff\":15},\"zerolinecolor\":\"white\",\"zerolinewidth\":2}}},\"xaxis\":{\"anchor\":\"y\",\"domain\":[0.0,1.0],\"title\":{\"text\":\"average stem_percent\"}},\"yaxis\":{\"anchor\":\"x\",\"domain\":[0.0,1.0],\"title\":{\"text\":\"average early_career_pay\"}},\"legend\":{\"title\":{\"text\":\"state\"},\"tracegroupgap\":0},\"title\":{\"text\":\"Average In State Tuition vs Average % of Students Graduating with STEM Degrees\"}},                        {\"responsive\": true}                    ).then(function(){\n",
       "                            \n",
       "var gd = document.getElementById('cf250939-581c-4579-bc9e-bbd126521b1c');\n",
       "var x = new MutationObserver(function (mutations, observer) {{\n",
       "        var display = window.getComputedStyle(gd).display;\n",
       "        if (!display || display === 'none') {{\n",
       "            console.log([gd, 'removed!']);\n",
       "            Plotly.purge(gd);\n",
       "            observer.disconnect();\n",
       "        }}\n",
       "}});\n",
       "\n",
       "// Listen for the removal of the full notebook cells\n",
       "var notebookContainer = gd.closest('#notebook-container');\n",
       "if (notebookContainer) {{\n",
       "    x.observe(notebookContainer, {childList: true});\n",
       "}}\n",
       "\n",
       "// Listen for the clearing of the current output cell\n",
       "var outputEl = gd.closest('.output');\n",
       "if (outputEl) {{\n",
       "    x.observe(outputEl, {childList: true});\n",
       "}}\n",
       "\n",
       "                        })                };                });            </script>        </div>"
      ]
     },
     "execution_count": 32,
     "metadata": {
     },
     "output_type": "execute_result"
    }
   ],
   "source": [
    "fig = px.scatter(state_stats_extras, x='average stem_percent', y='average early_career_pay',color='state',\n",
    "                 trendline=\"ols\", trendline_scope = 'overall',\n",
    "                 title= 'Average In State Tuition vs Average % of Students Graduating with STEM Degrees')\n",
    "\n",
    "fig.show()"
   ]
  },
  {
   "cell_type": "code",
   "execution_count": 33,
   "metadata": {
    "collapsed": false
   },
   "outputs": [
    {
     "data": {
      "application/vnd.plotly.v1+json": {
       "config": {
        "plotlyServerURL": "https://plot.ly"
       },
       "data": [
        {
         "coloraxis": "coloraxis",
         "geo": "geo",
         "hovertemplate": "state_code=%{location}<br>four year average in state tuition=%{z}<extra></extra>",
         "locationmode": "USA-states",
         "locations": [
          "AL",
          "AK",
          "AZ",
          "AR",
          "CA",
          "CO",
          "CT",
          "DE",
          "FL",
          "GA",
          "HI",
          "ID",
          "IL",
          "IN",
          "IA",
          "KS",
          "KY",
          "LA",
          "ME",
          "MD",
          "MA",
          "MI",
          "MN",
          "MS",
          "MO",
          "MT",
          "NE",
          "NV",
          "NH",
          "NJ",
          "NM",
          "NY",
          "NC",
          "ND",
          "OH",
          "OK",
          "OR",
          "PA",
          "RI",
          "SC",
          "SD",
          "TN",
          "TX",
          "UT",
          "VT",
          "VA",
          "WA",
          "WV",
          "WI",
          "WY"
         ],
         "name": "",
         "type": "choropleth",
         "z": [
          64536.95238095238,
          48806.666666666664,
          74048,
          68785.42857142857,
          190626.15384615384,
          83676.61538461539,
          135868.44444444444,
          66771.2,
          96486.22222222222,
          84775.63636363637,
          61283.2,
          42009.333333333336,
          136982.31578947368,
          143818.44444444444,
          127574.47619047618,
          84346.35294117648,
          92465.5,
          61872,
          98022,
          126087.5294117647,
          188594.85714285713,
          99996.54545454546,
          133345.33333333334,
          51116,
          86910.35294117648,
          78830,
          78756.72727272728,
          136964,
          120004.36363636363,
          104793.26315789473,
          27658.666666666668,
          178446,
          110695.2,
          44292.57142857143,
          147707.46666666667,
          62780.42105263158,
          107244.44444444444,
          191462.52631578947,
          146248,
          87783.33333333333,
          63994,
          98784.8,
          106221.55555555556,
          27761.333333333332,
          129271.27272727272,
          100446.36363636363,
          123986,
          53202.666666666664,
          95868.54545454546,
          21600
         ]
        }
       ],
       "layout": {
        "coloraxis": {
         "colorbar": {
          "title": {
           "text": "four year average in state tuition"
          }
         },
         "colorscale": [
          [
           0,
           "#0d0887"
          ],
          [
           0.1111111111111111,
           "#46039f"
          ],
          [
           0.2222222222222222,
           "#7201a8"
          ],
          [
           0.3333333333333333,
           "#9c179e"
          ],
          [
           0.4444444444444444,
           "#bd3786"
          ],
          [
           0.5555555555555556,
           "#d8576b"
          ],
          [
           0.6666666666666666,
           "#ed7953"
          ],
          [
           0.7777777777777778,
           "#fb9f3a"
          ],
          [
           0.8888888888888888,
           "#fdca26"
          ],
          [
           1,
           "#f0f921"
          ]
         ]
        },
        "geo": {
         "center": {
         },
         "domain": {
          "x": [
           0,
           1
          ],
          "y": [
           0,
           1
          ]
         },
         "scope": "usa"
        },
        "legend": {
         "tracegroupgap": 0
        },
        "margin": {
         "t": 60
        },
        "template": {
         "data": {
          "bar": [
           {
            "error_x": {
             "color": "#2a3f5f"
            },
            "error_y": {
             "color": "#2a3f5f"
            },
            "marker": {
             "line": {
              "color": "#E5ECF6",
              "width": 0.5
             },
             "pattern": {
              "fillmode": "overlay",
              "size": 10,
              "solidity": 0.2
             }
            },
            "type": "bar"
           }
          ],
          "barpolar": [
           {
            "marker": {
             "line": {
              "color": "#E5ECF6",
              "width": 0.5
             },
             "pattern": {
              "fillmode": "overlay",
              "size": 10,
              "solidity": 0.2
             }
            },
            "type": "barpolar"
           }
          ],
          "carpet": [
           {
            "aaxis": {
             "endlinecolor": "#2a3f5f",
             "gridcolor": "white",
             "linecolor": "white",
             "minorgridcolor": "white",
             "startlinecolor": "#2a3f5f"
            },
            "baxis": {
             "endlinecolor": "#2a3f5f",
             "gridcolor": "white",
             "linecolor": "white",
             "minorgridcolor": "white",
             "startlinecolor": "#2a3f5f"
            },
            "type": "carpet"
           }
          ],
          "choropleth": [
           {
            "colorbar": {
             "outlinewidth": 0,
             "ticks": ""
            },
            "type": "choropleth"
           }
          ],
          "contour": [
           {
            "colorbar": {
             "outlinewidth": 0,
             "ticks": ""
            },
            "colorscale": [
             [
              0,
              "#0d0887"
             ],
             [
              0.1111111111111111,
              "#46039f"
             ],
             [
              0.2222222222222222,
              "#7201a8"
             ],
             [
              0.3333333333333333,
              "#9c179e"
             ],
             [
              0.4444444444444444,
              "#bd3786"
             ],
             [
              0.5555555555555556,
              "#d8576b"
             ],
             [
              0.6666666666666666,
              "#ed7953"
             ],
             [
              0.7777777777777778,
              "#fb9f3a"
             ],
             [
              0.8888888888888888,
              "#fdca26"
             ],
             [
              1,
              "#f0f921"
             ]
            ],
            "type": "contour"
           }
          ],
          "contourcarpet": [
           {
            "colorbar": {
             "outlinewidth": 0,
             "ticks": ""
            },
            "type": "contourcarpet"
           }
          ],
          "heatmap": [
           {
            "colorbar": {
             "outlinewidth": 0,
             "ticks": ""
            },
            "colorscale": [
             [
              0,
              "#0d0887"
             ],
             [
              0.1111111111111111,
              "#46039f"
             ],
             [
              0.2222222222222222,
              "#7201a8"
             ],
             [
              0.3333333333333333,
              "#9c179e"
             ],
             [
              0.4444444444444444,
              "#bd3786"
             ],
             [
              0.5555555555555556,
              "#d8576b"
             ],
             [
              0.6666666666666666,
              "#ed7953"
             ],
             [
              0.7777777777777778,
              "#fb9f3a"
             ],
             [
              0.8888888888888888,
              "#fdca26"
             ],
             [
              1,
              "#f0f921"
             ]
            ],
            "type": "heatmap"
           }
          ],
          "heatmapgl": [
           {
            "colorbar": {
             "outlinewidth": 0,
             "ticks": ""
            },
            "colorscale": [
             [
              0,
              "#0d0887"
             ],
             [
              0.1111111111111111,
              "#46039f"
             ],
             [
              0.2222222222222222,
              "#7201a8"
             ],
             [
              0.3333333333333333,
              "#9c179e"
             ],
             [
              0.4444444444444444,
              "#bd3786"
             ],
             [
              0.5555555555555556,
              "#d8576b"
             ],
             [
              0.6666666666666666,
              "#ed7953"
             ],
             [
              0.7777777777777778,
              "#fb9f3a"
             ],
             [
              0.8888888888888888,
              "#fdca26"
             ],
             [
              1,
              "#f0f921"
             ]
            ],
            "type": "heatmapgl"
           }
          ],
          "histogram": [
           {
            "marker": {
             "pattern": {
              "fillmode": "overlay",
              "size": 10,
              "solidity": 0.2
             }
            },
            "type": "histogram"
           }
          ],
          "histogram2d": [
           {
            "colorbar": {
             "outlinewidth": 0,
             "ticks": ""
            },
            "colorscale": [
             [
              0,
              "#0d0887"
             ],
             [
              0.1111111111111111,
              "#46039f"
             ],
             [
              0.2222222222222222,
              "#7201a8"
             ],
             [
              0.3333333333333333,
              "#9c179e"
             ],
             [
              0.4444444444444444,
              "#bd3786"
             ],
             [
              0.5555555555555556,
              "#d8576b"
             ],
             [
              0.6666666666666666,
              "#ed7953"
             ],
             [
              0.7777777777777778,
              "#fb9f3a"
             ],
             [
              0.8888888888888888,
              "#fdca26"
             ],
             [
              1,
              "#f0f921"
             ]
            ],
            "type": "histogram2d"
           }
          ],
          "histogram2dcontour": [
           {
            "colorbar": {
             "outlinewidth": 0,
             "ticks": ""
            },
            "colorscale": [
             [
              0,
              "#0d0887"
             ],
             [
              0.1111111111111111,
              "#46039f"
             ],
             [
              0.2222222222222222,
              "#7201a8"
             ],
             [
              0.3333333333333333,
              "#9c179e"
             ],
             [
              0.4444444444444444,
              "#bd3786"
             ],
             [
              0.5555555555555556,
              "#d8576b"
             ],
             [
              0.6666666666666666,
              "#ed7953"
             ],
             [
              0.7777777777777778,
              "#fb9f3a"
             ],
             [
              0.8888888888888888,
              "#fdca26"
             ],
             [
              1,
              "#f0f921"
             ]
            ],
            "type": "histogram2dcontour"
           }
          ],
          "mesh3d": [
           {
            "colorbar": {
             "outlinewidth": 0,
             "ticks": ""
            },
            "type": "mesh3d"
           }
          ],
          "parcoords": [
           {
            "line": {
             "colorbar": {
              "outlinewidth": 0,
              "ticks": ""
             }
            },
            "type": "parcoords"
           }
          ],
          "pie": [
           {
            "automargin": true,
            "type": "pie"
           }
          ],
          "scatter": [
           {
            "marker": {
             "colorbar": {
              "outlinewidth": 0,
              "ticks": ""
             }
            },
            "type": "scatter"
           }
          ],
          "scatter3d": [
           {
            "line": {
             "colorbar": {
              "outlinewidth": 0,
              "ticks": ""
             }
            },
            "marker": {
             "colorbar": {
              "outlinewidth": 0,
              "ticks": ""
             }
            },
            "type": "scatter3d"
           }
          ],
          "scattercarpet": [
           {
            "marker": {
             "colorbar": {
              "outlinewidth": 0,
              "ticks": ""
             }
            },
            "type": "scattercarpet"
           }
          ],
          "scattergeo": [
           {
            "marker": {
             "colorbar": {
              "outlinewidth": 0,
              "ticks": ""
             }
            },
            "type": "scattergeo"
           }
          ],
          "scattergl": [
           {
            "marker": {
             "colorbar": {
              "outlinewidth": 0,
              "ticks": ""
             }
            },
            "type": "scattergl"
           }
          ],
          "scattermapbox": [
           {
            "marker": {
             "colorbar": {
              "outlinewidth": 0,
              "ticks": ""
             }
            },
            "type": "scattermapbox"
           }
          ],
          "scatterpolar": [
           {
            "marker": {
             "colorbar": {
              "outlinewidth": 0,
              "ticks": ""
             }
            },
            "type": "scatterpolar"
           }
          ],
          "scatterpolargl": [
           {
            "marker": {
             "colorbar": {
              "outlinewidth": 0,
              "ticks": ""
             }
            },
            "type": "scatterpolargl"
           }
          ],
          "scatterternary": [
           {
            "marker": {
             "colorbar": {
              "outlinewidth": 0,
              "ticks": ""
             }
            },
            "type": "scatterternary"
           }
          ],
          "surface": [
           {
            "colorbar": {
             "outlinewidth": 0,
             "ticks": ""
            },
            "colorscale": [
             [
              0,
              "#0d0887"
             ],
             [
              0.1111111111111111,
              "#46039f"
             ],
             [
              0.2222222222222222,
              "#7201a8"
             ],
             [
              0.3333333333333333,
              "#9c179e"
             ],
             [
              0.4444444444444444,
              "#bd3786"
             ],
             [
              0.5555555555555556,
              "#d8576b"
             ],
             [
              0.6666666666666666,
              "#ed7953"
             ],
             [
              0.7777777777777778,
              "#fb9f3a"
             ],
             [
              0.8888888888888888,
              "#fdca26"
             ],
             [
              1,
              "#f0f921"
             ]
            ],
            "type": "surface"
           }
          ],
          "table": [
           {
            "cells": {
             "fill": {
              "color": "#EBF0F8"
             },
             "line": {
              "color": "white"
             }
            },
            "header": {
             "fill": {
              "color": "#C8D4E3"
             },
             "line": {
              "color": "white"
             }
            },
            "type": "table"
           }
          ]
         },
         "layout": {
          "annotationdefaults": {
           "arrowcolor": "#2a3f5f",
           "arrowhead": 0,
           "arrowwidth": 1
          },
          "autotypenumbers": "strict",
          "coloraxis": {
           "colorbar": {
            "outlinewidth": 0,
            "ticks": ""
           }
          },
          "colorscale": {
           "diverging": [
            [
             0,
             "#8e0152"
            ],
            [
             0.1,
             "#c51b7d"
            ],
            [
             0.2,
             "#de77ae"
            ],
            [
             0.3,
             "#f1b6da"
            ],
            [
             0.4,
             "#fde0ef"
            ],
            [
             0.5,
             "#f7f7f7"
            ],
            [
             0.6,
             "#e6f5d0"
            ],
            [
             0.7,
             "#b8e186"
            ],
            [
             0.8,
             "#7fbc41"
            ],
            [
             0.9,
             "#4d9221"
            ],
            [
             1,
             "#276419"
            ]
           ],
           "sequential": [
            [
             0,
             "#0d0887"
            ],
            [
             0.1111111111111111,
             "#46039f"
            ],
            [
             0.2222222222222222,
             "#7201a8"
            ],
            [
             0.3333333333333333,
             "#9c179e"
            ],
            [
             0.4444444444444444,
             "#bd3786"
            ],
            [
             0.5555555555555556,
             "#d8576b"
            ],
            [
             0.6666666666666666,
             "#ed7953"
            ],
            [
             0.7777777777777778,
             "#fb9f3a"
            ],
            [
             0.8888888888888888,
             "#fdca26"
            ],
            [
             1,
             "#f0f921"
            ]
           ],
           "sequentialminus": [
            [
             0,
             "#0d0887"
            ],
            [
             0.1111111111111111,
             "#46039f"
            ],
            [
             0.2222222222222222,
             "#7201a8"
            ],
            [
             0.3333333333333333,
             "#9c179e"
            ],
            [
             0.4444444444444444,
             "#bd3786"
            ],
            [
             0.5555555555555556,
             "#d8576b"
            ],
            [
             0.6666666666666666,
             "#ed7953"
            ],
            [
             0.7777777777777778,
             "#fb9f3a"
            ],
            [
             0.8888888888888888,
             "#fdca26"
            ],
            [
             1,
             "#f0f921"
            ]
           ]
          },
          "colorway": [
           "#636efa",
           "#EF553B",
           "#00cc96",
           "#ab63fa",
           "#FFA15A",
           "#19d3f3",
           "#FF6692",
           "#B6E880",
           "#FF97FF",
           "#FECB52"
          ],
          "font": {
           "color": "#2a3f5f"
          },
          "geo": {
           "bgcolor": "white",
           "lakecolor": "white",
           "landcolor": "#E5ECF6",
           "showlakes": true,
           "showland": true,
           "subunitcolor": "white"
          },
          "hoverlabel": {
           "align": "left"
          },
          "hovermode": "closest",
          "mapbox": {
           "style": "light"
          },
          "paper_bgcolor": "white",
          "plot_bgcolor": "#E5ECF6",
          "polar": {
           "angularaxis": {
            "gridcolor": "white",
            "linecolor": "white",
            "ticks": ""
           },
           "bgcolor": "#E5ECF6",
           "radialaxis": {
            "gridcolor": "white",
            "linecolor": "white",
            "ticks": ""
           }
          },
          "scene": {
           "xaxis": {
            "backgroundcolor": "#E5ECF6",
            "gridcolor": "white",
            "gridwidth": 2,
            "linecolor": "white",
            "showbackground": true,
            "ticks": "",
            "zerolinecolor": "white"
           },
           "yaxis": {
            "backgroundcolor": "#E5ECF6",
            "gridcolor": "white",
            "gridwidth": 2,
            "linecolor": "white",
            "showbackground": true,
            "ticks": "",
            "zerolinecolor": "white"
           },
           "zaxis": {
            "backgroundcolor": "#E5ECF6",
            "gridcolor": "white",
            "gridwidth": 2,
            "linecolor": "white",
            "showbackground": true,
            "ticks": "",
            "zerolinecolor": "white"
           }
          },
          "shapedefaults": {
           "line": {
            "color": "#2a3f5f"
           }
          },
          "ternary": {
           "aaxis": {
            "gridcolor": "white",
            "linecolor": "white",
            "ticks": ""
           },
           "baxis": {
            "gridcolor": "white",
            "linecolor": "white",
            "ticks": ""
           },
           "bgcolor": "#E5ECF6",
           "caxis": {
            "gridcolor": "white",
            "linecolor": "white",
            "ticks": ""
           }
          },
          "title": {
           "x": 0.05
          },
          "xaxis": {
           "automargin": true,
           "gridcolor": "white",
           "linecolor": "white",
           "ticks": "",
           "title": {
            "standoff": 15
           },
           "zerolinecolor": "white",
           "zerolinewidth": 2
          },
          "yaxis": {
           "automargin": true,
           "gridcolor": "white",
           "linecolor": "white",
           "ticks": "",
           "title": {
            "standoff": 15
           },
           "zerolinecolor": "white",
           "zerolinewidth": 2
          }
         }
        }
       }
      },
      "text/html": [
       "<div>                            <div id=\"002a9196-2732-4069-891f-895fd04f939e\" class=\"plotly-graph-div\" style=\"height:525px; width:100%;\"></div>            <script type=\"text/javascript\">                require([\"plotly\"], function(Plotly) {                    window.PLOTLYENV=window.PLOTLYENV || {};                                    if (document.getElementById(\"002a9196-2732-4069-891f-895fd04f939e\")) {                    Plotly.newPlot(                        \"002a9196-2732-4069-891f-895fd04f939e\",                        [{\"coloraxis\":\"coloraxis\",\"geo\":\"geo\",\"hovertemplate\":\"state_code=%{location}<br>four year average in state tuition=%{z}<extra></extra>\",\"locationmode\":\"USA-states\",\"locations\":[\"AL\",\"AK\",\"AZ\",\"AR\",\"CA\",\"CO\",\"CT\",\"DE\",\"FL\",\"GA\",\"HI\",\"ID\",\"IL\",\"IN\",\"IA\",\"KS\",\"KY\",\"LA\",\"ME\",\"MD\",\"MA\",\"MI\",\"MN\",\"MS\",\"MO\",\"MT\",\"NE\",\"NV\",\"NH\",\"NJ\",\"NM\",\"NY\",\"NC\",\"ND\",\"OH\",\"OK\",\"OR\",\"PA\",\"RI\",\"SC\",\"SD\",\"TN\",\"TX\",\"UT\",\"VT\",\"VA\",\"WA\",\"WV\",\"WI\",\"WY\"],\"name\":\"\",\"z\":[64536.95238095238,48806.666666666664,74048.0,68785.42857142857,190626.15384615384,83676.61538461539,135868.44444444444,66771.2,96486.22222222222,84775.63636363637,61283.2,42009.333333333336,136982.31578947368,143818.44444444444,127574.47619047618,84346.35294117648,92465.5,61872.0,98022.0,126087.5294117647,188594.85714285713,99996.54545454546,133345.33333333334,51116.0,86910.35294117648,78830.0,78756.72727272728,136964.0,120004.36363636363,104793.26315789473,27658.666666666668,178446.0,110695.2,44292.57142857143,147707.46666666667,62780.42105263158,107244.44444444444,191462.52631578947,146248.0,87783.33333333333,63994.0,98784.8,106221.55555555556,27761.333333333332,129271.27272727272,100446.36363636363,123986.0,53202.666666666664,95868.54545454546,21600.0],\"type\":\"choropleth\"}],                        {\"template\":{\"data\":{\"bar\":[{\"error_x\":{\"color\":\"#2a3f5f\"},\"error_y\":{\"color\":\"#2a3f5f\"},\"marker\":{\"line\":{\"color\":\"#E5ECF6\",\"width\":0.5},\"pattern\":{\"fillmode\":\"overlay\",\"size\":10,\"solidity\":0.2}},\"type\":\"bar\"}],\"barpolar\":[{\"marker\":{\"line\":{\"color\":\"#E5ECF6\",\"width\":0.5},\"pattern\":{\"fillmode\":\"overlay\",\"size\":10,\"solidity\":0.2}},\"type\":\"barpolar\"}],\"carpet\":[{\"aaxis\":{\"endlinecolor\":\"#2a3f5f\",\"gridcolor\":\"white\",\"linecolor\":\"white\",\"minorgridcolor\":\"white\",\"startlinecolor\":\"#2a3f5f\"},\"baxis\":{\"endlinecolor\":\"#2a3f5f\",\"gridcolor\":\"white\",\"linecolor\":\"white\",\"minorgridcolor\":\"white\",\"startlinecolor\":\"#2a3f5f\"},\"type\":\"carpet\"}],\"choropleth\":[{\"colorbar\":{\"outlinewidth\":0,\"ticks\":\"\"},\"type\":\"choropleth\"}],\"contour\":[{\"colorbar\":{\"outlinewidth\":0,\"ticks\":\"\"},\"colorscale\":[[0.0,\"#0d0887\"],[0.1111111111111111,\"#46039f\"],[0.2222222222222222,\"#7201a8\"],[0.3333333333333333,\"#9c179e\"],[0.4444444444444444,\"#bd3786\"],[0.5555555555555556,\"#d8576b\"],[0.6666666666666666,\"#ed7953\"],[0.7777777777777778,\"#fb9f3a\"],[0.8888888888888888,\"#fdca26\"],[1.0,\"#f0f921\"]],\"type\":\"contour\"}],\"contourcarpet\":[{\"colorbar\":{\"outlinewidth\":0,\"ticks\":\"\"},\"type\":\"contourcarpet\"}],\"heatmap\":[{\"colorbar\":{\"outlinewidth\":0,\"ticks\":\"\"},\"colorscale\":[[0.0,\"#0d0887\"],[0.1111111111111111,\"#46039f\"],[0.2222222222222222,\"#7201a8\"],[0.3333333333333333,\"#9c179e\"],[0.4444444444444444,\"#bd3786\"],[0.5555555555555556,\"#d8576b\"],[0.6666666666666666,\"#ed7953\"],[0.7777777777777778,\"#fb9f3a\"],[0.8888888888888888,\"#fdca26\"],[1.0,\"#f0f921\"]],\"type\":\"heatmap\"}],\"heatmapgl\":[{\"colorbar\":{\"outlinewidth\":0,\"ticks\":\"\"},\"colorscale\":[[0.0,\"#0d0887\"],[0.1111111111111111,\"#46039f\"],[0.2222222222222222,\"#7201a8\"],[0.3333333333333333,\"#9c179e\"],[0.4444444444444444,\"#bd3786\"],[0.5555555555555556,\"#d8576b\"],[0.6666666666666666,\"#ed7953\"],[0.7777777777777778,\"#fb9f3a\"],[0.8888888888888888,\"#fdca26\"],[1.0,\"#f0f921\"]],\"type\":\"heatmapgl\"}],\"histogram\":[{\"marker\":{\"pattern\":{\"fillmode\":\"overlay\",\"size\":10,\"solidity\":0.2}},\"type\":\"histogram\"}],\"histogram2d\":[{\"colorbar\":{\"outlinewidth\":0,\"ticks\":\"\"},\"colorscale\":[[0.0,\"#0d0887\"],[0.1111111111111111,\"#46039f\"],[0.2222222222222222,\"#7201a8\"],[0.3333333333333333,\"#9c179e\"],[0.4444444444444444,\"#bd3786\"],[0.5555555555555556,\"#d8576b\"],[0.6666666666666666,\"#ed7953\"],[0.7777777777777778,\"#fb9f3a\"],[0.8888888888888888,\"#fdca26\"],[1.0,\"#f0f921\"]],\"type\":\"histogram2d\"}],\"histogram2dcontour\":[{\"colorbar\":{\"outlinewidth\":0,\"ticks\":\"\"},\"colorscale\":[[0.0,\"#0d0887\"],[0.1111111111111111,\"#46039f\"],[0.2222222222222222,\"#7201a8\"],[0.3333333333333333,\"#9c179e\"],[0.4444444444444444,\"#bd3786\"],[0.5555555555555556,\"#d8576b\"],[0.6666666666666666,\"#ed7953\"],[0.7777777777777778,\"#fb9f3a\"],[0.8888888888888888,\"#fdca26\"],[1.0,\"#f0f921\"]],\"type\":\"histogram2dcontour\"}],\"mesh3d\":[{\"colorbar\":{\"outlinewidth\":0,\"ticks\":\"\"},\"type\":\"mesh3d\"}],\"parcoords\":[{\"line\":{\"colorbar\":{\"outlinewidth\":0,\"ticks\":\"\"}},\"type\":\"parcoords\"}],\"pie\":[{\"automargin\":true,\"type\":\"pie\"}],\"scatter\":[{\"marker\":{\"colorbar\":{\"outlinewidth\":0,\"ticks\":\"\"}},\"type\":\"scatter\"}],\"scatter3d\":[{\"line\":{\"colorbar\":{\"outlinewidth\":0,\"ticks\":\"\"}},\"marker\":{\"colorbar\":{\"outlinewidth\":0,\"ticks\":\"\"}},\"type\":\"scatter3d\"}],\"scattercarpet\":[{\"marker\":{\"colorbar\":{\"outlinewidth\":0,\"ticks\":\"\"}},\"type\":\"scattercarpet\"}],\"scattergeo\":[{\"marker\":{\"colorbar\":{\"outlinewidth\":0,\"ticks\":\"\"}},\"type\":\"scattergeo\"}],\"scattergl\":[{\"marker\":{\"colorbar\":{\"outlinewidth\":0,\"ticks\":\"\"}},\"type\":\"scattergl\"}],\"scattermapbox\":[{\"marker\":{\"colorbar\":{\"outlinewidth\":0,\"ticks\":\"\"}},\"type\":\"scattermapbox\"}],\"scatterpolar\":[{\"marker\":{\"colorbar\":{\"outlinewidth\":0,\"ticks\":\"\"}},\"type\":\"scatterpolar\"}],\"scatterpolargl\":[{\"marker\":{\"colorbar\":{\"outlinewidth\":0,\"ticks\":\"\"}},\"type\":\"scatterpolargl\"}],\"scatterternary\":[{\"marker\":{\"colorbar\":{\"outlinewidth\":0,\"ticks\":\"\"}},\"type\":\"scatterternary\"}],\"surface\":[{\"colorbar\":{\"outlinewidth\":0,\"ticks\":\"\"},\"colorscale\":[[0.0,\"#0d0887\"],[0.1111111111111111,\"#46039f\"],[0.2222222222222222,\"#7201a8\"],[0.3333333333333333,\"#9c179e\"],[0.4444444444444444,\"#bd3786\"],[0.5555555555555556,\"#d8576b\"],[0.6666666666666666,\"#ed7953\"],[0.7777777777777778,\"#fb9f3a\"],[0.8888888888888888,\"#fdca26\"],[1.0,\"#f0f921\"]],\"type\":\"surface\"}],\"table\":[{\"cells\":{\"fill\":{\"color\":\"#EBF0F8\"},\"line\":{\"color\":\"white\"}},\"header\":{\"fill\":{\"color\":\"#C8D4E3\"},\"line\":{\"color\":\"white\"}},\"type\":\"table\"}]},\"layout\":{\"annotationdefaults\":{\"arrowcolor\":\"#2a3f5f\",\"arrowhead\":0,\"arrowwidth\":1},\"autotypenumbers\":\"strict\",\"coloraxis\":{\"colorbar\":{\"outlinewidth\":0,\"ticks\":\"\"}},\"colorscale\":{\"diverging\":[[0,\"#8e0152\"],[0.1,\"#c51b7d\"],[0.2,\"#de77ae\"],[0.3,\"#f1b6da\"],[0.4,\"#fde0ef\"],[0.5,\"#f7f7f7\"],[0.6,\"#e6f5d0\"],[0.7,\"#b8e186\"],[0.8,\"#7fbc41\"],[0.9,\"#4d9221\"],[1,\"#276419\"]],\"sequential\":[[0.0,\"#0d0887\"],[0.1111111111111111,\"#46039f\"],[0.2222222222222222,\"#7201a8\"],[0.3333333333333333,\"#9c179e\"],[0.4444444444444444,\"#bd3786\"],[0.5555555555555556,\"#d8576b\"],[0.6666666666666666,\"#ed7953\"],[0.7777777777777778,\"#fb9f3a\"],[0.8888888888888888,\"#fdca26\"],[1.0,\"#f0f921\"]],\"sequentialminus\":[[0.0,\"#0d0887\"],[0.1111111111111111,\"#46039f\"],[0.2222222222222222,\"#7201a8\"],[0.3333333333333333,\"#9c179e\"],[0.4444444444444444,\"#bd3786\"],[0.5555555555555556,\"#d8576b\"],[0.6666666666666666,\"#ed7953\"],[0.7777777777777778,\"#fb9f3a\"],[0.8888888888888888,\"#fdca26\"],[1.0,\"#f0f921\"]]},\"colorway\":[\"#636efa\",\"#EF553B\",\"#00cc96\",\"#ab63fa\",\"#FFA15A\",\"#19d3f3\",\"#FF6692\",\"#B6E880\",\"#FF97FF\",\"#FECB52\"],\"font\":{\"color\":\"#2a3f5f\"},\"geo\":{\"bgcolor\":\"white\",\"lakecolor\":\"white\",\"landcolor\":\"#E5ECF6\",\"showlakes\":true,\"showland\":true,\"subunitcolor\":\"white\"},\"hoverlabel\":{\"align\":\"left\"},\"hovermode\":\"closest\",\"mapbox\":{\"style\":\"light\"},\"paper_bgcolor\":\"white\",\"plot_bgcolor\":\"#E5ECF6\",\"polar\":{\"angularaxis\":{\"gridcolor\":\"white\",\"linecolor\":\"white\",\"ticks\":\"\"},\"bgcolor\":\"#E5ECF6\",\"radialaxis\":{\"gridcolor\":\"white\",\"linecolor\":\"white\",\"ticks\":\"\"}},\"scene\":{\"xaxis\":{\"backgroundcolor\":\"#E5ECF6\",\"gridcolor\":\"white\",\"gridwidth\":2,\"linecolor\":\"white\",\"showbackground\":true,\"ticks\":\"\",\"zerolinecolor\":\"white\"},\"yaxis\":{\"backgroundcolor\":\"#E5ECF6\",\"gridcolor\":\"white\",\"gridwidth\":2,\"linecolor\":\"white\",\"showbackground\":true,\"ticks\":\"\",\"zerolinecolor\":\"white\"},\"zaxis\":{\"backgroundcolor\":\"#E5ECF6\",\"gridcolor\":\"white\",\"gridwidth\":2,\"linecolor\":\"white\",\"showbackground\":true,\"ticks\":\"\",\"zerolinecolor\":\"white\"}},\"shapedefaults\":{\"line\":{\"color\":\"#2a3f5f\"}},\"ternary\":{\"aaxis\":{\"gridcolor\":\"white\",\"linecolor\":\"white\",\"ticks\":\"\"},\"baxis\":{\"gridcolor\":\"white\",\"linecolor\":\"white\",\"ticks\":\"\"},\"bgcolor\":\"#E5ECF6\",\"caxis\":{\"gridcolor\":\"white\",\"linecolor\":\"white\",\"ticks\":\"\"}},\"title\":{\"x\":0.05},\"xaxis\":{\"automargin\":true,\"gridcolor\":\"white\",\"linecolor\":\"white\",\"ticks\":\"\",\"title\":{\"standoff\":15},\"zerolinecolor\":\"white\",\"zerolinewidth\":2},\"yaxis\":{\"automargin\":true,\"gridcolor\":\"white\",\"linecolor\":\"white\",\"ticks\":\"\",\"title\":{\"standoff\":15},\"zerolinecolor\":\"white\",\"zerolinewidth\":2}}},\"geo\":{\"domain\":{\"x\":[0.0,1.0],\"y\":[0.0,1.0]},\"center\":{},\"scope\":\"usa\"},\"coloraxis\":{\"colorbar\":{\"title\":{\"text\":\"four year average in state tuition\"}},\"colorscale\":[[0.0,\"#0d0887\"],[0.1111111111111111,\"#46039f\"],[0.2222222222222222,\"#7201a8\"],[0.3333333333333333,\"#9c179e\"],[0.4444444444444444,\"#bd3786\"],[0.5555555555555556,\"#d8576b\"],[0.6666666666666666,\"#ed7953\"],[0.7777777777777778,\"#fb9f3a\"],[0.8888888888888888,\"#fdca26\"],[1.0,\"#f0f921\"]]},\"legend\":{\"tracegroupgap\":0},\"margin\":{\"t\":60}},                        {\"responsive\": true}                    ).then(function(){\n",
       "                            \n",
       "var gd = document.getElementById('002a9196-2732-4069-891f-895fd04f939e');\n",
       "var x = new MutationObserver(function (mutations, observer) {{\n",
       "        var display = window.getComputedStyle(gd).display;\n",
       "        if (!display || display === 'none') {{\n",
       "            console.log([gd, 'removed!']);\n",
       "            Plotly.purge(gd);\n",
       "            observer.disconnect();\n",
       "        }}\n",
       "}});\n",
       "\n",
       "// Listen for the removal of the full notebook cells\n",
       "var notebookContainer = gd.closest('#notebook-container');\n",
       "if (notebookContainer) {{\n",
       "    x.observe(notebookContainer, {childList: true});\n",
       "}}\n",
       "\n",
       "// Listen for the clearing of the current output cell\n",
       "var outputEl = gd.closest('.output');\n",
       "if (outputEl) {{\n",
       "    x.observe(outputEl, {childList: true});\n",
       "}}\n",
       "\n",
       "                        })                };                });            </script>        </div>"
      ]
     },
     "execution_count": 33,
     "metadata": {
     },
     "output_type": "execute_result"
    }
   ],
   "source": [
    "fig = px.choropleth(state_stats_extras, locations='state_code', locationmode=\"USA-states\", color=\"four year average in state tuition\", scope=\"usa\")\n",
    "fig.show()"
   ]
  },
  {
   "cell_type": "code",
   "execution_count": 34,
   "metadata": {
    "collapsed": false
   },
   "outputs": [
    {
     "data": {
      "application/vnd.plotly.v1+json": {
       "config": {
        "plotlyServerURL": "https://plot.ly"
       },
       "data": [
        {
         "coloraxis": "coloraxis",
         "geo": "geo",
         "hovertemplate": "state_code=%{location}<br>average early_career_pay=%{z}<extra></extra>",
         "locationmode": "USA-states",
         "locations": [
          "AL",
          "AK",
          "AZ",
          "AR",
          "CA",
          "CO",
          "CT",
          "DE",
          "FL",
          "GA",
          "HI",
          "ID",
          "IL",
          "IN",
          "IA",
          "KS",
          "KY",
          "LA",
          "ME",
          "MD",
          "MA",
          "MI",
          "MN",
          "MS",
          "MO",
          "MT",
          "NE",
          "NV",
          "NH",
          "NJ",
          "NM",
          "NY",
          "NC",
          "ND",
          "OH",
          "OK",
          "OR",
          "PA",
          "RI",
          "SC",
          "SD",
          "TN",
          "TX",
          "UT",
          "VT",
          "VA",
          "WA",
          "WV",
          "WI",
          "WY"
         ],
         "name": "",
         "type": "choropleth",
         "z": [
          44714.28571428572,
          55133.333333333336,
          48966.666666666664,
          45607.142857142855,
          67800,
          52238.46153846154,
          55016.666666666664,
          49040,
          50250,
          48527.27272727273,
          48980,
          49666.666666666664,
          55763.15789473684,
          52938.88888888889,
          48314.28571428572,
          46482.35294117647,
          43754.166666666664,
          46920,
          48181.25,
          53041.17647058824,
          63519.04761904762,
          51695.454545454544,
          51233.333333333336,
          42042.857142857145,
          48023.529411764706,
          52275,
          46790.90909090909,
          54000,
          50545.454545454544,
          54847.36842105263,
          48933.333333333336,
          65881.25,
          49695,
          46042.857142857145,
          53613.333333333336,
          45105.26315789474,
          50694.444444444445,
          61436.84210526316,
          55822.22222222222,
          44716.666666666664,
          47110,
          47370,
          56500,
          52183.333333333336,
          49445.454545454544,
          53718.181818181816,
          53450,
          44333.333333333336,
          50681.818181818184,
          52400
         ]
        }
       ],
       "layout": {
        "coloraxis": {
         "colorbar": {
          "title": {
           "text": "average early_career_pay"
          }
         },
         "colorscale": [
          [
           0,
           "#0d0887"
          ],
          [
           0.1111111111111111,
           "#46039f"
          ],
          [
           0.2222222222222222,
           "#7201a8"
          ],
          [
           0.3333333333333333,
           "#9c179e"
          ],
          [
           0.4444444444444444,
           "#bd3786"
          ],
          [
           0.5555555555555556,
           "#d8576b"
          ],
          [
           0.6666666666666666,
           "#ed7953"
          ],
          [
           0.7777777777777778,
           "#fb9f3a"
          ],
          [
           0.8888888888888888,
           "#fdca26"
          ],
          [
           1,
           "#f0f921"
          ]
         ]
        },
        "geo": {
         "center": {
         },
         "domain": {
          "x": [
           0,
           1
          ],
          "y": [
           0,
           1
          ]
         },
         "scope": "usa"
        },
        "legend": {
         "tracegroupgap": 0
        },
        "margin": {
         "t": 60
        },
        "template": {
         "data": {
          "bar": [
           {
            "error_x": {
             "color": "#2a3f5f"
            },
            "error_y": {
             "color": "#2a3f5f"
            },
            "marker": {
             "line": {
              "color": "#E5ECF6",
              "width": 0.5
             },
             "pattern": {
              "fillmode": "overlay",
              "size": 10,
              "solidity": 0.2
             }
            },
            "type": "bar"
           }
          ],
          "barpolar": [
           {
            "marker": {
             "line": {
              "color": "#E5ECF6",
              "width": 0.5
             },
             "pattern": {
              "fillmode": "overlay",
              "size": 10,
              "solidity": 0.2
             }
            },
            "type": "barpolar"
           }
          ],
          "carpet": [
           {
            "aaxis": {
             "endlinecolor": "#2a3f5f",
             "gridcolor": "white",
             "linecolor": "white",
             "minorgridcolor": "white",
             "startlinecolor": "#2a3f5f"
            },
            "baxis": {
             "endlinecolor": "#2a3f5f",
             "gridcolor": "white",
             "linecolor": "white",
             "minorgridcolor": "white",
             "startlinecolor": "#2a3f5f"
            },
            "type": "carpet"
           }
          ],
          "choropleth": [
           {
            "colorbar": {
             "outlinewidth": 0,
             "ticks": ""
            },
            "type": "choropleth"
           }
          ],
          "contour": [
           {
            "colorbar": {
             "outlinewidth": 0,
             "ticks": ""
            },
            "colorscale": [
             [
              0,
              "#0d0887"
             ],
             [
              0.1111111111111111,
              "#46039f"
             ],
             [
              0.2222222222222222,
              "#7201a8"
             ],
             [
              0.3333333333333333,
              "#9c179e"
             ],
             [
              0.4444444444444444,
              "#bd3786"
             ],
             [
              0.5555555555555556,
              "#d8576b"
             ],
             [
              0.6666666666666666,
              "#ed7953"
             ],
             [
              0.7777777777777778,
              "#fb9f3a"
             ],
             [
              0.8888888888888888,
              "#fdca26"
             ],
             [
              1,
              "#f0f921"
             ]
            ],
            "type": "contour"
           }
          ],
          "contourcarpet": [
           {
            "colorbar": {
             "outlinewidth": 0,
             "ticks": ""
            },
            "type": "contourcarpet"
           }
          ],
          "heatmap": [
           {
            "colorbar": {
             "outlinewidth": 0,
             "ticks": ""
            },
            "colorscale": [
             [
              0,
              "#0d0887"
             ],
             [
              0.1111111111111111,
              "#46039f"
             ],
             [
              0.2222222222222222,
              "#7201a8"
             ],
             [
              0.3333333333333333,
              "#9c179e"
             ],
             [
              0.4444444444444444,
              "#bd3786"
             ],
             [
              0.5555555555555556,
              "#d8576b"
             ],
             [
              0.6666666666666666,
              "#ed7953"
             ],
             [
              0.7777777777777778,
              "#fb9f3a"
             ],
             [
              0.8888888888888888,
              "#fdca26"
             ],
             [
              1,
              "#f0f921"
             ]
            ],
            "type": "heatmap"
           }
          ],
          "heatmapgl": [
           {
            "colorbar": {
             "outlinewidth": 0,
             "ticks": ""
            },
            "colorscale": [
             [
              0,
              "#0d0887"
             ],
             [
              0.1111111111111111,
              "#46039f"
             ],
             [
              0.2222222222222222,
              "#7201a8"
             ],
             [
              0.3333333333333333,
              "#9c179e"
             ],
             [
              0.4444444444444444,
              "#bd3786"
             ],
             [
              0.5555555555555556,
              "#d8576b"
             ],
             [
              0.6666666666666666,
              "#ed7953"
             ],
             [
              0.7777777777777778,
              "#fb9f3a"
             ],
             [
              0.8888888888888888,
              "#fdca26"
             ],
             [
              1,
              "#f0f921"
             ]
            ],
            "type": "heatmapgl"
           }
          ],
          "histogram": [
           {
            "marker": {
             "pattern": {
              "fillmode": "overlay",
              "size": 10,
              "solidity": 0.2
             }
            },
            "type": "histogram"
           }
          ],
          "histogram2d": [
           {
            "colorbar": {
             "outlinewidth": 0,
             "ticks": ""
            },
            "colorscale": [
             [
              0,
              "#0d0887"
             ],
             [
              0.1111111111111111,
              "#46039f"
             ],
             [
              0.2222222222222222,
              "#7201a8"
             ],
             [
              0.3333333333333333,
              "#9c179e"
             ],
             [
              0.4444444444444444,
              "#bd3786"
             ],
             [
              0.5555555555555556,
              "#d8576b"
             ],
             [
              0.6666666666666666,
              "#ed7953"
             ],
             [
              0.7777777777777778,
              "#fb9f3a"
             ],
             [
              0.8888888888888888,
              "#fdca26"
             ],
             [
              1,
              "#f0f921"
             ]
            ],
            "type": "histogram2d"
           }
          ],
          "histogram2dcontour": [
           {
            "colorbar": {
             "outlinewidth": 0,
             "ticks": ""
            },
            "colorscale": [
             [
              0,
              "#0d0887"
             ],
             [
              0.1111111111111111,
              "#46039f"
             ],
             [
              0.2222222222222222,
              "#7201a8"
             ],
             [
              0.3333333333333333,
              "#9c179e"
             ],
             [
              0.4444444444444444,
              "#bd3786"
             ],
             [
              0.5555555555555556,
              "#d8576b"
             ],
             [
              0.6666666666666666,
              "#ed7953"
             ],
             [
              0.7777777777777778,
              "#fb9f3a"
             ],
             [
              0.8888888888888888,
              "#fdca26"
             ],
             [
              1,
              "#f0f921"
             ]
            ],
            "type": "histogram2dcontour"
           }
          ],
          "mesh3d": [
           {
            "colorbar": {
             "outlinewidth": 0,
             "ticks": ""
            },
            "type": "mesh3d"
           }
          ],
          "parcoords": [
           {
            "line": {
             "colorbar": {
              "outlinewidth": 0,
              "ticks": ""
             }
            },
            "type": "parcoords"
           }
          ],
          "pie": [
           {
            "automargin": true,
            "type": "pie"
           }
          ],
          "scatter": [
           {
            "marker": {
             "colorbar": {
              "outlinewidth": 0,
              "ticks": ""
             }
            },
            "type": "scatter"
           }
          ],
          "scatter3d": [
           {
            "line": {
             "colorbar": {
              "outlinewidth": 0,
              "ticks": ""
             }
            },
            "marker": {
             "colorbar": {
              "outlinewidth": 0,
              "ticks": ""
             }
            },
            "type": "scatter3d"
           }
          ],
          "scattercarpet": [
           {
            "marker": {
             "colorbar": {
              "outlinewidth": 0,
              "ticks": ""
             }
            },
            "type": "scattercarpet"
           }
          ],
          "scattergeo": [
           {
            "marker": {
             "colorbar": {
              "outlinewidth": 0,
              "ticks": ""
             }
            },
            "type": "scattergeo"
           }
          ],
          "scattergl": [
           {
            "marker": {
             "colorbar": {
              "outlinewidth": 0,
              "ticks": ""
             }
            },
            "type": "scattergl"
           }
          ],
          "scattermapbox": [
           {
            "marker": {
             "colorbar": {
              "outlinewidth": 0,
              "ticks": ""
             }
            },
            "type": "scattermapbox"
           }
          ],
          "scatterpolar": [
           {
            "marker": {
             "colorbar": {
              "outlinewidth": 0,
              "ticks": ""
             }
            },
            "type": "scatterpolar"
           }
          ],
          "scatterpolargl": [
           {
            "marker": {
             "colorbar": {
              "outlinewidth": 0,
              "ticks": ""
             }
            },
            "type": "scatterpolargl"
           }
          ],
          "scatterternary": [
           {
            "marker": {
             "colorbar": {
              "outlinewidth": 0,
              "ticks": ""
             }
            },
            "type": "scatterternary"
           }
          ],
          "surface": [
           {
            "colorbar": {
             "outlinewidth": 0,
             "ticks": ""
            },
            "colorscale": [
             [
              0,
              "#0d0887"
             ],
             [
              0.1111111111111111,
              "#46039f"
             ],
             [
              0.2222222222222222,
              "#7201a8"
             ],
             [
              0.3333333333333333,
              "#9c179e"
             ],
             [
              0.4444444444444444,
              "#bd3786"
             ],
             [
              0.5555555555555556,
              "#d8576b"
             ],
             [
              0.6666666666666666,
              "#ed7953"
             ],
             [
              0.7777777777777778,
              "#fb9f3a"
             ],
             [
              0.8888888888888888,
              "#fdca26"
             ],
             [
              1,
              "#f0f921"
             ]
            ],
            "type": "surface"
           }
          ],
          "table": [
           {
            "cells": {
             "fill": {
              "color": "#EBF0F8"
             },
             "line": {
              "color": "white"
             }
            },
            "header": {
             "fill": {
              "color": "#C8D4E3"
             },
             "line": {
              "color": "white"
             }
            },
            "type": "table"
           }
          ]
         },
         "layout": {
          "annotationdefaults": {
           "arrowcolor": "#2a3f5f",
           "arrowhead": 0,
           "arrowwidth": 1
          },
          "autotypenumbers": "strict",
          "coloraxis": {
           "colorbar": {
            "outlinewidth": 0,
            "ticks": ""
           }
          },
          "colorscale": {
           "diverging": [
            [
             0,
             "#8e0152"
            ],
            [
             0.1,
             "#c51b7d"
            ],
            [
             0.2,
             "#de77ae"
            ],
            [
             0.3,
             "#f1b6da"
            ],
            [
             0.4,
             "#fde0ef"
            ],
            [
             0.5,
             "#f7f7f7"
            ],
            [
             0.6,
             "#e6f5d0"
            ],
            [
             0.7,
             "#b8e186"
            ],
            [
             0.8,
             "#7fbc41"
            ],
            [
             0.9,
             "#4d9221"
            ],
            [
             1,
             "#276419"
            ]
           ],
           "sequential": [
            [
             0,
             "#0d0887"
            ],
            [
             0.1111111111111111,
             "#46039f"
            ],
            [
             0.2222222222222222,
             "#7201a8"
            ],
            [
             0.3333333333333333,
             "#9c179e"
            ],
            [
             0.4444444444444444,
             "#bd3786"
            ],
            [
             0.5555555555555556,
             "#d8576b"
            ],
            [
             0.6666666666666666,
             "#ed7953"
            ],
            [
             0.7777777777777778,
             "#fb9f3a"
            ],
            [
             0.8888888888888888,
             "#fdca26"
            ],
            [
             1,
             "#f0f921"
            ]
           ],
           "sequentialminus": [
            [
             0,
             "#0d0887"
            ],
            [
             0.1111111111111111,
             "#46039f"
            ],
            [
             0.2222222222222222,
             "#7201a8"
            ],
            [
             0.3333333333333333,
             "#9c179e"
            ],
            [
             0.4444444444444444,
             "#bd3786"
            ],
            [
             0.5555555555555556,
             "#d8576b"
            ],
            [
             0.6666666666666666,
             "#ed7953"
            ],
            [
             0.7777777777777778,
             "#fb9f3a"
            ],
            [
             0.8888888888888888,
             "#fdca26"
            ],
            [
             1,
             "#f0f921"
            ]
           ]
          },
          "colorway": [
           "#636efa",
           "#EF553B",
           "#00cc96",
           "#ab63fa",
           "#FFA15A",
           "#19d3f3",
           "#FF6692",
           "#B6E880",
           "#FF97FF",
           "#FECB52"
          ],
          "font": {
           "color": "#2a3f5f"
          },
          "geo": {
           "bgcolor": "white",
           "lakecolor": "white",
           "landcolor": "#E5ECF6",
           "showlakes": true,
           "showland": true,
           "subunitcolor": "white"
          },
          "hoverlabel": {
           "align": "left"
          },
          "hovermode": "closest",
          "mapbox": {
           "style": "light"
          },
          "paper_bgcolor": "white",
          "plot_bgcolor": "#E5ECF6",
          "polar": {
           "angularaxis": {
            "gridcolor": "white",
            "linecolor": "white",
            "ticks": ""
           },
           "bgcolor": "#E5ECF6",
           "radialaxis": {
            "gridcolor": "white",
            "linecolor": "white",
            "ticks": ""
           }
          },
          "scene": {
           "xaxis": {
            "backgroundcolor": "#E5ECF6",
            "gridcolor": "white",
            "gridwidth": 2,
            "linecolor": "white",
            "showbackground": true,
            "ticks": "",
            "zerolinecolor": "white"
           },
           "yaxis": {
            "backgroundcolor": "#E5ECF6",
            "gridcolor": "white",
            "gridwidth": 2,
            "linecolor": "white",
            "showbackground": true,
            "ticks": "",
            "zerolinecolor": "white"
           },
           "zaxis": {
            "backgroundcolor": "#E5ECF6",
            "gridcolor": "white",
            "gridwidth": 2,
            "linecolor": "white",
            "showbackground": true,
            "ticks": "",
            "zerolinecolor": "white"
           }
          },
          "shapedefaults": {
           "line": {
            "color": "#2a3f5f"
           }
          },
          "ternary": {
           "aaxis": {
            "gridcolor": "white",
            "linecolor": "white",
            "ticks": ""
           },
           "baxis": {
            "gridcolor": "white",
            "linecolor": "white",
            "ticks": ""
           },
           "bgcolor": "#E5ECF6",
           "caxis": {
            "gridcolor": "white",
            "linecolor": "white",
            "ticks": ""
           }
          },
          "title": {
           "x": 0.05
          },
          "xaxis": {
           "automargin": true,
           "gridcolor": "white",
           "linecolor": "white",
           "ticks": "",
           "title": {
            "standoff": 15
           },
           "zerolinecolor": "white",
           "zerolinewidth": 2
          },
          "yaxis": {
           "automargin": true,
           "gridcolor": "white",
           "linecolor": "white",
           "ticks": "",
           "title": {
            "standoff": 15
           },
           "zerolinecolor": "white",
           "zerolinewidth": 2
          }
         }
        }
       }
      },
      "text/html": [
       "<div>                            <div id=\"0eff3a40-5ada-42b1-98e6-36fa75813f24\" class=\"plotly-graph-div\" style=\"height:525px; width:100%;\"></div>            <script type=\"text/javascript\">                require([\"plotly\"], function(Plotly) {                    window.PLOTLYENV=window.PLOTLYENV || {};                                    if (document.getElementById(\"0eff3a40-5ada-42b1-98e6-36fa75813f24\")) {                    Plotly.newPlot(                        \"0eff3a40-5ada-42b1-98e6-36fa75813f24\",                        [{\"coloraxis\":\"coloraxis\",\"geo\":\"geo\",\"hovertemplate\":\"state_code=%{location}<br>average early_career_pay=%{z}<extra></extra>\",\"locationmode\":\"USA-states\",\"locations\":[\"AL\",\"AK\",\"AZ\",\"AR\",\"CA\",\"CO\",\"CT\",\"DE\",\"FL\",\"GA\",\"HI\",\"ID\",\"IL\",\"IN\",\"IA\",\"KS\",\"KY\",\"LA\",\"ME\",\"MD\",\"MA\",\"MI\",\"MN\",\"MS\",\"MO\",\"MT\",\"NE\",\"NV\",\"NH\",\"NJ\",\"NM\",\"NY\",\"NC\",\"ND\",\"OH\",\"OK\",\"OR\",\"PA\",\"RI\",\"SC\",\"SD\",\"TN\",\"TX\",\"UT\",\"VT\",\"VA\",\"WA\",\"WV\",\"WI\",\"WY\"],\"name\":\"\",\"z\":[44714.28571428572,55133.333333333336,48966.666666666664,45607.142857142855,67800.0,52238.46153846154,55016.666666666664,49040.0,50250.0,48527.27272727273,48980.0,49666.666666666664,55763.15789473684,52938.88888888889,48314.28571428572,46482.35294117647,43754.166666666664,46920.0,48181.25,53041.17647058824,63519.04761904762,51695.454545454544,51233.333333333336,42042.857142857145,48023.529411764706,52275.0,46790.90909090909,54000.0,50545.454545454544,54847.36842105263,48933.333333333336,65881.25,49695.0,46042.857142857145,53613.333333333336,45105.26315789474,50694.444444444445,61436.84210526316,55822.22222222222,44716.666666666664,47110.0,47370.0,56500.0,52183.333333333336,49445.454545454544,53718.181818181816,53450.0,44333.333333333336,50681.818181818184,52400.0],\"type\":\"choropleth\"}],                        {\"template\":{\"data\":{\"bar\":[{\"error_x\":{\"color\":\"#2a3f5f\"},\"error_y\":{\"color\":\"#2a3f5f\"},\"marker\":{\"line\":{\"color\":\"#E5ECF6\",\"width\":0.5},\"pattern\":{\"fillmode\":\"overlay\",\"size\":10,\"solidity\":0.2}},\"type\":\"bar\"}],\"barpolar\":[{\"marker\":{\"line\":{\"color\":\"#E5ECF6\",\"width\":0.5},\"pattern\":{\"fillmode\":\"overlay\",\"size\":10,\"solidity\":0.2}},\"type\":\"barpolar\"}],\"carpet\":[{\"aaxis\":{\"endlinecolor\":\"#2a3f5f\",\"gridcolor\":\"white\",\"linecolor\":\"white\",\"minorgridcolor\":\"white\",\"startlinecolor\":\"#2a3f5f\"},\"baxis\":{\"endlinecolor\":\"#2a3f5f\",\"gridcolor\":\"white\",\"linecolor\":\"white\",\"minorgridcolor\":\"white\",\"startlinecolor\":\"#2a3f5f\"},\"type\":\"carpet\"}],\"choropleth\":[{\"colorbar\":{\"outlinewidth\":0,\"ticks\":\"\"},\"type\":\"choropleth\"}],\"contour\":[{\"colorbar\":{\"outlinewidth\":0,\"ticks\":\"\"},\"colorscale\":[[0.0,\"#0d0887\"],[0.1111111111111111,\"#46039f\"],[0.2222222222222222,\"#7201a8\"],[0.3333333333333333,\"#9c179e\"],[0.4444444444444444,\"#bd3786\"],[0.5555555555555556,\"#d8576b\"],[0.6666666666666666,\"#ed7953\"],[0.7777777777777778,\"#fb9f3a\"],[0.8888888888888888,\"#fdca26\"],[1.0,\"#f0f921\"]],\"type\":\"contour\"}],\"contourcarpet\":[{\"colorbar\":{\"outlinewidth\":0,\"ticks\":\"\"},\"type\":\"contourcarpet\"}],\"heatmap\":[{\"colorbar\":{\"outlinewidth\":0,\"ticks\":\"\"},\"colorscale\":[[0.0,\"#0d0887\"],[0.1111111111111111,\"#46039f\"],[0.2222222222222222,\"#7201a8\"],[0.3333333333333333,\"#9c179e\"],[0.4444444444444444,\"#bd3786\"],[0.5555555555555556,\"#d8576b\"],[0.6666666666666666,\"#ed7953\"],[0.7777777777777778,\"#fb9f3a\"],[0.8888888888888888,\"#fdca26\"],[1.0,\"#f0f921\"]],\"type\":\"heatmap\"}],\"heatmapgl\":[{\"colorbar\":{\"outlinewidth\":0,\"ticks\":\"\"},\"colorscale\":[[0.0,\"#0d0887\"],[0.1111111111111111,\"#46039f\"],[0.2222222222222222,\"#7201a8\"],[0.3333333333333333,\"#9c179e\"],[0.4444444444444444,\"#bd3786\"],[0.5555555555555556,\"#d8576b\"],[0.6666666666666666,\"#ed7953\"],[0.7777777777777778,\"#fb9f3a\"],[0.8888888888888888,\"#fdca26\"],[1.0,\"#f0f921\"]],\"type\":\"heatmapgl\"}],\"histogram\":[{\"marker\":{\"pattern\":{\"fillmode\":\"overlay\",\"size\":10,\"solidity\":0.2}},\"type\":\"histogram\"}],\"histogram2d\":[{\"colorbar\":{\"outlinewidth\":0,\"ticks\":\"\"},\"colorscale\":[[0.0,\"#0d0887\"],[0.1111111111111111,\"#46039f\"],[0.2222222222222222,\"#7201a8\"],[0.3333333333333333,\"#9c179e\"],[0.4444444444444444,\"#bd3786\"],[0.5555555555555556,\"#d8576b\"],[0.6666666666666666,\"#ed7953\"],[0.7777777777777778,\"#fb9f3a\"],[0.8888888888888888,\"#fdca26\"],[1.0,\"#f0f921\"]],\"type\":\"histogram2d\"}],\"histogram2dcontour\":[{\"colorbar\":{\"outlinewidth\":0,\"ticks\":\"\"},\"colorscale\":[[0.0,\"#0d0887\"],[0.1111111111111111,\"#46039f\"],[0.2222222222222222,\"#7201a8\"],[0.3333333333333333,\"#9c179e\"],[0.4444444444444444,\"#bd3786\"],[0.5555555555555556,\"#d8576b\"],[0.6666666666666666,\"#ed7953\"],[0.7777777777777778,\"#fb9f3a\"],[0.8888888888888888,\"#fdca26\"],[1.0,\"#f0f921\"]],\"type\":\"histogram2dcontour\"}],\"mesh3d\":[{\"colorbar\":{\"outlinewidth\":0,\"ticks\":\"\"},\"type\":\"mesh3d\"}],\"parcoords\":[{\"line\":{\"colorbar\":{\"outlinewidth\":0,\"ticks\":\"\"}},\"type\":\"parcoords\"}],\"pie\":[{\"automargin\":true,\"type\":\"pie\"}],\"scatter\":[{\"marker\":{\"colorbar\":{\"outlinewidth\":0,\"ticks\":\"\"}},\"type\":\"scatter\"}],\"scatter3d\":[{\"line\":{\"colorbar\":{\"outlinewidth\":0,\"ticks\":\"\"}},\"marker\":{\"colorbar\":{\"outlinewidth\":0,\"ticks\":\"\"}},\"type\":\"scatter3d\"}],\"scattercarpet\":[{\"marker\":{\"colorbar\":{\"outlinewidth\":0,\"ticks\":\"\"}},\"type\":\"scattercarpet\"}],\"scattergeo\":[{\"marker\":{\"colorbar\":{\"outlinewidth\":0,\"ticks\":\"\"}},\"type\":\"scattergeo\"}],\"scattergl\":[{\"marker\":{\"colorbar\":{\"outlinewidth\":0,\"ticks\":\"\"}},\"type\":\"scattergl\"}],\"scattermapbox\":[{\"marker\":{\"colorbar\":{\"outlinewidth\":0,\"ticks\":\"\"}},\"type\":\"scattermapbox\"}],\"scatterpolar\":[{\"marker\":{\"colorbar\":{\"outlinewidth\":0,\"ticks\":\"\"}},\"type\":\"scatterpolar\"}],\"scatterpolargl\":[{\"marker\":{\"colorbar\":{\"outlinewidth\":0,\"ticks\":\"\"}},\"type\":\"scatterpolargl\"}],\"scatterternary\":[{\"marker\":{\"colorbar\":{\"outlinewidth\":0,\"ticks\":\"\"}},\"type\":\"scatterternary\"}],\"surface\":[{\"colorbar\":{\"outlinewidth\":0,\"ticks\":\"\"},\"colorscale\":[[0.0,\"#0d0887\"],[0.1111111111111111,\"#46039f\"],[0.2222222222222222,\"#7201a8\"],[0.3333333333333333,\"#9c179e\"],[0.4444444444444444,\"#bd3786\"],[0.5555555555555556,\"#d8576b\"],[0.6666666666666666,\"#ed7953\"],[0.7777777777777778,\"#fb9f3a\"],[0.8888888888888888,\"#fdca26\"],[1.0,\"#f0f921\"]],\"type\":\"surface\"}],\"table\":[{\"cells\":{\"fill\":{\"color\":\"#EBF0F8\"},\"line\":{\"color\":\"white\"}},\"header\":{\"fill\":{\"color\":\"#C8D4E3\"},\"line\":{\"color\":\"white\"}},\"type\":\"table\"}]},\"layout\":{\"annotationdefaults\":{\"arrowcolor\":\"#2a3f5f\",\"arrowhead\":0,\"arrowwidth\":1},\"autotypenumbers\":\"strict\",\"coloraxis\":{\"colorbar\":{\"outlinewidth\":0,\"ticks\":\"\"}},\"colorscale\":{\"diverging\":[[0,\"#8e0152\"],[0.1,\"#c51b7d\"],[0.2,\"#de77ae\"],[0.3,\"#f1b6da\"],[0.4,\"#fde0ef\"],[0.5,\"#f7f7f7\"],[0.6,\"#e6f5d0\"],[0.7,\"#b8e186\"],[0.8,\"#7fbc41\"],[0.9,\"#4d9221\"],[1,\"#276419\"]],\"sequential\":[[0.0,\"#0d0887\"],[0.1111111111111111,\"#46039f\"],[0.2222222222222222,\"#7201a8\"],[0.3333333333333333,\"#9c179e\"],[0.4444444444444444,\"#bd3786\"],[0.5555555555555556,\"#d8576b\"],[0.6666666666666666,\"#ed7953\"],[0.7777777777777778,\"#fb9f3a\"],[0.8888888888888888,\"#fdca26\"],[1.0,\"#f0f921\"]],\"sequentialminus\":[[0.0,\"#0d0887\"],[0.1111111111111111,\"#46039f\"],[0.2222222222222222,\"#7201a8\"],[0.3333333333333333,\"#9c179e\"],[0.4444444444444444,\"#bd3786\"],[0.5555555555555556,\"#d8576b\"],[0.6666666666666666,\"#ed7953\"],[0.7777777777777778,\"#fb9f3a\"],[0.8888888888888888,\"#fdca26\"],[1.0,\"#f0f921\"]]},\"colorway\":[\"#636efa\",\"#EF553B\",\"#00cc96\",\"#ab63fa\",\"#FFA15A\",\"#19d3f3\",\"#FF6692\",\"#B6E880\",\"#FF97FF\",\"#FECB52\"],\"font\":{\"color\":\"#2a3f5f\"},\"geo\":{\"bgcolor\":\"white\",\"lakecolor\":\"white\",\"landcolor\":\"#E5ECF6\",\"showlakes\":true,\"showland\":true,\"subunitcolor\":\"white\"},\"hoverlabel\":{\"align\":\"left\"},\"hovermode\":\"closest\",\"mapbox\":{\"style\":\"light\"},\"paper_bgcolor\":\"white\",\"plot_bgcolor\":\"#E5ECF6\",\"polar\":{\"angularaxis\":{\"gridcolor\":\"white\",\"linecolor\":\"white\",\"ticks\":\"\"},\"bgcolor\":\"#E5ECF6\",\"radialaxis\":{\"gridcolor\":\"white\",\"linecolor\":\"white\",\"ticks\":\"\"}},\"scene\":{\"xaxis\":{\"backgroundcolor\":\"#E5ECF6\",\"gridcolor\":\"white\",\"gridwidth\":2,\"linecolor\":\"white\",\"showbackground\":true,\"ticks\":\"\",\"zerolinecolor\":\"white\"},\"yaxis\":{\"backgroundcolor\":\"#E5ECF6\",\"gridcolor\":\"white\",\"gridwidth\":2,\"linecolor\":\"white\",\"showbackground\":true,\"ticks\":\"\",\"zerolinecolor\":\"white\"},\"zaxis\":{\"backgroundcolor\":\"#E5ECF6\",\"gridcolor\":\"white\",\"gridwidth\":2,\"linecolor\":\"white\",\"showbackground\":true,\"ticks\":\"\",\"zerolinecolor\":\"white\"}},\"shapedefaults\":{\"line\":{\"color\":\"#2a3f5f\"}},\"ternary\":{\"aaxis\":{\"gridcolor\":\"white\",\"linecolor\":\"white\",\"ticks\":\"\"},\"baxis\":{\"gridcolor\":\"white\",\"linecolor\":\"white\",\"ticks\":\"\"},\"bgcolor\":\"#E5ECF6\",\"caxis\":{\"gridcolor\":\"white\",\"linecolor\":\"white\",\"ticks\":\"\"}},\"title\":{\"x\":0.05},\"xaxis\":{\"automargin\":true,\"gridcolor\":\"white\",\"linecolor\":\"white\",\"ticks\":\"\",\"title\":{\"standoff\":15},\"zerolinecolor\":\"white\",\"zerolinewidth\":2},\"yaxis\":{\"automargin\":true,\"gridcolor\":\"white\",\"linecolor\":\"white\",\"ticks\":\"\",\"title\":{\"standoff\":15},\"zerolinecolor\":\"white\",\"zerolinewidth\":2}}},\"geo\":{\"domain\":{\"x\":[0.0,1.0],\"y\":[0.0,1.0]},\"center\":{},\"scope\":\"usa\"},\"coloraxis\":{\"colorbar\":{\"title\":{\"text\":\"average early_career_pay\"}},\"colorscale\":[[0.0,\"#0d0887\"],[0.1111111111111111,\"#46039f\"],[0.2222222222222222,\"#7201a8\"],[0.3333333333333333,\"#9c179e\"],[0.4444444444444444,\"#bd3786\"],[0.5555555555555556,\"#d8576b\"],[0.6666666666666666,\"#ed7953\"],[0.7777777777777778,\"#fb9f3a\"],[0.8888888888888888,\"#fdca26\"],[1.0,\"#f0f921\"]]},\"legend\":{\"tracegroupgap\":0},\"margin\":{\"t\":60}},                        {\"responsive\": true}                    ).then(function(){\n",
       "                            \n",
       "var gd = document.getElementById('0eff3a40-5ada-42b1-98e6-36fa75813f24');\n",
       "var x = new MutationObserver(function (mutations, observer) {{\n",
       "        var display = window.getComputedStyle(gd).display;\n",
       "        if (!display || display === 'none') {{\n",
       "            console.log([gd, 'removed!']);\n",
       "            Plotly.purge(gd);\n",
       "            observer.disconnect();\n",
       "        }}\n",
       "}});\n",
       "\n",
       "// Listen for the removal of the full notebook cells\n",
       "var notebookContainer = gd.closest('#notebook-container');\n",
       "if (notebookContainer) {{\n",
       "    x.observe(notebookContainer, {childList: true});\n",
       "}}\n",
       "\n",
       "// Listen for the clearing of the current output cell\n",
       "var outputEl = gd.closest('.output');\n",
       "if (outputEl) {{\n",
       "    x.observe(outputEl, {childList: true});\n",
       "}}\n",
       "\n",
       "                        })                };                });            </script>        </div>"
      ]
     },
     "execution_count": 34,
     "metadata": {
     },
     "output_type": "execute_result"
    }
   ],
   "source": [
    "fig = px.choropleth(state_stats_extras, locations='state_code', locationmode=\"USA-states\", color=\"average early_career_pay\", scope=\"usa\")\n",
    "fig.show()"
   ]
  },
  {
   "cell_type": "markdown",
   "metadata": {
    "collapsed": false
   },
   "source": [
    "Add any more ideas you have here:"
   ]
  },
  {
   "cell_type": "code",
   "execution_count": 0,
   "metadata": {
    "collapsed": false
   },
   "outputs": [
   ],
   "source": [
   ]
  }
 ],
 "metadata": {
  "kernelspec": {
   "display_name": "Python 3 (Ubuntu Linux)",
   "language": "python",
   "name": "python3-ubuntu",
   "resource_dir": "/usr/local/share/jupyter/kernels/python3-ubuntu"
  },
  "language_info": {
   "codemirror_mode": {
    "name": "ipython",
    "version": 3
   },
   "file_extension": ".py",
   "mimetype": "text/x-python",
   "name": "python",
   "nbconvert_exporter": "python",
   "pygments_lexer": "ipython3",
   "version": "3.8.8"
  }
 },
 "nbformat": 4,
 "nbformat_minor": 4
}
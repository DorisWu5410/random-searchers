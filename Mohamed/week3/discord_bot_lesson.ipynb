{
  "cells": [
    {
      "cell_type": "markdown",
      "metadata": {
        "id": "hqcyu3S4QOK4"
      },
      "source": [
        "# Lets Build a Discord Bot!"
      ]
    },
    {
      "cell_type": "markdown",
      "metadata": {
        "id": "0MtQ6BSpRk38"
      },
      "source": [
        "<h3>Installing Dependencies and Importing Them</h3>\n",
        "\n",
        "First you must install the **dependencies** necessary for thisproject.\n",
        "\n",
        "* **discord.py** is needed for all discord related commands\n",
        "* **the Bot class from discord.ext.commands** is the \"bot\" we will be working with (to be connected to the discord bot on the actual platform), commands and tasks are more discord related commands. \n",
        "* **load_dotenv** is for fetching secret variables from the .env file we will create\n",
        "* **os** is important for managing files\n",
        "* **json** is needed for dictionary storage\n",
        "* **datetime** is needed for time tracking.\n",
        "* **asyncio** is necessary to run simultaneous functions instead of chronological functions.  "
      ]
    },
    {
      "cell_type": "code",
      "execution_count": null,
      "metadata": {
        "id": "k3W8-uz5QMGF"
      },
      "outputs": [],
      "source": [
        "#imports discord dependencies to send messages, json to store user data\n",
        "import discord\n",
        "from discord.ext.commands import Bot\n",
        "from discord.ext import commands, tasks\n",
        "from dotenv import load_dotenv\n",
        "import os\n",
        "import json\n",
        "import datetime as dt\n",
        "import asyncio"
      ]
    },
    {
      "cell_type": "markdown",
      "metadata": {
        "id": "zRZtS5XuRiwm"
      },
      "source": [
        "<h1>Connect the Discord code to Discord Bot on Platform</h1>\n",
        "Make sure to set the “general_channel” variable to the id of the channel you want to send the status update to. To find the id of the channel, change discord to developer mode (tutorial:https://techswift.org/2020/09/17/how-to-enable-developer-mode-in-discord/), right click on the channel you want to use, and copy the id of the channel, as you need the id to send a message on that channel. \n",
        "\n",
        "Here, the **user dict is also defined**, which is where we will be storing all the user identities and whether they completed their goals. The Bot class is initialized using the variable *“bot,”* with the attribute *“command_prefix”* set to *“$”*. The character you set the command_prefix to will indicate which special character you need to start a bot command with in order to run a command. Here are the docs: https://discordpy.readthedocs.io/en/stable/ \n",
        "\n",
        "Finally, **the *TOKEN* variable is the secret token you need in order to connect your bot to the discord token online.** You can find the secret token when you select \"bot\" in the sidebar of the settings of your discord bot (on your discord applications page) and you should copy the token. Use a .env file to store your secret token, and access it using the *python-dotenv* library. Explanation for storing and accessing secret token here: https://dev.to/jakewitcher/using-env-files-for-environment-variables-in-python-applications-55a1"
      ]
    },
    {
      "cell_type": "code",
      "execution_count": null,
      "metadata": {
        "id": "2gnAyzcISS9f"
      },
      "outputs": [],
      "source": [
        "#defines id of the main discord channel\n",
        "general_channel = 'your general channel id'\n",
        "\n",
        "#defines user dictionary to keep track of all the users and their goals\n",
        "user_dict = 'Define user dict'\n",
        "\n",
        "#defines bot, will respond with commands prefixed with $. Bot token is defined to gain access to discord bot on the actual platform\n",
        "load_dotenv()\n",
        "bot = \"Initialize class 'Bot' from the discord.ext.commands library and set the command_prefix attribute\"\n",
        "TOKEN = 'Get secret token from .env file'"
      ]
    },
    {
      "cell_type": "markdown",
      "metadata": {
        "id": "KOnR1Ju4TgIZ"
      },
      "source": [
        "<h1>Sending a Message when the Bot is Ready</h1>\n",
        "These are the next bot commands you need to write. @bot.event is a <b>decorator</b>, meaning it modifies your function to make it suitable for discord. @bot.event means that it is an event that happens to a bot. Make sure not to modify the name of the function “on_ready” because it is a set function name recognized by the discord decorator to be called on load. <b>The function pretty much prints when the bot code is connected to the discord bot.</b> Try formatting \"bot.user\", the name of your bot, into your print statement. Finally, what does the “async” before the function name mean? It means that it is an <b>asynchronous function</b>, so that your code can execute multiple functions at the same time, instead of in a row.\n",
        "\n",
        "Now run the following cell and see if the discord bot is ready for coding! It should respond with the message you put in the print statement. "
      ]
    },
    {
      "cell_type": "code",
      "execution_count": null,
      "metadata": {
        "id": "OnNFkIu6VlpY"
      },
      "outputs": [],
      "source": [
        "@bot.event\n",
        "# prints out message once discord code is connected to discord bot on platform\n",
        "async def on_ready():\n",
        "\tprint('message that says bot is connected and formatted bot user name')"
      ]
    },
    {
      "cell_type": "markdown",
      "metadata": {
        "id": "nux17QkwVwKi"
      },
      "source": [
        "<h1>Allow Users to Log Goals and Test (Your First Discord Bot Message)</h1>\n",
        "This is also an asynchronous function, but in contrast with the previous function, this is under the @bot.command decorator. This means that if a user executes a specific command (remember, \"$\" followed by the specific command), the bot will execute this. Under the parenthesis of the decorator, the name attribute defines the command needed to execute the function. What this function does is checks if a new user enters a new goal after the $goal command. The arg property is the goal that the new user inputs. The arg property is initially set to none, and when the user inputs a message the arg property will be set to that message automatically. The conditional determines whether the arg property is None, and therefore determines whether the user sent anything. If the user has entered something, the bot sends a message using the ctx.send() method, and in parenthesis a formatted string that includes “goal logged” @ the author’s name. \n",
        "\n",
        "\n",
        "<h3>How to @ A user</h3>\n",
        "To @ a user, you must use the format <@userid> in the quotes. The user id is ctx.message.author.id.\n",
        "<h3>Feedback</h3>\n",
        "The function than logs the user’s name (ctx.message.author.name) as the key and the total ctx.message.author.id (the user id), the specific goal (arg), how many days the user has completed the goal (0 so far), and whether the user has completed the goal (so far False) as the value in the dictionary. Finally, notice how after the goal is logged in the dictionary, this is dumped as a json file. This is to store user data in case the server goes down.\n",
        "\n",
        "<h5>Now, test out the following function. Type in $goal followed by whatever your goal is and see if the discord bot responds with \"goal logged!\" </h3>"
      ]
    },
    {
      "cell_type": "code",
      "execution_count": 3,
      "metadata": {
        "id": "UH0wA-x2Syss"
      },
      "outputs": [
        {
          "ename": "NameError",
          "evalue": "name 'bot' is not defined",
          "output_type": "error",
          "traceback": [
            "\u001b[1;31m---------------------------------------------------------------------------\u001b[0m",
            "\u001b[1;31mNameError\u001b[0m                                 Traceback (most recent call last)",
            "Input \u001b[1;32mIn [3]\u001b[0m, in \u001b[0;36m<cell line: 1>\u001b[1;34m()\u001b[0m\n\u001b[1;32m----> 1\u001b[0m \u001b[39m@bot\u001b[39m\u001b[39m.\u001b[39mcommand(\u001b[39m\"\u001b[39m\u001b[39mdefine what command you want the user to input using the name attribute\u001b[39m\u001b[39m\"\u001b[39m)\n\u001b[0;32m      2\u001b[0m \u001b[39masync\u001b[39;00m \u001b[39mdef\u001b[39;00m \u001b[39mgoal\u001b[39m(ctx, \u001b[39m*\u001b[39m, arg\u001b[39m=\u001b[39m\u001b[39mNone\u001b[39;00m):\n\u001b[0;32m      3\u001b[0m     \u001b[39m'''logs goal if user inputs $goal command on the main channel followed by the goal they want to follow'''\u001b[39;00m\n\u001b[0;32m      5\u001b[0m     \u001b[39m#If user has inputted something, continue\u001b[39;00m\n",
            "\u001b[1;31mNameError\u001b[0m: name 'bot' is not defined"
          ]
        }
      ],
      "source": [
        "@bot.command(\"define what command you want the user to input using the name attribute\")\n",
        "async def goal(ctx, *, arg=None):\n",
        "    '''logs goal if user inputs $goal command on the main channel followed by the goal they want to follow'''\n",
        "\n",
        "    #If user has inputted something, continue\n",
        "    if \"the user has not inputted something\":\n",
        "        #sends a message on the main channel that tells the user their goal has been logged\n",
        "        await \"send a message to the user using the ctx.send command\"\n",
        "\n",
        "        #logs the user's name as the key and the user, goal, days completed, and today's completion as the value in the user dictionary\n",
        "        user_dict[\"user's name as key\"] = \"user dictionary as value\"\n",
        "\n",
        "        #save the dictionary to a json in case the program stops\n",
        "        with open('user_data.json', 'w') as fp:\n",
        "            json.dump(user_dict, fp)\n",
        "    #if the user has not inputted anything, tell them to input something after command\n",
        "    else:\n",
        "        await \"send the user a message that they have to input a goal after the command\""
      ]
    },
    {
      "cell_type": "markdown",
      "metadata": {
        "id": "WeM7dBeQW3Mi"
      },
      "source": [
        "<h1>Users Logging Completion of Goals and Test</h1>\n",
        "\n",
        "This is a similar function to the previous command function. Now, if a user ever enters the command $completed during the day, then the bot will first send the user a private message through the method “ctx.message.author.send” then @ the user with the message “completion logged.” The bot accesses the user dictionary and increases the days the user has logged days by one. Finally, the bot will change the value of whether the user completed the challenge to True. However, if the user has already logged completion (using the conditional), then the bot will send the user a message that tells the user they have already completed the daily goal. There is exception handling if the user is not in the database, and if not the bot sends the user a message to log a goal first. \n",
        "\n",
        "<h5>Now, run the following function and see if the discord bot responds with \"completion logged\" when you send the command \\$completed!</h5>"
      ]
    },
    {
      "cell_type": "code",
      "execution_count": null,
      "metadata": {
        "id": "R0IbJesKWrT7"
      },
      "outputs": [],
      "source": [
        "'''logs completion if the user tells the bot they have completed the goal'''\n",
        "\"add command decorator like for the previous function here with the command $completed\"\n",
        "async def completed(ctx):\n",
        "\n",
        "    #if the user is in the database, then log their completion\n",
        "    try:\n",
        "        #only logs if the user has not completed the goal today (if the user has already completed no need to log)\n",
        "        if \"completed today is false\":\n",
        "\n",
        "            #sends a message to the user that their completion has been logged\n",
        "            await \"send the @ author a message telling them their completion is logged and to have a nice day\"\n",
        "\n",
        "            #increases the days of completion by one\n",
        "            \"add one to the user's number of goals accomplished\"\n",
        "\n",
        "            #logs that the user has completed the goal today\n",
        "            \"log that the user has completed the goal using the user dictionary\"\n",
        "\n",
        "            #save the dictionary to a json in case the program stops\n",
        "            with open('user_data.json', 'w') as fp:\n",
        "                json.dump(user_dict, fp)\n",
        "\n",
        "        #if user has already logged completion today, tell them they already completed the goal\n",
        "        else:\n",
        "            await \"send the user a message that they need to wait another day since they have already logged completion\"\n",
        "\n",
        "    #if the user is not in the database, tell them to log their goal first\n",
        "    except KeyError:\n",
        "\n",
        "        #send user a message telling them to log their goal\n",
        "        await \"send the user a message that they need to log their goal before logging completion\""
      ]
    },
    {
      "cell_type": "markdown",
      "metadata": {
        "id": "Eak1neyAYE3H"
      },
      "source": [
        "<h1>Sending Reminders</h1>\n",
        "\n",
        "We’re almost done! A couple final functions. First, the @task.loop(hours = 24) is a decorator that loops the function every 24 hours. This first function essentially sends direct messages to the users asking them if they have completed their specific goal. It iterates over the dictionary and sends a private message to each user. The second function is used to sync the first function, and waits to start the loop of the first function until a certain time is hit. It needs to wait every second to make sure the time is right, so use the asyncio.sleep function with the number of seconds waited as a parameter.\n",
        "\n",
        "<h5>Now, test the function to see how the discord bot send reminders! To do this, you can change the hour the messages are sent to right now and make the loop every 10 seconds so you can see live reminders every 10 seconds</h5>"
      ]
    },
    {
      "cell_type": "code",
      "execution_count": null,
      "metadata": {
        "id": "P9utcGbMX7Al"
      },
      "outputs": [],
      "source": [
        "'''loops with interval of 24 hours, sends DMs to all users reminding them of goal'''\n",
        "@tasks.loop(hours=24)\n",
        "async def send_reminders():\n",
        "\n",
        "    #iterates through the dictionary to send messages to all users\n",
        "    for \"key-value pairs\" in \"items of the dictionary\":\n",
        "\n",
        "        #getting the user info from the user id\n",
        "        user = await \"use bot.fetch_user('id of the user from the dictionary')\"\n",
        "\n",
        "        #sending the reminder to the user\n",
        "        await user.send(f\"a reminder to complete _____ goal today (use formatting to fill in the goal\")\n",
        "\n",
        "'''Counts seconds until 10 o' clock is reached to send the daily reminder, in order to sync the main loop'''\n",
        "@send_reminders.before_loop\n",
        "async def before_send_reminders():\n",
        "    # loops through the whole day\n",
        "    for _ in range(\"iterate through 24 hours worth of seconds\"):  \n",
        "\n",
        "        #if the hour is at 10 A.M (parameter), end the before loop\n",
        "        if \"until the datetime hour is 10 A.M\":  \n",
        "            return\n",
        "        await \"use asyncio to wait a second\""
      ]
    },
    {
      "cell_type": "markdown",
      "metadata": {
        "id": "4FC5L_6HZrh-"
      },
      "source": [
        "<h1>Send Daily Status Update</h1>\n",
        "\n",
        "This function sends a daily status update every 24 hours to the main channel. You get the actual channel object from the id through the bot.get_channel method. The function then iterates through the dictionary to put the number of days out of 21 each user has completed the challenge. The syncing function right after syncs the loop of the first function to start at midnight. \n",
        "\n",
        "<h3>Start processes of daily loops</h3>\n",
        "send_reminders.start() and send_daily_goals.start() start the process of looping 24 hours. \n",
        "\n",
        "<h3>Connect Bot Code to Discord Platform</h3>\n",
        "Finally, bot.run(TOKEN) uses the token to connect the bot code and the actual discord bot, and starts the asynchronous functions. Run the program and the discord bot should start working on your server!\n",
        "\n",
        "<h5>Now, you should have a fully functioning discord bot! It should log goals, send daily reminders, give daily status updates, and log user completion!</h5>"
      ]
    },
    {
      "cell_type": "code",
      "execution_count": null,
      "metadata": {
        "id": "S_lQwFWtZq5g"
      },
      "outputs": [],
      "source": [
        "# loops over 24 hours, sends how many days every user has completed their goal in the main channel\n",
        "# use @tasks decorator to loop 24 hours\n",
        "async def send_daily_goals():\n",
        "    #gets the main channel\n",
        "    message_channel = \"get channel object from general channel id\"\n",
        "\n",
        "    #iterates over all the users to send how many days each user has completed their goal. \n",
        "    for \"iterate through dictionary items\":\n",
        "        # set whether the user completed their goal to false (its a new day after the status update)\n",
        "        await message_channel.send(f\"{key} has finished {value['goals_accomplished']}/21  days of his goal: {value['goal']}\")\n",
        "\n",
        "# counts seconds until main loop in order to sync main loop to the daily status update time required (12 midnight)\n",
        "@send_daily_goals.before_loop\n",
        "async def before_send_daily_goals():\n",
        "    # loops through the whole day\n",
        "    for \"iterate through seconds\":  \n",
        "\n",
        "        #if the hour is at 12 midnight (parameter), end the before loop\n",
        "        if \"check if the datetime is midnight, which is hour 0 in the datetime library\":  \n",
        "            return\n",
        "        await \"wait a second\"\n",
        "#start the reminders 24 hour loop and the daily_goals loop \n",
        "send_reminders.start()\n",
        "send_daily_goals.start()\n",
        "\n",
        "#start running the bot/program\n",
        "bot.run(TOKEN)"
      ]
    },
    {
      "cell_type": "markdown",
      "metadata": {
        "id": "3_GuT4KjWCaE"
      },
      "source": [
        "<h1>Final Thoughts</h1>\n",
        "\n",
        "<h5>Find the full github code with answers at https://github.com/organization-x/21_day_bot</h5>\n",
        "\n",
        "\n",
        "- One final note: If you are using cloud computing like google colab, or cocalc (coding center), make sure to set your date time module’s timezone correctly, because the cloud computer’s time syncing might not be the same as your own timezone. \n",
        "\n",
        "\n",
        "In conclusion, we learned a lot about python programming, discord bots, and learned about some challenging topics. Read over it if you cannot understand it immediately, and experiment with the code to see if you can add your own features. Remember, following the tutorial is only half of the learning. You will learn much more by incorporating your own features!\n"
      ]
    }
  ],
  "metadata": {
    "colab": {
      "name": "discord_bot_lesson.ipynb",
      "provenance": [],
      "toc_visible": true
    },
    "interpreter": {
      "hash": "cb967a7654c6c1249da87d16185e722a80b7be1e99f14640e1e0d070d125973a"
    },
    "kernelspec": {
      "display_name": "Python 3.9.6 64-bit",
      "language": "python",
      "name": "python3"
    },
    "language_info": {
      "codemirror_mode": {
        "name": "ipython",
        "version": 3
      },
      "file_extension": ".py",
      "mimetype": "text/x-python",
      "name": "python",
      "nbconvert_exporter": "python",
      "pygments_lexer": "ipython3",
      "version": "3.9.6"
    }
  },
  "nbformat": 4,
  "nbformat_minor": 0
}

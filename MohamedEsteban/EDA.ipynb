{
 "cells": [
  {
   "cell_type": "code",
   "execution_count": 1,
   "metadata": {
    "collapsed": false
   },
   "outputs": [
   ],
   "source": [
    "import pandas as pd\n",
    "import plotly.graph_objects as go\n",
    "import numpy as np"
   ]
  },
  {
   "cell_type": "code",
   "execution_count": 0,
   "metadata": {
    "collapsed": false
   },
   "outputs": [
   ],
   "source": [
   ]
  },
  {
   "cell_type": "code",
   "execution_count": 25,
   "metadata": {
    "collapsed": false
   },
   "outputs": [
   ],
   "source": [
    "df = pd.read_csv(\"./NKI_cleaned.csv\")"
   ]
  },
  {
   "cell_type": "code",
   "execution_count": 26,
   "metadata": {
    "collapsed": false,
    "scrolled": true
   },
   "outputs": [
    {
     "data": {
      "text/html": [
       "<div>\n",
       "<style scoped>\n",
       "    .dataframe tbody tr th:only-of-type {\n",
       "        vertical-align: middle;\n",
       "    }\n",
       "\n",
       "    .dataframe tbody tr th {\n",
       "        vertical-align: top;\n",
       "    }\n",
       "\n",
       "    .dataframe thead th {\n",
       "        text-align: right;\n",
       "    }\n",
       "</style>\n",
       "<table border=\"1\" class=\"dataframe\">\n",
       "  <thead>\n",
       "    <tr style=\"text-align: right;\">\n",
       "      <th></th>\n",
       "      <th>Patient</th>\n",
       "      <th>ID</th>\n",
       "      <th>age</th>\n",
       "      <th>eventdeath</th>\n",
       "      <th>survival</th>\n",
       "      <th>timerecurrence</th>\n",
       "      <th>chemo</th>\n",
       "      <th>hormonal</th>\n",
       "      <th>amputation</th>\n",
       "      <th>histtype</th>\n",
       "      <th>...</th>\n",
       "      <th>Contig36312_RC</th>\n",
       "      <th>Contig38980_RC</th>\n",
       "      <th>NM_000853</th>\n",
       "      <th>NM_000854</th>\n",
       "      <th>NM_000860</th>\n",
       "      <th>Contig29014_RC</th>\n",
       "      <th>Contig46616_RC</th>\n",
       "      <th>NM_000888</th>\n",
       "      <th>NM_000898</th>\n",
       "      <th>AF067420</th>\n",
       "    </tr>\n",
       "  </thead>\n",
       "  <tbody>\n",
       "    <tr>\n",
       "      <th>0</th>\n",
       "      <td>s122</td>\n",
       "      <td>18</td>\n",
       "      <td>43</td>\n",
       "      <td>0</td>\n",
       "      <td>14.817248</td>\n",
       "      <td>14.817248</td>\n",
       "      <td>0</td>\n",
       "      <td>0</td>\n",
       "      <td>1</td>\n",
       "      <td>1</td>\n",
       "      <td>...</td>\n",
       "      <td>0.591103</td>\n",
       "      <td>-0.355018</td>\n",
       "      <td>0.373644</td>\n",
       "      <td>-0.760690</td>\n",
       "      <td>-0.164025</td>\n",
       "      <td>-0.038726</td>\n",
       "      <td>0.237856</td>\n",
       "      <td>-0.087631</td>\n",
       "      <td>-0.369153</td>\n",
       "      <td>0.153795</td>\n",
       "    </tr>\n",
       "    <tr>\n",
       "      <th>1</th>\n",
       "      <td>s123</td>\n",
       "      <td>19</td>\n",
       "      <td>48</td>\n",
       "      <td>0</td>\n",
       "      <td>14.261465</td>\n",
       "      <td>14.261465</td>\n",
       "      <td>0</td>\n",
       "      <td>0</td>\n",
       "      <td>0</td>\n",
       "      <td>1</td>\n",
       "      <td>...</td>\n",
       "      <td>-0.199829</td>\n",
       "      <td>-0.001635</td>\n",
       "      <td>-0.062922</td>\n",
       "      <td>-0.682204</td>\n",
       "      <td>-0.220934</td>\n",
       "      <td>-0.100088</td>\n",
       "      <td>-0.466537</td>\n",
       "      <td>-0.231547</td>\n",
       "      <td>-0.643019</td>\n",
       "      <td>-0.014098</td>\n",
       "    </tr>\n",
       "    <tr>\n",
       "      <th>2</th>\n",
       "      <td>s124</td>\n",
       "      <td>20</td>\n",
       "      <td>38</td>\n",
       "      <td>0</td>\n",
       "      <td>6.644764</td>\n",
       "      <td>6.644764</td>\n",
       "      <td>0</td>\n",
       "      <td>0</td>\n",
       "      <td>0</td>\n",
       "      <td>1</td>\n",
       "      <td>...</td>\n",
       "      <td>0.328736</td>\n",
       "      <td>-0.047571</td>\n",
       "      <td>0.084228</td>\n",
       "      <td>-0.695950</td>\n",
       "      <td>-0.402840</td>\n",
       "      <td>-0.099965</td>\n",
       "      <td>0.110155</td>\n",
       "      <td>-0.114298</td>\n",
       "      <td>0.258495</td>\n",
       "      <td>-0.198911</td>\n",
       "    </tr>\n",
       "    <tr>\n",
       "      <th>3</th>\n",
       "      <td>s125</td>\n",
       "      <td>21</td>\n",
       "      <td>50</td>\n",
       "      <td>0</td>\n",
       "      <td>7.748118</td>\n",
       "      <td>7.748118</td>\n",
       "      <td>0</td>\n",
       "      <td>1</td>\n",
       "      <td>0</td>\n",
       "      <td>1</td>\n",
       "      <td>...</td>\n",
       "      <td>0.648861</td>\n",
       "      <td>-0.039088</td>\n",
       "      <td>0.182182</td>\n",
       "      <td>-0.524640</td>\n",
       "      <td>0.037320</td>\n",
       "      <td>-0.167688</td>\n",
       "      <td>-0.016790</td>\n",
       "      <td>-0.285344</td>\n",
       "      <td>-0.251188</td>\n",
       "      <td>0.862710</td>\n",
       "    </tr>\n",
       "    <tr>\n",
       "      <th>4</th>\n",
       "      <td>s126</td>\n",
       "      <td>22</td>\n",
       "      <td>38</td>\n",
       "      <td>0</td>\n",
       "      <td>6.436687</td>\n",
       "      <td>6.318960</td>\n",
       "      <td>0</td>\n",
       "      <td>0</td>\n",
       "      <td>1</td>\n",
       "      <td>1</td>\n",
       "      <td>...</td>\n",
       "      <td>-0.287538</td>\n",
       "      <td>-0.286893</td>\n",
       "      <td>0.057082</td>\n",
       "      <td>-0.565021</td>\n",
       "      <td>-0.105632</td>\n",
       "      <td>-0.108148</td>\n",
       "      <td>-0.405853</td>\n",
       "      <td>-0.053601</td>\n",
       "      <td>-0.677072</td>\n",
       "      <td>0.134160</td>\n",
       "    </tr>\n",
       "    <tr>\n",
       "      <th>5</th>\n",
       "      <td>s127</td>\n",
       "      <td>23</td>\n",
       "      <td>42</td>\n",
       "      <td>0</td>\n",
       "      <td>5.037645</td>\n",
       "      <td>2.743326</td>\n",
       "      <td>1</td>\n",
       "      <td>0</td>\n",
       "      <td>1</td>\n",
       "      <td>1</td>\n",
       "      <td>...</td>\n",
       "      <td>-0.417534</td>\n",
       "      <td>-0.141338</td>\n",
       "      <td>-0.492190</td>\n",
       "      <td>0.090633</td>\n",
       "      <td>-0.169754</td>\n",
       "      <td>-0.220211</td>\n",
       "      <td>-0.429283</td>\n",
       "      <td>-0.042797</td>\n",
       "      <td>-0.394709</td>\n",
       "      <td>-0.390144</td>\n",
       "    </tr>\n",
       "    <tr>\n",
       "      <th>6</th>\n",
       "      <td>s128</td>\n",
       "      <td>24</td>\n",
       "      <td>50</td>\n",
       "      <td>0</td>\n",
       "      <td>8.739220</td>\n",
       "      <td>8.739220</td>\n",
       "      <td>1</td>\n",
       "      <td>1</td>\n",
       "      <td>0</td>\n",
       "      <td>1</td>\n",
       "      <td>...</td>\n",
       "      <td>0.086751</td>\n",
       "      <td>-0.144424</td>\n",
       "      <td>-0.778273</td>\n",
       "      <td>0.024693</td>\n",
       "      <td>0.204909</td>\n",
       "      <td>-0.043497</td>\n",
       "      <td>-0.172939</td>\n",
       "      <td>-0.013997</td>\n",
       "      <td>-0.437534</td>\n",
       "      <td>0.255511</td>\n",
       "    </tr>\n",
       "    <tr>\n",
       "      <th>7</th>\n",
       "      <td>s129</td>\n",
       "      <td>25</td>\n",
       "      <td>43</td>\n",
       "      <td>0</td>\n",
       "      <td>7.567420</td>\n",
       "      <td>7.567420</td>\n",
       "      <td>1</td>\n",
       "      <td>0</td>\n",
       "      <td>0</td>\n",
       "      <td>1</td>\n",
       "      <td>...</td>\n",
       "      <td>-0.003150</td>\n",
       "      <td>0.043824</td>\n",
       "      <td>0.442394</td>\n",
       "      <td>-0.498541</td>\n",
       "      <td>-0.231900</td>\n",
       "      <td>0.029205</td>\n",
       "      <td>-0.078742</td>\n",
       "      <td>-0.241568</td>\n",
       "      <td>-0.841080</td>\n",
       "      <td>-0.680880</td>\n",
       "    </tr>\n",
       "    <tr>\n",
       "      <th>8</th>\n",
       "      <td>s130</td>\n",
       "      <td>26</td>\n",
       "      <td>47</td>\n",
       "      <td>0</td>\n",
       "      <td>7.296372</td>\n",
       "      <td>7.296372</td>\n",
       "      <td>1</td>\n",
       "      <td>0</td>\n",
       "      <td>0</td>\n",
       "      <td>1</td>\n",
       "      <td>...</td>\n",
       "      <td>-0.362921</td>\n",
       "      <td>-0.038672</td>\n",
       "      <td>-0.647650</td>\n",
       "      <td>-0.760694</td>\n",
       "      <td>0.146781</td>\n",
       "      <td>0.038366</td>\n",
       "      <td>-0.127822</td>\n",
       "      <td>-0.058059</td>\n",
       "      <td>-1.041802</td>\n",
       "      <td>-0.130038</td>\n",
       "    </tr>\n",
       "    <tr>\n",
       "      <th>9</th>\n",
       "      <td>s131</td>\n",
       "      <td>27</td>\n",
       "      <td>39</td>\n",
       "      <td>1</td>\n",
       "      <td>4.662560</td>\n",
       "      <td>1.114305</td>\n",
       "      <td>0</td>\n",
       "      <td>0</td>\n",
       "      <td>0</td>\n",
       "      <td>1</td>\n",
       "      <td>...</td>\n",
       "      <td>-0.845758</td>\n",
       "      <td>0.635155</td>\n",
       "      <td>-0.235659</td>\n",
       "      <td>-0.396895</td>\n",
       "      <td>-0.474251</td>\n",
       "      <td>-0.298208</td>\n",
       "      <td>-0.531806</td>\n",
       "      <td>0.091948</td>\n",
       "      <td>-0.605779</td>\n",
       "      <td>-0.607580</td>\n",
       "    </tr>\n",
       "  </tbody>\n",
       "</table>\n",
       "<p>10 rows × 1570 columns</p>\n",
       "</div>"
      ],
      "text/plain": [
       "  Patient  ID  age  eventdeath   survival  timerecurrence  chemo  hormonal  \\\n",
       "0    s122  18   43           0  14.817248       14.817248      0         0   \n",
       "1    s123  19   48           0  14.261465       14.261465      0         0   \n",
       "2    s124  20   38           0   6.644764        6.644764      0         0   \n",
       "3    s125  21   50           0   7.748118        7.748118      0         1   \n",
       "4    s126  22   38           0   6.436687        6.318960      0         0   \n",
       "5    s127  23   42           0   5.037645        2.743326      1         0   \n",
       "6    s128  24   50           0   8.739220        8.739220      1         1   \n",
       "7    s129  25   43           0   7.567420        7.567420      1         0   \n",
       "8    s130  26   47           0   7.296372        7.296372      1         0   \n",
       "9    s131  27   39           1   4.662560        1.114305      0         0   \n",
       "\n",
       "   amputation  histtype  ...  Contig36312_RC  Contig38980_RC  NM_000853  \\\n",
       "0           1         1  ...        0.591103       -0.355018   0.373644   \n",
       "1           0         1  ...       -0.199829       -0.001635  -0.062922   \n",
       "2           0         1  ...        0.328736       -0.047571   0.084228   \n",
       "3           0         1  ...        0.648861       -0.039088   0.182182   \n",
       "4           1         1  ...       -0.287538       -0.286893   0.057082   \n",
       "5           1         1  ...       -0.417534       -0.141338  -0.492190   \n",
       "6           0         1  ...        0.086751       -0.144424  -0.778273   \n",
       "7           0         1  ...       -0.003150        0.043824   0.442394   \n",
       "8           0         1  ...       -0.362921       -0.038672  -0.647650   \n",
       "9           0         1  ...       -0.845758        0.635155  -0.235659   \n",
       "\n",
       "   NM_000854  NM_000860  Contig29014_RC  Contig46616_RC  NM_000888  NM_000898  \\\n",
       "0  -0.760690  -0.164025       -0.038726        0.237856  -0.087631  -0.369153   \n",
       "1  -0.682204  -0.220934       -0.100088       -0.466537  -0.231547  -0.643019   \n",
       "2  -0.695950  -0.402840       -0.099965        0.110155  -0.114298   0.258495   \n",
       "3  -0.524640   0.037320       -0.167688       -0.016790  -0.285344  -0.251188   \n",
       "4  -0.565021  -0.105632       -0.108148       -0.405853  -0.053601  -0.677072   \n",
       "5   0.090633  -0.169754       -0.220211       -0.429283  -0.042797  -0.394709   \n",
       "6   0.024693   0.204909       -0.043497       -0.172939  -0.013997  -0.437534   \n",
       "7  -0.498541  -0.231900        0.029205       -0.078742  -0.241568  -0.841080   \n",
       "8  -0.760694   0.146781        0.038366       -0.127822  -0.058059  -1.041802   \n",
       "9  -0.396895  -0.474251       -0.298208       -0.531806   0.091948  -0.605779   \n",
       "\n",
       "   AF067420  \n",
       "0  0.153795  \n",
       "1 -0.014098  \n",
       "2 -0.198911  \n",
       "3  0.862710  \n",
       "4  0.134160  \n",
       "5 -0.390144  \n",
       "6  0.255511  \n",
       "7 -0.680880  \n",
       "8 -0.130038  \n",
       "9 -0.607580  \n",
       "\n",
       "[10 rows x 1570 columns]"
      ]
     },
     "execution_count": 26,
     "metadata": {
     },
     "output_type": "execute_result"
    }
   ],
   "source": [
    "df.head(10)"
   ]
  },
  {
   "cell_type": "code",
   "execution_count": 27,
   "metadata": {
    "collapsed": false
   },
   "outputs": [
    {
     "data": {
      "text/plain": [
       "Index(['Patient', 'ID', 'age', 'eventdeath', 'survival', 'timerecurrence',\n",
       "       'chemo', 'hormonal', 'amputation', 'histtype',\n",
       "       ...\n",
       "       'Contig36312_RC', 'Contig38980_RC', 'NM_000853', 'NM_000854',\n",
       "       'NM_000860', 'Contig29014_RC', 'Contig46616_RC', 'NM_000888',\n",
       "       'NM_000898', 'AF067420'],\n",
       "      dtype='object', length=1570)"
      ]
     },
     "execution_count": 27,
     "metadata": {
     },
     "output_type": "execute_result"
    }
   ],
   "source": [
    "df.columns"
   ]
  },
  {
   "cell_type": "code",
   "execution_count": 0,
   "metadata": {
    "collapsed": false
   },
   "outputs": [
   ],
   "source": [
   ]
  },
  {
   "cell_type": "code",
   "execution_count": 28,
   "metadata": {
    "collapsed": false
   },
   "outputs": [
    {
     "data": {
      "text/plain": [
       "1570"
      ]
     },
     "execution_count": 28,
     "metadata": {
     },
     "output_type": "execute_result"
    }
   ],
   "source": [
    "len(df.columns)"
   ]
  },
  {
   "cell_type": "code",
   "execution_count": 29,
   "metadata": {
    "collapsed": false
   },
   "outputs": [
   ],
   "source": [
    "df = df[['Patient', 'ID', 'age', 'eventdeath', 'survival', 'timerecurrence',\n",
    "       'chemo', 'hormonal', 'amputation', 'histtype']]"
   ]
  },
  {
   "cell_type": "code",
   "execution_count": 30,
   "metadata": {
    "collapsed": false
   },
   "outputs": [
    {
     "data": {
      "text/html": [
       "<div>\n",
       "<style scoped>\n",
       "    .dataframe tbody tr th:only-of-type {\n",
       "        vertical-align: middle;\n",
       "    }\n",
       "\n",
       "    .dataframe tbody tr th {\n",
       "        vertical-align: top;\n",
       "    }\n",
       "\n",
       "    .dataframe thead th {\n",
       "        text-align: right;\n",
       "    }\n",
       "</style>\n",
       "<table border=\"1\" class=\"dataframe\">\n",
       "  <thead>\n",
       "    <tr style=\"text-align: right;\">\n",
       "      <th></th>\n",
       "      <th>Patient</th>\n",
       "      <th>ID</th>\n",
       "      <th>age</th>\n",
       "      <th>eventdeath</th>\n",
       "      <th>survival</th>\n",
       "      <th>timerecurrence</th>\n",
       "      <th>chemo</th>\n",
       "      <th>hormonal</th>\n",
       "      <th>amputation</th>\n",
       "      <th>histtype</th>\n",
       "    </tr>\n",
       "  </thead>\n",
       "  <tbody>\n",
       "    <tr>\n",
       "      <th>0</th>\n",
       "      <td>s122</td>\n",
       "      <td>18</td>\n",
       "      <td>43</td>\n",
       "      <td>0</td>\n",
       "      <td>14.817248</td>\n",
       "      <td>14.817248</td>\n",
       "      <td>0</td>\n",
       "      <td>0</td>\n",
       "      <td>1</td>\n",
       "      <td>1</td>\n",
       "    </tr>\n",
       "    <tr>\n",
       "      <th>1</th>\n",
       "      <td>s123</td>\n",
       "      <td>19</td>\n",
       "      <td>48</td>\n",
       "      <td>0</td>\n",
       "      <td>14.261465</td>\n",
       "      <td>14.261465</td>\n",
       "      <td>0</td>\n",
       "      <td>0</td>\n",
       "      <td>0</td>\n",
       "      <td>1</td>\n",
       "    </tr>\n",
       "    <tr>\n",
       "      <th>2</th>\n",
       "      <td>s124</td>\n",
       "      <td>20</td>\n",
       "      <td>38</td>\n",
       "      <td>0</td>\n",
       "      <td>6.644764</td>\n",
       "      <td>6.644764</td>\n",
       "      <td>0</td>\n",
       "      <td>0</td>\n",
       "      <td>0</td>\n",
       "      <td>1</td>\n",
       "    </tr>\n",
       "    <tr>\n",
       "      <th>3</th>\n",
       "      <td>s125</td>\n",
       "      <td>21</td>\n",
       "      <td>50</td>\n",
       "      <td>0</td>\n",
       "      <td>7.748118</td>\n",
       "      <td>7.748118</td>\n",
       "      <td>0</td>\n",
       "      <td>1</td>\n",
       "      <td>0</td>\n",
       "      <td>1</td>\n",
       "    </tr>\n",
       "    <tr>\n",
       "      <th>4</th>\n",
       "      <td>s126</td>\n",
       "      <td>22</td>\n",
       "      <td>38</td>\n",
       "      <td>0</td>\n",
       "      <td>6.436687</td>\n",
       "      <td>6.318960</td>\n",
       "      <td>0</td>\n",
       "      <td>0</td>\n",
       "      <td>1</td>\n",
       "      <td>1</td>\n",
       "    </tr>\n",
       "    <tr>\n",
       "      <th>5</th>\n",
       "      <td>s127</td>\n",
       "      <td>23</td>\n",
       "      <td>42</td>\n",
       "      <td>0</td>\n",
       "      <td>5.037645</td>\n",
       "      <td>2.743326</td>\n",
       "      <td>1</td>\n",
       "      <td>0</td>\n",
       "      <td>1</td>\n",
       "      <td>1</td>\n",
       "    </tr>\n",
       "    <tr>\n",
       "      <th>6</th>\n",
       "      <td>s128</td>\n",
       "      <td>24</td>\n",
       "      <td>50</td>\n",
       "      <td>0</td>\n",
       "      <td>8.739220</td>\n",
       "      <td>8.739220</td>\n",
       "      <td>1</td>\n",
       "      <td>1</td>\n",
       "      <td>0</td>\n",
       "      <td>1</td>\n",
       "    </tr>\n",
       "    <tr>\n",
       "      <th>7</th>\n",
       "      <td>s129</td>\n",
       "      <td>25</td>\n",
       "      <td>43</td>\n",
       "      <td>0</td>\n",
       "      <td>7.567420</td>\n",
       "      <td>7.567420</td>\n",
       "      <td>1</td>\n",
       "      <td>0</td>\n",
       "      <td>0</td>\n",
       "      <td>1</td>\n",
       "    </tr>\n",
       "    <tr>\n",
       "      <th>8</th>\n",
       "      <td>s130</td>\n",
       "      <td>26</td>\n",
       "      <td>47</td>\n",
       "      <td>0</td>\n",
       "      <td>7.296372</td>\n",
       "      <td>7.296372</td>\n",
       "      <td>1</td>\n",
       "      <td>0</td>\n",
       "      <td>0</td>\n",
       "      <td>1</td>\n",
       "    </tr>\n",
       "    <tr>\n",
       "      <th>9</th>\n",
       "      <td>s131</td>\n",
       "      <td>27</td>\n",
       "      <td>39</td>\n",
       "      <td>1</td>\n",
       "      <td>4.662560</td>\n",
       "      <td>1.114305</td>\n",
       "      <td>0</td>\n",
       "      <td>0</td>\n",
       "      <td>0</td>\n",
       "      <td>1</td>\n",
       "    </tr>\n",
       "  </tbody>\n",
       "</table>\n",
       "</div>"
      ],
      "text/plain": [
       "  Patient  ID  age  eventdeath   survival  timerecurrence  chemo  hormonal  \\\n",
       "0    s122  18   43           0  14.817248       14.817248      0         0   \n",
       "1    s123  19   48           0  14.261465       14.261465      0         0   \n",
       "2    s124  20   38           0   6.644764        6.644764      0         0   \n",
       "3    s125  21   50           0   7.748118        7.748118      0         1   \n",
       "4    s126  22   38           0   6.436687        6.318960      0         0   \n",
       "5    s127  23   42           0   5.037645        2.743326      1         0   \n",
       "6    s128  24   50           0   8.739220        8.739220      1         1   \n",
       "7    s129  25   43           0   7.567420        7.567420      1         0   \n",
       "8    s130  26   47           0   7.296372        7.296372      1         0   \n",
       "9    s131  27   39           1   4.662560        1.114305      0         0   \n",
       "\n",
       "   amputation  histtype  \n",
       "0           1         1  \n",
       "1           0         1  \n",
       "2           0         1  \n",
       "3           0         1  \n",
       "4           1         1  \n",
       "5           1         1  \n",
       "6           0         1  \n",
       "7           0         1  \n",
       "8           0         1  \n",
       "9           0         1  "
      ]
     },
     "execution_count": 30,
     "metadata": {
     },
     "output_type": "execute_result"
    }
   ],
   "source": [
    "df.head(10)"
   ]
  },
  {
   "cell_type": "code",
   "execution_count": 31,
   "metadata": {
    "collapsed": false
   },
   "outputs": [
    {
     "data": {
      "text/plain": [
       "(272, 10)"
      ]
     },
     "execution_count": 31,
     "metadata": {
     },
     "output_type": "execute_result"
    }
   ],
   "source": [
    "df.shape"
   ]
  },
  {
   "cell_type": "code",
   "execution_count": 32,
   "metadata": {
    "collapsed": false
   },
   "outputs": [
   ],
   "source": [
    "df.dropna(inplace=True)"
   ]
  },
  {
   "cell_type": "code",
   "execution_count": 33,
   "metadata": {
    "collapsed": false
   },
   "outputs": [
    {
     "data": {
      "text/plain": [
       "(272, 10)"
      ]
     },
     "execution_count": 33,
     "metadata": {
     },
     "output_type": "execute_result"
    }
   ],
   "source": [
    "df.shape"
   ]
  },
  {
   "cell_type": "code",
   "execution_count": 34,
   "metadata": {
    "collapsed": false
   },
   "outputs": [
    {
     "data": {
      "text/html": "<html>\n<head><meta charset=\"utf-8\" /></head>\n<body>\n    <div>            <script src=\"https://cdnjs.cloudflare.com/ajax/libs/mathjax/2.7.5/MathJax.js?config=TeX-AMS-MML_SVG\"></script><script type=\"text/javascript\">if (window.MathJax) {MathJax.Hub.Config({SVG: {font: \"STIX-Web\"}});}</script>                <script type=\"text/javascript\">window.PlotlyConfig = {MathJaxConfig: 'local'};</script>\n        <script src=\"https://cdn.plot.ly/plotly-2.11.1.min.js\"></script>                <div id=\"8808e985-c050-4a9a-ba1d-eaa30ff13cb6\" class=\"plotly-graph-div\" style=\"height:525px; width:100%;\"></div>            <script type=\"text/javascript\">                                    window.PLOTLYENV=window.PLOTLYENV || {};                                    if (document.getElementById(\"8808e985-c050-4a9a-ba1d-eaa30ff13cb6\")) {                    Plotly.newPlot(                        \"8808e985-c050-4a9a-ba1d-eaa30ff13cb6\",                        [{\"alignmentgroup\":\"True\",\"hovertemplate\":\"age=%{x}<br>survival=%{y}<extra></extra>\",\"legendgroup\":\"\",\"marker\":{\"color\":\"#636efa\",\"pattern\":{\"shape\":\"\"}},\"name\":\"\",\"offsetgroup\":\"\",\"orientation\":\"v\",\"showlegend\":false,\"textposition\":\"auto\",\"x\":[43,48,38,50,38,42,50,43,47,39,47,32,38,45,31,41,44,41,46,33,39,38,48,47,38,49,44,36,42,37,40,49,42,45,49,44,32,46,50,38,50,39,43,44,40,42,46,41,48,48,48,40,36,35,43,42,44,42,47,40,41,39,48,34,41,50,45,45,47,37,43,39,43,33,47,49,50,44,45,41,50,42,49,41,49,43,38,46,42,45,34,44,39,45,28,43,42,47,50,42,40,47,41,44,48,35,50,44,39,49,46,37,49,32,43,42,42,50,39,42,41,43,49,38,38,50,42,43,50,49,37,37,49,48,48,48,49,45,43,44,35,39,48,46,49,48,46,37,50,35,47,40,40,43,44,41,43,45,42,47,40,39,40,43,48,44,45,41,46,42,39,49,41,49,26,48,49,44,36,48,47,29,49,45,43,45,45,45,44,47,49,50,45,41,43,36,47,50,49,38,45,49,49,42,46,42,49,51,50,49,33,39,51,51,51,52,52,52,52,52,52,52,52,53,52,52,51,51,51,51,51,51,51,51,51,34,41,47,47,39,42,38,50,47,51,47,42,49,46,48,48,37,41,48,48,40,45,40,52,52,46,30,41,30,38,45,36,48,39,50,52,52],\"xaxis\":\"x\",\"y\":[14.817248,14.261465,6.644764,7.748118,6.436687,5.037645,8.73922,7.56742,7.296372,4.66256,6.718686,8.648871,7.093771,9.330595,3.82204,15.329227,3.849418,12.766598,5.555099,2.064339,15.134839,14.12731,5.486653,9.407255,2.707734,18.340862,17.240246,1.486653,17.574264,3.036277,15.104723,1.848049,17.659138,7.874059,3.906913,5.415469,16.147844,13.404517,15.312799,15.819302,5.664613,11.017112,3.622177,15.323751,14.885695,13.34976,1.634497,13.749487,7.674196,9.711157,13.174538,12.76386,5.28679,11.800137,11.318275,11.86037,4.405202,7.334702,11.739904,12.503765,11.263518,12.073922,11.92334,12.736482,6.297057,11.832991,13.067762,11.545517,11.195072,11.047228,11.143053,10.907598,10.767967,11.200548,4.845996,11.036277,10.138261,9.653662,10.67488,11.441478,11.203285,12.145106,3.247091,10.45859,10.351814,1.946612,2.945927,9.831622,10.327173,10.376454,3.307324,10.020534,1.434634,2.858316,0.711841,11.156742,14.121834,6.516085,1.316906,2.151951,8.093087,6.973306,2.132786,9.982204,11.545517,11.449692,5.637235,5.316906,11.364819,9.407255,9.916496,4.668036,9.505818,2.587269,5.352498,8.963723,8.813142,8.594114,4.528405,7.252567,6.78987,7.011636,6.9295,7.088296,1.352498,2.962355,7.022587,7.252567,6.997947,5.924709,1.073238,5.114305,5.311431,5.292266,7.340178,5.744011,5.32512,5.322382,5.771389,6.067077,1.867214,11.652293,8.366872,6.313484,6.143737,5.555099,5.086927,9.596167,9.456537,3.78371,9.330595,9.670089,9.549624,10.201232,2.806297,9.322382,9.314168,9.097878,4.54757,9.103354,9.03217,5.059548,8.240931,5.604381,6.499658,9.894593,6.704997,8.80219,8.859685,8.854209,8.298426,6.094456,5.577002,5.804244,5.199179,2.507871,7.991786,8.495551,7.693361,7.477071,7.408624,6.819986,6.3436,16.591376,5.859001,2.362765,15.351129,6.609172,6.874743,6.995209,7.12115,6.171116,6.464066,6.527036,5.809719,6.551677,6.160164,6.045175,6.214921,5.823409,6.239562,6.017796,5.549624,5.347023,5.259411,6.009582,18.080767,17.486653,17.152635,0.974675,16.870637,6.570842,14.360027,2.406571,7.772758,5.754962,17.420945,9.530459,13.919233,13.864476,12.73922,12.260096,11.08282,2.888433,8.213552,7.225188,4.947296,6.803559,6.020534,6.171116,5.574264,5.708419,15.077344,10.231348,8.772074,8.424367,10.031485,7.378508,6.754278,7.570157,5.779603,3.455168,3.252567,3.241615,5.303217,5.232033,10.097194,11.156742,10.138261,8.80219,10.294319,5.804244,8.167009,8.232717,7.865845,6.970568,5.185489,6.245038,11.389459,10.108145,11.017112,2.1726,9.526,8.4658,5.3562,7.9288,2.7096,2.6083,5.5041,2.6192,2.2905,3.737],\"yaxis\":\"y\",\"type\":\"bar\"}],                        {\"template\":{\"data\":{\"histogram2dcontour\":[{\"type\":\"histogram2dcontour\",\"colorbar\":{\"outlinewidth\":0,\"ticks\":\"\"},\"colorscale\":[[0.0,\"#0d0887\"],[0.1111111111111111,\"#46039f\"],[0.2222222222222222,\"#7201a8\"],[0.3333333333333333,\"#9c179e\"],[0.4444444444444444,\"#bd3786\"],[0.5555555555555556,\"#d8576b\"],[0.6666666666666666,\"#ed7953\"],[0.7777777777777778,\"#fb9f3a\"],[0.8888888888888888,\"#fdca26\"],[1.0,\"#f0f921\"]]}],\"choropleth\":[{\"type\":\"choropleth\",\"colorbar\":{\"outlinewidth\":0,\"ticks\":\"\"}}],\"histogram2d\":[{\"type\":\"histogram2d\",\"colorbar\":{\"outlinewidth\":0,\"ticks\":\"\"},\"colorscale\":[[0.0,\"#0d0887\"],[0.1111111111111111,\"#46039f\"],[0.2222222222222222,\"#7201a8\"],[0.3333333333333333,\"#9c179e\"],[0.4444444444444444,\"#bd3786\"],[0.5555555555555556,\"#d8576b\"],[0.6666666666666666,\"#ed7953\"],[0.7777777777777778,\"#fb9f3a\"],[0.8888888888888888,\"#fdca26\"],[1.0,\"#f0f921\"]]}],\"heatmap\":[{\"type\":\"heatmap\",\"colorbar\":{\"outlinewidth\":0,\"ticks\":\"\"},\"colorscale\":[[0.0,\"#0d0887\"],[0.1111111111111111,\"#46039f\"],[0.2222222222222222,\"#7201a8\"],[0.3333333333333333,\"#9c179e\"],[0.4444444444444444,\"#bd3786\"],[0.5555555555555556,\"#d8576b\"],[0.6666666666666666,\"#ed7953\"],[0.7777777777777778,\"#fb9f3a\"],[0.8888888888888888,\"#fdca26\"],[1.0,\"#f0f921\"]]}],\"heatmapgl\":[{\"type\":\"heatmapgl\",\"colorbar\":{\"outlinewidth\":0,\"ticks\":\"\"},\"colorscale\":[[0.0,\"#0d0887\"],[0.1111111111111111,\"#46039f\"],[0.2222222222222222,\"#7201a8\"],[0.3333333333333333,\"#9c179e\"],[0.4444444444444444,\"#bd3786\"],[0.5555555555555556,\"#d8576b\"],[0.6666666666666666,\"#ed7953\"],[0.7777777777777778,\"#fb9f3a\"],[0.8888888888888888,\"#fdca26\"],[1.0,\"#f0f921\"]]}],\"contourcarpet\":[{\"type\":\"contourcarpet\",\"colorbar\":{\"outlinewidth\":0,\"ticks\":\"\"}}],\"contour\":[{\"type\":\"contour\",\"colorbar\":{\"outlinewidth\":0,\"ticks\":\"\"},\"colorscale\":[[0.0,\"#0d0887\"],[0.1111111111111111,\"#46039f\"],[0.2222222222222222,\"#7201a8\"],[0.3333333333333333,\"#9c179e\"],[0.4444444444444444,\"#bd3786\"],[0.5555555555555556,\"#d8576b\"],[0.6666666666666666,\"#ed7953\"],[0.7777777777777778,\"#fb9f3a\"],[0.8888888888888888,\"#fdca26\"],[1.0,\"#f0f921\"]]}],\"surface\":[{\"type\":\"surface\",\"colorbar\":{\"outlinewidth\":0,\"ticks\":\"\"},\"colorscale\":[[0.0,\"#0d0887\"],[0.1111111111111111,\"#46039f\"],[0.2222222222222222,\"#7201a8\"],[0.3333333333333333,\"#9c179e\"],[0.4444444444444444,\"#bd3786\"],[0.5555555555555556,\"#d8576b\"],[0.6666666666666666,\"#ed7953\"],[0.7777777777777778,\"#fb9f3a\"],[0.8888888888888888,\"#fdca26\"],[1.0,\"#f0f921\"]]}],\"mesh3d\":[{\"type\":\"mesh3d\",\"colorbar\":{\"outlinewidth\":0,\"ticks\":\"\"}}],\"scatter\":[{\"fillpattern\":{\"fillmode\":\"overlay\",\"size\":10,\"solidity\":0.2},\"type\":\"scatter\"}],\"parcoords\":[{\"type\":\"parcoords\",\"line\":{\"colorbar\":{\"outlinewidth\":0,\"ticks\":\"\"}}}],\"scatterpolargl\":[{\"type\":\"scatterpolargl\",\"marker\":{\"colorbar\":{\"outlinewidth\":0,\"ticks\":\"\"}}}],\"bar\":[{\"error_x\":{\"color\":\"#2a3f5f\"},\"error_y\":{\"color\":\"#2a3f5f\"},\"marker\":{\"line\":{\"color\":\"#E5ECF6\",\"width\":0.5},\"pattern\":{\"fillmode\":\"overlay\",\"size\":10,\"solidity\":0.2}},\"type\":\"bar\"}],\"scattergeo\":[{\"type\":\"scattergeo\",\"marker\":{\"colorbar\":{\"outlinewidth\":0,\"ticks\":\"\"}}}],\"scatterpolar\":[{\"type\":\"scatterpolar\",\"marker\":{\"colorbar\":{\"outlinewidth\":0,\"ticks\":\"\"}}}],\"histogram\":[{\"marker\":{\"pattern\":{\"fillmode\":\"overlay\",\"size\":10,\"solidity\":0.2}},\"type\":\"histogram\"}],\"scattergl\":[{\"type\":\"scattergl\",\"marker\":{\"colorbar\":{\"outlinewidth\":0,\"ticks\":\"\"}}}],\"scatter3d\":[{\"type\":\"scatter3d\",\"line\":{\"colorbar\":{\"outlinewidth\":0,\"ticks\":\"\"}},\"marker\":{\"colorbar\":{\"outlinewidth\":0,\"ticks\":\"\"}}}],\"scattermapbox\":[{\"type\":\"scattermapbox\",\"marker\":{\"colorbar\":{\"outlinewidth\":0,\"ticks\":\"\"}}}],\"scatterternary\":[{\"type\":\"scatterternary\",\"marker\":{\"colorbar\":{\"outlinewidth\":0,\"ticks\":\"\"}}}],\"scattercarpet\":[{\"type\":\"scattercarpet\",\"marker\":{\"colorbar\":{\"outlinewidth\":0,\"ticks\":\"\"}}}],\"carpet\":[{\"aaxis\":{\"endlinecolor\":\"#2a3f5f\",\"gridcolor\":\"white\",\"linecolor\":\"white\",\"minorgridcolor\":\"white\",\"startlinecolor\":\"#2a3f5f\"},\"baxis\":{\"endlinecolor\":\"#2a3f5f\",\"gridcolor\":\"white\",\"linecolor\":\"white\",\"minorgridcolor\":\"white\",\"startlinecolor\":\"#2a3f5f\"},\"type\":\"carpet\"}],\"table\":[{\"cells\":{\"fill\":{\"color\":\"#EBF0F8\"},\"line\":{\"color\":\"white\"}},\"header\":{\"fill\":{\"color\":\"#C8D4E3\"},\"line\":{\"color\":\"white\"}},\"type\":\"table\"}],\"barpolar\":[{\"marker\":{\"line\":{\"color\":\"#E5ECF6\",\"width\":0.5},\"pattern\":{\"fillmode\":\"overlay\",\"size\":10,\"solidity\":0.2}},\"type\":\"barpolar\"}],\"pie\":[{\"automargin\":true,\"type\":\"pie\"}]},\"layout\":{\"autotypenumbers\":\"strict\",\"colorway\":[\"#636efa\",\"#EF553B\",\"#00cc96\",\"#ab63fa\",\"#FFA15A\",\"#19d3f3\",\"#FF6692\",\"#B6E880\",\"#FF97FF\",\"#FECB52\"],\"font\":{\"color\":\"#2a3f5f\"},\"hovermode\":\"closest\",\"hoverlabel\":{\"align\":\"left\"},\"paper_bgcolor\":\"white\",\"plot_bgcolor\":\"#E5ECF6\",\"polar\":{\"bgcolor\":\"#E5ECF6\",\"angularaxis\":{\"gridcolor\":\"white\",\"linecolor\":\"white\",\"ticks\":\"\"},\"radialaxis\":{\"gridcolor\":\"white\",\"linecolor\":\"white\",\"ticks\":\"\"}},\"ternary\":{\"bgcolor\":\"#E5ECF6\",\"aaxis\":{\"gridcolor\":\"white\",\"linecolor\":\"white\",\"ticks\":\"\"},\"baxis\":{\"gridcolor\":\"white\",\"linecolor\":\"white\",\"ticks\":\"\"},\"caxis\":{\"gridcolor\":\"white\",\"linecolor\":\"white\",\"ticks\":\"\"}},\"coloraxis\":{\"colorbar\":{\"outlinewidth\":0,\"ticks\":\"\"}},\"colorscale\":{\"sequential\":[[0.0,\"#0d0887\"],[0.1111111111111111,\"#46039f\"],[0.2222222222222222,\"#7201a8\"],[0.3333333333333333,\"#9c179e\"],[0.4444444444444444,\"#bd3786\"],[0.5555555555555556,\"#d8576b\"],[0.6666666666666666,\"#ed7953\"],[0.7777777777777778,\"#fb9f3a\"],[0.8888888888888888,\"#fdca26\"],[1.0,\"#f0f921\"]],\"sequentialminus\":[[0.0,\"#0d0887\"],[0.1111111111111111,\"#46039f\"],[0.2222222222222222,\"#7201a8\"],[0.3333333333333333,\"#9c179e\"],[0.4444444444444444,\"#bd3786\"],[0.5555555555555556,\"#d8576b\"],[0.6666666666666666,\"#ed7953\"],[0.7777777777777778,\"#fb9f3a\"],[0.8888888888888888,\"#fdca26\"],[1.0,\"#f0f921\"]],\"diverging\":[[0,\"#8e0152\"],[0.1,\"#c51b7d\"],[0.2,\"#de77ae\"],[0.3,\"#f1b6da\"],[0.4,\"#fde0ef\"],[0.5,\"#f7f7f7\"],[0.6,\"#e6f5d0\"],[0.7,\"#b8e186\"],[0.8,\"#7fbc41\"],[0.9,\"#4d9221\"],[1,\"#276419\"]]},\"xaxis\":{\"gridcolor\":\"white\",\"linecolor\":\"white\",\"ticks\":\"\",\"title\":{\"standoff\":15},\"zerolinecolor\":\"white\",\"automargin\":true,\"zerolinewidth\":2},\"yaxis\":{\"gridcolor\":\"white\",\"linecolor\":\"white\",\"ticks\":\"\",\"title\":{\"standoff\":15},\"zerolinecolor\":\"white\",\"automargin\":true,\"zerolinewidth\":2},\"scene\":{\"xaxis\":{\"backgroundcolor\":\"#E5ECF6\",\"gridcolor\":\"white\",\"linecolor\":\"white\",\"showbackground\":true,\"ticks\":\"\",\"zerolinecolor\":\"white\",\"gridwidth\":2},\"yaxis\":{\"backgroundcolor\":\"#E5ECF6\",\"gridcolor\":\"white\",\"linecolor\":\"white\",\"showbackground\":true,\"ticks\":\"\",\"zerolinecolor\":\"white\",\"gridwidth\":2},\"zaxis\":{\"backgroundcolor\":\"#E5ECF6\",\"gridcolor\":\"white\",\"linecolor\":\"white\",\"showbackground\":true,\"ticks\":\"\",\"zerolinecolor\":\"white\",\"gridwidth\":2}},\"shapedefaults\":{\"line\":{\"color\":\"#2a3f5f\"}},\"annotationdefaults\":{\"arrowcolor\":\"#2a3f5f\",\"arrowhead\":0,\"arrowwidth\":1},\"geo\":{\"bgcolor\":\"white\",\"landcolor\":\"#E5ECF6\",\"subunitcolor\":\"white\",\"showland\":true,\"showlakes\":true,\"lakecolor\":\"white\"},\"title\":{\"x\":0.05},\"mapbox\":{\"style\":\"light\"}}},\"xaxis\":{\"anchor\":\"y\",\"domain\":[0.0,1.0],\"title\":{\"text\":\"age\"}},\"yaxis\":{\"anchor\":\"x\",\"domain\":[0.0,1.0],\"title\":{\"text\":\"survival\"}},\"legend\":{\"tracegroupgap\":0},\"margin\":{\"t\":60},\"barmode\":\"relative\"},                        {\"responsive\": true}                    ).then(function(){\n                            \nvar gd = document.getElementById('8808e985-c050-4a9a-ba1d-eaa30ff13cb6');\nvar x = new MutationObserver(function (mutations, observer) {{\n        var display = window.getComputedStyle(gd).display;\n        if (!display || display === 'none') {{\n            console.log([gd, 'removed!']);\n            Plotly.purge(gd);\n            observer.disconnect();\n        }}\n}});\n\n// Listen for the removal of the full notebook cells\nvar notebookContainer = gd.closest('#notebook-container');\nif (notebookContainer) {{\n    x.observe(notebookContainer, {childList: true});\n}}\n\n// Listen for the clearing of the current output cell\nvar outputEl = gd.closest('.output');\nif (outputEl) {{\n    x.observe(outputEl, {childList: true});\n}}\n\n                        })                };                            </script>        </div>\n</body>\n</html>"
     },
     "execution_count": 34,
     "metadata": {
     },
     "output_type": "execute_result"
    }
   ],
   "source": [
    "fig = px.bar(df, x='age', y='survival')\n",
    "fig.show()"
   ]
  },
  {
   "cell_type": "code",
   "execution_count": 35,
   "metadata": {
    "collapsed": false
   },
   "outputs": [
   ],
   "source": [
    "import plotly.express as px"
   ]
  },
  {
   "cell_type": "code",
   "execution_count": 36,
   "metadata": {
    "collapsed": false
   },
   "outputs": [
    {
     "data": {
      "text/html": "<html>\n<head><meta charset=\"utf-8\" /></head>\n<body>\n    <div>            <script src=\"https://cdnjs.cloudflare.com/ajax/libs/mathjax/2.7.5/MathJax.js?config=TeX-AMS-MML_SVG\"></script><script type=\"text/javascript\">if (window.MathJax) {MathJax.Hub.Config({SVG: {font: \"STIX-Web\"}});}</script>                <script type=\"text/javascript\">window.PlotlyConfig = {MathJaxConfig: 'local'};</script>\n        <script src=\"https://cdn.plot.ly/plotly-2.11.1.min.js\"></script>                <div id=\"bfb78f01-28cf-4d2a-93ef-44a86384eb7c\" class=\"plotly-graph-div\" style=\"height:525px; width:100%;\"></div>            <script type=\"text/javascript\">                                    window.PLOTLYENV=window.PLOTLYENV || {};                                    if (document.getElementById(\"bfb78f01-28cf-4d2a-93ef-44a86384eb7c\")) {                    Plotly.newPlot(                        \"bfb78f01-28cf-4d2a-93ef-44a86384eb7c\",                        [{\"hovertemplate\":\"survival=%{x}<br>timerecurrence=%{y}<extra></extra>\",\"legendgroup\":\"\",\"marker\":{\"color\":\"#636efa\",\"symbol\":\"circle\"},\"mode\":\"markers\",\"name\":\"\",\"orientation\":\"v\",\"showlegend\":false,\"x\":[14.817248,14.261465,6.644764,7.748118,6.436687,5.037645,8.73922,7.56742,7.296372,4.66256,6.718686,8.648871,7.093771,9.330595,3.82204,15.329227,3.849418,12.766598,5.555099,2.064339,15.134839,14.12731,5.486653,9.407255,2.707734,18.340862,17.240246,1.486653,17.574264,3.036277,15.104723,1.848049,17.659138,7.874059,3.906913,5.415469,16.147844,13.404517,15.312799,15.819302,5.664613,11.017112,3.622177,15.323751,14.885695,13.34976,1.634497,13.749487,7.674196,9.711157,13.174538,12.76386,5.28679,11.800137,11.318275,11.86037,4.405202,7.334702,11.739904,12.503765,11.263518,12.073922,11.92334,12.736482,6.297057,11.832991,13.067762,11.545517,11.195072,11.047228,11.143053,10.907598,10.767967,11.200548,4.845996,11.036277,10.138261,9.653662,10.67488,11.441478,11.203285,12.145106,3.247091,10.45859,10.351814,1.946612,2.945927,9.831622,10.327173,10.376454,3.307324,10.020534,1.434634,2.858316,0.711841,11.156742,14.121834,6.516085,1.316906,2.151951,8.093087,6.973306,2.132786,9.982204,11.545517,11.449692,5.637235,5.316906,11.364819,9.407255,9.916496,4.668036,9.505818,2.587269,5.352498,8.963723,8.813142,8.594114,4.528405,7.252567,6.78987,7.011636,6.9295,7.088296,1.352498,2.962355,7.022587,7.252567,6.997947,5.924709,1.073238,5.114305,5.311431,5.292266,7.340178,5.744011,5.32512,5.322382,5.771389,6.067077,1.867214,11.652293,8.366872,6.313484,6.143737,5.555099,5.086927,9.596167,9.456537,3.78371,9.330595,9.670089,9.549624,10.201232,2.806297,9.322382,9.314168,9.097878,4.54757,9.103354,9.03217,5.059548,8.240931,5.604381,6.499658,9.894593,6.704997,8.80219,8.859685,8.854209,8.298426,6.094456,5.577002,5.804244,5.199179,2.507871,7.991786,8.495551,7.693361,7.477071,7.408624,6.819986,6.3436,16.591376,5.859001,2.362765,15.351129,6.609172,6.874743,6.995209,7.12115,6.171116,6.464066,6.527036,5.809719,6.551677,6.160164,6.045175,6.214921,5.823409,6.239562,6.017796,5.549624,5.347023,5.259411,6.009582,18.080767,17.486653,17.152635,0.974675,16.870637,6.570842,14.360027,2.406571,7.772758,5.754962,17.420945,9.530459,13.919233,13.864476,12.73922,12.260096,11.08282,2.888433,8.213552,7.225188,4.947296,6.803559,6.020534,6.171116,5.574264,5.708419,15.077344,10.231348,8.772074,8.424367,10.031485,7.378508,6.754278,7.570157,5.779603,3.455168,3.252567,3.241615,5.303217,5.232033,10.097194,11.156742,10.138261,8.80219,10.294319,5.804244,8.167009,8.232717,7.865845,6.970568,5.185489,6.245038,11.389459,10.108145,11.017112,2.1726,9.526,8.4658,5.3562,7.9288,2.7096,2.6083,5.5041,2.6192,2.2905,3.737],\"xaxis\":\"x\",\"y\":[14.817248,14.261465,6.644764,7.748118,6.31896,2.743326,8.73922,7.56742,7.296372,1.114305,5.867214,8.648871,6.995209,9.330595,3.438741,15.329227,3.474333,12.766598,5.555099,1.40178,15.134839,14.12731,5.486653,3.655031,1.609856,18.340862,17.240246,0.960986,14.01232,1.177276,15.104723,0.930869,17.659138,7.874059,2.811773,4.44627,16.147844,8.128679,15.312799,15.819302,5.664613,6.193018,1.612594,15.323751,14.885695,13.34976,1.221081,13.749487,7.594798,8.925394,13.174538,12.76386,2.614648,10.817248,11.318275,11.86037,1.21013,7.334702,11.739904,12.503765,11.263518,12.073922,7.449692,12.736482,2.696783,11.832991,9.46475,2.05065,11.195072,11.047228,9.338809,10.907598,10.767967,11.200548,3.378445,11.036277,10.138261,9.653662,10.67488,6.480493,11.203285,12.145106,1.97399,7.477071,10.351814,1.716632,2.340862,9.831622,10.327173,10.376454,2.253251,10.020534,1.223819,1.61807,0.271047,3.581109,14.121834,6.516085,1.152635,1.007529,8.093087,4.095825,2.004107,9.982204,11.545517,4.17796,5.637235,5.316906,11.364819,9.407255,9.122519,4.588638,8.988364,1.716632,5.117043,5.516769,8.303901,8.594114,2.223135,7.252567,6.78987,7.011636,6.9295,7.088296,0.936328,2.962355,7.022587,7.252567,6.997947,5.924709,0.648871,5.114305,5.311431,5.292266,7.340178,5.744011,5.32512,3.915127,5.771389,6.067077,0.353183,11.652293,8.366872,6.313484,6.143737,5.555099,0.325804,9.596167,9.456537,2.852841,9.330595,6.710472,9.549624,10.201232,1.965777,9.322382,8.394251,9.097878,4.219028,9.103354,6.056126,3.219713,8.240931,2.138261,6.370979,9.894593,6.704997,8.80219,8.859685,8.854209,8.298426,4.621492,5.577002,2.130048,5.199179,2.157426,7.991786,8.495551,7.693361,7.477071,7.408624,2.086242,6.3436,16.591376,3.12115,1.73306,15.351129,6.609172,6.874743,6.995209,7.12115,6.171116,6.464066,6.527036,5.809719,4.843258,6.160164,6.045175,6.214921,5.823409,6.239562,6.017796,5.549624,5.347023,5.259411,4.971937,18.080767,17.486653,17.152635,0.572211,9.568789,3.258042,9.998631,1.968515,7.772758,2.680356,17.420945,8.528405,13.919233,13.864476,12.73922,7.772758,11.08282,1.946612,8.213552,7.225188,3.419576,6.803559,3.509925,6.171116,5.574264,5.708419,11.211499,10.231348,4.766598,8.424367,1.527721,7.378508,6.754278,7.570157,4.952772,1.374401,1.270363,0.996578,5.303217,5.232033,10.097194,11.156742,10.138261,8.80219,10.294319,5.804244,8.167009,8.232717,7.865845,6.970568,5.185489,6.245038,11.389459,10.108145,11.017112,1.026694,4.906229,4.695414,1.122519,4.892539,0.807666,1.982204,3.028063,2.149213,2.209446,2.12731],\"yaxis\":\"y\",\"type\":\"scatter\"}],                        {\"template\":{\"data\":{\"histogram2dcontour\":[{\"type\":\"histogram2dcontour\",\"colorbar\":{\"outlinewidth\":0,\"ticks\":\"\"},\"colorscale\":[[0.0,\"#0d0887\"],[0.1111111111111111,\"#46039f\"],[0.2222222222222222,\"#7201a8\"],[0.3333333333333333,\"#9c179e\"],[0.4444444444444444,\"#bd3786\"],[0.5555555555555556,\"#d8576b\"],[0.6666666666666666,\"#ed7953\"],[0.7777777777777778,\"#fb9f3a\"],[0.8888888888888888,\"#fdca26\"],[1.0,\"#f0f921\"]]}],\"choropleth\":[{\"type\":\"choropleth\",\"colorbar\":{\"outlinewidth\":0,\"ticks\":\"\"}}],\"histogram2d\":[{\"type\":\"histogram2d\",\"colorbar\":{\"outlinewidth\":0,\"ticks\":\"\"},\"colorscale\":[[0.0,\"#0d0887\"],[0.1111111111111111,\"#46039f\"],[0.2222222222222222,\"#7201a8\"],[0.3333333333333333,\"#9c179e\"],[0.4444444444444444,\"#bd3786\"],[0.5555555555555556,\"#d8576b\"],[0.6666666666666666,\"#ed7953\"],[0.7777777777777778,\"#fb9f3a\"],[0.8888888888888888,\"#fdca26\"],[1.0,\"#f0f921\"]]}],\"heatmap\":[{\"type\":\"heatmap\",\"colorbar\":{\"outlinewidth\":0,\"ticks\":\"\"},\"colorscale\":[[0.0,\"#0d0887\"],[0.1111111111111111,\"#46039f\"],[0.2222222222222222,\"#7201a8\"],[0.3333333333333333,\"#9c179e\"],[0.4444444444444444,\"#bd3786\"],[0.5555555555555556,\"#d8576b\"],[0.6666666666666666,\"#ed7953\"],[0.7777777777777778,\"#fb9f3a\"],[0.8888888888888888,\"#fdca26\"],[1.0,\"#f0f921\"]]}],\"heatmapgl\":[{\"type\":\"heatmapgl\",\"colorbar\":{\"outlinewidth\":0,\"ticks\":\"\"},\"colorscale\":[[0.0,\"#0d0887\"],[0.1111111111111111,\"#46039f\"],[0.2222222222222222,\"#7201a8\"],[0.3333333333333333,\"#9c179e\"],[0.4444444444444444,\"#bd3786\"],[0.5555555555555556,\"#d8576b\"],[0.6666666666666666,\"#ed7953\"],[0.7777777777777778,\"#fb9f3a\"],[0.8888888888888888,\"#fdca26\"],[1.0,\"#f0f921\"]]}],\"contourcarpet\":[{\"type\":\"contourcarpet\",\"colorbar\":{\"outlinewidth\":0,\"ticks\":\"\"}}],\"contour\":[{\"type\":\"contour\",\"colorbar\":{\"outlinewidth\":0,\"ticks\":\"\"},\"colorscale\":[[0.0,\"#0d0887\"],[0.1111111111111111,\"#46039f\"],[0.2222222222222222,\"#7201a8\"],[0.3333333333333333,\"#9c179e\"],[0.4444444444444444,\"#bd3786\"],[0.5555555555555556,\"#d8576b\"],[0.6666666666666666,\"#ed7953\"],[0.7777777777777778,\"#fb9f3a\"],[0.8888888888888888,\"#fdca26\"],[1.0,\"#f0f921\"]]}],\"surface\":[{\"type\":\"surface\",\"colorbar\":{\"outlinewidth\":0,\"ticks\":\"\"},\"colorscale\":[[0.0,\"#0d0887\"],[0.1111111111111111,\"#46039f\"],[0.2222222222222222,\"#7201a8\"],[0.3333333333333333,\"#9c179e\"],[0.4444444444444444,\"#bd3786\"],[0.5555555555555556,\"#d8576b\"],[0.6666666666666666,\"#ed7953\"],[0.7777777777777778,\"#fb9f3a\"],[0.8888888888888888,\"#fdca26\"],[1.0,\"#f0f921\"]]}],\"mesh3d\":[{\"type\":\"mesh3d\",\"colorbar\":{\"outlinewidth\":0,\"ticks\":\"\"}}],\"scatter\":[{\"fillpattern\":{\"fillmode\":\"overlay\",\"size\":10,\"solidity\":0.2},\"type\":\"scatter\"}],\"parcoords\":[{\"type\":\"parcoords\",\"line\":{\"colorbar\":{\"outlinewidth\":0,\"ticks\":\"\"}}}],\"scatterpolargl\":[{\"type\":\"scatterpolargl\",\"marker\":{\"colorbar\":{\"outlinewidth\":0,\"ticks\":\"\"}}}],\"bar\":[{\"error_x\":{\"color\":\"#2a3f5f\"},\"error_y\":{\"color\":\"#2a3f5f\"},\"marker\":{\"line\":{\"color\":\"#E5ECF6\",\"width\":0.5},\"pattern\":{\"fillmode\":\"overlay\",\"size\":10,\"solidity\":0.2}},\"type\":\"bar\"}],\"scattergeo\":[{\"type\":\"scattergeo\",\"marker\":{\"colorbar\":{\"outlinewidth\":0,\"ticks\":\"\"}}}],\"scatterpolar\":[{\"type\":\"scatterpolar\",\"marker\":{\"colorbar\":{\"outlinewidth\":0,\"ticks\":\"\"}}}],\"histogram\":[{\"marker\":{\"pattern\":{\"fillmode\":\"overlay\",\"size\":10,\"solidity\":0.2}},\"type\":\"histogram\"}],\"scattergl\":[{\"type\":\"scattergl\",\"marker\":{\"colorbar\":{\"outlinewidth\":0,\"ticks\":\"\"}}}],\"scatter3d\":[{\"type\":\"scatter3d\",\"line\":{\"colorbar\":{\"outlinewidth\":0,\"ticks\":\"\"}},\"marker\":{\"colorbar\":{\"outlinewidth\":0,\"ticks\":\"\"}}}],\"scattermapbox\":[{\"type\":\"scattermapbox\",\"marker\":{\"colorbar\":{\"outlinewidth\":0,\"ticks\":\"\"}}}],\"scatterternary\":[{\"type\":\"scatterternary\",\"marker\":{\"colorbar\":{\"outlinewidth\":0,\"ticks\":\"\"}}}],\"scattercarpet\":[{\"type\":\"scattercarpet\",\"marker\":{\"colorbar\":{\"outlinewidth\":0,\"ticks\":\"\"}}}],\"carpet\":[{\"aaxis\":{\"endlinecolor\":\"#2a3f5f\",\"gridcolor\":\"white\",\"linecolor\":\"white\",\"minorgridcolor\":\"white\",\"startlinecolor\":\"#2a3f5f\"},\"baxis\":{\"endlinecolor\":\"#2a3f5f\",\"gridcolor\":\"white\",\"linecolor\":\"white\",\"minorgridcolor\":\"white\",\"startlinecolor\":\"#2a3f5f\"},\"type\":\"carpet\"}],\"table\":[{\"cells\":{\"fill\":{\"color\":\"#EBF0F8\"},\"line\":{\"color\":\"white\"}},\"header\":{\"fill\":{\"color\":\"#C8D4E3\"},\"line\":{\"color\":\"white\"}},\"type\":\"table\"}],\"barpolar\":[{\"marker\":{\"line\":{\"color\":\"#E5ECF6\",\"width\":0.5},\"pattern\":{\"fillmode\":\"overlay\",\"size\":10,\"solidity\":0.2}},\"type\":\"barpolar\"}],\"pie\":[{\"automargin\":true,\"type\":\"pie\"}]},\"layout\":{\"autotypenumbers\":\"strict\",\"colorway\":[\"#636efa\",\"#EF553B\",\"#00cc96\",\"#ab63fa\",\"#FFA15A\",\"#19d3f3\",\"#FF6692\",\"#B6E880\",\"#FF97FF\",\"#FECB52\"],\"font\":{\"color\":\"#2a3f5f\"},\"hovermode\":\"closest\",\"hoverlabel\":{\"align\":\"left\"},\"paper_bgcolor\":\"white\",\"plot_bgcolor\":\"#E5ECF6\",\"polar\":{\"bgcolor\":\"#E5ECF6\",\"angularaxis\":{\"gridcolor\":\"white\",\"linecolor\":\"white\",\"ticks\":\"\"},\"radialaxis\":{\"gridcolor\":\"white\",\"linecolor\":\"white\",\"ticks\":\"\"}},\"ternary\":{\"bgcolor\":\"#E5ECF6\",\"aaxis\":{\"gridcolor\":\"white\",\"linecolor\":\"white\",\"ticks\":\"\"},\"baxis\":{\"gridcolor\":\"white\",\"linecolor\":\"white\",\"ticks\":\"\"},\"caxis\":{\"gridcolor\":\"white\",\"linecolor\":\"white\",\"ticks\":\"\"}},\"coloraxis\":{\"colorbar\":{\"outlinewidth\":0,\"ticks\":\"\"}},\"colorscale\":{\"sequential\":[[0.0,\"#0d0887\"],[0.1111111111111111,\"#46039f\"],[0.2222222222222222,\"#7201a8\"],[0.3333333333333333,\"#9c179e\"],[0.4444444444444444,\"#bd3786\"],[0.5555555555555556,\"#d8576b\"],[0.6666666666666666,\"#ed7953\"],[0.7777777777777778,\"#fb9f3a\"],[0.8888888888888888,\"#fdca26\"],[1.0,\"#f0f921\"]],\"sequentialminus\":[[0.0,\"#0d0887\"],[0.1111111111111111,\"#46039f\"],[0.2222222222222222,\"#7201a8\"],[0.3333333333333333,\"#9c179e\"],[0.4444444444444444,\"#bd3786\"],[0.5555555555555556,\"#d8576b\"],[0.6666666666666666,\"#ed7953\"],[0.7777777777777778,\"#fb9f3a\"],[0.8888888888888888,\"#fdca26\"],[1.0,\"#f0f921\"]],\"diverging\":[[0,\"#8e0152\"],[0.1,\"#c51b7d\"],[0.2,\"#de77ae\"],[0.3,\"#f1b6da\"],[0.4,\"#fde0ef\"],[0.5,\"#f7f7f7\"],[0.6,\"#e6f5d0\"],[0.7,\"#b8e186\"],[0.8,\"#7fbc41\"],[0.9,\"#4d9221\"],[1,\"#276419\"]]},\"xaxis\":{\"gridcolor\":\"white\",\"linecolor\":\"white\",\"ticks\":\"\",\"title\":{\"standoff\":15},\"zerolinecolor\":\"white\",\"automargin\":true,\"zerolinewidth\":2},\"yaxis\":{\"gridcolor\":\"white\",\"linecolor\":\"white\",\"ticks\":\"\",\"title\":{\"standoff\":15},\"zerolinecolor\":\"white\",\"automargin\":true,\"zerolinewidth\":2},\"scene\":{\"xaxis\":{\"backgroundcolor\":\"#E5ECF6\",\"gridcolor\":\"white\",\"linecolor\":\"white\",\"showbackground\":true,\"ticks\":\"\",\"zerolinecolor\":\"white\",\"gridwidth\":2},\"yaxis\":{\"backgroundcolor\":\"#E5ECF6\",\"gridcolor\":\"white\",\"linecolor\":\"white\",\"showbackground\":true,\"ticks\":\"\",\"zerolinecolor\":\"white\",\"gridwidth\":2},\"zaxis\":{\"backgroundcolor\":\"#E5ECF6\",\"gridcolor\":\"white\",\"linecolor\":\"white\",\"showbackground\":true,\"ticks\":\"\",\"zerolinecolor\":\"white\",\"gridwidth\":2}},\"shapedefaults\":{\"line\":{\"color\":\"#2a3f5f\"}},\"annotationdefaults\":{\"arrowcolor\":\"#2a3f5f\",\"arrowhead\":0,\"arrowwidth\":1},\"geo\":{\"bgcolor\":\"white\",\"landcolor\":\"#E5ECF6\",\"subunitcolor\":\"white\",\"showland\":true,\"showlakes\":true,\"lakecolor\":\"white\"},\"title\":{\"x\":0.05},\"mapbox\":{\"style\":\"light\"}}},\"xaxis\":{\"anchor\":\"y\",\"domain\":[0.0,1.0],\"title\":{\"text\":\"survival\"}},\"yaxis\":{\"anchor\":\"x\",\"domain\":[0.0,1.0],\"title\":{\"text\":\"timerecurrence\"}},\"legend\":{\"tracegroupgap\":0},\"margin\":{\"t\":60}},                        {\"responsive\": true}                    ).then(function(){\n                            \nvar gd = document.getElementById('bfb78f01-28cf-4d2a-93ef-44a86384eb7c');\nvar x = new MutationObserver(function (mutations, observer) {{\n        var display = window.getComputedStyle(gd).display;\n        if (!display || display === 'none') {{\n            console.log([gd, 'removed!']);\n            Plotly.purge(gd);\n            observer.disconnect();\n        }}\n}});\n\n// Listen for the removal of the full notebook cells\nvar notebookContainer = gd.closest('#notebook-container');\nif (notebookContainer) {{\n    x.observe(notebookContainer, {childList: true});\n}}\n\n// Listen for the clearing of the current output cell\nvar outputEl = gd.closest('.output');\nif (outputEl) {{\n    x.observe(outputEl, {childList: true});\n}}\n\n                        })                };                            </script>        </div>\n</body>\n</html>"
     },
     "execution_count": 36,
     "metadata": {
     },
     "output_type": "execute_result"
    }
   ],
   "source": [
    "fig = px.scatter(df, x=\"survival\",y=\"timerecurrence\")\n",
    "fig.show()"
   ]
  },
  {
   "cell_type": "code",
   "execution_count": 37,
   "metadata": {
    "collapsed": false
   },
   "outputs": [
    {
     "data": {
      "text/html": "<html>\n<head><meta charset=\"utf-8\" /></head>\n<body>\n    <div>            <script src=\"https://cdnjs.cloudflare.com/ajax/libs/mathjax/2.7.5/MathJax.js?config=TeX-AMS-MML_SVG\"></script><script type=\"text/javascript\">if (window.MathJax) {MathJax.Hub.Config({SVG: {font: \"STIX-Web\"}});}</script>                <script type=\"text/javascript\">window.PlotlyConfig = {MathJaxConfig: 'local'};</script>\n        <script src=\"https://cdn.plot.ly/plotly-2.11.1.min.js\"></script>                <div id=\"1b22b627-3487-489a-ac2f-82b87a280673\" class=\"plotly-graph-div\" style=\"height:500px; width:500px;\"></div>            <script type=\"text/javascript\">                                    window.PLOTLYENV=window.PLOTLYENV || {};                                    if (document.getElementById(\"1b22b627-3487-489a-ac2f-82b87a280673\")) {                    Plotly.newPlot(                        \"1b22b627-3487-489a-ac2f-82b87a280673\",                        [{\"z\":[[\"s122\",18,43,0,14.817248,14.817248,0,0,1,1],[\"s123\",19,48,0,14.261465,14.261465,0,0,0,1],[\"s124\",20,38,0,6.644764,6.644764,0,0,0,1],[\"s125\",21,50,0,7.748118,7.748118,0,1,0,1],[\"s126\",22,38,0,6.436687,6.31896,0,0,1,1],[\"s127\",23,42,0,5.037645,2.743326,1,0,1,1],[\"s128\",24,50,0,8.73922,8.73922,1,1,0,1],[\"s129\",25,43,0,7.56742,7.56742,1,0,0,1],[\"s130\",26,47,0,7.296372,7.296372,1,0,0,1],[\"s131\",27,39,1,4.66256,1.114305,0,0,0,1],[\"s132\",28,47,0,6.718686,5.867214,1,1,0,1],[\"s133\",29,32,0,8.648871,8.648871,0,0,0,1],[\"s134\",30,38,1,7.093771,6.995209,1,0,0,1],[\"s135\",31,45,0,9.330595,9.330595,0,1,1,1],[\"s136\",32,31,1,3.82204,3.438741,0,0,1,1],[\"s137\",33,41,0,15.329227,15.329227,1,0,0,1],[\"s138\",34,44,1,3.849418,3.474333,0,0,1,1],[\"s139\",35,41,0,12.766598,12.766598,0,0,1,1],[\"s140\",36,46,0,5.555099,5.555099,0,0,0,1],[\"s141\",37,33,1,2.064339,1.40178,0,0,1,1],[\"s142\",38,39,0,15.134839,15.134839,0,0,1,1],[\"s144\",39,38,0,14.12731,14.12731,0,0,1,1],[\"s145\",40,48,0,5.486653,5.486653,1,1,0,1],[\"s146\",41,47,1,9.407255,3.655031,0,0,1,1],[\"s147\",42,38,1,2.707734,1.609856,0,0,1,1],[\"s148\",43,49,0,18.340862,18.340862,0,0,1,1],[\"s149\",44,44,0,17.240246,17.240246,1,0,0,1],[\"s150\",45,36,1,1.486653,0.960986,0,0,1,1],[\"s151\",46,42,0,17.574264,14.01232,1,0,0,1],[\"s153\",47,37,1,3.036277,1.177276,0,0,1,1],[\"s154\",48,40,0,15.104723,15.104723,0,0,1,1],[\"s155\",49,49,1,1.848049,0.930869,0,0,1,1],[\"s156\",50,42,0,17.659138,17.659138,1,0,0,1],[\"s157\",51,45,0,7.874059,7.874059,0,0,0,1],[\"s158\",52,49,1,3.906913,2.811773,0,0,1,1],[\"s159\",53,44,1,5.415469,4.44627,1,0,1,1],[\"s160\",54,32,0,16.147844,16.147844,1,0,1,1],[\"s161\",55,46,1,13.404517,8.128679,1,0,1,2],[\"s162\",56,50,0,15.312799,15.312799,1,0,1,1],[\"s163\",57,38,0,15.819302,15.819302,1,0,1,1],[\"s164\",58,50,0,5.664613,5.664613,0,0,1,1],[\"s165\",59,39,1,11.017112,6.193018,0,0,0,1],[\"s166\",60,43,1,3.622177,1.612594,0,0,1,1],[\"s167\",61,44,0,15.323751,15.323751,0,0,1,1],[\"s169\",62,40,0,14.885695,14.885695,0,0,0,1],[\"s170\",63,42,0,13.34976,13.34976,1,0,1,1],[\"s172\",64,46,1,1.634497,1.221081,1,0,0,1],[\"s174\",65,41,0,13.749487,13.749487,0,0,0,1],[\"s175\",66,48,1,7.674196,7.594798,0,0,0,1],[\"s177\",68,48,1,9.711157,8.925394,1,0,0,1],[\"s178\",69,48,0,13.174538,13.174538,1,0,0,1],[\"s179\",70,40,0,12.76386,12.76386,0,0,0,1],[\"s180\",71,36,1,5.28679,2.614648,1,0,0,1],[\"s181\",72,35,0,11.800137,10.817248,0,0,0,1],[\"s182\",73,43,0,11.318275,11.318275,0,0,0,1],[\"s183\",74,42,0,11.86037,11.86037,0,0,0,1],[\"s184\",75,44,1,4.405202,1.21013,1,0,0,1],[\"s185\",76,42,1,7.334702,7.334702,0,0,1,1],[\"s186\",77,47,1,11.739904,11.739904,1,0,0,1],[\"s187\",78,40,0,12.503765,12.503765,1,0,1,1],[\"s188\",79,41,0,11.263518,11.263518,1,0,1,1],[\"s189\",80,39,0,12.073922,12.073922,0,0,0,1],[\"s190\",81,48,0,11.92334,7.449692,0,0,0,1],[\"s191\",82,34,0,12.736482,12.736482,0,0,1,1],[\"s192\",83,41,1,6.297057,2.696783,1,0,1,1],[\"s193\",84,50,0,11.832991,11.832991,0,0,0,1],[\"s194\",85,45,0,13.067762,9.46475,1,0,0,1],[\"s195\",86,45,0,11.545517,2.05065,1,0,0,1],[\"s196\",87,47,0,11.195072,11.195072,1,0,1,1],[\"s197\",88,37,0,11.047228,11.047228,1,0,1,1],[\"s198\",89,43,0,11.143053,9.338809,1,0,0,1],[\"s199\",90,39,0,10.907598,10.907598,0,0,0,1],[\"s200\",91,43,0,10.767967,10.767967,1,0,0,1],[\"s201\",92,33,0,11.200548,11.200548,0,0,1,1],[\"s202\",93,47,1,4.845996,3.378445,0,0,0,1],[\"s203\",94,49,0,11.036277,11.036277,1,0,1,1],[\"s205\",95,50,0,10.138261,10.138261,0,0,1,1],[\"s207\",96,44,0,9.653662,9.653662,0,0,1,2],[\"s208\",97,45,0,10.67488,10.67488,1,0,1,1],[\"s209\",98,41,0,11.441478,6.480493,1,0,1,1],[\"s210\",99,50,0,11.203285,11.203285,1,0,1,2],[\"s212\",100,42,1,12.145106,12.145106,0,0,0,1],[\"s213\",101,49,1,3.247091,1.97399,1,0,1,1],[\"s214\",102,41,0,10.45859,7.477071,0,0,0,1],[\"s215\",103,49,0,10.351814,10.351814,0,0,0,1],[\"s217\",104,43,1,1.946612,1.716632,1,0,0,1],[\"s218\",105,38,1,2.945927,2.340862,1,0,0,1],[\"s219\",106,46,0,9.831622,9.831622,0,0,0,1],[\"s220\",107,42,0,10.327173,10.327173,1,0,1,1],[\"s221\",108,45,0,10.376454,10.376454,0,0,0,1],[\"s222\",109,34,1,3.307324,2.253251,0,0,1,1],[\"s224\",110,44,0,10.020534,10.020534,0,0,1,1],[\"s228\",113,39,1,1.434634,1.223819,0,0,0,1],[\"s229\",114,45,1,2.858316,1.61807,0,0,0,1],[\"s230\",115,28,1,0.711841,0.271047,0,0,0,1],[\"s231\",116,43,0,11.156742,3.581109,0,0,0,1],[\"s233\",117,42,0,14.121834,14.121834,0,0,0,1],[\"s235\",118,47,0,6.516085,6.516085,0,0,1,1],[\"s237\",120,50,1,1.316906,1.152635,0,1,1,1],[\"s238\",121,42,1,2.151951,1.007529,0,0,0,1],[\"s239\",122,40,0,8.093087,8.093087,0,0,0,1],[\"s240\",123,47,0,6.973306,4.095825,0,0,1,1],[\"s241\",124,41,1,2.132786,2.004107,1,0,0,1],[\"s243\",125,44,0,9.982204,9.982204,1,0,1,1],[\"s245\",126,48,0,11.545517,11.545517,1,0,1,1],[\"s246\",127,35,0,11.449692,4.17796,0,0,0,1],[\"s247\",128,50,0,5.637235,5.637235,1,1,1,1],[\"s249\",130,44,0,5.316906,5.316906,1,1,0,1],[\"s250\",131,39,0,11.364819,11.364819,1,1,0,1],[\"s251\",132,49,0,9.407255,9.407255,0,0,0,1],[\"s252\",133,46,0,9.916496,9.122519,0,0,0,1],[\"s254\",134,37,1,4.668036,4.588638,0,0,0,1],[\"s256\",135,49,0,9.505818,8.988364,1,0,1,1],[\"s257\",136,32,1,2.587269,1.716632,1,0,0,1],[\"s258\",137,43,1,5.352498,5.117043,1,0,0,1],[\"s259\",138,42,0,8.963723,5.516769,0,0,0,1],[\"s260\",139,42,0,8.813142,8.303901,1,0,0,1],[\"s261\",140,50,0,8.594114,8.594114,0,1,0,1],[\"s263\",141,39,1,4.528405,2.223135,1,0,1,1],[\"s264\",142,42,0,7.252567,7.252567,1,1,1,1],[\"s265\",143,41,0,6.78987,6.78987,1,1,1,1],[\"s266\",144,43,0,7.011636,7.011636,0,0,0,1],[\"s267\",145,49,0,6.9295,6.9295,1,0,1,1],[\"s268\",146,38,0,7.088296,7.088296,0,0,0,1],[\"s269\",147,38,1,1.352498,0.936328,1,0,0,1],[\"s270\",148,50,1,2.962355,2.962355,0,0,1,1],[\"s271\",149,42,0,7.022587,7.022587,0,0,0,1],[\"s272\",150,43,0,7.252567,7.252567,1,1,1,1],[\"s273\",151,50,0,6.997947,6.997947,0,1,0,1],[\"s274\",152,49,0,5.924709,5.924709,0,0,0,1],[\"s276\",154,37,1,1.073238,0.648871,1,0,1,5],[\"s277\",155,37,0,5.114305,5.114305,1,0,0,1],[\"s278\",156,49,0,5.311431,5.311431,0,1,1,2],[\"s280\",157,48,0,5.292266,5.292266,1,0,1,1],[\"s281\",158,48,0,7.340178,7.340178,1,1,0,1],[\"s282\",159,48,0,5.744011,5.744011,1,0,1,2],[\"s283\",160,49,0,5.32512,5.32512,1,0,0,1],[\"s284\",161,45,1,5.322382,3.915127,1,1,1,1],[\"s285\",162,43,0,5.771389,5.771389,0,0,1,1],[\"s287\",164,44,0,6.067077,6.067077,1,0,1,1],[\"s288\",165,35,1,1.867214,0.353183,0,0,1,1],[\"s291\",167,39,0,11.652293,11.652293,1,0,0,1],[\"s292\",168,48,0,8.366872,8.366872,0,0,0,7],[\"s293\",169,46,0,6.313484,6.313484,1,1,0,1],[\"s294\",170,49,0,6.143737,6.143737,1,0,1,1],[\"s295\",171,48,0,5.555099,5.555099,0,0,0,1],[\"s296\",172,46,0,5.086927,0.325804,0,0,1,1],[\"s297\",173,37,0,9.596167,9.596167,1,0,1,1],[\"s298\",174,50,0,9.456537,9.456537,0,1,1,1],[\"s300\",175,35,1,3.78371,2.852841,1,0,0,2],[\"s301\",176,47,0,9.330595,9.330595,1,0,0,1],[\"s304\",179,40,0,9.670089,6.710472,0,0,0,1],[\"s305\",180,40,0,9.549624,9.549624,0,0,1,1],[\"s306\",181,43,0,10.201232,10.201232,0,0,1,2],[\"s307\",182,44,1,2.806297,1.965777,1,0,0,1],[\"s308\",183,41,0,9.322382,9.322382,1,0,1,1],[\"s309\",184,43,0,9.314168,8.394251,1,1,0,1],[\"s310\",185,45,0,9.097878,9.097878,0,0,0,1],[\"s311\",186,42,1,4.54757,4.219028,1,0,1,1],[\"s312\",187,47,0,9.103354,9.103354,0,0,0,1],[\"s313\",188,40,0,9.03217,6.056126,0,0,1,1],[\"s314\",189,39,1,5.059548,3.219713,0,0,1,1],[\"s315\",190,40,0,8.240931,8.240931,1,0,0,1],[\"s317\",191,43,1,5.604381,2.138261,0,0,1,1],[\"s319\",193,48,1,6.499658,6.370979,0,0,1,1],[\"s320\",194,44,0,9.894593,9.894593,1,0,0,1],[\"s322\",196,45,0,6.704997,6.704997,1,0,1,1],[\"s323\",197,41,0,8.80219,8.80219,0,0,1,2],[\"s324\",198,46,0,8.859685,8.859685,1,0,1,1],[\"s325\",199,42,0,8.854209,8.854209,1,0,1,1],[\"s326\",200,39,0,8.298426,8.298426,0,0,0,1],[\"s327\",201,49,0,6.094456,4.621492,1,0,1,1],[\"s328\",202,41,0,5.577002,5.577002,1,0,0,1],[\"s329\",203,49,0,5.804244,2.130048,0,0,1,2],[\"s330\",204,26,0,5.199179,5.199179,1,0,1,1],[\"s331\",205,48,1,2.507871,2.157426,0,0,1,1],[\"s332\",206,49,0,7.991786,7.991786,1,0,0,1],[\"s333\",207,44,0,8.495551,8.495551,0,0,1,1],[\"s334\",208,36,0,7.693361,7.693361,1,0,0,1],[\"s335\",209,48,0,7.477071,7.477071,1,0,0,1],[\"s336\",210,47,0,7.408624,7.408624,0,0,0,1],[\"s337\",211,29,0,6.819986,2.086242,1,0,0,2],[\"s338\",212,49,0,6.3436,6.3436,1,0,0,1],[\"s339\",213,45,0,16.591376,16.591376,1,0,0,1],[\"s340\",214,43,1,5.859001,3.12115,1,0,0,1],[\"s341\",215,45,1,2.362765,1.73306,1,0,1,1],[\"s342\",216,45,0,15.351129,15.351129,0,0,0,1],[\"s343\",217,45,0,6.609172,6.609172,0,0,1,1],[\"s344\",218,44,0,6.874743,6.874743,0,0,0,1],[\"s345\",219,47,0,6.995209,6.995209,1,0,0,1],[\"s346\",220,49,0,7.12115,7.12115,1,0,1,1],[\"s348\",222,50,0,6.171116,6.171116,0,0,0,1],[\"s349\",223,45,0,6.464066,6.464066,1,1,1,1],[\"s351\",225,41,0,6.527036,6.527036,1,0,0,1],[\"s352\",226,43,0,5.809719,5.809719,0,0,1,1],[\"s353\",227,36,0,6.551677,4.843258,1,0,1,1],[\"s354\",228,47,0,6.160164,6.160164,0,0,1,1],[\"s355\",229,50,0,6.045175,6.045175,0,0,0,1],[\"s356\",230,49,0,6.214921,6.214921,0,0,0,1],[\"s357\",231,38,0,5.823409,5.823409,1,1,1,2],[\"s358\",232,45,0,6.239562,6.239562,0,0,0,1],[\"s359\",233,49,0,6.017796,6.017796,0,1,1,1],[\"s360\",234,49,0,5.549624,5.549624,1,1,1,2],[\"s361\",235,42,0,5.347023,5.347023,1,1,1,1],[\"s362\",236,46,0,5.259411,5.259411,1,1,1,1],[\"s363\",237,42,0,6.009582,4.971937,1,1,1,1],[\"s364\",238,49,0,18.080767,18.080767,0,0,1,1],[\"s365\",239,51,0,17.486653,17.486653,0,0,1,1],[\"s366\",240,50,0,17.152635,17.152635,0,0,0,1],[\"s367\",241,49,1,0.974675,0.572211,0,0,0,1],[\"s368\",242,33,0,16.870637,9.568789,0,0,0,1],[\"s369\",243,39,1,6.570842,3.258042,0,0,1,1],[\"s370\",244,51,1,14.360027,9.998631,0,0,1,1],[\"s371\",245,51,1,2.406571,1.968515,0,0,0,2],[\"s373\",246,51,0,7.772758,7.772758,1,0,0,1],[\"s374\",247,52,1,5.754962,2.680356,1,0,0,1],[\"s375\",248,52,0,17.420945,17.420945,1,0,0,1],[\"s377\",249,52,1,9.530459,8.528405,0,0,1,1],[\"s378\",250,52,0,13.919233,13.919233,0,1,1,1],[\"s379\",251,52,0,13.864476,13.864476,0,0,0,1],[\"s380\",252,52,0,12.73922,12.73922,0,0,1,1],[\"s381\",253,52,0,12.260096,7.772758,0,0,0,1],[\"s383\",254,52,0,11.08282,11.08282,1,0,0,1],[\"s385\",255,53,1,2.888433,1.946612,0,1,1,2],[\"s387\",256,52,0,8.213552,8.213552,0,1,0,1],[\"s388\",257,52,0,7.225188,7.225188,0,0,0,1],[\"s389\",258,51,1,4.947296,3.419576,0,1,0,1],[\"s390\",259,51,0,6.803559,6.803559,0,1,0,1],[\"s391\",260,51,0,6.020534,3.509925,0,0,1,1],[\"s392\",261,51,0,6.171116,6.171116,1,0,0,1],[\"s393\",262,51,0,5.574264,5.574264,0,1,0,1],[\"s394\",263,51,0,5.708419,5.708419,0,0,0,1],[\"s395\",264,51,0,15.077344,11.211499,0,0,1,1],[\"s396\",265,51,0,10.231348,10.231348,0,1,0,1],[\"s397\",266,51,1,8.772074,4.766598,0,1,0,1],[\"s398\",267,34,0,8.424367,8.424367,0,0,1,1],[\"s401\",268,41,0,10.031485,1.527721,0,0,1,1],[\"s402\",269,47,0,7.378508,7.378508,0,0,0,4],[\"s403\",270,47,0,6.754278,6.754278,1,0,0,1],[\"s404\",271,39,0,7.570157,7.570157,0,0,0,4],[\"s103\",272,42,1,5.779603,4.952772,0,0,0,1],[\"s107\",273,38,1,3.455168,1.374401,0,0,0,1],[\"s111\",276,50,1,3.252567,1.270363,0,0,0,1],[\"s113\",277,47,1,3.241615,0.996578,0,0,0,1],[\"s117\",278,51,0,5.303217,5.303217,0,0,0,1],[\"s118\",279,47,0,5.232033,5.232033,0,0,0,1],[\"s120\",280,42,0,10.097194,10.097194,0,0,0,1],[\"s6\",282,49,0,11.156742,11.156742,0,0,0,1],[\"s7\",283,46,0,10.138261,10.138261,0,0,0,1],[\"s8\",284,48,0,8.80219,8.80219,0,0,0,1],[\"s9\",285,48,0,10.294319,10.294319,0,0,0,1],[\"s11\",286,37,0,5.804244,5.804244,0,0,0,1],[\"s13\",288,41,0,8.167009,8.167009,0,0,0,1],[\"s14\",289,48,0,8.232717,8.232717,0,0,0,1],[\"s17\",290,48,0,7.865845,7.865845,0,0,0,1],[\"s26\",291,40,0,6.970568,6.970568,0,0,0,1],[\"s27\",292,45,0,5.185489,5.185489,0,0,0,1],[\"s28\",293,40,0,6.245038,6.245038,0,0,0,1],[\"s29\",294,52,0,11.389459,11.389459,0,0,1,1],[\"s36\",295,52,0,10.108145,10.108145,0,0,1,1],[\"s39\",297,46,0,11.017112,11.017112,0,0,0,1],[\"s48\",299,30,1,2.1726,1.026694,0,0,0,1],[\"s51\",300,41,1,9.526,4.906229,0,0,1,1],[\"s56\",301,30,1,8.4658,4.695414,0,0,0,1],[\"s58\",303,38,1,5.3562,1.122519,0,0,0,1],[\"s60\",305,45,1,7.9288,4.892539,0,0,0,1],[\"s62\",307,36,1,2.7096,0.807666,0,0,0,1],[\"s71\",308,48,1,2.6083,1.982204,1,0,1,1],[\"s72\",309,39,1,5.5041,3.028063,0,0,1,1],[\"s73\",310,50,1,2.6192,2.149213,0,0,1,1],[\"s75\",311,52,1,2.2905,2.209446,0,1,1,1],[\"s76\",312,52,1,3.737,2.12731,0,0,1,1]],\"type\":\"surface\"}],                        {\"template\":{\"data\":{\"histogram2dcontour\":[{\"type\":\"histogram2dcontour\",\"colorbar\":{\"outlinewidth\":0,\"ticks\":\"\"},\"colorscale\":[[0.0,\"#0d0887\"],[0.1111111111111111,\"#46039f\"],[0.2222222222222222,\"#7201a8\"],[0.3333333333333333,\"#9c179e\"],[0.4444444444444444,\"#bd3786\"],[0.5555555555555556,\"#d8576b\"],[0.6666666666666666,\"#ed7953\"],[0.7777777777777778,\"#fb9f3a\"],[0.8888888888888888,\"#fdca26\"],[1.0,\"#f0f921\"]]}],\"choropleth\":[{\"type\":\"choropleth\",\"colorbar\":{\"outlinewidth\":0,\"ticks\":\"\"}}],\"histogram2d\":[{\"type\":\"histogram2d\",\"colorbar\":{\"outlinewidth\":0,\"ticks\":\"\"},\"colorscale\":[[0.0,\"#0d0887\"],[0.1111111111111111,\"#46039f\"],[0.2222222222222222,\"#7201a8\"],[0.3333333333333333,\"#9c179e\"],[0.4444444444444444,\"#bd3786\"],[0.5555555555555556,\"#d8576b\"],[0.6666666666666666,\"#ed7953\"],[0.7777777777777778,\"#fb9f3a\"],[0.8888888888888888,\"#fdca26\"],[1.0,\"#f0f921\"]]}],\"heatmap\":[{\"type\":\"heatmap\",\"colorbar\":{\"outlinewidth\":0,\"ticks\":\"\"},\"colorscale\":[[0.0,\"#0d0887\"],[0.1111111111111111,\"#46039f\"],[0.2222222222222222,\"#7201a8\"],[0.3333333333333333,\"#9c179e\"],[0.4444444444444444,\"#bd3786\"],[0.5555555555555556,\"#d8576b\"],[0.6666666666666666,\"#ed7953\"],[0.7777777777777778,\"#fb9f3a\"],[0.8888888888888888,\"#fdca26\"],[1.0,\"#f0f921\"]]}],\"heatmapgl\":[{\"type\":\"heatmapgl\",\"colorbar\":{\"outlinewidth\":0,\"ticks\":\"\"},\"colorscale\":[[0.0,\"#0d0887\"],[0.1111111111111111,\"#46039f\"],[0.2222222222222222,\"#7201a8\"],[0.3333333333333333,\"#9c179e\"],[0.4444444444444444,\"#bd3786\"],[0.5555555555555556,\"#d8576b\"],[0.6666666666666666,\"#ed7953\"],[0.7777777777777778,\"#fb9f3a\"],[0.8888888888888888,\"#fdca26\"],[1.0,\"#f0f921\"]]}],\"contourcarpet\":[{\"type\":\"contourcarpet\",\"colorbar\":{\"outlinewidth\":0,\"ticks\":\"\"}}],\"contour\":[{\"type\":\"contour\",\"colorbar\":{\"outlinewidth\":0,\"ticks\":\"\"},\"colorscale\":[[0.0,\"#0d0887\"],[0.1111111111111111,\"#46039f\"],[0.2222222222222222,\"#7201a8\"],[0.3333333333333333,\"#9c179e\"],[0.4444444444444444,\"#bd3786\"],[0.5555555555555556,\"#d8576b\"],[0.6666666666666666,\"#ed7953\"],[0.7777777777777778,\"#fb9f3a\"],[0.8888888888888888,\"#fdca26\"],[1.0,\"#f0f921\"]]}],\"surface\":[{\"type\":\"surface\",\"colorbar\":{\"outlinewidth\":0,\"ticks\":\"\"},\"colorscale\":[[0.0,\"#0d0887\"],[0.1111111111111111,\"#46039f\"],[0.2222222222222222,\"#7201a8\"],[0.3333333333333333,\"#9c179e\"],[0.4444444444444444,\"#bd3786\"],[0.5555555555555556,\"#d8576b\"],[0.6666666666666666,\"#ed7953\"],[0.7777777777777778,\"#fb9f3a\"],[0.8888888888888888,\"#fdca26\"],[1.0,\"#f0f921\"]]}],\"mesh3d\":[{\"type\":\"mesh3d\",\"colorbar\":{\"outlinewidth\":0,\"ticks\":\"\"}}],\"scatter\":[{\"fillpattern\":{\"fillmode\":\"overlay\",\"size\":10,\"solidity\":0.2},\"type\":\"scatter\"}],\"parcoords\":[{\"type\":\"parcoords\",\"line\":{\"colorbar\":{\"outlinewidth\":0,\"ticks\":\"\"}}}],\"scatterpolargl\":[{\"type\":\"scatterpolargl\",\"marker\":{\"colorbar\":{\"outlinewidth\":0,\"ticks\":\"\"}}}],\"bar\":[{\"error_x\":{\"color\":\"#2a3f5f\"},\"error_y\":{\"color\":\"#2a3f5f\"},\"marker\":{\"line\":{\"color\":\"#E5ECF6\",\"width\":0.5},\"pattern\":{\"fillmode\":\"overlay\",\"size\":10,\"solidity\":0.2}},\"type\":\"bar\"}],\"scattergeo\":[{\"type\":\"scattergeo\",\"marker\":{\"colorbar\":{\"outlinewidth\":0,\"ticks\":\"\"}}}],\"scatterpolar\":[{\"type\":\"scatterpolar\",\"marker\":{\"colorbar\":{\"outlinewidth\":0,\"ticks\":\"\"}}}],\"histogram\":[{\"marker\":{\"pattern\":{\"fillmode\":\"overlay\",\"size\":10,\"solidity\":0.2}},\"type\":\"histogram\"}],\"scattergl\":[{\"type\":\"scattergl\",\"marker\":{\"colorbar\":{\"outlinewidth\":0,\"ticks\":\"\"}}}],\"scatter3d\":[{\"type\":\"scatter3d\",\"line\":{\"colorbar\":{\"outlinewidth\":0,\"ticks\":\"\"}},\"marker\":{\"colorbar\":{\"outlinewidth\":0,\"ticks\":\"\"}}}],\"scattermapbox\":[{\"type\":\"scattermapbox\",\"marker\":{\"colorbar\":{\"outlinewidth\":0,\"ticks\":\"\"}}}],\"scatterternary\":[{\"type\":\"scatterternary\",\"marker\":{\"colorbar\":{\"outlinewidth\":0,\"ticks\":\"\"}}}],\"scattercarpet\":[{\"type\":\"scattercarpet\",\"marker\":{\"colorbar\":{\"outlinewidth\":0,\"ticks\":\"\"}}}],\"carpet\":[{\"aaxis\":{\"endlinecolor\":\"#2a3f5f\",\"gridcolor\":\"white\",\"linecolor\":\"white\",\"minorgridcolor\":\"white\",\"startlinecolor\":\"#2a3f5f\"},\"baxis\":{\"endlinecolor\":\"#2a3f5f\",\"gridcolor\":\"white\",\"linecolor\":\"white\",\"minorgridcolor\":\"white\",\"startlinecolor\":\"#2a3f5f\"},\"type\":\"carpet\"}],\"table\":[{\"cells\":{\"fill\":{\"color\":\"#EBF0F8\"},\"line\":{\"color\":\"white\"}},\"header\":{\"fill\":{\"color\":\"#C8D4E3\"},\"line\":{\"color\":\"white\"}},\"type\":\"table\"}],\"barpolar\":[{\"marker\":{\"line\":{\"color\":\"#E5ECF6\",\"width\":0.5},\"pattern\":{\"fillmode\":\"overlay\",\"size\":10,\"solidity\":0.2}},\"type\":\"barpolar\"}],\"pie\":[{\"automargin\":true,\"type\":\"pie\"}]},\"layout\":{\"autotypenumbers\":\"strict\",\"colorway\":[\"#636efa\",\"#EF553B\",\"#00cc96\",\"#ab63fa\",\"#FFA15A\",\"#19d3f3\",\"#FF6692\",\"#B6E880\",\"#FF97FF\",\"#FECB52\"],\"font\":{\"color\":\"#2a3f5f\"},\"hovermode\":\"closest\",\"hoverlabel\":{\"align\":\"left\"},\"paper_bgcolor\":\"white\",\"plot_bgcolor\":\"#E5ECF6\",\"polar\":{\"bgcolor\":\"#E5ECF6\",\"angularaxis\":{\"gridcolor\":\"white\",\"linecolor\":\"white\",\"ticks\":\"\"},\"radialaxis\":{\"gridcolor\":\"white\",\"linecolor\":\"white\",\"ticks\":\"\"}},\"ternary\":{\"bgcolor\":\"#E5ECF6\",\"aaxis\":{\"gridcolor\":\"white\",\"linecolor\":\"white\",\"ticks\":\"\"},\"baxis\":{\"gridcolor\":\"white\",\"linecolor\":\"white\",\"ticks\":\"\"},\"caxis\":{\"gridcolor\":\"white\",\"linecolor\":\"white\",\"ticks\":\"\"}},\"coloraxis\":{\"colorbar\":{\"outlinewidth\":0,\"ticks\":\"\"}},\"colorscale\":{\"sequential\":[[0.0,\"#0d0887\"],[0.1111111111111111,\"#46039f\"],[0.2222222222222222,\"#7201a8\"],[0.3333333333333333,\"#9c179e\"],[0.4444444444444444,\"#bd3786\"],[0.5555555555555556,\"#d8576b\"],[0.6666666666666666,\"#ed7953\"],[0.7777777777777778,\"#fb9f3a\"],[0.8888888888888888,\"#fdca26\"],[1.0,\"#f0f921\"]],\"sequentialminus\":[[0.0,\"#0d0887\"],[0.1111111111111111,\"#46039f\"],[0.2222222222222222,\"#7201a8\"],[0.3333333333333333,\"#9c179e\"],[0.4444444444444444,\"#bd3786\"],[0.5555555555555556,\"#d8576b\"],[0.6666666666666666,\"#ed7953\"],[0.7777777777777778,\"#fb9f3a\"],[0.8888888888888888,\"#fdca26\"],[1.0,\"#f0f921\"]],\"diverging\":[[0,\"#8e0152\"],[0.1,\"#c51b7d\"],[0.2,\"#de77ae\"],[0.3,\"#f1b6da\"],[0.4,\"#fde0ef\"],[0.5,\"#f7f7f7\"],[0.6,\"#e6f5d0\"],[0.7,\"#b8e186\"],[0.8,\"#7fbc41\"],[0.9,\"#4d9221\"],[1,\"#276419\"]]},\"xaxis\":{\"gridcolor\":\"white\",\"linecolor\":\"white\",\"ticks\":\"\",\"title\":{\"standoff\":15},\"zerolinecolor\":\"white\",\"automargin\":true,\"zerolinewidth\":2},\"yaxis\":{\"gridcolor\":\"white\",\"linecolor\":\"white\",\"ticks\":\"\",\"title\":{\"standoff\":15},\"zerolinecolor\":\"white\",\"automargin\":true,\"zerolinewidth\":2},\"scene\":{\"xaxis\":{\"backgroundcolor\":\"#E5ECF6\",\"gridcolor\":\"white\",\"linecolor\":\"white\",\"showbackground\":true,\"ticks\":\"\",\"zerolinecolor\":\"white\",\"gridwidth\":2},\"yaxis\":{\"backgroundcolor\":\"#E5ECF6\",\"gridcolor\":\"white\",\"linecolor\":\"white\",\"showbackground\":true,\"ticks\":\"\",\"zerolinecolor\":\"white\",\"gridwidth\":2},\"zaxis\":{\"backgroundcolor\":\"#E5ECF6\",\"gridcolor\":\"white\",\"linecolor\":\"white\",\"showbackground\":true,\"ticks\":\"\",\"zerolinecolor\":\"white\",\"gridwidth\":2}},\"shapedefaults\":{\"line\":{\"color\":\"#2a3f5f\"}},\"annotationdefaults\":{\"arrowcolor\":\"#2a3f5f\",\"arrowhead\":0,\"arrowwidth\":1},\"geo\":{\"bgcolor\":\"white\",\"landcolor\":\"#E5ECF6\",\"subunitcolor\":\"white\",\"showland\":true,\"showlakes\":true,\"lakecolor\":\"white\"},\"title\":{\"x\":0.05},\"mapbox\":{\"style\":\"light\"}}},\"margin\":{\"l\":65,\"r\":50,\"b\":65,\"t\":90},\"title\":{\"text\":\"Cancer Survival\"},\"autosize\":false,\"width\":500,\"height\":500},                        {\"responsive\": true}                    ).then(function(){\n                            \nvar gd = document.getElementById('1b22b627-3487-489a-ac2f-82b87a280673');\nvar x = new MutationObserver(function (mutations, observer) {{\n        var display = window.getComputedStyle(gd).display;\n        if (!display || display === 'none') {{\n            console.log([gd, 'removed!']);\n            Plotly.purge(gd);\n            observer.disconnect();\n        }}\n}});\n\n// Listen for the removal of the full notebook cells\nvar notebookContainer = gd.closest('#notebook-container');\nif (notebookContainer) {{\n    x.observe(notebookContainer, {childList: true});\n}}\n\n// Listen for the clearing of the current output cell\nvar outputEl = gd.closest('.output');\nif (outputEl) {{\n    x.observe(outputEl, {childList: true});\n}}\n\n                        })                };                            </script>        </div>\n</body>\n</html>"
     },
     "execution_count": 37,
     "metadata": {
     },
     "output_type": "execute_result"
    }
   ],
   "source": [
    "fig = go.Figure(data=[go.Surface(z=df.values)])\n",
    "\n",
    "fig.update_layout(title='Cancer Survival', autosize=False,\n",
    "                  width=500, height=500,\n",
    "                  margin=dict(l=65, r=50, b=65, t=90))\n",
    "\n",
    "fig.show()"
   ]
  },
  {
   "cell_type": "code",
   "execution_count": 38,
   "metadata": {
    "collapsed": false
   },
   "outputs": [
    {
     "data": {
      "text/html": "<html>\n<head><meta charset=\"utf-8\" /></head>\n<body>\n    <div>            <script src=\"https://cdnjs.cloudflare.com/ajax/libs/mathjax/2.7.5/MathJax.js?config=TeX-AMS-MML_SVG\"></script><script type=\"text/javascript\">if (window.MathJax) {MathJax.Hub.Config({SVG: {font: \"STIX-Web\"}});}</script>                <script type=\"text/javascript\">window.PlotlyConfig = {MathJaxConfig: 'local'};</script>\n        <script src=\"https://cdn.plot.ly/plotly-2.11.1.min.js\"></script>                <div id=\"8ddd6be3-9e63-4b4d-a41f-b84f907780ae\" class=\"plotly-graph-div\" style=\"height:500px; width:500px;\"></div>            <script type=\"text/javascript\">                                    window.PLOTLYENV=window.PLOTLYENV || {};                                    if (document.getElementById(\"8ddd6be3-9e63-4b4d-a41f-b84f907780ae\")) {                    Plotly.newPlot(                        \"8ddd6be3-9e63-4b4d-a41f-b84f907780ae\",                        [{\"x\":[0.0,0.0036900369003690036,0.007380073800738007,0.01107011070110701,0.014760147601476014,0.01845018450184502,0.02214022140221402,0.025830258302583026,0.02952029520295203,0.033210332103321034,0.03690036900369004,0.04059040590405904,0.04428044280442804,0.047970479704797044,0.05166051660516605,0.055350553505535055,0.05904059040590406,0.06273062730627306,0.06642066420664207,0.07011070110701106,0.07380073800738007,0.07749077490774907,0.08118081180811808,0.08487084870848709,0.08856088560885608,0.09225092250922509,0.09594095940959409,0.0996309963099631,0.1033210332103321,0.1070110701107011,0.11070110701107011,0.1143911439114391,0.11808118081180811,0.12177121771217712,0.12546125461254612,0.12915129151291513,0.13284132841328414,0.13653136531365312,0.14022140221402213,0.14391143911439114,0.14760147601476015,0.15129151291512916,0.15498154981549814,0.15867158671586715,0.16236162361623616,0.16605166051660517,0.16974169741697417,0.17343173431734316,0.17712177121771217,0.18081180811808117,0.18450184501845018,0.1881918819188192,0.19188191881918817,0.19557195571955718,0.1992619926199262,0.2029520295202952,0.2066420664206642,0.2103321033210332,0.2140221402214022,0.2177121771217712,0.22140221402214022,0.22509225092250923,0.2287822878228782,0.23247232472324722,0.23616236162361623,0.23985239852398524,0.24354243542435425,0.24723247232472323,0.25092250922509224,0.25461254612546125,0.25830258302583026,0.26199261992619927,0.2656826568265683,0.2693726937269373,0.27306273062730624,0.27675276752767525,0.28044280442804426,0.28413284132841327,0.2878228782287823,0.2915129151291513,0.2952029520295203,0.2988929889298893,0.3025830258302583,0.3062730627306273,0.3099630996309963,0.3136531365313653,0.3173431734317343,0.3210332103321033,0.3247232472324723,0.3284132841328413,0.33210332103321033,0.33579335793357934,0.33948339483394835,0.34317343173431736,0.3468634686346863,0.3505535055350553,0.35424354243542433,0.35793357933579334,0.36162361623616235,0.36531365313653136,0.36900369003690037,0.3726937269372694,0.3763837638376384,0.3800738007380074,0.38376383763837635,0.38745387453874536,0.39114391143911437,0.3948339483394834,0.3985239852398524,0.4022140221402214,0.4059040590405904,0.4095940959409594,0.4132841328413284,0.41697416974169743,0.4206642066420664,0.4243542435424354,0.4280442804428044,0.4317343173431734,0.4354243542435424,0.43911439114391143,0.44280442804428044,0.44649446494464945,0.45018450184501846,0.45387453874538747,0.4575645756457564,0.46125461254612543,0.46494464944649444,0.46863468634686345,0.47232472324723246,0.47601476014760147,0.4797047970479705,0.4833948339483395,0.4870848708487085,0.49077490774907745,0.49446494464944646,0.49815498154981547,0.5018450184501845,0.5055350553505535,0.5092250922509225,0.5129151291512914,0.5166051660516605,0.5202952029520295,0.5239852398523985,0.5276752767527675,0.5313653136531366,0.5350553505535055,0.5387453874538746,0.5424354243542435,0.5461254612546125,0.5498154981549815,0.5535055350553505,0.5571955719557196,0.5608856088560885,0.5645756457564576,0.5682656826568265,0.5719557195571956,0.5756457564575646,0.5793357933579336,0.5830258302583026,0.5867158671586715,0.5904059040590406,0.5940959409594095,0.5977859778597786,0.6014760147601476,0.6051660516605166,0.6088560885608856,0.6125461254612546,0.6162361623616236,0.6199261992619925,0.6236162361623616,0.6273062730627306,0.6309963099630996,0.6346863468634686,0.6383763837638377,0.6420664206642066,0.6457564575645757,0.6494464944649446,0.6531365313653137,0.6568265682656826,0.6605166051660516,0.6642066420664207,0.6678966789667896,0.6715867158671587,0.6752767527675276,0.6789667896678967,0.6826568265682657,0.6863468634686347,0.6900369003690037,0.6937269372693726,0.6974169741697417,0.7011070110701106,0.7047970479704797,0.7084870848708487,0.7121771217712177,0.7158671586715867,0.7195571955719557,0.7232472324723247,0.7269372693726937,0.7306273062730627,0.7343173431734317,0.7380073800738007,0.7416974169741697,0.7453874538745388,0.7490774907749077,0.7527675276752768,0.7564575645756457,0.7601476014760148,0.7638376383763837,0.7675276752767527,0.7712177121771218,0.7749077490774907,0.7785977859778598,0.7822878228782287,0.7859778597785978,0.7896678966789668,0.7933579335793358,0.7970479704797048,0.8007380073800737,0.8044280442804428,0.8081180811808117,0.8118081180811808,0.8154981549815498,0.8191881918819188,0.8228782287822878,0.8265682656826568,0.8302583025830258,0.8339483394833949,0.8376383763837638,0.8413284132841328,0.8450184501845018,0.8487084870848708,0.8523985239852399,0.8560885608856088,0.8597785977859779,0.8634686346863468,0.8671586715867159,0.8708487084870848,0.8745387453874538,0.8782287822878229,0.8819188191881918,0.8856088560885609,0.8892988929889298,0.8929889298892989,0.8966789667896679,0.9003690036900369,0.9040590405904059,0.9077490774907749,0.9114391143911439,0.9151291512915128,0.9188191881918819,0.9225092250922509,0.9261992619926199,0.9298892988929889,0.933579335793358,0.9372693726937269,0.940959409594096,0.9446494464944649,0.9483394833948339,0.9520295202952029,0.9557195571955719,0.959409594095941,0.9630996309963099,0.966789667896679,0.9704797047970479,0.974169741697417,0.977859778597786,0.9815498154981549,0.985239852398524,0.9889298892988929,0.992619926199262,0.9963099630996309,1.0],\"y\":[0.0,0.1111111111111111,0.2222222222222222,0.3333333333333333,0.4444444444444444,0.5555555555555556,0.6666666666666666,0.7777777777777777,0.8888888888888888,1.0],\"z\":[[\"s122\",18,43,0,14.817248,14.817248,0,0,1,1],[\"s123\",19,48,0,14.261465,14.261465,0,0,0,1],[\"s124\",20,38,0,6.644764,6.644764,0,0,0,1],[\"s125\",21,50,0,7.748118,7.748118,0,1,0,1],[\"s126\",22,38,0,6.436687,6.31896,0,0,1,1],[\"s127\",23,42,0,5.037645,2.743326,1,0,1,1],[\"s128\",24,50,0,8.73922,8.73922,1,1,0,1],[\"s129\",25,43,0,7.56742,7.56742,1,0,0,1],[\"s130\",26,47,0,7.296372,7.296372,1,0,0,1],[\"s131\",27,39,1,4.66256,1.114305,0,0,0,1],[\"s132\",28,47,0,6.718686,5.867214,1,1,0,1],[\"s133\",29,32,0,8.648871,8.648871,0,0,0,1],[\"s134\",30,38,1,7.093771,6.995209,1,0,0,1],[\"s135\",31,45,0,9.330595,9.330595,0,1,1,1],[\"s136\",32,31,1,3.82204,3.438741,0,0,1,1],[\"s137\",33,41,0,15.329227,15.329227,1,0,0,1],[\"s138\",34,44,1,3.849418,3.474333,0,0,1,1],[\"s139\",35,41,0,12.766598,12.766598,0,0,1,1],[\"s140\",36,46,0,5.555099,5.555099,0,0,0,1],[\"s141\",37,33,1,2.064339,1.40178,0,0,1,1],[\"s142\",38,39,0,15.134839,15.134839,0,0,1,1],[\"s144\",39,38,0,14.12731,14.12731,0,0,1,1],[\"s145\",40,48,0,5.486653,5.486653,1,1,0,1],[\"s146\",41,47,1,9.407255,3.655031,0,0,1,1],[\"s147\",42,38,1,2.707734,1.609856,0,0,1,1],[\"s148\",43,49,0,18.340862,18.340862,0,0,1,1],[\"s149\",44,44,0,17.240246,17.240246,1,0,0,1],[\"s150\",45,36,1,1.486653,0.960986,0,0,1,1],[\"s151\",46,42,0,17.574264,14.01232,1,0,0,1],[\"s153\",47,37,1,3.036277,1.177276,0,0,1,1],[\"s154\",48,40,0,15.104723,15.104723,0,0,1,1],[\"s155\",49,49,1,1.848049,0.930869,0,0,1,1],[\"s156\",50,42,0,17.659138,17.659138,1,0,0,1],[\"s157\",51,45,0,7.874059,7.874059,0,0,0,1],[\"s158\",52,49,1,3.906913,2.811773,0,0,1,1],[\"s159\",53,44,1,5.415469,4.44627,1,0,1,1],[\"s160\",54,32,0,16.147844,16.147844,1,0,1,1],[\"s161\",55,46,1,13.404517,8.128679,1,0,1,2],[\"s162\",56,50,0,15.312799,15.312799,1,0,1,1],[\"s163\",57,38,0,15.819302,15.819302,1,0,1,1],[\"s164\",58,50,0,5.664613,5.664613,0,0,1,1],[\"s165\",59,39,1,11.017112,6.193018,0,0,0,1],[\"s166\",60,43,1,3.622177,1.612594,0,0,1,1],[\"s167\",61,44,0,15.323751,15.323751,0,0,1,1],[\"s169\",62,40,0,14.885695,14.885695,0,0,0,1],[\"s170\",63,42,0,13.34976,13.34976,1,0,1,1],[\"s172\",64,46,1,1.634497,1.221081,1,0,0,1],[\"s174\",65,41,0,13.749487,13.749487,0,0,0,1],[\"s175\",66,48,1,7.674196,7.594798,0,0,0,1],[\"s177\",68,48,1,9.711157,8.925394,1,0,0,1],[\"s178\",69,48,0,13.174538,13.174538,1,0,0,1],[\"s179\",70,40,0,12.76386,12.76386,0,0,0,1],[\"s180\",71,36,1,5.28679,2.614648,1,0,0,1],[\"s181\",72,35,0,11.800137,10.817248,0,0,0,1],[\"s182\",73,43,0,11.318275,11.318275,0,0,0,1],[\"s183\",74,42,0,11.86037,11.86037,0,0,0,1],[\"s184\",75,44,1,4.405202,1.21013,1,0,0,1],[\"s185\",76,42,1,7.334702,7.334702,0,0,1,1],[\"s186\",77,47,1,11.739904,11.739904,1,0,0,1],[\"s187\",78,40,0,12.503765,12.503765,1,0,1,1],[\"s188\",79,41,0,11.263518,11.263518,1,0,1,1],[\"s189\",80,39,0,12.073922,12.073922,0,0,0,1],[\"s190\",81,48,0,11.92334,7.449692,0,0,0,1],[\"s191\",82,34,0,12.736482,12.736482,0,0,1,1],[\"s192\",83,41,1,6.297057,2.696783,1,0,1,1],[\"s193\",84,50,0,11.832991,11.832991,0,0,0,1],[\"s194\",85,45,0,13.067762,9.46475,1,0,0,1],[\"s195\",86,45,0,11.545517,2.05065,1,0,0,1],[\"s196\",87,47,0,11.195072,11.195072,1,0,1,1],[\"s197\",88,37,0,11.047228,11.047228,1,0,1,1],[\"s198\",89,43,0,11.143053,9.338809,1,0,0,1],[\"s199\",90,39,0,10.907598,10.907598,0,0,0,1],[\"s200\",91,43,0,10.767967,10.767967,1,0,0,1],[\"s201\",92,33,0,11.200548,11.200548,0,0,1,1],[\"s202\",93,47,1,4.845996,3.378445,0,0,0,1],[\"s203\",94,49,0,11.036277,11.036277,1,0,1,1],[\"s205\",95,50,0,10.138261,10.138261,0,0,1,1],[\"s207\",96,44,0,9.653662,9.653662,0,0,1,2],[\"s208\",97,45,0,10.67488,10.67488,1,0,1,1],[\"s209\",98,41,0,11.441478,6.480493,1,0,1,1],[\"s210\",99,50,0,11.203285,11.203285,1,0,1,2],[\"s212\",100,42,1,12.145106,12.145106,0,0,0,1],[\"s213\",101,49,1,3.247091,1.97399,1,0,1,1],[\"s214\",102,41,0,10.45859,7.477071,0,0,0,1],[\"s215\",103,49,0,10.351814,10.351814,0,0,0,1],[\"s217\",104,43,1,1.946612,1.716632,1,0,0,1],[\"s218\",105,38,1,2.945927,2.340862,1,0,0,1],[\"s219\",106,46,0,9.831622,9.831622,0,0,0,1],[\"s220\",107,42,0,10.327173,10.327173,1,0,1,1],[\"s221\",108,45,0,10.376454,10.376454,0,0,0,1],[\"s222\",109,34,1,3.307324,2.253251,0,0,1,1],[\"s224\",110,44,0,10.020534,10.020534,0,0,1,1],[\"s228\",113,39,1,1.434634,1.223819,0,0,0,1],[\"s229\",114,45,1,2.858316,1.61807,0,0,0,1],[\"s230\",115,28,1,0.711841,0.271047,0,0,0,1],[\"s231\",116,43,0,11.156742,3.581109,0,0,0,1],[\"s233\",117,42,0,14.121834,14.121834,0,0,0,1],[\"s235\",118,47,0,6.516085,6.516085,0,0,1,1],[\"s237\",120,50,1,1.316906,1.152635,0,1,1,1],[\"s238\",121,42,1,2.151951,1.007529,0,0,0,1],[\"s239\",122,40,0,8.093087,8.093087,0,0,0,1],[\"s240\",123,47,0,6.973306,4.095825,0,0,1,1],[\"s241\",124,41,1,2.132786,2.004107,1,0,0,1],[\"s243\",125,44,0,9.982204,9.982204,1,0,1,1],[\"s245\",126,48,0,11.545517,11.545517,1,0,1,1],[\"s246\",127,35,0,11.449692,4.17796,0,0,0,1],[\"s247\",128,50,0,5.637235,5.637235,1,1,1,1],[\"s249\",130,44,0,5.316906,5.316906,1,1,0,1],[\"s250\",131,39,0,11.364819,11.364819,1,1,0,1],[\"s251\",132,49,0,9.407255,9.407255,0,0,0,1],[\"s252\",133,46,0,9.916496,9.122519,0,0,0,1],[\"s254\",134,37,1,4.668036,4.588638,0,0,0,1],[\"s256\",135,49,0,9.505818,8.988364,1,0,1,1],[\"s257\",136,32,1,2.587269,1.716632,1,0,0,1],[\"s258\",137,43,1,5.352498,5.117043,1,0,0,1],[\"s259\",138,42,0,8.963723,5.516769,0,0,0,1],[\"s260\",139,42,0,8.813142,8.303901,1,0,0,1],[\"s261\",140,50,0,8.594114,8.594114,0,1,0,1],[\"s263\",141,39,1,4.528405,2.223135,1,0,1,1],[\"s264\",142,42,0,7.252567,7.252567,1,1,1,1],[\"s265\",143,41,0,6.78987,6.78987,1,1,1,1],[\"s266\",144,43,0,7.011636,7.011636,0,0,0,1],[\"s267\",145,49,0,6.9295,6.9295,1,0,1,1],[\"s268\",146,38,0,7.088296,7.088296,0,0,0,1],[\"s269\",147,38,1,1.352498,0.936328,1,0,0,1],[\"s270\",148,50,1,2.962355,2.962355,0,0,1,1],[\"s271\",149,42,0,7.022587,7.022587,0,0,0,1],[\"s272\",150,43,0,7.252567,7.252567,1,1,1,1],[\"s273\",151,50,0,6.997947,6.997947,0,1,0,1],[\"s274\",152,49,0,5.924709,5.924709,0,0,0,1],[\"s276\",154,37,1,1.073238,0.648871,1,0,1,5],[\"s277\",155,37,0,5.114305,5.114305,1,0,0,1],[\"s278\",156,49,0,5.311431,5.311431,0,1,1,2],[\"s280\",157,48,0,5.292266,5.292266,1,0,1,1],[\"s281\",158,48,0,7.340178,7.340178,1,1,0,1],[\"s282\",159,48,0,5.744011,5.744011,1,0,1,2],[\"s283\",160,49,0,5.32512,5.32512,1,0,0,1],[\"s284\",161,45,1,5.322382,3.915127,1,1,1,1],[\"s285\",162,43,0,5.771389,5.771389,0,0,1,1],[\"s287\",164,44,0,6.067077,6.067077,1,0,1,1],[\"s288\",165,35,1,1.867214,0.353183,0,0,1,1],[\"s291\",167,39,0,11.652293,11.652293,1,0,0,1],[\"s292\",168,48,0,8.366872,8.366872,0,0,0,7],[\"s293\",169,46,0,6.313484,6.313484,1,1,0,1],[\"s294\",170,49,0,6.143737,6.143737,1,0,1,1],[\"s295\",171,48,0,5.555099,5.555099,0,0,0,1],[\"s296\",172,46,0,5.086927,0.325804,0,0,1,1],[\"s297\",173,37,0,9.596167,9.596167,1,0,1,1],[\"s298\",174,50,0,9.456537,9.456537,0,1,1,1],[\"s300\",175,35,1,3.78371,2.852841,1,0,0,2],[\"s301\",176,47,0,9.330595,9.330595,1,0,0,1],[\"s304\",179,40,0,9.670089,6.710472,0,0,0,1],[\"s305\",180,40,0,9.549624,9.549624,0,0,1,1],[\"s306\",181,43,0,10.201232,10.201232,0,0,1,2],[\"s307\",182,44,1,2.806297,1.965777,1,0,0,1],[\"s308\",183,41,0,9.322382,9.322382,1,0,1,1],[\"s309\",184,43,0,9.314168,8.394251,1,1,0,1],[\"s310\",185,45,0,9.097878,9.097878,0,0,0,1],[\"s311\",186,42,1,4.54757,4.219028,1,0,1,1],[\"s312\",187,47,0,9.103354,9.103354,0,0,0,1],[\"s313\",188,40,0,9.03217,6.056126,0,0,1,1],[\"s314\",189,39,1,5.059548,3.219713,0,0,1,1],[\"s315\",190,40,0,8.240931,8.240931,1,0,0,1],[\"s317\",191,43,1,5.604381,2.138261,0,0,1,1],[\"s319\",193,48,1,6.499658,6.370979,0,0,1,1],[\"s320\",194,44,0,9.894593,9.894593,1,0,0,1],[\"s322\",196,45,0,6.704997,6.704997,1,0,1,1],[\"s323\",197,41,0,8.80219,8.80219,0,0,1,2],[\"s324\",198,46,0,8.859685,8.859685,1,0,1,1],[\"s325\",199,42,0,8.854209,8.854209,1,0,1,1],[\"s326\",200,39,0,8.298426,8.298426,0,0,0,1],[\"s327\",201,49,0,6.094456,4.621492,1,0,1,1],[\"s328\",202,41,0,5.577002,5.577002,1,0,0,1],[\"s329\",203,49,0,5.804244,2.130048,0,0,1,2],[\"s330\",204,26,0,5.199179,5.199179,1,0,1,1],[\"s331\",205,48,1,2.507871,2.157426,0,0,1,1],[\"s332\",206,49,0,7.991786,7.991786,1,0,0,1],[\"s333\",207,44,0,8.495551,8.495551,0,0,1,1],[\"s334\",208,36,0,7.693361,7.693361,1,0,0,1],[\"s335\",209,48,0,7.477071,7.477071,1,0,0,1],[\"s336\",210,47,0,7.408624,7.408624,0,0,0,1],[\"s337\",211,29,0,6.819986,2.086242,1,0,0,2],[\"s338\",212,49,0,6.3436,6.3436,1,0,0,1],[\"s339\",213,45,0,16.591376,16.591376,1,0,0,1],[\"s340\",214,43,1,5.859001,3.12115,1,0,0,1],[\"s341\",215,45,1,2.362765,1.73306,1,0,1,1],[\"s342\",216,45,0,15.351129,15.351129,0,0,0,1],[\"s343\",217,45,0,6.609172,6.609172,0,0,1,1],[\"s344\",218,44,0,6.874743,6.874743,0,0,0,1],[\"s345\",219,47,0,6.995209,6.995209,1,0,0,1],[\"s346\",220,49,0,7.12115,7.12115,1,0,1,1],[\"s348\",222,50,0,6.171116,6.171116,0,0,0,1],[\"s349\",223,45,0,6.464066,6.464066,1,1,1,1],[\"s351\",225,41,0,6.527036,6.527036,1,0,0,1],[\"s352\",226,43,0,5.809719,5.809719,0,0,1,1],[\"s353\",227,36,0,6.551677,4.843258,1,0,1,1],[\"s354\",228,47,0,6.160164,6.160164,0,0,1,1],[\"s355\",229,50,0,6.045175,6.045175,0,0,0,1],[\"s356\",230,49,0,6.214921,6.214921,0,0,0,1],[\"s357\",231,38,0,5.823409,5.823409,1,1,1,2],[\"s358\",232,45,0,6.239562,6.239562,0,0,0,1],[\"s359\",233,49,0,6.017796,6.017796,0,1,1,1],[\"s360\",234,49,0,5.549624,5.549624,1,1,1,2],[\"s361\",235,42,0,5.347023,5.347023,1,1,1,1],[\"s362\",236,46,0,5.259411,5.259411,1,1,1,1],[\"s363\",237,42,0,6.009582,4.971937,1,1,1,1],[\"s364\",238,49,0,18.080767,18.080767,0,0,1,1],[\"s365\",239,51,0,17.486653,17.486653,0,0,1,1],[\"s366\",240,50,0,17.152635,17.152635,0,0,0,1],[\"s367\",241,49,1,0.974675,0.572211,0,0,0,1],[\"s368\",242,33,0,16.870637,9.568789,0,0,0,1],[\"s369\",243,39,1,6.570842,3.258042,0,0,1,1],[\"s370\",244,51,1,14.360027,9.998631,0,0,1,1],[\"s371\",245,51,1,2.406571,1.968515,0,0,0,2],[\"s373\",246,51,0,7.772758,7.772758,1,0,0,1],[\"s374\",247,52,1,5.754962,2.680356,1,0,0,1],[\"s375\",248,52,0,17.420945,17.420945,1,0,0,1],[\"s377\",249,52,1,9.530459,8.528405,0,0,1,1],[\"s378\",250,52,0,13.919233,13.919233,0,1,1,1],[\"s379\",251,52,0,13.864476,13.864476,0,0,0,1],[\"s380\",252,52,0,12.73922,12.73922,0,0,1,1],[\"s381\",253,52,0,12.260096,7.772758,0,0,0,1],[\"s383\",254,52,0,11.08282,11.08282,1,0,0,1],[\"s385\",255,53,1,2.888433,1.946612,0,1,1,2],[\"s387\",256,52,0,8.213552,8.213552,0,1,0,1],[\"s388\",257,52,0,7.225188,7.225188,0,0,0,1],[\"s389\",258,51,1,4.947296,3.419576,0,1,0,1],[\"s390\",259,51,0,6.803559,6.803559,0,1,0,1],[\"s391\",260,51,0,6.020534,3.509925,0,0,1,1],[\"s392\",261,51,0,6.171116,6.171116,1,0,0,1],[\"s393\",262,51,0,5.574264,5.574264,0,1,0,1],[\"s394\",263,51,0,5.708419,5.708419,0,0,0,1],[\"s395\",264,51,0,15.077344,11.211499,0,0,1,1],[\"s396\",265,51,0,10.231348,10.231348,0,1,0,1],[\"s397\",266,51,1,8.772074,4.766598,0,1,0,1],[\"s398\",267,34,0,8.424367,8.424367,0,0,1,1],[\"s401\",268,41,0,10.031485,1.527721,0,0,1,1],[\"s402\",269,47,0,7.378508,7.378508,0,0,0,4],[\"s403\",270,47,0,6.754278,6.754278,1,0,0,1],[\"s404\",271,39,0,7.570157,7.570157,0,0,0,4],[\"s103\",272,42,1,5.779603,4.952772,0,0,0,1],[\"s107\",273,38,1,3.455168,1.374401,0,0,0,1],[\"s111\",276,50,1,3.252567,1.270363,0,0,0,1],[\"s113\",277,47,1,3.241615,0.996578,0,0,0,1],[\"s117\",278,51,0,5.303217,5.303217,0,0,0,1],[\"s118\",279,47,0,5.232033,5.232033,0,0,0,1],[\"s120\",280,42,0,10.097194,10.097194,0,0,0,1],[\"s6\",282,49,0,11.156742,11.156742,0,0,0,1],[\"s7\",283,46,0,10.138261,10.138261,0,0,0,1],[\"s8\",284,48,0,8.80219,8.80219,0,0,0,1],[\"s9\",285,48,0,10.294319,10.294319,0,0,0,1],[\"s11\",286,37,0,5.804244,5.804244,0,0,0,1],[\"s13\",288,41,0,8.167009,8.167009,0,0,0,1],[\"s14\",289,48,0,8.232717,8.232717,0,0,0,1],[\"s17\",290,48,0,7.865845,7.865845,0,0,0,1],[\"s26\",291,40,0,6.970568,6.970568,0,0,0,1],[\"s27\",292,45,0,5.185489,5.185489,0,0,0,1],[\"s28\",293,40,0,6.245038,6.245038,0,0,0,1],[\"s29\",294,52,0,11.389459,11.389459,0,0,1,1],[\"s36\",295,52,0,10.108145,10.108145,0,0,1,1],[\"s39\",297,46,0,11.017112,11.017112,0,0,0,1],[\"s48\",299,30,1,2.1726,1.026694,0,0,0,1],[\"s51\",300,41,1,9.526,4.906229,0,0,1,1],[\"s56\",301,30,1,8.4658,4.695414,0,0,0,1],[\"s58\",303,38,1,5.3562,1.122519,0,0,0,1],[\"s60\",305,45,1,7.9288,4.892539,0,0,0,1],[\"s62\",307,36,1,2.7096,0.807666,0,0,0,1],[\"s71\",308,48,1,2.6083,1.982204,1,0,1,1],[\"s72\",309,39,1,5.5041,3.028063,0,0,1,1],[\"s73\",310,50,1,2.6192,2.149213,0,0,1,1],[\"s75\",311,52,1,2.2905,2.209446,0,1,1,1],[\"s76\",312,52,1,3.737,2.12731,0,0,1,1]],\"type\":\"surface\"}],                        {\"template\":{\"data\":{\"histogram2dcontour\":[{\"type\":\"histogram2dcontour\",\"colorbar\":{\"outlinewidth\":0,\"ticks\":\"\"},\"colorscale\":[[0.0,\"#0d0887\"],[0.1111111111111111,\"#46039f\"],[0.2222222222222222,\"#7201a8\"],[0.3333333333333333,\"#9c179e\"],[0.4444444444444444,\"#bd3786\"],[0.5555555555555556,\"#d8576b\"],[0.6666666666666666,\"#ed7953\"],[0.7777777777777778,\"#fb9f3a\"],[0.8888888888888888,\"#fdca26\"],[1.0,\"#f0f921\"]]}],\"choropleth\":[{\"type\":\"choropleth\",\"colorbar\":{\"outlinewidth\":0,\"ticks\":\"\"}}],\"histogram2d\":[{\"type\":\"histogram2d\",\"colorbar\":{\"outlinewidth\":0,\"ticks\":\"\"},\"colorscale\":[[0.0,\"#0d0887\"],[0.1111111111111111,\"#46039f\"],[0.2222222222222222,\"#7201a8\"],[0.3333333333333333,\"#9c179e\"],[0.4444444444444444,\"#bd3786\"],[0.5555555555555556,\"#d8576b\"],[0.6666666666666666,\"#ed7953\"],[0.7777777777777778,\"#fb9f3a\"],[0.8888888888888888,\"#fdca26\"],[1.0,\"#f0f921\"]]}],\"heatmap\":[{\"type\":\"heatmap\",\"colorbar\":{\"outlinewidth\":0,\"ticks\":\"\"},\"colorscale\":[[0.0,\"#0d0887\"],[0.1111111111111111,\"#46039f\"],[0.2222222222222222,\"#7201a8\"],[0.3333333333333333,\"#9c179e\"],[0.4444444444444444,\"#bd3786\"],[0.5555555555555556,\"#d8576b\"],[0.6666666666666666,\"#ed7953\"],[0.7777777777777778,\"#fb9f3a\"],[0.8888888888888888,\"#fdca26\"],[1.0,\"#f0f921\"]]}],\"heatmapgl\":[{\"type\":\"heatmapgl\",\"colorbar\":{\"outlinewidth\":0,\"ticks\":\"\"},\"colorscale\":[[0.0,\"#0d0887\"],[0.1111111111111111,\"#46039f\"],[0.2222222222222222,\"#7201a8\"],[0.3333333333333333,\"#9c179e\"],[0.4444444444444444,\"#bd3786\"],[0.5555555555555556,\"#d8576b\"],[0.6666666666666666,\"#ed7953\"],[0.7777777777777778,\"#fb9f3a\"],[0.8888888888888888,\"#fdca26\"],[1.0,\"#f0f921\"]]}],\"contourcarpet\":[{\"type\":\"contourcarpet\",\"colorbar\":{\"outlinewidth\":0,\"ticks\":\"\"}}],\"contour\":[{\"type\":\"contour\",\"colorbar\":{\"outlinewidth\":0,\"ticks\":\"\"},\"colorscale\":[[0.0,\"#0d0887\"],[0.1111111111111111,\"#46039f\"],[0.2222222222222222,\"#7201a8\"],[0.3333333333333333,\"#9c179e\"],[0.4444444444444444,\"#bd3786\"],[0.5555555555555556,\"#d8576b\"],[0.6666666666666666,\"#ed7953\"],[0.7777777777777778,\"#fb9f3a\"],[0.8888888888888888,\"#fdca26\"],[1.0,\"#f0f921\"]]}],\"surface\":[{\"type\":\"surface\",\"colorbar\":{\"outlinewidth\":0,\"ticks\":\"\"},\"colorscale\":[[0.0,\"#0d0887\"],[0.1111111111111111,\"#46039f\"],[0.2222222222222222,\"#7201a8\"],[0.3333333333333333,\"#9c179e\"],[0.4444444444444444,\"#bd3786\"],[0.5555555555555556,\"#d8576b\"],[0.6666666666666666,\"#ed7953\"],[0.7777777777777778,\"#fb9f3a\"],[0.8888888888888888,\"#fdca26\"],[1.0,\"#f0f921\"]]}],\"mesh3d\":[{\"type\":\"mesh3d\",\"colorbar\":{\"outlinewidth\":0,\"ticks\":\"\"}}],\"scatter\":[{\"fillpattern\":{\"fillmode\":\"overlay\",\"size\":10,\"solidity\":0.2},\"type\":\"scatter\"}],\"parcoords\":[{\"type\":\"parcoords\",\"line\":{\"colorbar\":{\"outlinewidth\":0,\"ticks\":\"\"}}}],\"scatterpolargl\":[{\"type\":\"scatterpolargl\",\"marker\":{\"colorbar\":{\"outlinewidth\":0,\"ticks\":\"\"}}}],\"bar\":[{\"error_x\":{\"color\":\"#2a3f5f\"},\"error_y\":{\"color\":\"#2a3f5f\"},\"marker\":{\"line\":{\"color\":\"#E5ECF6\",\"width\":0.5},\"pattern\":{\"fillmode\":\"overlay\",\"size\":10,\"solidity\":0.2}},\"type\":\"bar\"}],\"scattergeo\":[{\"type\":\"scattergeo\",\"marker\":{\"colorbar\":{\"outlinewidth\":0,\"ticks\":\"\"}}}],\"scatterpolar\":[{\"type\":\"scatterpolar\",\"marker\":{\"colorbar\":{\"outlinewidth\":0,\"ticks\":\"\"}}}],\"histogram\":[{\"marker\":{\"pattern\":{\"fillmode\":\"overlay\",\"size\":10,\"solidity\":0.2}},\"type\":\"histogram\"}],\"scattergl\":[{\"type\":\"scattergl\",\"marker\":{\"colorbar\":{\"outlinewidth\":0,\"ticks\":\"\"}}}],\"scatter3d\":[{\"type\":\"scatter3d\",\"line\":{\"colorbar\":{\"outlinewidth\":0,\"ticks\":\"\"}},\"marker\":{\"colorbar\":{\"outlinewidth\":0,\"ticks\":\"\"}}}],\"scattermapbox\":[{\"type\":\"scattermapbox\",\"marker\":{\"colorbar\":{\"outlinewidth\":0,\"ticks\":\"\"}}}],\"scatterternary\":[{\"type\":\"scatterternary\",\"marker\":{\"colorbar\":{\"outlinewidth\":0,\"ticks\":\"\"}}}],\"scattercarpet\":[{\"type\":\"scattercarpet\",\"marker\":{\"colorbar\":{\"outlinewidth\":0,\"ticks\":\"\"}}}],\"carpet\":[{\"aaxis\":{\"endlinecolor\":\"#2a3f5f\",\"gridcolor\":\"white\",\"linecolor\":\"white\",\"minorgridcolor\":\"white\",\"startlinecolor\":\"#2a3f5f\"},\"baxis\":{\"endlinecolor\":\"#2a3f5f\",\"gridcolor\":\"white\",\"linecolor\":\"white\",\"minorgridcolor\":\"white\",\"startlinecolor\":\"#2a3f5f\"},\"type\":\"carpet\"}],\"table\":[{\"cells\":{\"fill\":{\"color\":\"#EBF0F8\"},\"line\":{\"color\":\"white\"}},\"header\":{\"fill\":{\"color\":\"#C8D4E3\"},\"line\":{\"color\":\"white\"}},\"type\":\"table\"}],\"barpolar\":[{\"marker\":{\"line\":{\"color\":\"#E5ECF6\",\"width\":0.5},\"pattern\":{\"fillmode\":\"overlay\",\"size\":10,\"solidity\":0.2}},\"type\":\"barpolar\"}],\"pie\":[{\"automargin\":true,\"type\":\"pie\"}]},\"layout\":{\"autotypenumbers\":\"strict\",\"colorway\":[\"#636efa\",\"#EF553B\",\"#00cc96\",\"#ab63fa\",\"#FFA15A\",\"#19d3f3\",\"#FF6692\",\"#B6E880\",\"#FF97FF\",\"#FECB52\"],\"font\":{\"color\":\"#2a3f5f\"},\"hovermode\":\"closest\",\"hoverlabel\":{\"align\":\"left\"},\"paper_bgcolor\":\"white\",\"plot_bgcolor\":\"#E5ECF6\",\"polar\":{\"bgcolor\":\"#E5ECF6\",\"angularaxis\":{\"gridcolor\":\"white\",\"linecolor\":\"white\",\"ticks\":\"\"},\"radialaxis\":{\"gridcolor\":\"white\",\"linecolor\":\"white\",\"ticks\":\"\"}},\"ternary\":{\"bgcolor\":\"#E5ECF6\",\"aaxis\":{\"gridcolor\":\"white\",\"linecolor\":\"white\",\"ticks\":\"\"},\"baxis\":{\"gridcolor\":\"white\",\"linecolor\":\"white\",\"ticks\":\"\"},\"caxis\":{\"gridcolor\":\"white\",\"linecolor\":\"white\",\"ticks\":\"\"}},\"coloraxis\":{\"colorbar\":{\"outlinewidth\":0,\"ticks\":\"\"}},\"colorscale\":{\"sequential\":[[0.0,\"#0d0887\"],[0.1111111111111111,\"#46039f\"],[0.2222222222222222,\"#7201a8\"],[0.3333333333333333,\"#9c179e\"],[0.4444444444444444,\"#bd3786\"],[0.5555555555555556,\"#d8576b\"],[0.6666666666666666,\"#ed7953\"],[0.7777777777777778,\"#fb9f3a\"],[0.8888888888888888,\"#fdca26\"],[1.0,\"#f0f921\"]],\"sequentialminus\":[[0.0,\"#0d0887\"],[0.1111111111111111,\"#46039f\"],[0.2222222222222222,\"#7201a8\"],[0.3333333333333333,\"#9c179e\"],[0.4444444444444444,\"#bd3786\"],[0.5555555555555556,\"#d8576b\"],[0.6666666666666666,\"#ed7953\"],[0.7777777777777778,\"#fb9f3a\"],[0.8888888888888888,\"#fdca26\"],[1.0,\"#f0f921\"]],\"diverging\":[[0,\"#8e0152\"],[0.1,\"#c51b7d\"],[0.2,\"#de77ae\"],[0.3,\"#f1b6da\"],[0.4,\"#fde0ef\"],[0.5,\"#f7f7f7\"],[0.6,\"#e6f5d0\"],[0.7,\"#b8e186\"],[0.8,\"#7fbc41\"],[0.9,\"#4d9221\"],[1,\"#276419\"]]},\"xaxis\":{\"gridcolor\":\"white\",\"linecolor\":\"white\",\"ticks\":\"\",\"title\":{\"standoff\":15},\"zerolinecolor\":\"white\",\"automargin\":true,\"zerolinewidth\":2},\"yaxis\":{\"gridcolor\":\"white\",\"linecolor\":\"white\",\"ticks\":\"\",\"title\":{\"standoff\":15},\"zerolinecolor\":\"white\",\"automargin\":true,\"zerolinewidth\":2},\"scene\":{\"xaxis\":{\"backgroundcolor\":\"#E5ECF6\",\"gridcolor\":\"white\",\"linecolor\":\"white\",\"showbackground\":true,\"ticks\":\"\",\"zerolinecolor\":\"white\",\"gridwidth\":2},\"yaxis\":{\"backgroundcolor\":\"#E5ECF6\",\"gridcolor\":\"white\",\"linecolor\":\"white\",\"showbackground\":true,\"ticks\":\"\",\"zerolinecolor\":\"white\",\"gridwidth\":2},\"zaxis\":{\"backgroundcolor\":\"#E5ECF6\",\"gridcolor\":\"white\",\"linecolor\":\"white\",\"showbackground\":true,\"ticks\":\"\",\"zerolinecolor\":\"white\",\"gridwidth\":2}},\"shapedefaults\":{\"line\":{\"color\":\"#2a3f5f\"}},\"annotationdefaults\":{\"arrowcolor\":\"#2a3f5f\",\"arrowhead\":0,\"arrowwidth\":1},\"geo\":{\"bgcolor\":\"white\",\"landcolor\":\"#E5ECF6\",\"subunitcolor\":\"white\",\"showland\":true,\"showlakes\":true,\"lakecolor\":\"white\"},\"title\":{\"x\":0.05},\"mapbox\":{\"style\":\"light\"}}},\"margin\":{\"l\":65,\"r\":50,\"b\":65,\"t\":90},\"title\":{\"text\":\"Breast Cancer Survival\"},\"autosize\":false,\"width\":500,\"height\":500},                        {\"responsive\": true}                    ).then(function(){\n                            \nvar gd = document.getElementById('8ddd6be3-9e63-4b4d-a41f-b84f907780ae');\nvar x = new MutationObserver(function (mutations, observer) {{\n        var display = window.getComputedStyle(gd).display;\n        if (!display || display === 'none') {{\n            console.log([gd, 'removed!']);\n            Plotly.purge(gd);\n            observer.disconnect();\n        }}\n}});\n\n// Listen for the removal of the full notebook cells\nvar notebookContainer = gd.closest('#notebook-container');\nif (notebookContainer) {{\n    x.observe(notebookContainer, {childList: true});\n}}\n\n// Listen for the clearing of the current output cell\nvar outputEl = gd.closest('.output');\nif (outputEl) {{\n    x.observe(outputEl, {childList: true});\n}}\n\n                        })                };                            </script>        </div>\n</body>\n</html>"
     },
     "execution_count": 38,
     "metadata": {
     },
     "output_type": "execute_result"
    }
   ],
   "source": [
    "z = df.values\n",
    "sh_0, sh_1 = z.shape\n",
    "x, y = np.linspace(0, 1, sh_0), np.linspace(0, 1, sh_1)\n",
    "fig = go.Figure(data=[go.Surface(z=z, x=x, y=y)])\n",
    "fig.update_layout(title='Breast Cancer Survival', autosize=False,\n",
    "                  width=500, height=500,\n",
    "                  margin=dict(l=65, r=50, b=65, t=90))\n",
    "fig.show()"
   ]
  },
  {
   "cell_type": "code",
   "execution_count": 0,
   "metadata": {
    "collapsed": false
   },
   "outputs": [
   ],
   "source": [
   ]
  },
  {
   "cell_type": "code",
   "execution_count": 40,
   "metadata": {
    "collapsed": false
   },
   "outputs": [
   ],
   "source": [
    "def data_convert(num):\n",
    "    if num == 1:\n",
    "        return True\n",
    "    else:\n",
    "        return False"
   ]
  },
  {
   "cell_type": "code",
   "execution_count": 41,
   "metadata": {
    "collapsed": false
   },
   "outputs": [
   ],
   "source": [
    "df[\"hormonal\"] = df[\"hormonal\"].apply(data_convert)"
   ]
  },
  {
   "cell_type": "code",
   "execution_count": 42,
   "metadata": {
    "collapsed": false
   },
   "outputs": [
   ],
   "source": [
    "df[\"amputation\"] = df[\"amputation\"].apply(data_convert)"
   ]
  },
  {
   "cell_type": "code",
   "execution_count": 49,
   "metadata": {
    "collapsed": false
   },
   "outputs": [
   ],
   "source": [
    "df[\"chemo\"] = df[\"chemo\"].apply(data_convert)"
   ]
  },
  {
   "cell_type": "code",
   "execution_count": 62,
   "metadata": {
    "collapsed": false
   },
   "outputs": [
   ],
   "source": [
    "df[\"eventdeath\"] = df[\"eventdeath\"].apply(data_convert)"
   ]
  },
  {
   "cell_type": "code",
   "execution_count": 63,
   "metadata": {
    "collapsed": false
   },
   "outputs": [
    {
     "data": {
      "text/html": [
       "<div>\n",
       "<style scoped>\n",
       "    .dataframe tbody tr th:only-of-type {\n",
       "        vertical-align: middle;\n",
       "    }\n",
       "\n",
       "    .dataframe tbody tr th {\n",
       "        vertical-align: top;\n",
       "    }\n",
       "\n",
       "    .dataframe thead th {\n",
       "        text-align: right;\n",
       "    }\n",
       "</style>\n",
       "<table border=\"1\" class=\"dataframe\">\n",
       "  <thead>\n",
       "    <tr style=\"text-align: right;\">\n",
       "      <th></th>\n",
       "      <th>Patient</th>\n",
       "      <th>ID</th>\n",
       "      <th>age</th>\n",
       "      <th>eventdeath</th>\n",
       "      <th>survival</th>\n",
       "      <th>timerecurrence</th>\n",
       "      <th>chemo</th>\n",
       "      <th>hormonal</th>\n",
       "      <th>amputation</th>\n",
       "      <th>histtype</th>\n",
       "    </tr>\n",
       "  </thead>\n",
       "  <tbody>\n",
       "    <tr>\n",
       "      <th>0</th>\n",
       "      <td>s122</td>\n",
       "      <td>18</td>\n",
       "      <td>43</td>\n",
       "      <td>False</td>\n",
       "      <td>14.817248</td>\n",
       "      <td>14.817248</td>\n",
       "      <td>False</td>\n",
       "      <td>False</td>\n",
       "      <td>True</td>\n",
       "      <td>1</td>\n",
       "    </tr>\n",
       "    <tr>\n",
       "      <th>1</th>\n",
       "      <td>s123</td>\n",
       "      <td>19</td>\n",
       "      <td>48</td>\n",
       "      <td>False</td>\n",
       "      <td>14.261465</td>\n",
       "      <td>14.261465</td>\n",
       "      <td>False</td>\n",
       "      <td>False</td>\n",
       "      <td>False</td>\n",
       "      <td>1</td>\n",
       "    </tr>\n",
       "    <tr>\n",
       "      <th>2</th>\n",
       "      <td>s124</td>\n",
       "      <td>20</td>\n",
       "      <td>38</td>\n",
       "      <td>False</td>\n",
       "      <td>6.644764</td>\n",
       "      <td>6.644764</td>\n",
       "      <td>False</td>\n",
       "      <td>False</td>\n",
       "      <td>False</td>\n",
       "      <td>1</td>\n",
       "    </tr>\n",
       "    <tr>\n",
       "      <th>3</th>\n",
       "      <td>s125</td>\n",
       "      <td>21</td>\n",
       "      <td>50</td>\n",
       "      <td>False</td>\n",
       "      <td>7.748118</td>\n",
       "      <td>7.748118</td>\n",
       "      <td>False</td>\n",
       "      <td>True</td>\n",
       "      <td>False</td>\n",
       "      <td>1</td>\n",
       "    </tr>\n",
       "    <tr>\n",
       "      <th>4</th>\n",
       "      <td>s126</td>\n",
       "      <td>22</td>\n",
       "      <td>38</td>\n",
       "      <td>False</td>\n",
       "      <td>6.436687</td>\n",
       "      <td>6.318960</td>\n",
       "      <td>False</td>\n",
       "      <td>False</td>\n",
       "      <td>True</td>\n",
       "      <td>1</td>\n",
       "    </tr>\n",
       "    <tr>\n",
       "      <th>...</th>\n",
       "      <td>...</td>\n",
       "      <td>...</td>\n",
       "      <td>...</td>\n",
       "      <td>...</td>\n",
       "      <td>...</td>\n",
       "      <td>...</td>\n",
       "      <td>...</td>\n",
       "      <td>...</td>\n",
       "      <td>...</td>\n",
       "      <td>...</td>\n",
       "    </tr>\n",
       "    <tr>\n",
       "      <th>267</th>\n",
       "      <td>s71</td>\n",
       "      <td>308</td>\n",
       "      <td>48</td>\n",
       "      <td>True</td>\n",
       "      <td>2.608300</td>\n",
       "      <td>1.982204</td>\n",
       "      <td>True</td>\n",
       "      <td>False</td>\n",
       "      <td>True</td>\n",
       "      <td>1</td>\n",
       "    </tr>\n",
       "    <tr>\n",
       "      <th>268</th>\n",
       "      <td>s72</td>\n",
       "      <td>309</td>\n",
       "      <td>39</td>\n",
       "      <td>True</td>\n",
       "      <td>5.504100</td>\n",
       "      <td>3.028063</td>\n",
       "      <td>False</td>\n",
       "      <td>False</td>\n",
       "      <td>True</td>\n",
       "      <td>1</td>\n",
       "    </tr>\n",
       "    <tr>\n",
       "      <th>269</th>\n",
       "      <td>s73</td>\n",
       "      <td>310</td>\n",
       "      <td>50</td>\n",
       "      <td>True</td>\n",
       "      <td>2.619200</td>\n",
       "      <td>2.149213</td>\n",
       "      <td>False</td>\n",
       "      <td>False</td>\n",
       "      <td>True</td>\n",
       "      <td>1</td>\n",
       "    </tr>\n",
       "    <tr>\n",
       "      <th>270</th>\n",
       "      <td>s75</td>\n",
       "      <td>311</td>\n",
       "      <td>52</td>\n",
       "      <td>True</td>\n",
       "      <td>2.290500</td>\n",
       "      <td>2.209446</td>\n",
       "      <td>False</td>\n",
       "      <td>True</td>\n",
       "      <td>True</td>\n",
       "      <td>1</td>\n",
       "    </tr>\n",
       "    <tr>\n",
       "      <th>271</th>\n",
       "      <td>s76</td>\n",
       "      <td>312</td>\n",
       "      <td>52</td>\n",
       "      <td>True</td>\n",
       "      <td>3.737000</td>\n",
       "      <td>2.127310</td>\n",
       "      <td>False</td>\n",
       "      <td>False</td>\n",
       "      <td>True</td>\n",
       "      <td>1</td>\n",
       "    </tr>\n",
       "  </tbody>\n",
       "</table>\n",
       "<p>272 rows × 10 columns</p>\n",
       "</div>"
      ],
      "text/plain": [
       "    Patient   ID  age  eventdeath   survival  timerecurrence  chemo  hormonal  \\\n",
       "0      s122   18   43       False  14.817248       14.817248  False     False   \n",
       "1      s123   19   48       False  14.261465       14.261465  False     False   \n",
       "2      s124   20   38       False   6.644764        6.644764  False     False   \n",
       "3      s125   21   50       False   7.748118        7.748118  False      True   \n",
       "4      s126   22   38       False   6.436687        6.318960  False     False   \n",
       "..      ...  ...  ...         ...        ...             ...    ...       ...   \n",
       "267     s71  308   48        True   2.608300        1.982204   True     False   \n",
       "268     s72  309   39        True   5.504100        3.028063  False     False   \n",
       "269     s73  310   50        True   2.619200        2.149213  False     False   \n",
       "270     s75  311   52        True   2.290500        2.209446  False      True   \n",
       "271     s76  312   52        True   3.737000        2.127310  False     False   \n",
       "\n",
       "     amputation  histtype  \n",
       "0          True         1  \n",
       "1         False         1  \n",
       "2         False         1  \n",
       "3         False         1  \n",
       "4          True         1  \n",
       "..          ...       ...  \n",
       "267        True         1  \n",
       "268        True         1  \n",
       "269        True         1  \n",
       "270        True         1  \n",
       "271        True         1  \n",
       "\n",
       "[272 rows x 10 columns]"
      ]
     },
     "execution_count": 63,
     "metadata": {
     },
     "output_type": "execute_result"
    }
   ],
   "source": [
    "df"
   ]
  },
  {
   "cell_type": "code",
   "execution_count": 52,
   "metadata": {
    "collapsed": false
   },
   "outputs": [
    {
     "data": {
      "text/plain": [
       "chemo\n",
       "False    8.090410\n",
       "True     8.065496\n",
       "Name: survival, dtype: float64"
      ]
     },
     "execution_count": 52,
     "metadata": {
     },
     "output_type": "execute_result"
    }
   ],
   "source": [
    "df.groupby(\"chemo\")[\"survival\"].mean()"
   ]
  },
  {
   "cell_type": "code",
   "execution_count": 54,
   "metadata": {
    "collapsed": false
   },
   "outputs": [
   ],
   "source": [
    "df_group = df.groupby([\"chemo\", \"amputation\"])[\"survival\"].mean()"
   ]
  },
  {
   "cell_type": "code",
   "execution_count": 55,
   "metadata": {
    "collapsed": false
   },
   "outputs": [
    {
     "data": {
      "text/plain": [
       "chemo  amputation\n",
       "False  False         8.187591\n",
       "       True          7.955200\n",
       "True   False         8.159675\n",
       "       True          7.962082\n",
       "Name: survival, dtype: float64"
      ]
     },
     "execution_count": 55,
     "metadata": {
     },
     "output_type": "execute_result"
    }
   ],
   "source": [
    "df_group"
   ]
  },
  {
   "cell_type": "code",
   "execution_count": 56,
   "metadata": {
    "collapsed": false
   },
   "outputs": [
   ],
   "source": [
    "df_group = df_group.reset_index()"
   ]
  },
  {
   "cell_type": "code",
   "execution_count": 57,
   "metadata": {
    "collapsed": false
   },
   "outputs": [
    {
     "data": {
      "text/html": [
       "<div>\n",
       "<style scoped>\n",
       "    .dataframe tbody tr th:only-of-type {\n",
       "        vertical-align: middle;\n",
       "    }\n",
       "\n",
       "    .dataframe tbody tr th {\n",
       "        vertical-align: top;\n",
       "    }\n",
       "\n",
       "    .dataframe thead th {\n",
       "        text-align: right;\n",
       "    }\n",
       "</style>\n",
       "<table border=\"1\" class=\"dataframe\">\n",
       "  <thead>\n",
       "    <tr style=\"text-align: right;\">\n",
       "      <th></th>\n",
       "      <th>chemo</th>\n",
       "      <th>amputation</th>\n",
       "      <th>survival</th>\n",
       "    </tr>\n",
       "  </thead>\n",
       "  <tbody>\n",
       "    <tr>\n",
       "      <th>0</th>\n",
       "      <td>False</td>\n",
       "      <td>False</td>\n",
       "      <td>8.187591</td>\n",
       "    </tr>\n",
       "    <tr>\n",
       "      <th>1</th>\n",
       "      <td>False</td>\n",
       "      <td>True</td>\n",
       "      <td>7.955200</td>\n",
       "    </tr>\n",
       "    <tr>\n",
       "      <th>2</th>\n",
       "      <td>True</td>\n",
       "      <td>False</td>\n",
       "      <td>8.159675</td>\n",
       "    </tr>\n",
       "    <tr>\n",
       "      <th>3</th>\n",
       "      <td>True</td>\n",
       "      <td>True</td>\n",
       "      <td>7.962082</td>\n",
       "    </tr>\n",
       "  </tbody>\n",
       "</table>\n",
       "</div>"
      ],
      "text/plain": [
       "   chemo  amputation  survival\n",
       "0  False       False  8.187591\n",
       "1  False        True  7.955200\n",
       "2   True       False  8.159675\n",
       "3   True        True  7.962082"
      ]
     },
     "execution_count": 57,
     "metadata": {
     },
     "output_type": "execute_result"
    }
   ],
   "source": [
    "df_group"
   ]
  },
  {
   "cell_type": "code",
   "execution_count": 58,
   "metadata": {
    "collapsed": false
   },
   "outputs": [
   ],
   "source": [
    "df_matrix =  df_group.pivot_table(values = \"survival\", index = \"chemo\", columns = \"amputation\")"
   ]
  },
  {
   "cell_type": "code",
   "execution_count": 59,
   "metadata": {
    "collapsed": false
   },
   "outputs": [
    {
     "data": {
      "text/html": [
       "<div>\n",
       "<style scoped>\n",
       "    .dataframe tbody tr th:only-of-type {\n",
       "        vertical-align: middle;\n",
       "    }\n",
       "\n",
       "    .dataframe tbody tr th {\n",
       "        vertical-align: top;\n",
       "    }\n",
       "\n",
       "    .dataframe thead th {\n",
       "        text-align: right;\n",
       "    }\n",
       "</style>\n",
       "<table border=\"1\" class=\"dataframe\">\n",
       "  <thead>\n",
       "    <tr style=\"text-align: right;\">\n",
       "      <th>amputation</th>\n",
       "      <th>False</th>\n",
       "      <th>True</th>\n",
       "    </tr>\n",
       "    <tr>\n",
       "      <th>chemo</th>\n",
       "      <th></th>\n",
       "      <th></th>\n",
       "    </tr>\n",
       "  </thead>\n",
       "  <tbody>\n",
       "    <tr>\n",
       "      <th>False</th>\n",
       "      <td>8.187591</td>\n",
       "      <td>7.955200</td>\n",
       "    </tr>\n",
       "    <tr>\n",
       "      <th>True</th>\n",
       "      <td>8.159675</td>\n",
       "      <td>7.962082</td>\n",
       "    </tr>\n",
       "  </tbody>\n",
       "</table>\n",
       "</div>"
      ],
      "text/plain": [
       "amputation     False      True\n",
       "chemo                         \n",
       "False       8.187591  7.955200\n",
       "True        8.159675  7.962082"
      ]
     },
     "execution_count": 59,
     "metadata": {
     },
     "output_type": "execute_result"
    }
   ],
   "source": [
    "df_matrix"
   ]
  },
  {
   "cell_type": "code",
   "execution_count": 60,
   "metadata": {
    "collapsed": false
   },
   "outputs": [
    {
     "data": {
      "text/html": "<html>\n<head><meta charset=\"utf-8\" /></head>\n<body>\n    <div>            <script src=\"https://cdnjs.cloudflare.com/ajax/libs/mathjax/2.7.5/MathJax.js?config=TeX-AMS-MML_SVG\"></script><script type=\"text/javascript\">if (window.MathJax) {MathJax.Hub.Config({SVG: {font: \"STIX-Web\"}});}</script>                <script type=\"text/javascript\">window.PlotlyConfig = {MathJaxConfig: 'local'};</script>\n        <script src=\"https://cdn.plot.ly/plotly-2.11.1.min.js\"></script>                <div id=\"cea431b3-7b0a-4d15-bec8-46a67c091e6c\" class=\"plotly-graph-div\" style=\"height:525px; width:100%;\"></div>            <script type=\"text/javascript\">                                    window.PLOTLYENV=window.PLOTLYENV || {};                                    if (document.getElementById(\"cea431b3-7b0a-4d15-bec8-46a67c091e6c\")) {                    Plotly.newPlot(                        \"cea431b3-7b0a-4d15-bec8-46a67c091e6c\",                        [{\"coloraxis\":\"coloraxis\",\"name\":\"0\",\"x\":[false,true],\"y\":[false,true],\"z\":[[8.187591364583334,7.955200463768115],[8.159675392857142,7.962082470588236]],\"type\":\"heatmap\",\"xaxis\":\"x\",\"yaxis\":\"y\",\"hovertemplate\":\"amputation: %{x}<br>chemo: %{y}<br>Avg. Survival rate: %{z}<extra></extra>\"}],                        {\"template\":{\"data\":{\"histogram2dcontour\":[{\"type\":\"histogram2dcontour\",\"colorbar\":{\"outlinewidth\":0,\"ticks\":\"\"},\"colorscale\":[[0.0,\"#0d0887\"],[0.1111111111111111,\"#46039f\"],[0.2222222222222222,\"#7201a8\"],[0.3333333333333333,\"#9c179e\"],[0.4444444444444444,\"#bd3786\"],[0.5555555555555556,\"#d8576b\"],[0.6666666666666666,\"#ed7953\"],[0.7777777777777778,\"#fb9f3a\"],[0.8888888888888888,\"#fdca26\"],[1.0,\"#f0f921\"]]}],\"choropleth\":[{\"type\":\"choropleth\",\"colorbar\":{\"outlinewidth\":0,\"ticks\":\"\"}}],\"histogram2d\":[{\"type\":\"histogram2d\",\"colorbar\":{\"outlinewidth\":0,\"ticks\":\"\"},\"colorscale\":[[0.0,\"#0d0887\"],[0.1111111111111111,\"#46039f\"],[0.2222222222222222,\"#7201a8\"],[0.3333333333333333,\"#9c179e\"],[0.4444444444444444,\"#bd3786\"],[0.5555555555555556,\"#d8576b\"],[0.6666666666666666,\"#ed7953\"],[0.7777777777777778,\"#fb9f3a\"],[0.8888888888888888,\"#fdca26\"],[1.0,\"#f0f921\"]]}],\"heatmap\":[{\"type\":\"heatmap\",\"colorbar\":{\"outlinewidth\":0,\"ticks\":\"\"},\"colorscale\":[[0.0,\"#0d0887\"],[0.1111111111111111,\"#46039f\"],[0.2222222222222222,\"#7201a8\"],[0.3333333333333333,\"#9c179e\"],[0.4444444444444444,\"#bd3786\"],[0.5555555555555556,\"#d8576b\"],[0.6666666666666666,\"#ed7953\"],[0.7777777777777778,\"#fb9f3a\"],[0.8888888888888888,\"#fdca26\"],[1.0,\"#f0f921\"]]}],\"heatmapgl\":[{\"type\":\"heatmapgl\",\"colorbar\":{\"outlinewidth\":0,\"ticks\":\"\"},\"colorscale\":[[0.0,\"#0d0887\"],[0.1111111111111111,\"#46039f\"],[0.2222222222222222,\"#7201a8\"],[0.3333333333333333,\"#9c179e\"],[0.4444444444444444,\"#bd3786\"],[0.5555555555555556,\"#d8576b\"],[0.6666666666666666,\"#ed7953\"],[0.7777777777777778,\"#fb9f3a\"],[0.8888888888888888,\"#fdca26\"],[1.0,\"#f0f921\"]]}],\"contourcarpet\":[{\"type\":\"contourcarpet\",\"colorbar\":{\"outlinewidth\":0,\"ticks\":\"\"}}],\"contour\":[{\"type\":\"contour\",\"colorbar\":{\"outlinewidth\":0,\"ticks\":\"\"},\"colorscale\":[[0.0,\"#0d0887\"],[0.1111111111111111,\"#46039f\"],[0.2222222222222222,\"#7201a8\"],[0.3333333333333333,\"#9c179e\"],[0.4444444444444444,\"#bd3786\"],[0.5555555555555556,\"#d8576b\"],[0.6666666666666666,\"#ed7953\"],[0.7777777777777778,\"#fb9f3a\"],[0.8888888888888888,\"#fdca26\"],[1.0,\"#f0f921\"]]}],\"surface\":[{\"type\":\"surface\",\"colorbar\":{\"outlinewidth\":0,\"ticks\":\"\"},\"colorscale\":[[0.0,\"#0d0887\"],[0.1111111111111111,\"#46039f\"],[0.2222222222222222,\"#7201a8\"],[0.3333333333333333,\"#9c179e\"],[0.4444444444444444,\"#bd3786\"],[0.5555555555555556,\"#d8576b\"],[0.6666666666666666,\"#ed7953\"],[0.7777777777777778,\"#fb9f3a\"],[0.8888888888888888,\"#fdca26\"],[1.0,\"#f0f921\"]]}],\"mesh3d\":[{\"type\":\"mesh3d\",\"colorbar\":{\"outlinewidth\":0,\"ticks\":\"\"}}],\"scatter\":[{\"fillpattern\":{\"fillmode\":\"overlay\",\"size\":10,\"solidity\":0.2},\"type\":\"scatter\"}],\"parcoords\":[{\"type\":\"parcoords\",\"line\":{\"colorbar\":{\"outlinewidth\":0,\"ticks\":\"\"}}}],\"scatterpolargl\":[{\"type\":\"scatterpolargl\",\"marker\":{\"colorbar\":{\"outlinewidth\":0,\"ticks\":\"\"}}}],\"bar\":[{\"error_x\":{\"color\":\"#2a3f5f\"},\"error_y\":{\"color\":\"#2a3f5f\"},\"marker\":{\"line\":{\"color\":\"#E5ECF6\",\"width\":0.5},\"pattern\":{\"fillmode\":\"overlay\",\"size\":10,\"solidity\":0.2}},\"type\":\"bar\"}],\"scattergeo\":[{\"type\":\"scattergeo\",\"marker\":{\"colorbar\":{\"outlinewidth\":0,\"ticks\":\"\"}}}],\"scatterpolar\":[{\"type\":\"scatterpolar\",\"marker\":{\"colorbar\":{\"outlinewidth\":0,\"ticks\":\"\"}}}],\"histogram\":[{\"marker\":{\"pattern\":{\"fillmode\":\"overlay\",\"size\":10,\"solidity\":0.2}},\"type\":\"histogram\"}],\"scattergl\":[{\"type\":\"scattergl\",\"marker\":{\"colorbar\":{\"outlinewidth\":0,\"ticks\":\"\"}}}],\"scatter3d\":[{\"type\":\"scatter3d\",\"line\":{\"colorbar\":{\"outlinewidth\":0,\"ticks\":\"\"}},\"marker\":{\"colorbar\":{\"outlinewidth\":0,\"ticks\":\"\"}}}],\"scattermapbox\":[{\"type\":\"scattermapbox\",\"marker\":{\"colorbar\":{\"outlinewidth\":0,\"ticks\":\"\"}}}],\"scatterternary\":[{\"type\":\"scatterternary\",\"marker\":{\"colorbar\":{\"outlinewidth\":0,\"ticks\":\"\"}}}],\"scattercarpet\":[{\"type\":\"scattercarpet\",\"marker\":{\"colorbar\":{\"outlinewidth\":0,\"ticks\":\"\"}}}],\"carpet\":[{\"aaxis\":{\"endlinecolor\":\"#2a3f5f\",\"gridcolor\":\"white\",\"linecolor\":\"white\",\"minorgridcolor\":\"white\",\"startlinecolor\":\"#2a3f5f\"},\"baxis\":{\"endlinecolor\":\"#2a3f5f\",\"gridcolor\":\"white\",\"linecolor\":\"white\",\"minorgridcolor\":\"white\",\"startlinecolor\":\"#2a3f5f\"},\"type\":\"carpet\"}],\"table\":[{\"cells\":{\"fill\":{\"color\":\"#EBF0F8\"},\"line\":{\"color\":\"white\"}},\"header\":{\"fill\":{\"color\":\"#C8D4E3\"},\"line\":{\"color\":\"white\"}},\"type\":\"table\"}],\"barpolar\":[{\"marker\":{\"line\":{\"color\":\"#E5ECF6\",\"width\":0.5},\"pattern\":{\"fillmode\":\"overlay\",\"size\":10,\"solidity\":0.2}},\"type\":\"barpolar\"}],\"pie\":[{\"automargin\":true,\"type\":\"pie\"}]},\"layout\":{\"autotypenumbers\":\"strict\",\"colorway\":[\"#636efa\",\"#EF553B\",\"#00cc96\",\"#ab63fa\",\"#FFA15A\",\"#19d3f3\",\"#FF6692\",\"#B6E880\",\"#FF97FF\",\"#FECB52\"],\"font\":{\"color\":\"#2a3f5f\"},\"hovermode\":\"closest\",\"hoverlabel\":{\"align\":\"left\"},\"paper_bgcolor\":\"white\",\"plot_bgcolor\":\"#E5ECF6\",\"polar\":{\"bgcolor\":\"#E5ECF6\",\"angularaxis\":{\"gridcolor\":\"white\",\"linecolor\":\"white\",\"ticks\":\"\"},\"radialaxis\":{\"gridcolor\":\"white\",\"linecolor\":\"white\",\"ticks\":\"\"}},\"ternary\":{\"bgcolor\":\"#E5ECF6\",\"aaxis\":{\"gridcolor\":\"white\",\"linecolor\":\"white\",\"ticks\":\"\"},\"baxis\":{\"gridcolor\":\"white\",\"linecolor\":\"white\",\"ticks\":\"\"},\"caxis\":{\"gridcolor\":\"white\",\"linecolor\":\"white\",\"ticks\":\"\"}},\"coloraxis\":{\"colorbar\":{\"outlinewidth\":0,\"ticks\":\"\"}},\"colorscale\":{\"sequential\":[[0.0,\"#0d0887\"],[0.1111111111111111,\"#46039f\"],[0.2222222222222222,\"#7201a8\"],[0.3333333333333333,\"#9c179e\"],[0.4444444444444444,\"#bd3786\"],[0.5555555555555556,\"#d8576b\"],[0.6666666666666666,\"#ed7953\"],[0.7777777777777778,\"#fb9f3a\"],[0.8888888888888888,\"#fdca26\"],[1.0,\"#f0f921\"]],\"sequentialminus\":[[0.0,\"#0d0887\"],[0.1111111111111111,\"#46039f\"],[0.2222222222222222,\"#7201a8\"],[0.3333333333333333,\"#9c179e\"],[0.4444444444444444,\"#bd3786\"],[0.5555555555555556,\"#d8576b\"],[0.6666666666666666,\"#ed7953\"],[0.7777777777777778,\"#fb9f3a\"],[0.8888888888888888,\"#fdca26\"],[1.0,\"#f0f921\"]],\"diverging\":[[0,\"#8e0152\"],[0.1,\"#c51b7d\"],[0.2,\"#de77ae\"],[0.3,\"#f1b6da\"],[0.4,\"#fde0ef\"],[0.5,\"#f7f7f7\"],[0.6,\"#e6f5d0\"],[0.7,\"#b8e186\"],[0.8,\"#7fbc41\"],[0.9,\"#4d9221\"],[1,\"#276419\"]]},\"xaxis\":{\"gridcolor\":\"white\",\"linecolor\":\"white\",\"ticks\":\"\",\"title\":{\"standoff\":15},\"zerolinecolor\":\"white\",\"automargin\":true,\"zerolinewidth\":2},\"yaxis\":{\"gridcolor\":\"white\",\"linecolor\":\"white\",\"ticks\":\"\",\"title\":{\"standoff\":15},\"zerolinecolor\":\"white\",\"automargin\":true,\"zerolinewidth\":2},\"scene\":{\"xaxis\":{\"backgroundcolor\":\"#E5ECF6\",\"gridcolor\":\"white\",\"linecolor\":\"white\",\"showbackground\":true,\"ticks\":\"\",\"zerolinecolor\":\"white\",\"gridwidth\":2},\"yaxis\":{\"backgroundcolor\":\"#E5ECF6\",\"gridcolor\":\"white\",\"linecolor\":\"white\",\"showbackground\":true,\"ticks\":\"\",\"zerolinecolor\":\"white\",\"gridwidth\":2},\"zaxis\":{\"backgroundcolor\":\"#E5ECF6\",\"gridcolor\":\"white\",\"linecolor\":\"white\",\"showbackground\":true,\"ticks\":\"\",\"zerolinecolor\":\"white\",\"gridwidth\":2}},\"shapedefaults\":{\"line\":{\"color\":\"#2a3f5f\"}},\"annotationdefaults\":{\"arrowcolor\":\"#2a3f5f\",\"arrowhead\":0,\"arrowwidth\":1},\"geo\":{\"bgcolor\":\"white\",\"landcolor\":\"#E5ECF6\",\"subunitcolor\":\"white\",\"showland\":true,\"showlakes\":true,\"lakecolor\":\"white\"},\"title\":{\"x\":0.05},\"mapbox\":{\"style\":\"light\"}}},\"xaxis\":{\"anchor\":\"y\",\"domain\":[0.0,1.0],\"scaleanchor\":\"y\",\"constrain\":\"domain\",\"title\":{\"text\":\"amputation\"}},\"yaxis\":{\"anchor\":\"x\",\"domain\":[0.0,1.0],\"autorange\":\"reversed\",\"constrain\":\"domain\",\"title\":{\"text\":\"chemo\"}},\"coloraxis\":{\"colorbar\":{\"title\":{\"text\":\"Avg. Survival rate\"}},\"colorscale\":[[0.0,\"#0d0887\"],[0.1111111111111111,\"#46039f\"],[0.2222222222222222,\"#7201a8\"],[0.3333333333333333,\"#9c179e\"],[0.4444444444444444,\"#bd3786\"],[0.5555555555555556,\"#d8576b\"],[0.6666666666666666,\"#ed7953\"],[0.7777777777777778,\"#fb9f3a\"],[0.8888888888888888,\"#fdca26\"],[1.0,\"#f0f921\"]]},\"margin\":{\"t\":60}},                        {\"responsive\": true}                    ).then(function(){\n                            \nvar gd = document.getElementById('cea431b3-7b0a-4d15-bec8-46a67c091e6c');\nvar x = new MutationObserver(function (mutations, observer) {{\n        var display = window.getComputedStyle(gd).display;\n        if (!display || display === 'none') {{\n            console.log([gd, 'removed!']);\n            Plotly.purge(gd);\n            observer.disconnect();\n        }}\n}});\n\n// Listen for the removal of the full notebook cells\nvar notebookContainer = gd.closest('#notebook-container');\nif (notebookContainer) {{\n    x.observe(notebookContainer, {childList: true});\n}}\n\n// Listen for the clearing of the current output cell\nvar outputEl = gd.closest('.output');\nif (outputEl) {{\n    x.observe(outputEl, {childList: true});\n}}\n\n                        })                };                            </script>        </div>\n</body>\n</html>"
     },
     "execution_count": 60,
     "metadata": {
     },
     "output_type": "execute_result"
    }
   ],
   "source": [
    "px.imshow(df_matrix, labels = dict(color=\"Avg. Survival rate\"))"
   ]
  },
  {
   "cell_type": "code",
   "execution_count": 65,
   "metadata": {
    "collapsed": false
   },
   "outputs": [
    {
     "data": {
      "text/html": "<html>\n<head><meta charset=\"utf-8\" /></head>\n<body>\n    <div>            <script src=\"https://cdnjs.cloudflare.com/ajax/libs/mathjax/2.7.5/MathJax.js?config=TeX-AMS-MML_SVG\"></script><script type=\"text/javascript\">if (window.MathJax) {MathJax.Hub.Config({SVG: {font: \"STIX-Web\"}});}</script>                <script type=\"text/javascript\">window.PlotlyConfig = {MathJaxConfig: 'local'};</script>\n        <script src=\"https://cdn.plot.ly/plotly-2.11.1.min.js\"></script>                <div id=\"683346ea-81f8-4d2b-ab42-8572359e36c8\" class=\"plotly-graph-div\" style=\"height:525px; width:100%;\"></div>            <script type=\"text/javascript\">                                    window.PLOTLYENV=window.PLOTLYENV || {};                                    if (document.getElementById(\"683346ea-81f8-4d2b-ab42-8572359e36c8\")) {                    Plotly.newPlot(                        \"683346ea-81f8-4d2b-ab42-8572359e36c8\",                        [{\"hovertemplate\":\"amputation=%{x}<br>eventdeath=%{y}<br>age=%{z}<br>survival=%{marker.color}<extra></extra>\",\"legendgroup\":\"\",\"marker\":{\"color\":[14.817248,14.261465,6.644764,7.748118,6.436687,5.037645,8.73922,7.56742,7.296372,4.66256,6.718686,8.648871,7.093771,9.330595,3.82204,15.329227,3.849418,12.766598,5.555099,2.064339,15.134839,14.12731,5.486653,9.407255,2.707734,18.340862,17.240246,1.486653,17.574264,3.036277,15.104723,1.848049,17.659138,7.874059,3.906913,5.415469,16.147844,13.404517,15.312799,15.819302,5.664613,11.017112,3.622177,15.323751,14.885695,13.34976,1.634497,13.749487,7.674196,9.711157,13.174538,12.76386,5.28679,11.800137,11.318275,11.86037,4.405202,7.334702,11.739904,12.503765,11.263518,12.073922,11.92334,12.736482,6.297057,11.832991,13.067762,11.545517,11.195072,11.047228,11.143053,10.907598,10.767967,11.200548,4.845996,11.036277,10.138261,9.653662,10.67488,11.441478,11.203285,12.145106,3.247091,10.45859,10.351814,1.946612,2.945927,9.831622,10.327173,10.376454,3.307324,10.020534,1.434634,2.858316,0.711841,11.156742,14.121834,6.516085,1.316906,2.151951,8.093087,6.973306,2.132786,9.982204,11.545517,11.449692,5.637235,5.316906,11.364819,9.407255,9.916496,4.668036,9.505818,2.587269,5.352498,8.963723,8.813142,8.594114,4.528405,7.252567,6.78987,7.011636,6.9295,7.088296,1.352498,2.962355,7.022587,7.252567,6.997947,5.924709,1.073238,5.114305,5.311431,5.292266,7.340178,5.744011,5.32512,5.322382,5.771389,6.067077,1.867214,11.652293,8.366872,6.313484,6.143737,5.555099,5.086927,9.596167,9.456537,3.78371,9.330595,9.670089,9.549624,10.201232,2.806297,9.322382,9.314168,9.097878,4.54757,9.103354,9.03217,5.059548,8.240931,5.604381,6.499658,9.894593,6.704997,8.80219,8.859685,8.854209,8.298426,6.094456,5.577002,5.804244,5.199179,2.507871,7.991786,8.495551,7.693361,7.477071,7.408624,6.819986,6.3436,16.591376,5.859001,2.362765,15.351129,6.609172,6.874743,6.995209,7.12115,6.171116,6.464066,6.527036,5.809719,6.551677,6.160164,6.045175,6.214921,5.823409,6.239562,6.017796,5.549624,5.347023,5.259411,6.009582,18.080767,17.486653,17.152635,0.974675,16.870637,6.570842,14.360027,2.406571,7.772758,5.754962,17.420945,9.530459,13.919233,13.864476,12.73922,12.260096,11.08282,2.888433,8.213552,7.225188,4.947296,6.803559,6.020534,6.171116,5.574264,5.708419,15.077344,10.231348,8.772074,8.424367,10.031485,7.378508,6.754278,7.570157,5.779603,3.455168,3.252567,3.241615,5.303217,5.232033,10.097194,11.156742,10.138261,8.80219,10.294319,5.804244,8.167009,8.232717,7.865845,6.970568,5.185489,6.245038,11.389459,10.108145,11.017112,2.1726,9.526,8.4658,5.3562,7.9288,2.7096,2.6083,5.5041,2.6192,2.2905,3.737],\"coloraxis\":\"coloraxis\",\"symbol\":\"circle\"},\"mode\":\"markers\",\"name\":\"\",\"scene\":\"scene\",\"showlegend\":false,\"x\":[true,false,false,false,true,true,false,false,false,false,false,false,false,true,true,false,true,true,false,true,true,true,false,true,true,true,false,true,false,true,true,true,false,false,true,true,true,true,true,true,true,false,true,true,false,true,false,false,false,false,false,false,false,false,false,false,false,true,false,true,true,false,false,true,true,false,false,false,true,true,false,false,false,true,false,true,true,true,true,true,true,false,true,false,false,false,false,false,true,false,true,true,false,false,false,false,false,true,true,false,false,true,false,true,true,false,true,false,false,false,false,false,true,false,false,false,false,false,true,true,true,false,true,false,false,true,false,true,false,false,true,false,true,true,false,true,false,true,true,true,true,false,false,false,true,false,true,true,true,false,false,false,true,true,false,true,false,false,true,false,true,true,false,true,true,false,true,true,true,true,false,true,false,true,true,true,false,true,false,false,false,false,false,false,false,true,false,true,false,false,true,false,true,false,true,true,true,false,false,true,false,true,true,true,true,true,true,true,false,false,false,true,true,false,false,false,false,true,true,false,true,false,false,true,false,false,false,false,true,false,false,false,true,false,false,true,true,false,false,false,false,false,false,false,false,false,false,false,false,false,false,false,false,false,false,false,false,false,true,true,false,false,true,false,false,false,false,true,true,true,true,true],\"y\":[false,false,false,false,false,false,false,false,false,true,false,false,true,false,true,false,true,false,false,true,false,false,false,true,true,false,false,true,false,true,false,true,false,false,true,true,false,true,false,false,false,true,true,false,false,false,true,false,true,true,false,false,true,false,false,false,true,true,true,false,false,false,false,false,true,false,false,false,false,false,false,false,false,false,true,false,false,false,false,false,false,true,true,false,false,true,true,false,false,false,true,false,true,true,true,false,false,false,true,true,false,false,true,false,false,false,false,false,false,false,false,true,false,true,true,false,false,false,true,false,false,false,false,false,true,true,false,false,false,false,true,false,false,false,false,false,false,true,false,false,true,false,false,false,false,false,false,false,false,true,false,false,false,false,true,false,false,false,true,false,false,true,false,true,true,false,false,false,false,false,false,false,false,false,false,true,false,false,false,false,false,false,false,false,true,true,false,false,false,false,false,false,false,false,false,false,false,false,false,false,false,false,false,false,false,false,false,false,false,true,false,true,true,true,false,true,false,true,false,false,false,false,false,true,false,false,true,false,false,false,false,false,false,false,true,false,false,false,false,false,true,true,true,true,false,false,false,false,false,false,false,false,false,false,false,false,false,false,false,false,false,true,true,true,true,true,true,true,true,true,true,true],\"z\":[43,48,38,50,38,42,50,43,47,39,47,32,38,45,31,41,44,41,46,33,39,38,48,47,38,49,44,36,42,37,40,49,42,45,49,44,32,46,50,38,50,39,43,44,40,42,46,41,48,48,48,40,36,35,43,42,44,42,47,40,41,39,48,34,41,50,45,45,47,37,43,39,43,33,47,49,50,44,45,41,50,42,49,41,49,43,38,46,42,45,34,44,39,45,28,43,42,47,50,42,40,47,41,44,48,35,50,44,39,49,46,37,49,32,43,42,42,50,39,42,41,43,49,38,38,50,42,43,50,49,37,37,49,48,48,48,49,45,43,44,35,39,48,46,49,48,46,37,50,35,47,40,40,43,44,41,43,45,42,47,40,39,40,43,48,44,45,41,46,42,39,49,41,49,26,48,49,44,36,48,47,29,49,45,43,45,45,45,44,47,49,50,45,41,43,36,47,50,49,38,45,49,49,42,46,42,49,51,50,49,33,39,51,51,51,52,52,52,52,52,52,52,52,53,52,52,51,51,51,51,51,51,51,51,51,34,41,47,47,39,42,38,50,47,51,47,42,49,46,48,48,37,41,48,48,40,45,40,52,52,46,30,41,30,38,45,36,48,39,50,52,52],\"type\":\"scatter3d\"}],                        {\"template\":{\"data\":{\"histogram2dcontour\":[{\"type\":\"histogram2dcontour\",\"colorbar\":{\"outlinewidth\":0,\"ticks\":\"\"},\"colorscale\":[[0.0,\"#0d0887\"],[0.1111111111111111,\"#46039f\"],[0.2222222222222222,\"#7201a8\"],[0.3333333333333333,\"#9c179e\"],[0.4444444444444444,\"#bd3786\"],[0.5555555555555556,\"#d8576b\"],[0.6666666666666666,\"#ed7953\"],[0.7777777777777778,\"#fb9f3a\"],[0.8888888888888888,\"#fdca26\"],[1.0,\"#f0f921\"]]}],\"choropleth\":[{\"type\":\"choropleth\",\"colorbar\":{\"outlinewidth\":0,\"ticks\":\"\"}}],\"histogram2d\":[{\"type\":\"histogram2d\",\"colorbar\":{\"outlinewidth\":0,\"ticks\":\"\"},\"colorscale\":[[0.0,\"#0d0887\"],[0.1111111111111111,\"#46039f\"],[0.2222222222222222,\"#7201a8\"],[0.3333333333333333,\"#9c179e\"],[0.4444444444444444,\"#bd3786\"],[0.5555555555555556,\"#d8576b\"],[0.6666666666666666,\"#ed7953\"],[0.7777777777777778,\"#fb9f3a\"],[0.8888888888888888,\"#fdca26\"],[1.0,\"#f0f921\"]]}],\"heatmap\":[{\"type\":\"heatmap\",\"colorbar\":{\"outlinewidth\":0,\"ticks\":\"\"},\"colorscale\":[[0.0,\"#0d0887\"],[0.1111111111111111,\"#46039f\"],[0.2222222222222222,\"#7201a8\"],[0.3333333333333333,\"#9c179e\"],[0.4444444444444444,\"#bd3786\"],[0.5555555555555556,\"#d8576b\"],[0.6666666666666666,\"#ed7953\"],[0.7777777777777778,\"#fb9f3a\"],[0.8888888888888888,\"#fdca26\"],[1.0,\"#f0f921\"]]}],\"heatmapgl\":[{\"type\":\"heatmapgl\",\"colorbar\":{\"outlinewidth\":0,\"ticks\":\"\"},\"colorscale\":[[0.0,\"#0d0887\"],[0.1111111111111111,\"#46039f\"],[0.2222222222222222,\"#7201a8\"],[0.3333333333333333,\"#9c179e\"],[0.4444444444444444,\"#bd3786\"],[0.5555555555555556,\"#d8576b\"],[0.6666666666666666,\"#ed7953\"],[0.7777777777777778,\"#fb9f3a\"],[0.8888888888888888,\"#fdca26\"],[1.0,\"#f0f921\"]]}],\"contourcarpet\":[{\"type\":\"contourcarpet\",\"colorbar\":{\"outlinewidth\":0,\"ticks\":\"\"}}],\"contour\":[{\"type\":\"contour\",\"colorbar\":{\"outlinewidth\":0,\"ticks\":\"\"},\"colorscale\":[[0.0,\"#0d0887\"],[0.1111111111111111,\"#46039f\"],[0.2222222222222222,\"#7201a8\"],[0.3333333333333333,\"#9c179e\"],[0.4444444444444444,\"#bd3786\"],[0.5555555555555556,\"#d8576b\"],[0.6666666666666666,\"#ed7953\"],[0.7777777777777778,\"#fb9f3a\"],[0.8888888888888888,\"#fdca26\"],[1.0,\"#f0f921\"]]}],\"surface\":[{\"type\":\"surface\",\"colorbar\":{\"outlinewidth\":0,\"ticks\":\"\"},\"colorscale\":[[0.0,\"#0d0887\"],[0.1111111111111111,\"#46039f\"],[0.2222222222222222,\"#7201a8\"],[0.3333333333333333,\"#9c179e\"],[0.4444444444444444,\"#bd3786\"],[0.5555555555555556,\"#d8576b\"],[0.6666666666666666,\"#ed7953\"],[0.7777777777777778,\"#fb9f3a\"],[0.8888888888888888,\"#fdca26\"],[1.0,\"#f0f921\"]]}],\"mesh3d\":[{\"type\":\"mesh3d\",\"colorbar\":{\"outlinewidth\":0,\"ticks\":\"\"}}],\"scatter\":[{\"fillpattern\":{\"fillmode\":\"overlay\",\"size\":10,\"solidity\":0.2},\"type\":\"scatter\"}],\"parcoords\":[{\"type\":\"parcoords\",\"line\":{\"colorbar\":{\"outlinewidth\":0,\"ticks\":\"\"}}}],\"scatterpolargl\":[{\"type\":\"scatterpolargl\",\"marker\":{\"colorbar\":{\"outlinewidth\":0,\"ticks\":\"\"}}}],\"bar\":[{\"error_x\":{\"color\":\"#2a3f5f\"},\"error_y\":{\"color\":\"#2a3f5f\"},\"marker\":{\"line\":{\"color\":\"#E5ECF6\",\"width\":0.5},\"pattern\":{\"fillmode\":\"overlay\",\"size\":10,\"solidity\":0.2}},\"type\":\"bar\"}],\"scattergeo\":[{\"type\":\"scattergeo\",\"marker\":{\"colorbar\":{\"outlinewidth\":0,\"ticks\":\"\"}}}],\"scatterpolar\":[{\"type\":\"scatterpolar\",\"marker\":{\"colorbar\":{\"outlinewidth\":0,\"ticks\":\"\"}}}],\"histogram\":[{\"marker\":{\"pattern\":{\"fillmode\":\"overlay\",\"size\":10,\"solidity\":0.2}},\"type\":\"histogram\"}],\"scattergl\":[{\"type\":\"scattergl\",\"marker\":{\"colorbar\":{\"outlinewidth\":0,\"ticks\":\"\"}}}],\"scatter3d\":[{\"type\":\"scatter3d\",\"line\":{\"colorbar\":{\"outlinewidth\":0,\"ticks\":\"\"}},\"marker\":{\"colorbar\":{\"outlinewidth\":0,\"ticks\":\"\"}}}],\"scattermapbox\":[{\"type\":\"scattermapbox\",\"marker\":{\"colorbar\":{\"outlinewidth\":0,\"ticks\":\"\"}}}],\"scatterternary\":[{\"type\":\"scatterternary\",\"marker\":{\"colorbar\":{\"outlinewidth\":0,\"ticks\":\"\"}}}],\"scattercarpet\":[{\"type\":\"scattercarpet\",\"marker\":{\"colorbar\":{\"outlinewidth\":0,\"ticks\":\"\"}}}],\"carpet\":[{\"aaxis\":{\"endlinecolor\":\"#2a3f5f\",\"gridcolor\":\"white\",\"linecolor\":\"white\",\"minorgridcolor\":\"white\",\"startlinecolor\":\"#2a3f5f\"},\"baxis\":{\"endlinecolor\":\"#2a3f5f\",\"gridcolor\":\"white\",\"linecolor\":\"white\",\"minorgridcolor\":\"white\",\"startlinecolor\":\"#2a3f5f\"},\"type\":\"carpet\"}],\"table\":[{\"cells\":{\"fill\":{\"color\":\"#EBF0F8\"},\"line\":{\"color\":\"white\"}},\"header\":{\"fill\":{\"color\":\"#C8D4E3\"},\"line\":{\"color\":\"white\"}},\"type\":\"table\"}],\"barpolar\":[{\"marker\":{\"line\":{\"color\":\"#E5ECF6\",\"width\":0.5},\"pattern\":{\"fillmode\":\"overlay\",\"size\":10,\"solidity\":0.2}},\"type\":\"barpolar\"}],\"pie\":[{\"automargin\":true,\"type\":\"pie\"}]},\"layout\":{\"autotypenumbers\":\"strict\",\"colorway\":[\"#636efa\",\"#EF553B\",\"#00cc96\",\"#ab63fa\",\"#FFA15A\",\"#19d3f3\",\"#FF6692\",\"#B6E880\",\"#FF97FF\",\"#FECB52\"],\"font\":{\"color\":\"#2a3f5f\"},\"hovermode\":\"closest\",\"hoverlabel\":{\"align\":\"left\"},\"paper_bgcolor\":\"white\",\"plot_bgcolor\":\"#E5ECF6\",\"polar\":{\"bgcolor\":\"#E5ECF6\",\"angularaxis\":{\"gridcolor\":\"white\",\"linecolor\":\"white\",\"ticks\":\"\"},\"radialaxis\":{\"gridcolor\":\"white\",\"linecolor\":\"white\",\"ticks\":\"\"}},\"ternary\":{\"bgcolor\":\"#E5ECF6\",\"aaxis\":{\"gridcolor\":\"white\",\"linecolor\":\"white\",\"ticks\":\"\"},\"baxis\":{\"gridcolor\":\"white\",\"linecolor\":\"white\",\"ticks\":\"\"},\"caxis\":{\"gridcolor\":\"white\",\"linecolor\":\"white\",\"ticks\":\"\"}},\"coloraxis\":{\"colorbar\":{\"outlinewidth\":0,\"ticks\":\"\"}},\"colorscale\":{\"sequential\":[[0.0,\"#0d0887\"],[0.1111111111111111,\"#46039f\"],[0.2222222222222222,\"#7201a8\"],[0.3333333333333333,\"#9c179e\"],[0.4444444444444444,\"#bd3786\"],[0.5555555555555556,\"#d8576b\"],[0.6666666666666666,\"#ed7953\"],[0.7777777777777778,\"#fb9f3a\"],[0.8888888888888888,\"#fdca26\"],[1.0,\"#f0f921\"]],\"sequentialminus\":[[0.0,\"#0d0887\"],[0.1111111111111111,\"#46039f\"],[0.2222222222222222,\"#7201a8\"],[0.3333333333333333,\"#9c179e\"],[0.4444444444444444,\"#bd3786\"],[0.5555555555555556,\"#d8576b\"],[0.6666666666666666,\"#ed7953\"],[0.7777777777777778,\"#fb9f3a\"],[0.8888888888888888,\"#fdca26\"],[1.0,\"#f0f921\"]],\"diverging\":[[0,\"#8e0152\"],[0.1,\"#c51b7d\"],[0.2,\"#de77ae\"],[0.3,\"#f1b6da\"],[0.4,\"#fde0ef\"],[0.5,\"#f7f7f7\"],[0.6,\"#e6f5d0\"],[0.7,\"#b8e186\"],[0.8,\"#7fbc41\"],[0.9,\"#4d9221\"],[1,\"#276419\"]]},\"xaxis\":{\"gridcolor\":\"white\",\"linecolor\":\"white\",\"ticks\":\"\",\"title\":{\"standoff\":15},\"zerolinecolor\":\"white\",\"automargin\":true,\"zerolinewidth\":2},\"yaxis\":{\"gridcolor\":\"white\",\"linecolor\":\"white\",\"ticks\":\"\",\"title\":{\"standoff\":15},\"zerolinecolor\":\"white\",\"automargin\":true,\"zerolinewidth\":2},\"scene\":{\"xaxis\":{\"backgroundcolor\":\"#E5ECF6\",\"gridcolor\":\"white\",\"linecolor\":\"white\",\"showbackground\":true,\"ticks\":\"\",\"zerolinecolor\":\"white\",\"gridwidth\":2},\"yaxis\":{\"backgroundcolor\":\"#E5ECF6\",\"gridcolor\":\"white\",\"linecolor\":\"white\",\"showbackground\":true,\"ticks\":\"\",\"zerolinecolor\":\"white\",\"gridwidth\":2},\"zaxis\":{\"backgroundcolor\":\"#E5ECF6\",\"gridcolor\":\"white\",\"linecolor\":\"white\",\"showbackground\":true,\"ticks\":\"\",\"zerolinecolor\":\"white\",\"gridwidth\":2}},\"shapedefaults\":{\"line\":{\"color\":\"#2a3f5f\"}},\"annotationdefaults\":{\"arrowcolor\":\"#2a3f5f\",\"arrowhead\":0,\"arrowwidth\":1},\"geo\":{\"bgcolor\":\"white\",\"landcolor\":\"#E5ECF6\",\"subunitcolor\":\"white\",\"showland\":true,\"showlakes\":true,\"lakecolor\":\"white\"},\"title\":{\"x\":0.05},\"mapbox\":{\"style\":\"light\"}}},\"scene\":{\"domain\":{\"x\":[0.0,1.0],\"y\":[0.0,1.0]},\"xaxis\":{\"title\":{\"text\":\"amputation\"}},\"yaxis\":{\"title\":{\"text\":\"eventdeath\"}},\"zaxis\":{\"title\":{\"text\":\"age\"}}},\"coloraxis\":{\"colorbar\":{\"title\":{\"text\":\"survival\"}},\"colorscale\":[[0.0,\"#0d0887\"],[0.1111111111111111,\"#46039f\"],[0.2222222222222222,\"#7201a8\"],[0.3333333333333333,\"#9c179e\"],[0.4444444444444444,\"#bd3786\"],[0.5555555555555556,\"#d8576b\"],[0.6666666666666666,\"#ed7953\"],[0.7777777777777778,\"#fb9f3a\"],[0.8888888888888888,\"#fdca26\"],[1.0,\"#f0f921\"]]},\"legend\":{\"tracegroupgap\":0},\"margin\":{\"t\":60}},                        {\"responsive\": true}                    ).then(function(){\n                            \nvar gd = document.getElementById('683346ea-81f8-4d2b-ab42-8572359e36c8');\nvar x = new MutationObserver(function (mutations, observer) {{\n        var display = window.getComputedStyle(gd).display;\n        if (!display || display === 'none') {{\n            console.log([gd, 'removed!']);\n            Plotly.purge(gd);\n            observer.disconnect();\n        }}\n}});\n\n// Listen for the removal of the full notebook cells\nvar notebookContainer = gd.closest('#notebook-container');\nif (notebookContainer) {{\n    x.observe(notebookContainer, {childList: true});\n}}\n\n// Listen for the clearing of the current output cell\nvar outputEl = gd.closest('.output');\nif (outputEl) {{\n    x.observe(outputEl, {childList: true});\n}}\n\n                        })                };                            </script>        </div>\n</body>\n</html>"
     },
     "execution_count": 65,
     "metadata": {
     },
     "output_type": "execute_result"
    }
   ],
   "source": [
    "fig = px.scatter_3d(df, x='amputation', y='eventdeath', z='age',\n",
    "              color='survival')\n",
    "fig.show()"
   ]
  },
  {
   "cell_type": "code",
   "execution_count": 0,
   "metadata": {
    "collapsed": false
   },
   "outputs": [
   ],
   "source": [
   ]
  }
 ],
 "metadata": {
  "kernelspec": {
   "display_name": "Python 3 (Ubuntu Linux)",
   "language": "python",
   "name": "python3-ubuntu",
   "resource_dir": "/usr/local/share/jupyter/kernels/python3-ubuntu"
  },
  "language_info": {
   "codemirror_mode": {
    "name": "ipython",
    "version": 3
   },
   "file_extension": ".py",
   "mimetype": "text/x-python",
   "name": "python",
   "nbconvert_exporter": "python",
   "pygments_lexer": "ipython3",
   "version": "3.8.10"
  }
 },
 "nbformat": 4,
 "nbformat_minor": 4
}
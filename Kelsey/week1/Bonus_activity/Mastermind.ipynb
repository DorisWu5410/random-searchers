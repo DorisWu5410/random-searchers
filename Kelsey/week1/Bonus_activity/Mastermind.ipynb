{
  "cells": [
    {
      "cell_type": "markdown",
      "metadata": {
        "id": "FIl5ePMRnNbH"
      },
      "source": [
        "# Welcome to **MASTERMIND**\n",
        "\n",
        "Today we will be creating Mastermind, a classic game similar to Wordle. The steps of Mastermind are as follows:\n",
        "\n",
        "*   The computer plays first by setting a 4-digit number.\n",
        "*   The user now tries their first attempt at guessing the number.\n",
        "*   If the user succeeds in their first attempt (despite odds which are highly unlikely) they win the game and is crowned Mastermind! If not, then the computer hints by revealing which digits or numbers the user got correct.\n",
        "*   The game continues till the user eventually is able to guess the number entirely.\n",
        "\n",
        "\n"
      ]
    },
    {
      "cell_type": "markdown",
      "metadata": {
        "id": "PyCFDcrEGhpg"
      },
      "source": [
        "## Some Python Background: Typecasting & Strings\n",
        "In this project, we will most likely use some typecasting. This is where you convert (or *cast*) a piece of data to a certain data type, such as a string or integer. Some of the code below could be useful for you on this project. "
      ]
    },
    {
      "cell_type": "code",
      "execution_count": null,
      "metadata": {
        "colab": {
          "base_uri": "https://localhost:8080/"
        },
        "id": "MJ2biGAUG77u",
        "outputId": "9b0571f0-f867-4fac-e2bf-84fec90378bb"
      },
      "outputs": [
        {
          "name": "stdout",
          "output_type": "stream",
          "text": [
            "my_decimal: 150000.0\n"
          ]
        }
      ],
      "source": [
        "#start with a decimal\n",
        "my_decimal = 150000.0\n",
        "print(\"my_decimal:\", my_decimal)\n"
      ]
    },
    {
      "cell_type": "markdown",
      "metadata": {
        "id": "Q3-oqvm8H6fI"
      },
      "source": [
        "Typecasting lets us convert a piece of data to a different data type. "
      ]
    },
    {
      "cell_type": "code",
      "execution_count": null,
      "metadata": {
        "colab": {
          "base_uri": "https://localhost:8080/"
        },
        "id": "6GbIe7mMHeOz",
        "outputId": "9cfb5b3d-61ab-4f36-a9a8-866849e6be80"
      },
      "outputs": [
        {
          "name": "stdout",
          "output_type": "stream",
          "text": [
            "number: 150000\n"
          ]
        }
      ],
      "source": [
        "my_integer = int(my_decimal) #convert the decimal into an integer\n",
        "print(\"my_integer:\", my_integer)"
      ]
    },
    {
      "cell_type": "markdown",
      "metadata": {
        "id": "86uGwcGTH_Hb"
      },
      "source": [
        "We may want to convert to different data types for processing data. Strings are one way to process numbers digit by digit."
      ]
    },
    {
      "cell_type": "code",
      "execution_count": null,
      "metadata": {
        "colab": {
          "base_uri": "https://localhost:8080/"
        },
        "id": "5U_EISMqHeG0",
        "outputId": "b527d926-d35e-4484-8707-19f6eb82e619"
      },
      "outputs": [
        {
          "name": "stdout",
          "output_type": "stream",
          "text": [
            "string_number: 150000\n"
          ]
        }
      ],
      "source": [
        "my_string = str(my_integer) #convert the integer into a string.\n",
        "print(\"string_number:\", my_string)"
      ]
    },
    {
      "cell_type": "markdown",
      "metadata": {
        "id": "G823cceuHqRv"
      },
      "source": [
        "The reason why strings are powerful for processing numbers digit by digit is because they can be accessed like lists."
      ]
    },
    {
      "cell_type": "code",
      "execution_count": null,
      "metadata": {
        "colab": {
          "base_uri": "https://localhost:8080/"
        },
        "id": "VuYJEIrHHtvS",
        "outputId": "92e67438-8377-4c41-9443-19f5ddff9a4e"
      },
      "outputs": [
        {
          "name": "stdout",
          "output_type": "stream",
          "text": [
            "1 5 0 0 0 0\n"
          ]
        }
      ],
      "source": [
        "print(my_string[0], my_string[1], my_string[2], my_string[3], my_string[4], my_string[5])"
      ]
    },
    {
      "cell_type": "code",
      "execution_count": null,
      "metadata": {
        "colab": {
          "base_uri": "https://localhost:8080/"
        },
        "id": "P2n9yz-9Hd-V",
        "outputId": "0d4f2a26-314b-4720-a4ef-6ecbcaffc2ed"
      },
      "outputs": [
        {
          "name": "stdout",
          "output_type": "stream",
          "text": [
            "1\n",
            "5\n",
            "0\n",
            "0\n",
            "0\n",
            "0\n"
          ]
        }
      ],
      "source": [
        "for i in range(len(my_string)):\n",
        "  print(my_string[i])"
      ]
    },
    {
      "cell_type": "markdown",
      "metadata": {
        "id": "MywCq7XjDo7z"
      },
      "source": [
        "## Step 1: Setting a four digit number\n",
        "For this step, our program needs to set a random 4-digit number for the user to guess. It would make sense that this number is any number inbetween 1000 and 9999 right? \n",
        "\n",
        "We recommend checking out how to get random numbers in python. Maybe a google search of \"Get a random number in a certain range python\" is a good start. You should set this number to a variable to save for later. If you are stuck, look back at our old projects"
      ]
    },
    {
      "cell_type": "code",
      "execution_count": null,
      "metadata": {
        "id": "2IAA6A4ZnLXx"
      },
      "outputs": [],
      "source": [
        "#get a four digit integer between 1000 and 9999 and set it to a variable."
      ]
    },
    {
      "cell_type": "markdown",
      "metadata": {
        "id": "yl0IqDTEEzHB"
      },
      "source": [
        "## Step 2: Get the user's guess\n",
        "The user is now going to try to guess the 4-digit number. You should get `input()` from the user and set their guess to an integer. \n",
        "\n",
        "If you run into issues, try to google how to get integer input from a user in python!"
      ]
    },
    {
      "cell_type": "code",
      "execution_count": null,
      "metadata": {
        "id": "djIIncFBFQ1_"
      },
      "outputs": [],
      "source": [
        "#prompt the user for input and set the guess to an integer.\n"
      ]
    },
    {
      "cell_type": "markdown",
      "metadata": {
        "id": "gxclhNPSFYdB"
      },
      "source": [
        "## Step 3: See if the user succeeds in first try\n",
        "In this part, we need to check `if` the user's guess is correct and equal to the random four-digit integer the computer generated.\n",
        "\n",
        "If the user's guess is correct, you should output something like: \n",
        "\n",
        "\n",
        "> \"Great! You only needed 1 try! You're a Mastermind!\"\n",
        "\n",
        "Else, then the computer hints by revealing which digits or numbers the user got correct."
      ]
    },
    {
      "cell_type": "code",
      "execution_count": null,
      "metadata": {
        "id": "ustwEFoqFkWO"
      },
      "outputs": [],
      "source": [
        "#check if the user's guess is correct\n",
        "\n",
        "#Otherwise, reveal which digits or numbers the user got correct - HINT: use string typecasting to determine which specific numbers are correct!"
      ]
    },
    {
      "cell_type": "markdown",
      "metadata": {
        "id": "pSDfXUdfGD1u"
      },
      "source": [
        "## Step 4: Continue in a loop.\n",
        "When our user is wrong, we need to let them guess again and keep a `count` of how many guesses they have used so far. We will keep looping until our user's guess is equal to the hidden number.\n",
        "\n",
        "For repetitive tasks in python, we usually use a `while` or a `for` loop. `While` loops continue executing code in a loop until a certain condition is met, and `for` loops typically are used for iterating across a piece of data. \n",
        "\n",
        "> DISCUSS: Discuss with your team and instructor which type of  loop would be better for this case.\n",
        "\n",
        "\n",
        "\n",
        "\n"
      ]
    },
    {
      "cell_type": "code",
      "execution_count": null,
      "metadata": {
        "id": "r7xV_F6pSiAS"
      },
      "outputs": [],
      "source": [
        "# Loop until the number guessed is equal to the hidden random number\n",
        "# in each loop, process the user's guess and reveal which digits or numbers the user got correct each round. "
      ]
    },
    {
      "cell_type": "markdown",
      "metadata": {
        "id": "MO1CHHGrSjHn"
      },
      "source": [
        "## Put it all together\n",
        "Combine all of your code from the previous steps below to make one smooth running program that will let a user play mastermind!"
      ]
    },
    {
      "cell_type": "code",
      "execution_count": null,
      "metadata": {
        "id": "28KLAYM7SlPC"
      },
      "outputs": [],
      "source": []
    },
    {
      "cell_type": "markdown",
      "metadata": {},
      "source": [
        "If you want to go further, you can find the next instructions here - https://www.geeksforgeeks.org/mastermind-game-using-python/"
      ]
    }
  ],
  "metadata": {
    "colab": {
      "name": "Mastermind.ipynb",
      "provenance": []
    },
    "kernelspec": {
      "display_name": "Python 3",
      "name": "python3"
    },
    "language_info": {
      "name": "python"
    }
  },
  "nbformat": 4,
  "nbformat_minor": 0
}
